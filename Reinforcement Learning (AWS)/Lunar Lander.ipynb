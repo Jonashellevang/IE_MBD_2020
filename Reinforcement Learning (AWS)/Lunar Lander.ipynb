{
 "cells": [
  {
   "cell_type": "markdown",
   "metadata": {},
   "source": [
    "# Land a rocket (and a good game) with reinforcement learning"
   ]
  },
  {
   "cell_type": "markdown",
   "metadata": {},
   "source": [
    "Use this notebook to train your lunar lander agent! This notebook provides detailed instructions on how to get started by tuning hyperparameters, building docker images, training RL models, analyzing outputs, and more."
   ]
  },
  {
   "cell_type": "markdown",
   "metadata": {},
   "source": [
    "# Step 1: Setting the scene\n",
    "\n",
    "**Scenario:** You want to land your lunar lander as accurately as possible on coordinate (0,0) with minimal fuel usage. You need to land directly on the landing pad and you want to make sure you have enough fuel to get back to Earth! \n",
    "\n",
    "This code cell first defines that we are using the [Lunar Lander](https://gym.openai.com/envs/LunarLander-v2/) problem in the [Box2D](https://gym.openai.com/envs/#box2d) environment from [OpenAI Gym](https://openai.com/). \n",
    "\n",
    "It then sets the training algorithm to **PPO** which stands for Proximal Policy Optimization. This is a new class of reinforcement learning algorithms that is easy to use and offers good performance. You can read more about PPO [here](https://openai.com/blog/openai-baselines-ppo/#ppo).\n",
    "\n",
    "Finally, it imports necessary files for training.\n",
    "\n",
    "1. Keep everything in the cells of this tutorial notebook default. \n",
    "2. **Run** the following code cell. \n",
    "\n",
    "**Tip:** Run individual code cells by hitting the **Run** button in the toolbar above. Run all code cells in this notebook in order by selecting the **fast forward (>>)** button in the toolbar above, found next to the **refresh** button. When a code cell is in the process of running, you will see **In[\\*]** to the left of the code cell. When the code cell is finished executing, you will see a number, like **In[3]**\n"
   ]
  },
  {
   "cell_type": "code",
   "execution_count": 1,
   "metadata": {},
   "outputs": [],
   "source": [
    "box2d_problem = 'lunarlander'\n",
    "\n",
    "# Algorithm \n",
    "algo = 'PPO'\n",
    "\n",
    "trainscript = 'hyperparameters.py'"
   ]
  },
  {
   "cell_type": "code",
   "execution_count": 2,
   "metadata": {},
   "outputs": [
    {
     "data": {
      "text/plain": [
       "'hyperparameters.py'"
      ]
     },
     "execution_count": 2,
     "metadata": {},
     "output_type": "execute_result"
    }
   ],
   "source": [
    "trainscript"
   ]
  },
  {
   "cell_type": "markdown",
   "metadata": {},
   "source": [
    "### States\n",
    "\n",
    "What are the states of this agent? This is a sample that shows how the state of the lunar lander agent is determined. It contains information about the state of the agent at every step of the process, including the position of the agent for example. "
   ]
  },
  {
   "cell_type": "markdown",
   "metadata": {},
   "source": [
    "```python\n",
    "pos = self.lander.position\n",
    "        vel = self.lander.linearVelocity\n",
    "        state = [\n",
    "            (pos.x - VIEWPORT_W/SCALE/2) / (VIEWPORT_W/SCALE/2), # x position\n",
    "            (pos.y - (self.helipad_y+LEG_DOWN/SCALE)) / (VIEWPORT_H/SCALE/2), # y position\n",
    "            vel.x*(VIEWPORT_W/SCALE/2)/FPS, # velocity on the x axis\n",
    "            vel.y*(VIEWPORT_H/SCALE/2)/FPS, # velocity on the y axis\n",
    "            self.lander.angle, # angle of the lunar lander\n",
    "            20.0*self.lander.angularVelocity/FPS, # rotation of the lunar lander\n",
    "            1.0 if self.legs[0].ground_contact else 0.0, # leg 0 having ground contact\n",
    "            1.0 if self.legs[1].ground_contact else 0.0 # leg 1 having ground contact\n",
    "]\n",
    "```        "
   ]
  },
  {
   "cell_type": "markdown",
   "metadata": {},
   "source": [
    "### Actions\n",
    "\n",
    "What are the actions the agent can take? For example, the agent might be able to take no action. Or maybe the agent fires the left engine, or the main engine, or the right engine. \n",
    "\n",
    "According to Pontryagin's maximum principle, it is optimal to fire the engine full throttle or turn it off. That's the reason this environment is OK to have discreet actions (engine on or off)."
   ]
  },
  {
   "cell_type": "markdown",
   "metadata": {},
   "source": [
    "```python        \n",
    "        if self.continuous:\n",
    "            # Action is two floats [main engine, left-right engines].\n",
    "            # Main engine: -1..0 off, 0..+1 throttle from 50% to 100% power. Engine can't work with less than 50% power.\n",
    "            # Left-right:  -1.0..-0.5 fire left engine, +0.5..+1.0 fire right engine, -0.5..0.5 off\n",
    "            self.action_space = spaces.Box(-1, +1, (2,), dtype=np.float32)\n",
    "        else:\n",
    "            # Nop, fire left engine, main engine, right engine\n",
    "            self.action_space = spaces.Discrete(4)\n",
    "```"
   ]
  },
  {
   "cell_type": "markdown",
   "metadata": {},
   "source": [
    "### Reward\n",
    "\n",
    "How is the agent rewarded? This is a sample reward function for the lunar lander agent. In this function, you can see that the reward increases or decreases depending on the state of the lunar lander agent. For example, if you want a level landing, the reward increases for each leg that contacts with the moon. This is to train the lunar lander to land right-side up instead of upside down. To a similar effect, the reward decreases depending on how much fuel is used. This is to train the lunar lander to conserve as much fuel as possible. \n",
    "\n",
    "The reward is officially calculated as follows:\n",
    "\n",
    "The landing pad is always at coordinates (0,0). The coordinates are the first two numbers in the state vector shown below. The reward for moving from the top of the screen to the landing pad with zero speed is about 100-140 points.\n",
    "If the lander moves away from landing pad, it loses reward. The episode finishes if the lander crashes or\n",
    "comes to a rest, receiving an additional -100 or +100 points respectively. Each leg ground contact is +10. Firing the main engine is -0.3 points each frame. Firing the side engine is -0.03 points each frame. Solving the lunar lander is 200 points.\n",
    "\n",
    "Landing outside landing pad is possible. Fuel is infinite, so an agent can learn to fly and then land\n",
    "on its first attempt. You can see the source code for more details. "
   ]
  },
  {
   "cell_type": "markdown",
   "metadata": {},
   "source": [
    "```python\n",
    "        reward = 0\n",
    "        shaping = \\\n",
    "            - 100*np.sqrt(state[0]*state[0] + state[1]*state[1]) \\ # Position X and Y to identify the center\n",
    "            - 100*np.sqrt(state[2]*state[2] + state[3]*state[3]) \\ # Velocity of X and Y\n",
    "            - 100*abs(state[4]) + 10*state[6] + 10*state[7] # Angle, rotation, and legs landing on the moon\n",
    "        # Add ten points for legs contact, the idea is if you\n",
    "        # lose contact again after landing, you get negative reward\n",
    "        if self.prev_shaping is not None:\n",
    "            reward = shaping - self.prev_shaping\n",
    "        self.prev_shaping = shaping\n",
    "\n",
    "        reward -= m_power*0.30  # main engine firing penalty -- less fuel spent is better\n",
    "        reward -= s_power*0.03 # side engine firing penalty\n",
    "\n",
    "        done = False\n",
    "        if self.game_over or abs(state[0]) >= 1.0:\n",
    "            done   = True\n",
    "            reward = -100\n",
    "        if not self.lander.awake:\n",
    "            done   = True\n",
    "            reward = +100\n",
    "```"
   ]
  },
  {
   "cell_type": "markdown",
   "metadata": {},
   "source": [
    "###  Editing the reward function\n",
    "\n",
    " You can edit this reward function to change the behavior of your lunar lander agent. You can find and edit it in the `src/reward_function.py` file."
   ]
  },
  {
   "cell_type": "markdown",
   "metadata": {},
   "source": [
    "# Step 2: Set prerequisites \n",
    "\n",
    "### Imports\n",
    "\n",
    "To get started, we'll import the Python libraries we need and set up the environment with a few prerequisites for permissions and configurations. This code cell imports necessary Python libraries, like **boto3** which is the AWS SDK for Python.\n",
    "\n",
    "3. Run the code cell below to set the prerequisites needed for this workshop by hitting the **Run** button in the toolbar above.\n",
    " "
   ]
  },
  {
   "cell_type": "code",
   "execution_count": 3,
   "metadata": {
    "scrolled": true
   },
   "outputs": [],
   "source": [
    "import sagemaker\n",
    "import boto3\n",
    "import sys\n",
    "import os\n",
    "import glob\n",
    "import re\n",
    "import subprocess\n",
    "import numpy as np\n",
    "from IPython.display import HTML\n",
    "import time\n",
    "from time import gmtime, strftime\n",
    "sys.path.append(\"common\")\n",
    "from misc import get_execution_role, wait_for_s3_object\n",
    "from docker_utils import build_and_push_docker_image\n",
    "from sagemaker.rl import RLEstimator, RLToolkit, RLFramework"
   ]
  },
  {
   "cell_type": "markdown",
   "metadata": {},
   "source": [
    "# Step 3: Setup S3 bucket\n",
    "\n",
    "Next, we need to set up the linkage and authentication to an S3 bucket. This will be the bucket where SageMaker stores the output data of training jobs. SageMaker also stores the trained models as **model.tar.gz** files in this S3 bucket, as well as checkpoints and other metadata. \n",
    "\n",
    "4. Run the code cell below by hitting the **Run** button in the toolbar above.\n",
    "\n",
    "This code cell creates a SageMaker session, which helps to manage interactions with the Amazon SageMaker APIs and any other AWS services needed, like S3. The S3 bucket is set to the default SageMaker bucket and the output path of this bucket is defined."
   ]
  },
  {
   "cell_type": "code",
   "execution_count": 4,
   "metadata": {},
   "outputs": [
    {
     "name": "stdout",
     "output_type": "stream",
     "text": [
      "S3 bucket path: s3://sagemaker-eu-west-1-965916812793/\n"
     ]
    }
   ],
   "source": [
    "sage_session = sagemaker.session.Session()\n",
    "s3_bucket = sage_session.default_bucket()  \n",
    "s3_output_path = 's3://{}/'.format(s3_bucket)\n",
    "print(\"S3 bucket path: {}\".format(s3_output_path))"
   ]
  },
  {
   "cell_type": "markdown",
   "metadata": {},
   "source": [
    "# Step 4: Define variables and configure training\n",
    "\n",
    "We define variables such as the job prefix for the training jobs *and the image path for the container (only when this is BYOC).*\n",
    "\n",
    "5. **Run** the code cell below to set the job name."
   ]
  },
  {
   "cell_type": "code",
   "execution_count": 27,
   "metadata": {},
   "outputs": [],
   "source": [
    "# create a descriptive job name \n",
    "job_name_prefix = 'Jonas-rl-box2d-'+box2d_problem"
   ]
  },
  {
   "cell_type": "markdown",
   "metadata": {},
   "source": [
    "### Configure where training happens\n",
    "\n",
    "You can train your RL training jobs using the SageMaker notebook instance or local notebook instance. In both of these scenarios, you can run the following in either local or SageMaker modes. The local mode uses the SageMaker Python SDK to run your code in a local container before deploying to SageMaker. This can speed up iterative testing and debugging while using the same familiar Python SDK interface. You just need to set `local_mode = True`.\n",
    "\n",
    "6. For now, leave this cell default with local_mode set to **False**.\n",
    "\n",
    "7. **Run** the code cell."
   ]
  },
  {
   "cell_type": "code",
   "execution_count": 28,
   "metadata": {},
   "outputs": [],
   "source": [
    "# run in local_mode on this machine, or as a SageMaker TrainingJob\n",
    "local_mode = False\n",
    "\n",
    "if local_mode:\n",
    "    instance_type = 'local'\n",
    "else:\n",
    "    # If on SageMaker, pick the instance type\n",
    "    instance_type = \"ml.p3.8xlarge\""
   ]
  },
  {
   "cell_type": "markdown",
   "metadata": {},
   "source": [
    "**Tip:** In the future, you can fire off multiple training jobs on different instance types by changing the instance type below before training. Right now, the instance type is **ml.p3.8xlarge**. For this workshop, you have the ability to use the follow instance types for distributed training:\n",
    "\n",
    "* (2) ml.p3.2xlarge instances\n",
    "\n",
    "* (2) ml.p3.8xlarge instances\n",
    "\n",
    "* (2) ml.p3.16xlarge instances\n",
    "\n",
    "* (2) ml.c5.xlarge instances\n",
    "\n",
    "* (2) ml.c5.2xlarge instances\n",
    "\n",
    "* (2) ml.c5.4xlarge instances\n",
    "\n",
    "* (2) ml.c5.9xlarge instances\n",
    "\n",
    "* (2) ml.c5.18xlarge instances\n",
    "\n",
    "You also have access to any of the [default SageMaker limits](https://docs.aws.amazon.com/general/latest/gr/sagemaker.html). To find out what instances are currently in use just run the cell below."
   ]
  },
  {
   "cell_type": "code",
   "execution_count": 29,
   "metadata": {},
   "outputs": [
    {
     "name": "stdout",
     "output_type": "stream",
     "text": [
      "Instance types currently in use for training:\n"
     ]
    }
   ],
   "source": [
    "#Run this cell to see what training instances are currently running in this account\n",
    "#This way, you can choose other training instances to avoid resource limit errors. \n",
    "\n",
    "import boto3\n",
    "client = boto3.client('sagemaker')\n",
    "jobs = client.list_training_jobs()['TrainingJobSummaries']\n",
    "\n",
    "print(\"Instance types currently in use for training:\")\n",
    "for job in jobs:\n",
    "    if job['TrainingJobStatus'] == 'InProgress' or job['TrainingJobStatus'] == 'Stopping' :\n",
    "        in_use = client.describe_training_job(TrainingJobName=job['TrainingJobName'])['ResourceConfig']\n",
    "        print(\"Type: {}, No. of instances: {}\".format(in_use['InstanceType'], in_use['InstanceCount']))\n",
    "        \n",
    "#If nothing prints, all instances listed above are free to use"
   ]
  },
  {
   "cell_type": "markdown",
   "metadata": {},
   "source": [
    "### Create an IAM role\n",
    "\n",
    "Either get the execution role when running from a SageMaker notebook instance `role = sagemaker.get_execution_role()` or, when running from local notebook instance, use utils method `role = get_execution_role()` to create an execution role.\n",
    "\n",
    "8. **Run** this code cell to ceate an IAM role for SageMaker."
   ]
  },
  {
   "cell_type": "code",
   "execution_count": 30,
   "metadata": {},
   "outputs": [
    {
     "name": "stdout",
     "output_type": "stream",
     "text": [
      "Using IAM role arn: arn:aws:iam::965916812793:role/mod-2a01731acb2241e7-SagemakerIAM-QWZCT9HW600I\n"
     ]
    }
   ],
   "source": [
    "try:\n",
    "    role = sagemaker.get_execution_role()\n",
    "except:\n",
    "    role = get_execution_role()\n",
    "\n",
    "print(\"Using IAM role arn: {}\".format(role))"
   ]
  },
  {
   "cell_type": "markdown",
   "metadata": {},
   "source": [
    "### Install docker for `local` mode\n",
    "\n",
    "In order to work in `local` mode, you need to have docker installed. When running from you local machine, please make sure that you have docker and docker-compose (for local CPU machines) and nvidia-docker (for local GPU machines) installed. Alternatively, when running from a SageMaker notebook instance, you can simply run the following script to install dependenceis.\n",
    "\n",
    "9. **Run** the code cell below. \n",
    "\n",
    "**Tip:** You can only run a single local notebook at one time."
   ]
  },
  {
   "cell_type": "code",
   "execution_count": 31,
   "metadata": {},
   "outputs": [],
   "source": [
    "# only run from SageMaker notebook instance\n",
    "if local_mode:\n",
    "    !/bin/bash ./common/setup.sh"
   ]
  },
  {
   "cell_type": "markdown",
   "metadata": {},
   "source": [
    "# Step 5: Build docker container\n",
    "\n",
    "We must build a custom docker container with Roboschool installed.  This takes care of everything:\n",
    "\n",
    "* Fetching base container image\n",
    "* Installing Roboschool and its dependencies\n",
    "* Uploading the new container image to ECR\n",
    "\n",
    "This step can take a long time if you are running on a machine with a slow internet connection.  If your notebook instance is in SageMaker or EC2 it should take 3-10 minutes depending on the instance type.\n",
    "\n",
    "10. **Run** the code cell to build the docker container. \n",
    "\n",
    "**Tip:** The output should say `Done pushing` when the build is finished. If your build seems to be hung up on something, either not progressing or looks like it is not running at all, refresh your notebook and try again."
   ]
  },
  {
   "cell_type": "code",
   "execution_count": 32,
   "metadata": {},
   "outputs": [
    {
     "name": "stdout",
     "output_type": "stream",
     "text": [
      "WARNING! Using --password via the CLI is insecure. Use --password-stdin.\n",
      "WARNING! Your password will be stored unencrypted in /home/ec2-user/.docker/config.json.\n",
      "Configure a credential helper to remove this warning. See\n",
      "https://docs.docker.com/engine/reference/commandline/login/#credentials-store\n",
      "\n",
      "Login Succeeded\n",
      "Logged into ECR\n",
      "Building docker image lunarlander-gpu from Dockerfile\n",
      "$ docker build -t lunarlander-gpu -f Dockerfile . --build-arg CPU_OR_GPU=gpu --build-arg AWS_REGION=eu-west-1\n",
      "Sending build context to Docker daemon  825.3kB\n",
      "Step 1/31 : ARG CPU_OR_GPU\n",
      "Step 2/31 : ARG AWS_REGION\n",
      "Step 3/31 : FROM 520713654638.dkr.ecr.${AWS_REGION}.amazonaws.com/sagemaker-rl-tensorflow:ray0.6.5-${CPU_OR_GPU}-py3\n",
      " ---> f038be2cc8c4\n",
      "Step 4/31 : WORKDIR /opt/ml\n",
      " ---> Using cache\n",
      " ---> 640c9c38cda4\n",
      "Step 5/31 : RUN apt-get update\n",
      " ---> Using cache\n",
      " ---> 0c0fd07a74d7\n",
      "Step 6/31 : RUN apt-get install sudo\n",
      " ---> Using cache\n",
      " ---> a01d194207e7\n",
      "Step 7/31 : RUN apt-get update && apt-get install -y --no-install-recommends apt-utils\n",
      " ---> Using cache\n",
      " ---> 1e2f60145402\n",
      "Step 8/31 : RUN apt-get -y install libpcre3\n",
      " ---> Using cache\n",
      " ---> f412e3aa0fec\n",
      "Step 9/31 : RUN apt-get -y install libpcre3-dev\n",
      " ---> Using cache\n",
      " ---> 69c8e6ade44f\n",
      "Step 10/31 : ARG SWIG_VERSION=4.0.1\n",
      " ---> Using cache\n",
      " ---> b692b58c05de\n",
      "Step 11/31 : RUN wget \"https://sourceforge.net/projects/swig/files/swig/swig-${SWIG_VERSION}/swig-${SWIG_VERSION}.tar.gz\"     && tar xzf \"swig-${SWIG_VERSION}.tar.gz\"\n",
      " ---> Using cache\n",
      " ---> 1ac7da282602\n",
      "Step 12/31 : RUN cd \"swig-${SWIG_VERSION}/\"     && ./configure     && make     && make install\n",
      " ---> Using cache\n",
      " ---> 4e229b61ac5d\n",
      "Step 13/31 : CMD [\"swig\",\"-version\"]\n",
      " ---> Using cache\n",
      " ---> 03f2fcc564ed\n",
      "Step 14/31 : RUN apt-get update && apt-get install -y       git cmake ffmpeg pkg-config       qtbase5-dev libqt5opengl5-dev libassimp-dev       libtinyxml-dev       libgl1-mesa-dev     && cd /opt     && apt-get clean && rm -rf /var/cache/apt/archives/* /var/lib/apt/lists/*\n",
      " ---> Using cache\n",
      " ---> 4c929aad7a6f\n",
      "Step 15/31 : RUN apt-get update &&     apt-get install -y libboost-python-dev\n",
      " ---> Using cache\n",
      " ---> fe1bcbc40077\n",
      "Step 16/31 : RUN apt-get update     && apt-get install -y --no-install-recommends python3.6-dev     && ln -s -f /usr/bin/python3.6 /usr/bin/python     && apt-get clean     && rm -rf /var/cache/apt/archives/* /var/lib/apt/lists/*\n",
      " ---> Using cache\n",
      " ---> dfe97c5fde43\n",
      "Step 17/31 : RUN curl -fSsL -O https://bootstrap.pypa.io/get-pip.py &&     python get-pip.py &&     rm get-pip.py\n",
      " ---> Using cache\n",
      " ---> 19eaff5d6ad8\n",
      "Step 18/31 : RUN pip install --upgrade     pip     setuptools\n",
      " ---> Using cache\n",
      " ---> cbe4c0e49e1b\n",
      "Step 19/31 : RUN pip install sagemaker-containers --upgrade\n",
      " ---> Using cache\n",
      " ---> 2b7c012a6586\n",
      "Step 20/31 : RUN yes y | pip uninstall gym; exit 0\n",
      " ---> Using cache\n",
      " ---> c937400fa01d\n",
      "Step 21/31 : RUN pip install box2d-py\n",
      " ---> Using cache\n",
      " ---> 95a53aacf337\n",
      "Step 22/31 : RUN pip install gym[box2d]; exit 0\n",
      " ---> Using cache\n",
      " ---> b5d89cab7223\n",
      "Step 23/31 : ENV PYTHONUNBUFFERED 1\n",
      " ---> Using cache\n",
      " ---> da74e550fc6b\n",
      "Step 24/31 : RUN pip show gym\n",
      " ---> Using cache\n",
      " ---> ff9a0dbd878d\n",
      "Step 25/31 : RUN echo $SCENARIO\n",
      " ---> Using cache\n",
      " ---> 594e36235b1f\n",
      "Step 26/31 : COPY ./src/lunar_lander.py /usr/local/lib/python3.6/dist-packages/gym/envs/box2d/lunar_lander.py\n",
      " ---> Using cache\n",
      " ---> 52c09e77386c\n",
      "Step 27/31 : COPY ./src/reward_function.py /usr/local/lib/python3.6/dist-packages/gym/envs/box2d/reward_function.py\n",
      " ---> Using cache\n",
      " ---> 3e6f0db58c1b\n",
      "Step 28/31 : RUN echo -----------------------------------------------\n",
      " ---> Using cache\n",
      " ---> 878cc6bf02f9\n",
      "Step 29/31 : RUN ls /usr/local/lib/python3.6/dist-packages/gym/envs/box2d/\n",
      " ---> Using cache\n",
      " ---> a8143bc7bbe4\n",
      "Step 30/31 : RUN python -c \"import gym;import sagemaker_containers.cli.train; import ray; from sagemaker_containers.cli.train import main; import Box2D;\"\n",
      " ---> Using cache\n",
      " ---> 1b38d69c8db5\n",
      "Step 31/31 : WORKDIR /opt/ml/code\n",
      " ---> Using cache\n",
      " ---> a2c02052c6a5\n",
      "Successfully built a2c02052c6a5\n",
      "Successfully tagged lunarlander-gpu:latest\n",
      "Done building docker image lunarlander-gpu\n",
      "ECR repository already exists: lunarlander-gpu\n",
      "WARNING! Using --password via the CLI is insecure. Use --password-stdin.\n",
      "WARNING! Your password will be stored unencrypted in /home/ec2-user/.docker/config.json.\n",
      "Configure a credential helper to remove this warning. See\n",
      "https://docs.docker.com/engine/reference/commandline/login/#credentials-store\n",
      "\n",
      "Login Succeeded\n",
      "Logged into ECR\n",
      "$ docker tag lunarlander-gpu 965916812793.dkr.ecr.eu-west-1.amazonaws.com/lunarlander-gpu\n",
      "Pushing docker image to ECR repository 965916812793.dkr.ecr.eu-west-1.amazonaws.com/lunarlander-gpu\n",
      "\n",
      "$ docker push 965916812793.dkr.ecr.eu-west-1.amazonaws.com/lunarlander-gpu\n",
      "The push refers to repository [965916812793.dkr.ecr.eu-west-1.amazonaws.com/lunarlander-gpu]\n",
      "c6fcb62e749c: Preparing\n",
      "1f6f42e74563: Preparing\n",
      "12c604258511: Preparing\n",
      "0da1b0dc1f75: Preparing\n",
      "575c259c6df7: Preparing\n",
      "b451c30e0586: Preparing\n",
      "b630f77f1072: Preparing\n",
      "425c89d1565d: Preparing\n",
      "820e8df3d43d: Preparing\n",
      "4ea226704c09: Preparing\n",
      "eeefe54c4137: Preparing\n",
      "72de8bf53ae4: Preparing\n",
      "f76cf497e955: Preparing\n",
      "a91f6a877003: Preparing\n",
      "0a56f8e2d842: Preparing\n",
      "1bfb9d1cf6eb: Preparing\n",
      "e5d9d1f34cd4: Preparing\n",
      "0bef5fdb8cb2: Preparing\n",
      "7a0c762c4afa: Preparing\n",
      "840e542475ea: Preparing\n",
      "977d98febf7c: Preparing\n",
      "bac377b479f5: Preparing\n",
      "5f529b3bfb80: Preparing\n",
      "46fead19683e: Preparing\n",
      "fb13b553d663: Preparing\n",
      "9edb700225ef: Preparing\n",
      "4ea226704c09: Waiting\n",
      "f76cf497e955: Waiting\n",
      "a097915916bf: Preparing\n",
      "7e6a109ce771: Preparing\n",
      "a91f6a877003: Waiting\n",
      "b2dfc5305f98: Preparing\n",
      "eeefe54c4137: Waiting\n",
      "0a56f8e2d842: Waiting\n",
      "1e6ccf08dae4: Preparing\n",
      "1bfb9d1cf6eb: Waiting\n",
      "8394491e531a: Preparing\n",
      "72de8bf53ae4: Waiting\n",
      "a191b6a85373: Preparing\n",
      "e5d9d1f34cd4: Waiting\n",
      "cdb84aebd22c: Preparing\n",
      "977d98febf7c: Waiting\n",
      "bac377b479f5: Waiting\n",
      "5f529b3bfb80: Waiting\n",
      "df9b6d412b8f: Preparing\n",
      "0bef5fdb8cb2: Waiting\n",
      "9fdd75ed2314: Preparing\n",
      "46fead19683e: Waiting\n",
      "425c89d1565d: Waiting\n",
      "7a0c762c4afa: Waiting\n",
      "e7deb83143c4: Preparing\n",
      "b451c30e0586: Waiting\n",
      "b4f24c5badc2: Preparing\n",
      "840e542475ea: Waiting\n",
      "b630f77f1072: Waiting\n",
      "3048b56d4fe2: Preparing\n",
      "fb13b553d663: Waiting\n",
      "8dd047faddca: Preparing\n",
      "cadf36f9989b: Preparing\n",
      "9edb700225ef: Waiting\n",
      "03da9992e0d0: Preparing\n",
      "b2dfc5305f98: Waiting\n",
      "0b3aca7c75ea: Preparing\n",
      "a097915916bf: Waiting\n",
      "297fd071ca2f: Preparing\n",
      "1e6ccf08dae4: Waiting\n",
      "7e6a109ce771: Waiting\n",
      "2f0d1e8214b2: Preparing\n",
      "820e8df3d43d: Waiting\n",
      "7dd604ffa87f: Preparing\n",
      "aa54c2bc1229: Preparing\n",
      "8394491e531a: Waiting\n",
      "3048b56d4fe2: Waiting\n",
      "a191b6a85373: Waiting\n",
      "8dd047faddca: Waiting\n",
      "03da9992e0d0: Waiting\n",
      "cdb84aebd22c: Waiting\n",
      "cadf36f9989b: Waiting\n",
      "0b3aca7c75ea: Waiting\n",
      "df9b6d412b8f: Waiting\n",
      "7dd604ffa87f: Waiting\n",
      "297fd071ca2f: Waiting\n",
      "9fdd75ed2314: Waiting\n",
      "aa54c2bc1229: Waiting\n",
      "2f0d1e8214b2: Waiting\n",
      "e7deb83143c4: Waiting\n",
      "b4f24c5badc2: Waiting\n",
      "12c604258511: Layer already exists\n",
      "c6fcb62e749c: Layer already exists\n",
      "1f6f42e74563: Layer already exists\n",
      "575c259c6df7: Layer already exists\n",
      "0da1b0dc1f75: Layer already exists\n",
      "b451c30e0586: Layer already exists\n",
      "b630f77f1072: Layer already exists\n",
      "820e8df3d43d: Layer already exists\n",
      "4ea226704c09: Layer already exists\n",
      "eeefe54c4137: Layer already exists\n",
      "425c89d1565d: Layer already exists\n",
      "72de8bf53ae4: Layer already exists\n",
      "0a56f8e2d842: Layer already exists\n",
      "f76cf497e955: Layer already exists\n",
      "a91f6a877003: Layer already exists\n",
      "1bfb9d1cf6eb: Layer already exists\n",
      "e5d9d1f34cd4: Layer already exists\n",
      "0bef5fdb8cb2: Layer already exists\n",
      "7a0c762c4afa: Layer already exists\n",
      "840e542475ea: Layer already exists\n",
      "977d98febf7c: Layer already exists\n",
      "bac377b479f5: Layer already exists\n",
      "46fead19683e: Layer already exists\n",
      "5f529b3bfb80: Layer already exists\n",
      "fb13b553d663: Layer already exists\n",
      "7e6a109ce771: Layer already exists\n",
      "a097915916bf: Layer already exists\n",
      "9edb700225ef: Layer already exists\n",
      "b2dfc5305f98: Layer already exists\n",
      "8394491e531a: Layer already exists\n",
      "1e6ccf08dae4: Layer already exists\n",
      "df9b6d412b8f: Layer already exists\n",
      "a191b6a85373: Layer already exists\n",
      "cdb84aebd22c: Layer already exists\n",
      "e7deb83143c4: Layer already exists\n",
      "9fdd75ed2314: Layer already exists\n",
      "b4f24c5badc2: Layer already exists\n",
      "3048b56d4fe2: Layer already exists\n",
      "8dd047faddca: Layer already exists\n",
      "03da9992e0d0: Layer already exists\n",
      "cadf36f9989b: Layer already exists\n",
      "297fd071ca2f: Layer already exists\n",
      "0b3aca7c75ea: Layer already exists\n",
      "7dd604ffa87f: Layer already exists\n",
      "2f0d1e8214b2: Layer already exists\n",
      "aa54c2bc1229: Layer already exists\n"
     ]
    },
    {
     "name": "stdout",
     "output_type": "stream",
     "text": [
      "latest: digest: sha256:cca0216380741a12898d50af587e7d2e6a7fadae0c5c24b0fc6d5c199b596c8c size: 9972\n",
      "Done pushing 965916812793.dkr.ecr.eu-west-1.amazonaws.com/lunarlander-gpu\n",
      "Using ECR image 965916812793.dkr.ecr.eu-west-1.amazonaws.com/lunarlander-gpu\n",
      "CPU times: user 126 ms, sys: 61.1 ms, total: 187 ms\n",
      "Wall time: 1.53 s\n"
     ]
    }
   ],
   "source": [
    "%%time\n",
    "\n",
    "cpu_or_gpu = 'gpu' if instance_type.startswith('ml.p') else 'cpu'\n",
    "repository_short_name = box2d_problem+\"-%s\" % cpu_or_gpu\n",
    "docker_build_args = {\n",
    "    'CPU_OR_GPU': cpu_or_gpu, \n",
    "    'AWS_REGION': boto3.Session().region_name\n",
    "}\n",
    "custom_image_name = build_and_push_docker_image(repository_short_name, build_args=docker_build_args)\n",
    "print(\"Using ECR image %s\" % custom_image_name)"
   ]
  },
  {
   "cell_type": "code",
   "execution_count": 33,
   "metadata": {},
   "outputs": [
    {
     "data": {
      "text/plain": [
       "'965916812793.dkr.ecr.eu-west-1.amazonaws.com/lunarlander-gpu'"
      ]
     },
     "execution_count": 33,
     "metadata": {},
     "output_type": "execute_result"
    }
   ],
   "source": [
    "custom_image_name"
   ]
  },
  {
   "cell_type": "markdown",
   "metadata": {},
   "source": [
    "# Step 6: Write the Training Code\n",
    "\n",
    "The training code is written in the file `hyperparameters.py` which is uploaded in the `/src` directory.\n",
    "First import the environment files and the preset files, and then define the main() function.  "
   ]
  },
  {
   "cell_type": "code",
   "execution_count": 34,
   "metadata": {},
   "outputs": [
    {
     "name": "stdout",
     "output_type": "stream",
     "text": [
      "\u001b[34mimport\u001b[39;49;00m \u001b[04m\u001b[36mjson\u001b[39;49;00m\r\n",
      "\u001b[34mimport\u001b[39;49;00m \u001b[04m\u001b[36mos\u001b[39;49;00m\r\n",
      "\r\n",
      "\u001b[34mimport\u001b[39;49;00m \u001b[04m\u001b[36mgym\u001b[39;49;00m\r\n",
      "\u001b[34mimport\u001b[39;49;00m \u001b[04m\u001b[36mray\u001b[39;49;00m\r\n",
      "\u001b[34mfrom\u001b[39;49;00m \u001b[04m\u001b[36mray.tune\u001b[39;49;00m \u001b[34mimport\u001b[39;49;00m run_experiments\r\n",
      "\u001b[34mfrom\u001b[39;49;00m \u001b[04m\u001b[36mray.tune.registry\u001b[39;49;00m \u001b[34mimport\u001b[39;49;00m register_env\r\n",
      "\r\n",
      "\u001b[34mfrom\u001b[39;49;00m \u001b[04m\u001b[36msagemaker_rl.ray_launcher\u001b[39;49;00m \u001b[34mimport\u001b[39;49;00m SageMakerRayLauncher\r\n",
      "\r\n",
      "\r\n",
      "\u001b[34mdef\u001b[39;49;00m \u001b[32mcreate_environment\u001b[39;49;00m(env_config):\r\n",
      "    \u001b[37m# This import must happen inside the method so that worker processes import this code\u001b[39;49;00m\r\n",
      "    \u001b[34mreturn\u001b[39;49;00m gym.make(\u001b[33m'\u001b[39;49;00m\u001b[33mLunarLander-v2\u001b[39;49;00m\u001b[33m'\u001b[39;49;00m)\r\n",
      "\r\n",
      "\r\n",
      "\u001b[34mclass\u001b[39;49;00m \u001b[04m\u001b[32mMyLauncher\u001b[39;49;00m(SageMakerRayLauncher):\r\n",
      "\r\n",
      "    \u001b[34mdef\u001b[39;49;00m \u001b[32mregister_env_creator\u001b[39;49;00m(\u001b[36mself\u001b[39;49;00m):\r\n",
      "        register_env(\u001b[33m\"\u001b[39;49;00m\u001b[33mLunarLander-v2\u001b[39;49;00m\u001b[33m\"\u001b[39;49;00m, create_environment)\r\n",
      "        \r\n",
      "    \u001b[37m#This is where you edit the hyperparameters. Change the values in the config section listed below.\u001b[39;49;00m\r\n",
      "    \u001b[37m#The hyperparameters we recommend on changing are: lambda, kl_coeff, vf_loss__coeff, num_sgd_iter, clip_param\u001b[39;49;00m\r\n",
      "    \u001b[37m#Check the notebook Step 6 for tips on tuning hyperparameters. \u001b[39;49;00m\r\n",
      "    \u001b[34mdef\u001b[39;49;00m \u001b[32mget_experiment_config\u001b[39;49;00m(\u001b[36mself\u001b[39;49;00m):\r\n",
      "        \u001b[34mreturn\u001b[39;49;00m {\r\n",
      "          \u001b[33m\"\u001b[39;49;00m\u001b[33mtraining\u001b[39;49;00m\u001b[33m\"\u001b[39;49;00m: { \r\n",
      "            \u001b[33m\"\u001b[39;49;00m\u001b[33menv\u001b[39;49;00m\u001b[33m\"\u001b[39;49;00m: \u001b[33m\"\u001b[39;49;00m\u001b[33mLunarLander-v2\u001b[39;49;00m\u001b[33m\"\u001b[39;49;00m,\r\n",
      "            \u001b[33m\"\u001b[39;49;00m\u001b[33mrun\u001b[39;49;00m\u001b[33m\"\u001b[39;49;00m: \u001b[33m\"\u001b[39;49;00m\u001b[33mPPO\u001b[39;49;00m\u001b[33m\"\u001b[39;49;00m,\r\n",
      "            \u001b[33m\"\u001b[39;49;00m\u001b[33mstop\u001b[39;49;00m\u001b[33m\"\u001b[39;49;00m: {\r\n",
      "                \u001b[33m\"\u001b[39;49;00m\u001b[33mepisode_reward_mean\u001b[39;49;00m\u001b[33m\"\u001b[39;49;00m: \u001b[34m0\u001b[39;49;00m,\r\n",
      "                \u001b[33m\"\u001b[39;49;00m\u001b[33mtraining_iteration\u001b[39;49;00m\u001b[33m\"\u001b[39;49;00m: \u001b[34m50\u001b[39;49;00m, \u001b[37m#make training iteration smaller to lower training times\u001b[39;49;00m\r\n",
      "            },\r\n",
      "            \u001b[33m\"\u001b[39;49;00m\u001b[33mconfig\u001b[39;49;00m\u001b[33m\"\u001b[39;49;00m: {\r\n",
      "              \u001b[33m\"\u001b[39;49;00m\u001b[33mnum_sgd_iter\u001b[39;49;00m\u001b[33m\"\u001b[39;49;00m: \u001b[34m30\u001b[39;49;00m,\r\n",
      "              \u001b[33m\"\u001b[39;49;00m\u001b[33mlr\u001b[39;49;00m\u001b[33m\"\u001b[39;49;00m: \u001b[34m5e-5\u001b[39;49;00m,\r\n",
      "              \u001b[33m\"\u001b[39;49;00m\u001b[33mlambda\u001b[39;49;00m\u001b[33m\"\u001b[39;49;00m:\u001b[34m0.98\u001b[39;49;00m,\r\n",
      "              \u001b[33m\"\u001b[39;49;00m\u001b[33mvf_loss_coeff\u001b[39;49;00m\u001b[33m\"\u001b[39;49;00m:\u001b[34m0.85\u001b[39;49;00m,\r\n",
      "              \u001b[33m\"\u001b[39;49;00m\u001b[33mkl_target\u001b[39;49;00m\u001b[33m\"\u001b[39;49;00m:\u001b[34m0.05500572866402965\u001b[39;49;00m,\r\n",
      "              \u001b[33m\"\u001b[39;49;00m\u001b[33mkl_coeff\u001b[39;49;00m\u001b[33m\"\u001b[39;49;00m:\u001b[34m0.1\u001b[39;49;00m,\r\n",
      "              \u001b[33m\"\u001b[39;49;00m\u001b[33mentropy_coeff\u001b[39;49;00m\u001b[33m\"\u001b[39;49;00m:\u001b[34m0.4906464378184655\u001b[39;49;00m,\r\n",
      "              \u001b[33m\"\u001b[39;49;00m\u001b[33mclip_param\u001b[39;49;00m\u001b[33m\"\u001b[39;49;00m:\u001b[34m0.1\u001b[39;49;00m,\r\n",
      "              \u001b[33m\"\u001b[39;49;00m\u001b[33msgd_minibatch_size\u001b[39;49;00m\u001b[33m\"\u001b[39;49;00m: \u001b[34m5000\u001b[39;49;00m,\r\n",
      "              \u001b[33m\"\u001b[39;49;00m\u001b[33mtrain_batch_size\u001b[39;49;00m\u001b[33m\"\u001b[39;49;00m: \u001b[34m25000\u001b[39;49;00m,\r\n",
      "              \u001b[33m\"\u001b[39;49;00m\u001b[33mmonitor\u001b[39;49;00m\u001b[33m\"\u001b[39;49;00m: \u001b[36mTrue\u001b[39;49;00m,  \u001b[37m# Record videos.\u001b[39;49;00m\r\n",
      "              \u001b[33m\"\u001b[39;49;00m\u001b[33mmodel\u001b[39;49;00m\u001b[33m\"\u001b[39;49;00m: {\r\n",
      "                \u001b[33m\"\u001b[39;49;00m\u001b[33mfree_log_std\u001b[39;49;00m\u001b[33m\"\u001b[39;49;00m: \u001b[36mTrue\u001b[39;49;00m\r\n",
      "              },\r\n",
      "              \u001b[33m\"\u001b[39;49;00m\u001b[33mnum_workers\u001b[39;49;00m\u001b[33m\"\u001b[39;49;00m: (\u001b[36mself\u001b[39;49;00m.num_cpus-\u001b[34m1\u001b[39;49;00m),\r\n",
      "              \u001b[33m\"\u001b[39;49;00m\u001b[33mnum_gpus\u001b[39;49;00m\u001b[33m\"\u001b[39;49;00m: \u001b[36mself\u001b[39;49;00m.num_gpus,\r\n",
      "              \u001b[33m\"\u001b[39;49;00m\u001b[33mbatch_mode\u001b[39;49;00m\u001b[33m\"\u001b[39;49;00m: \u001b[33m\"\u001b[39;49;00m\u001b[33mcomplete_episodes\u001b[39;49;00m\u001b[33m\"\u001b[39;49;00m,\r\n",
      "            }\r\n",
      "          }\r\n",
      "        }\r\n",
      "\r\n",
      "\u001b[34mif\u001b[39;49;00m \u001b[31m__name__\u001b[39;49;00m == \u001b[33m\"\u001b[39;49;00m\u001b[33m__main__\u001b[39;49;00m\u001b[33m\"\u001b[39;49;00m:\r\n",
      "    MyLauncher().train_main()\r\n",
      "    \r\n"
     ]
    }
   ],
   "source": [
    "!pygmentize src/{trainscript}"
   ]
  },
  {
   "cell_type": "markdown",
   "metadata": {},
   "source": [
    "## Hyperparameters\n",
    "\n",
    "To tune hyperparameters, find the `hyperparameters.py` file in the `/src` folder of your SageMaker notebook. You can tune hyperparameters by editing the values in the `def get_experiment_config(self):` function. Below is a description of what the hyperparameters are.\n",
    "\n",
    "11. For the tutorial, leave the hyperparameters as **default** and continue on running the code cells in this notebook.\n",
    "\n",
    "Please see https://arxiv.org/abs/1707.06347 and https://arxiv.org/pdf/1506.02438.pdf for details \n",
    "\n",
    "\n",
    "**\"lambda\": 1.0**\n",
    "\n",
    "    # Lambda parameter corresponds to the discount factor used in discounted formulations of Markov Decision Processes (MDPs). This is a numeric value to have the agent evaluate rewards from the current run versus rewards in the future. For a value of 0 this means the agent is short sighted and only cares about the first reward but for a value of 1 the agent cares about all future rewards. Recommended range is 0.7-1\n",
    "    \n",
    "**\"kl_coeff\": 0.2**\n",
    "\n",
    "    # Initial coefficient of Kullback-Leibler (KL) Divergence between the previous value function and the new value function. The KL Divergence coefficient is looking at how well a single probabilistic outcome is able to predict another. In reinforcement learning, a lower but non-zero number is recommended, so somewhere between 0.003 - 0.3\n",
    "    \n",
    "**\"vf_loss_coeff\": 1.0**\n",
    "\n",
    "    # Scaling value function loss to make it comparable in scale to the policy loss. This allows us to train an agent that is able to identify the best (or least cost) policy (or set of actions) that result in an favorable outcome. This hyperparementer scales how the agent policy is reflected to the overall value function outcome. Range 0.5 -1\n",
    "    \n",
    "**\"num_sgd_iter\": 30**\n",
    "\n",
    "    # Number of Stochastic Gradient Descent (SGD) iterations in each outer loop while learning the value function. This means that we are using some randomness in finding the most optimal agent behavior. Range can be 3-30\n",
    "    \n",
    "**\"clip_param\": 0.3**\n",
    "\n",
    "    # Proximal Policy Optimization (PPO) clip parameter for limiting the surrogate function during exploration. This hyper parameter allows an agent to explore within a specific range based upon the previous actions taken to allow iterative changes that push the agent to better performance. Range of 0.1 - 0.3 for the lunar lander simulation.\n",
    "    \n",
    "  \n",
    "    \n",
    "### HINTS:\n",
    "\n",
    "Here are some hints for how to tune the hyperparameters above to best optimize your lunar lander agent:\n",
    "\n",
    "* dramatically reduce **clip_param**\n",
    "* slightly reduce **lambda**\n",
    "* reduce **num_sgd_iter**\n",
    "* reduce **vf_loss_coeff**\n",
    "* reduce **kl_coeff**\n",
    "\n",
    "**Tip:** You can minimize training time by editing the `hyperparameter.py` file in the `/src` directory by setting the `training_iteration` parameter to something lower than what is it by default, which is 50 training iterations. For example, to lower training time you can change it to 20 iterations."
   ]
  },
  {
   "cell_type": "markdown",
   "metadata": {},
   "source": [
    "# Step 7: Train the RL model using the Python SDK Script mode\n",
    "\n",
    "If you are using local mode, the training will run on the notebook instance. When using SageMaker for training, you can select a GPU or CPU instance. The RLEstimator is used for training RL jobs. This code cell does the following:\n",
    "\n",
    "* Specifies the source directory where the environment, presets and training code is uploaded.\n",
    "* Specifies the entry point as the training code \n",
    "* Specifies the choice of RL toolkit and framework. This automatically resolves to the ECR path for the RL Container. \n",
    "* Defines the training parameters such as the instance count, job name, S3 path for output and job name. \n",
    "* Specifies the hyperparameters for the RL agent algorithm. The RLCOACH_PRESET or the RLRAY_PRESET can be used to specify the RL agent algorithm you want to use. \n",
    "* Defines the metrics definitions that you are interested in capturing in your logs. These can also be visualized in CloudWatch and SageMaker Notebooks. \n",
    "\n",
    "\n",
    "12. **Run** this code cell to begin training your RL model. It should take about 10-15 minutes for training to complete. Training time is capped at around 16 minutes as a time constraint for this workshop.\n",
    "\n",
    "**Tip:** You can also monitor the progress of your training job by going back to the Amazon SageMaker Management Console and find the **Training jobs** link in the left navigation pane.\n",
    "\n",
    "If you run into an error saying `ResourceLimitExceeded`, then change the EC2 instance type that training is happening on in **Step 4** above."
   ]
  },
  {
   "cell_type": "code",
   "execution_count": 52,
   "metadata": {},
   "outputs": [],
   "source": [
    "metric_definitions = RLEstimator.default_metric_definitions(RLToolkit.RAY)"
   ]
  },
  {
   "cell_type": "code",
   "execution_count": 53,
   "metadata": {},
   "outputs": [],
   "source": [
    "metric_definitions.append({'Name': 'dist_from_center','Regex': 'dist_from_center=(.*?);'})\n",
    "metric_definitions.append({'Name': 'vel_at_end','Regex': 'vel_at_end=(.*?);'})\n",
    "metric_definitions.append({'Name': 'angle_at_end','Regex': 'angle_at_end=(.*?);'})\n",
    "metric_definitions.append({'Name': 'fuel_used','Regex': 'fuel_used=(.*?);'})"
   ]
  },
  {
   "cell_type": "code",
   "execution_count": 54,
   "metadata": {},
   "outputs": [
    {
     "name": "stdout",
     "output_type": "stream",
     "text": [
      "Training job: Jonas-rl-box2d-lunarlander-2020-05-19-19-19-52-563\n",
      "CPU times: user 109 ms, sys: 12.7 ms, total: 121 ms\n",
      "Wall time: 410 ms\n"
     ]
    }
   ],
   "source": [
    "%%time\n",
    "    \n",
    "estimator = RLEstimator(entry_point=trainscript,\n",
    "                        source_dir='src',\n",
    "                        dependencies=[\"common/sagemaker_rl\"],\n",
    "                        image_name=custom_image_name,\n",
    "                        role=role,\n",
    "                        train_instance_type=instance_type,\n",
    "                        train_instance_count=2,\n",
    "                        output_path=s3_output_path,\n",
    "                        base_job_name=job_name_prefix,\n",
    "                        metric_definitions=metric_definitions,\n",
    "                        train_max_run=500 \n",
    "                    )\n",
    "\n",
    "estimator.fit(wait=False)\n",
    "job_name = estimator.latest_training_job.job_name\n",
    "print(\"Training job: %s\" % job_name)"
   ]
  },
  {
   "cell_type": "markdown",
   "metadata": {},
   "source": [
    "# Step 8: Visualization\n",
    "\n",
    "RL training can take a long time.  So while it's running there are a variety of ways we can track progress of the running training job.  Some intermediate output gets saved to S3 during training, so we'll set up to capture that. This code cell defines the path to where outputs are stored for specific training jobs. \n",
    "\n",
    "13. Always keep everything default in this code cell and **run** it. "
   ]
  },
  {
   "cell_type": "code",
   "execution_count": 55,
   "metadata": {},
   "outputs": [
    {
     "name": "stdout",
     "output_type": "stream",
     "text": [
      "Job name: Jonas-rl-box2d-lunarlander-2020-05-19-19-19-52-563\n",
      "S3 job path: s3://sagemaker-eu-west-1-965916812793/Jonas-rl-box2d-lunarlander-2020-05-19-19-19-52-563\n",
      "Intermediate folder path: s3://sagemaker-eu-west-1-965916812793/Jonas-rl-box2d-lunarlander-2020-05-19-19-19-52-563/output/intermediate/\n",
      "Create local folder /tmp/Jonas-rl-box2d-lunarlander-2020-05-19-19-19-52-563\n"
     ]
    }
   ],
   "source": [
    "print(\"Job name: {}\".format(job_name))\n",
    "\n",
    "s3_url = \"s3://{}/{}\".format(s3_bucket,job_name)\n",
    "\n",
    "intermediate_folder_key = \"{}/output/intermediate/\".format(job_name)\n",
    "intermediate_url = \"s3://{}/{}\".format(s3_bucket, intermediate_folder_key)\n",
    "\n",
    "print(\"S3 job path: {}\".format(s3_url))\n",
    "print(\"Intermediate folder path: {}\".format(intermediate_url))\n",
    "    \n",
    "tmp_dir = \"/tmp/{}\".format(job_name)\n",
    "os.system(\"mkdir {}\".format(tmp_dir))\n",
    "print(\"Create local folder {}\".format(tmp_dir))"
   ]
  },
  {
   "cell_type": "markdown",
   "metadata": {},
   "source": [
    "## Fetch videos of training rollouts\n",
    "\n",
    "Videos of certain rollouts get written to S3 during agent training.  Here we fetch the last 10 videos from S3, and render the last one.\n",
    "\n",
    "14. **Run** the following code cells to get the most recent video outputs of your trained lunar lander agent. You will be able to display the video in the SageMaker notebook itself. Hit **Run interact** to play the latest video. "
   ]
  },
  {
   "cell_type": "code",
   "execution_count": 56,
   "metadata": {},
   "outputs": [
    {
     "name": "stdout",
     "output_type": "stream",
     "text": [
      "Waiting for s3://sagemaker-eu-west-1-965916812793/Jonas-rl-box2d-lunarlander-2020-05-19-19-19-52-563/output/intermediate/.................................................................\n",
      "Downloading Jonas-rl-box2d-lunarlander-2020-05-19-19-19-52-563/output/intermediate/training/PPO_LunarLander-v2_0_2020-05-19_19-24-4010vvs24e/openaigym.video.0.252.video000000.mp4\n",
      "Downloading Jonas-rl-box2d-lunarlander-2020-05-19-19-19-52-563/output/intermediate/training/PPO_LunarLander-v2_0_2020-05-19_19-24-4010vvs24e/openaigym.video.0.256.video000000.mp4\n",
      "Downloading Jonas-rl-box2d-lunarlander-2020-05-19-19-19-52-563/output/intermediate/training/PPO_LunarLander-v2_0_2020-05-19_19-24-4010vvs24e/openaigym.video.0.256.video000001.mp4\n",
      "Downloading Jonas-rl-box2d-lunarlander-2020-05-19-19-19-52-563/output/intermediate/training/PPO_LunarLander-v2_0_2020-05-19_19-24-4010vvs24e/openaigym.video.0.258.video000001.mp4\n",
      "Downloading Jonas-rl-box2d-lunarlander-2020-05-19-19-19-52-563/output/intermediate/training/PPO_LunarLander-v2_0_2020-05-19_19-24-4010vvs24e/openaigym.video.0.261.video000001.mp4\n",
      "Downloading Jonas-rl-box2d-lunarlander-2020-05-19-19-19-52-563/output/intermediate/training/PPO_LunarLander-v2_0_2020-05-19_19-24-4010vvs24e/openaigym.video.0.266.video000000.mp4\n",
      "Downloading Jonas-rl-box2d-lunarlander-2020-05-19-19-19-52-563/output/intermediate/training/PPO_LunarLander-v2_0_2020-05-19_19-24-4010vvs24e/openaigym.video.0.266.video000001.mp4\n",
      "Downloading Jonas-rl-box2d-lunarlander-2020-05-19-19-19-52-563/output/intermediate/training/PPO_LunarLander-v2_0_2020-05-19_19-24-4010vvs24e/openaigym.video.0.268.video000000.mp4\n",
      "Downloading Jonas-rl-box2d-lunarlander-2020-05-19-19-19-52-563/output/intermediate/training/PPO_LunarLander-v2_0_2020-05-19_19-24-4010vvs24e/openaigym.video.0.268.video000001.mp4\n",
      "Downloading Jonas-rl-box2d-lunarlander-2020-05-19-19-19-52-563/output/intermediate/training/PPO_LunarLander-v2_0_2020-05-19_19-24-4010vvs24e/openaigym.video.0.269.video000000.mp4\n",
      "Downloading Jonas-rl-box2d-lunarlander-2020-05-19-19-19-52-563/output/intermediate/training/PPO_LunarLander-v2_0_2020-05-19_19-24-4010vvs24e/openaigym.video.0.273.video000000.mp4\n",
      "Downloading Jonas-rl-box2d-lunarlander-2020-05-19-19-19-52-563/output/intermediate/training/PPO_LunarLander-v2_0_2020-05-19_19-24-4010vvs24e/openaigym.video.0.273.video000001.mp4\n",
      "Downloading Jonas-rl-box2d-lunarlander-2020-05-19-19-19-52-563/output/intermediate/training/PPO_LunarLander-v2_0_2020-05-19_19-24-4010vvs24e/openaigym.video.0.276.video000001.mp4\n",
      "Downloading Jonas-rl-box2d-lunarlander-2020-05-19-19-19-52-563/output/intermediate/training/PPO_LunarLander-v2_0_2020-05-19_19-24-4010vvs24e/openaigym.video.0.279.video000000.mp4\n",
      "Downloading Jonas-rl-box2d-lunarlander-2020-05-19-19-19-52-563/output/intermediate/training/PPO_LunarLander-v2_0_2020-05-19_19-24-4010vvs24e/openaigym.video.0.280.video000001.mp4\n"
     ]
    }
   ],
   "source": [
    "recent_videos = wait_for_s3_object(\n",
    "            s3_bucket, intermediate_folder_key, tmp_dir, \n",
    "            fetch_only=(lambda obj: obj.key.endswith(\".mp4\") and obj.size>0), \n",
    "            limit=30, training_job_name=job_name)"
   ]
  },
  {
   "cell_type": "code",
   "execution_count": 57,
   "metadata": {},
   "outputs": [],
   "source": [
    "# ls -l --block-size=M /tmp/{job_name}"
   ]
  },
  {
   "cell_type": "code",
   "execution_count": 58,
   "metadata": {},
   "outputs": [
    {
     "name": "stdout",
     "output_type": "stream",
     "text": [
      "15\n"
     ]
    },
    {
     "data": {
      "application/vnd.jupyter.widget-view+json": {
       "model_id": "cd7e1a8706a24ca68a81e059c3f4d5d0",
       "version_major": 2,
       "version_minor": 0
      },
      "text/plain": [
       "interactive(children=(IntSlider(value=0, description='i', max=14), Button(description='Run Interact', style=Bu…"
      ]
     },
     "metadata": {},
     "output_type": "display_data"
    },
    {
     "name": "stdout",
     "output_type": "stream",
     "text": [
      "Does landing look better for higher values of i, i.e. later videos?\n"
     ]
    }
   ],
   "source": [
    "from __future__ import print_function\n",
    "from ipywidgets import interact, interactive, fixed, interact_manual, Video\n",
    "import ipywidgets as widgets\n",
    "video=0\n",
    "def showvideo(i):\n",
    "    last_video = sorted(recent_videos)[i]\n",
    "    return Video.from_file(last_video)\n",
    "print(len(recent_videos))\n",
    "\n",
    "video = interact_manual(showvideo, i=widgets.IntSlider(min=0,max=len(recent_videos)-1,step=1,value=0));\n",
    "print(\"Does landing look better for higher values of i, i.e. later videos?\")"
   ]
  },
  {
   "cell_type": "markdown",
   "metadata": {},
   "source": [
    "## Plot metrics for training job\n",
    "\n",
    "We can see the reward metric of the training as it's running, using algorithm metrics that are recorded in Amazon CloudWatch metrics. We can plot this to see the performance of the model over time.\n",
    "\n",
    "15. **Run** the following code cell to view a plot of metrics from your training. \n",
    "\n",
    "16. You can also see the metrics in the **AWS Management Console** by finding your training job, clicking on it to expand details about it, and scrolling down to the Monitor section.\n",
    "\n",
    "    * Do to this, make sure you are on the SageMaker Management Console.\n",
    "    * Find the Training jobs link on the left navigation pane\n",
    "    * Find your latest training job and click it to see more details.\n",
    "    * Scroll down to the monitor section\n",
    "    * You will be able to see plotted metrics like episode reward mean, episode reward max, as well as other metrics like CPU and memory utilization. "
   ]
  },
  {
   "cell_type": "code",
   "execution_count": 51,
   "metadata": {},
   "outputs": [
    {
     "name": "stderr",
     "output_type": "stream",
     "text": [
      "/home/ec2-user/anaconda3/envs/tensorflow_p36/lib/python3.6/site-packages/pandas/plotting/_core.py:1001: UserWarning: Attempting to set identical left==right results\n",
      "in singular transformations; automatically expanding.\n",
      "left=0.0, right=0.0\n",
      "  ax.set_xlim(left, right)\n"
     ]
    },
    {
     "data": {
      "text/plain": [
       "Text(0.5, 0, 'Training time (s)')"
      ]
     },
     "execution_count": 51,
     "metadata": {},
     "output_type": "execute_result"
    },
    {
     "data": {
      "image/png": "[encoded data removed]",
      "text/plain": [
       "<Figure size 864x360 with 1 Axes>"
      ]
     },
     "metadata": {},
     "output_type": "display_data"
    }
   ],
   "source": [
    "%matplotlib inline\n",
    "from sagemaker.analytics import TrainingJobAnalytics\n",
    "\n",
    "training_job_name = job_name\n",
    "metric_name = 'episode_reward_mean'\n",
    "\n",
    "metrics_dataframe = TrainingJobAnalytics(training_job_name=training_job_name,metric_names=[metric_name]).dataframe()\n",
    "plt = metrics_dataframe.plot(kind='line', figsize=(12,5), x='timestamp', y='value', style='b.', legend=False)\n",
    "plt.set_ylabel(metric_name);\n",
    "\n",
    "plt.set_ylabel('Mean reward per episode')\n",
    "plt.set_xlabel('Training time (s)')"
   ]
  },
  {
   "cell_type": "markdown",
   "metadata": {},
   "source": [
    "# Thank you!\n",
    "\n",
    "You have finished exploring the SageMaker notebook, including understanding how to tune hyperparameters, build docker containers, editing the reward function, train your RL models, and visualize outputs. \n",
    "\n",
    "You can continue to use this notebook for training your agent by starting again at the top, editing the reward function and tuning hyperparameters as necessary to improve the performance of your lunar lander agent!\n",
    "\n",
    "Make sure to keep an eye on the leaderboards. "
   ]
  },
  {
   "cell_type": "code",
   "execution_count": null,
   "metadata": {},
   "outputs": [],
   "source": []
  },
  {
   "cell_type": "code",
   "execution_count": null,
   "metadata": {},
   "outputs": [],
   "source": []
  },
  {
   "cell_type": "code",
   "execution_count": null,
   "metadata": {},
   "outputs": [],
   "source": []
  }
 ],
 "metadata": {
  "anaconda-cloud": {},
  "kernelspec": {
   "display_name": "conda_tensorflow_p36",
   "language": "python",
   "name": "conda_tensorflow_p36"
  },
  "language_info": {
   "codemirror_mode": {
    "name": "ipython",
    "version": 3
   },
   "file_extension": ".py",
   "mimetype": "text/x-python",
   "name": "python",
   "nbconvert_exporter": "python",
   "pygments_lexer": "ipython3",
   "version": "3.6.6"
  },
  "notice": "Copyright 2018 Amazon.com, Inc. or its affiliates. All Rights Reserved. Licensed under the Apache License, Version 2.0 (the \"License\"). You may not use this file except in compliance with the License. A copy of the License is located at http://aws.amazon.com/apache2.0/ or in the \"license\" file accompanying this file. This file is distributed on an \"AS IS\" BASIS, WITHOUT WARRANTIES OR CONDITIONS OF ANY KIND, either express or implied. See the License for the specific language governing permissions and limitations under the License."
 },
 "nbformat": 4,
 "nbformat_minor": 4
}
