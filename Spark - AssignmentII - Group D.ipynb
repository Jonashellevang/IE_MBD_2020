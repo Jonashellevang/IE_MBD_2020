{
 "cells": [
  {
   "cell_type": "markdown",
   "metadata": {},
   "source": [
    "# Group Assigment: D"
   ]
  },
  {
   "cell_type": "code",
   "execution_count": 3,
   "metadata": {},
   "outputs": [],
   "source": [
    "import findspark\n",
    "findspark.init()"
   ]
  },
  {
   "cell_type": "code",
   "execution_count": 4,
   "metadata": {},
   "outputs": [
    {
     "data": {
      "text/plain": [
       "'/opt/spark-2.4.4-bin-hadoop2.7'"
      ]
     },
     "execution_count": 4,
     "metadata": {},
     "output_type": "execute_result"
    }
   ],
   "source": [
    "findspark.find()\n",
    "import pyspark\n",
    "findspark.find()"
   ]
  },
  {
   "cell_type": "code",
   "execution_count": 5,
   "metadata": {},
   "outputs": [],
   "source": [
    "from pyspark import SparkContext, SparkConf\n",
    "from pyspark.sql import SparkSession\n",
    "\n",
    "conf = pyspark.SparkConf().setAppName('appName').setMaster('local[4]')\n",
    "sc = pyspark.SparkContext(conf=conf)\n",
    "spark = SparkSession(sc)"
   ]
  },
  {
   "cell_type": "markdown",
   "metadata": {},
   "source": [
    "## Introduction to the Flights dataset"
   ]
  },
  {
   "cell_type": "markdown",
   "metadata": {},
   "source": [
    "According to a 2010 report made by the US Federal Aviation Administration, the economic price of domestic flight delays entails a yearly cost of 32.9 billion dollars to passengers, airlines and other parts of the economy. More than half of that amount comes from passengers' pockets, as they do not only waste time waiting for their planes to leave, but also miss connecting flights, spend money on food and have to sleep on hotel rooms while they're stranded.\n",
    "\n",
    "The report, focusing on data from year 2007, estimated that air transportation delays put a 4 billion dollar dent in the country's gross domestic product that year. Full report can be found \n",
    "<a href=\"http://www.isr.umd.edu/NEXTOR/pubs/TDI_Report_Final_10_18_10_V3.pdf\">here</a>.\n",
    "\n",
    "But which are the causes for these delays?\n",
    "\n",
    "In order to answer this question, we are going to analyze the provided dataset, containing up to 1.936.758 different internal flights in the US for 2008 and their causes for delay, diversion and cancellation; if any.\n",
    "\n",
    "The data comes from the U.S. Department of Transportation's (DOT) Bureau of Transportation Statistics (BTS)\n",
    "\n",
    "This dataset is composed by the following variables:\n",
    "1. **Year** 2008\n",
    "2. **Month** 1\n",
    "3. **DayofMonth** 1-31\n",
    "4. **DayOfWeek** 1 (Monday) - 7 (Sunday)\n",
    "5. **DepTime** actual departure time (local, hhmm)\n",
    "6. **CRSDepTime** scheduled departure time (local, hhmm)\n",
    "7. **ArrTime** actual arrival time (local, hhmm)\n",
    "8. **CRSArrTime** scheduled arrival time (local, hhmm)\n",
    "9. **UniqueCarrie**r unique carrier code\n",
    "10. **FlightNum** flight number\n",
    "11. **TailNum** plane tail number: aircraft registration, unique aircraft identifier\n",
    "12. **ActualElapsedTime** in minutes\n",
    "13. **CRSElapsedTime** in minutes\n",
    "14. **AirTime** in minutes\n",
    "15. **ArrDelay** arrival delay, in minutes: A flight is counted as \"on time\" if it operated less than 15 minutes later the scheduled time shown in the carriers' Computerized Reservations Systems (CRS).\n",
    "16. **DepDelay** departure delay, in minutes\n",
    "17. **Origin** origin IATA airport code\n",
    "18. **Dest** destination IATA airport code\n",
    "19. **Distance** in miles\n",
    "20. **TaxiIn** taxi in time, in minutes\n",
    "21. **TaxiOut** taxi out time in minutes\n",
    "22. **Cancelled** *was the flight cancelled\n",
    "23. **CancellationCode** reason for cancellation (A = carrier, B = weather, C = NAS, D = security)\n",
    "24. **Diverted** 1 = yes, 0 = no\n",
    "25. **CarrierDelay** in minutes: Carrier delay is within the control of the air carrier. Examples of occurrences that may determine carrier delay are: aircraft cleaning, aircraft damage, awaiting the arrival of connecting passengers or crew, baggage, bird strike, cargo loading, catering, computer, outage-carrier equipment, crew legality (pilot or attendant rest), damage by hazardous goods, engineering inspection, fueling, handling disabled passengers, late crew, lavatory servicing, maintenance, oversales, potable water servicing, removal of unruly passenger, slow boarding or seating, stowing carry-on baggage, weight and balance delays.\n",
    "26. **WeatherDelay** in minutes: Weather delay is caused by extreme or hazardous weather conditions that are forecasted or manifest themselves on point of departure, enroute, or on point of arrival.\n",
    "27. **NASDelay** in minutes: Delay that is within the control of the National Airspace System (NAS) may include: non-extreme weather conditions, airport operations, heavy traffic volume, air traffic control, etc.\n",
    "28. **SecurityDelay** in minutes: Security delay is caused by evacuation of a terminal or concourse, re-boarding of aircraft because of security breach, inoperative screening equipment and/or long lines in excess of 29 minutes at screening areas.\n",
    "29. **LateAircraftDelay** in minutes: Arrival delay at an airport due to the late arrival of the same aircraft at a previous airport. The ripple effect of an earlier delay at downstream airports is referred to as delay propagation"
   ]
  },
  {
   "cell_type": "markdown",
   "metadata": {},
   "source": [
    "Read the CSV file using Spark's default delimiter (\",\"). The first line contains the headers so it is not part of the data. Hence we set the header option to true."
   ]
  },
  {
   "cell_type": "code",
   "execution_count": 6,
   "metadata": {},
   "outputs": [],
   "source": [
    "# This does nothing: Spark is lazy so the read operation will be deferred until an action is executed\n",
    "flightsDF = spark.read.option(\"header\", \"true\").csv(\"flights_jan08.csv\")"
   ]
  },
  {
   "cell_type": "markdown",
   "metadata": {},
   "source": [
    "## Your topic: Arrival Delay related to the time of departure and arrival"
   ]
  },
  {
   "cell_type": "markdown",
   "metadata": {},
   "source": [
    "We want to check what happens in each of the cities, and if there is a relation between the city and the delay that goes beyond the airports. For that purpose, **you have to get a small dataset with a few economic indicators of the city** where the airport is located, such as the per-capita income, number of large companies (tech companies, large banks, etc) operating in each city, etc. No need for a lot of features, just 4 or 5 are fine. If you deem necessary, categorize the cities according to the economic development level. Once you have it, answer the following questions:\n",
    "\n",
    "* Is there a relation between the economic prosperity of a city and the proportion of flights that arrive to it during the weekdays or weekends?\n",
    "* Is there any relation between the business nature of a city and the proportion of flights that arrive early in the morning (e.g. with people in a business travel) with respect to the number of flights arriving during the rest of the day? \n",
    "* Is this proportion between flights arriving in the morning and the afternoon much different if we compare weekdays vs weekends in those cities?\n",
    "* Are there cities that receive most flights at weekends? Is this typical of a vacation city?\n",
    "* Can we say more developed cities suffer of smaller arrival delays on average?\n",
    "* Is there a relation between the arrival time and the arrival delay? If you deem necessary, categorize the day into discrete parts for the arrival time. Is the relation the same for all categories of cities?\n",
    "* What about the departure time?"
   ]
  },
  {
   "cell_type": "code",
   "execution_count": 7,
   "metadata": {},
   "outputs": [],
   "source": [
    "## Importing Functions\n",
    "\n",
    "from IPython.display import display, Markdown\n",
    "from pyspark.sql.functions import when, count, col, countDistinct, desc, first, lit, mean, sum, corr, coalesce, avg\n",
    "from pyspark.sql.functions import count, round\n",
    "from pyspark.sql.types import IntegerType \n",
    "from itertools import chain"
   ]
  },
  {
   "cell_type": "markdown",
   "metadata": {},
   "source": [
    "# Understing the flight dataset\n",
    "\n",
    "In this part of the analysis we simply count the number of flight for each one of the IATA Codes in the column Dest. We also count the number of distinct values for that columns so we could know with how many different airports are we working for the analysis. "
   ]
  },
  {
   "cell_type": "code",
   "execution_count": 8,
   "metadata": {
    "scrolled": true
   },
   "outputs": [
    {
     "name": "stdout",
     "output_type": "stream",
     "text": [
      "Checking amount of distinct values in column Dest:\n",
      "+--------------+\n",
      "|Airports Count|\n",
      "+--------------+\n",
      "|            81|\n",
      "+--------------+\n",
      "\n",
      "+----+-----+\n",
      "|Dest|Count|\n",
      "+----+-----+\n",
      "|LAS |6734 |\n",
      "|MDW |6255 |\n",
      "|PHX |5513 |\n",
      "|BWI |4691 |\n",
      "|OAK |3916 |\n",
      "|HOU |3898 |\n",
      "|DAL |3594 |\n",
      "|LAX |3382 |\n",
      "|SAN |3327 |\n",
      "|MCO |3258 |\n",
      "|SMF |2639 |\n",
      "|TPA |2347 |\n",
      "|BNA |2343 |\n",
      "|ONT |2249 |\n",
      "|MCI |2231 |\n",
      "|SJC |2187 |\n",
      "|ABQ |2085 |\n",
      "|STL |2010 |\n",
      "|PHL |1703 |\n",
      "|BUR |1674 |\n",
      "|AUS |1620 |\n",
      "|SAT |1615 |\n",
      "|DEN |1589 |\n",
      "|SLC |1468 |\n",
      "|SEA |1293 |\n",
      "|RNO |1265 |\n",
      "|MSY |1258 |\n",
      "|FLL |1232 |\n",
      "|PDX |1171 |\n",
      "|RDU |1111 |\n",
      "|SNA |1058 |\n",
      "|ELP |973  |\n",
      "|PVD |937  |\n",
      "|TUS |926  |\n",
      "|OKC |848  |\n",
      "|MHT |848  |\n",
      "|BHM |809  |\n",
      "|JAX |808  |\n",
      "|CMH |798  |\n",
      "|ISP |790  |\n",
      "|SFO |743  |\n",
      "|TUL |685  |\n",
      "|GEG |656  |\n",
      "|BOI |643  |\n",
      "|PIT |640  |\n",
      "|OMA |578  |\n",
      "|DTW |570  |\n",
      "|SDF |566  |\n",
      "|BDL |522  |\n",
      "|CLE |498  |\n",
      "|BUF |475  |\n",
      "|IND |472  |\n",
      "|ALB |388  |\n",
      "|LIT |377  |\n",
      "|ORF |359  |\n",
      "|PBI |356  |\n",
      "|LBB |349  |\n",
      "|MAF |319  |\n",
      "|AMA |318  |\n",
      "|RSW |317  |\n",
      "|HRL |312  |\n",
      "|IAD |308  |\n",
      "|JAN |244  |\n",
      "|COS |183  |\n",
      "|CRP |152  |\n",
      "|FAT |145  |\n",
      "|LGB |138  |\n",
      "|MRY |112  |\n",
      "|BFL |62   |\n",
      "|EUG |26   |\n",
      "|IAH |13   |\n",
      "|EWR |9    |\n",
      "|DCA |2    |\n",
      "|XNA |2    |\n",
      "|GSO |2    |\n",
      "|MYR |1    |\n",
      "|SAV |1    |\n",
      "|ATL |1    |\n",
      "|SYR |1    |\n",
      "|RIC |1    |\n",
      "|ROC |1    |\n",
      "+----+-----+\n",
      "\n"
     ]
    }
   ],
   "source": [
    "print(\"Checking amount of distinct values in column Dest:\")\n",
    "flightsDF.select(countDistinct(\"Dest\").alias(\"Airports Count\")).show()\n",
    "\n",
    "flightsDF\\\n",
    "    .groupBy(col(\"Dest\"))\\\n",
    "    .agg(count(\"FlightNum\").alias(\"Count\"))\\\n",
    "    .orderBy(\"Count\", ascending = False)\\\n",
    "    .select(\"Dest\",\"Count\").show(81,truncate = False)"
   ]
  },
  {
   "cell_type": "code",
   "execution_count": 9,
   "metadata": {},
   "outputs": [
    {
     "data": {
      "text/plain": [
       "DataFrame[summary: string, Year: string, Month: string, DayofMonth: string, DayOfWeek: string, DepTime: string, CRSDepTime: string, ArrTime: string, CRSArrTime: string, UniqueCarrier: string, FlightNum: string, TailNum: string, ActualElapsedTime: string, CRSElapsedTime: string, AirTime: string, ArrDelay: string, DepDelay: string, Origin: string, Dest: string, Distance: string, TaxiIn: string, TaxiOut: string, Cancelled: string, CancellationCode: string, Diverted: string, CarrierDelay: string, WeatherDelay: string, NASDelay: string, SecurityDelay: string, LateAircraftDelay: string]"
      ]
     },
     "execution_count": 9,
     "metadata": {},
     "output_type": "execute_result"
    }
   ],
   "source": [
    "flightsDF.summary()"
   ]
  },
  {
   "cell_type": "markdown",
   "metadata": {},
   "source": [
    "# Creating data by city (IATA codes)\n",
    "\n",
    "To collect the data that was requiered for this assignment we had to go through different sources. The process was as it follows:\n",
    "\n",
    "- First we had to look for the corresponding city of the IATA code, meanly from wikipedia and a web page that was basically a guide of the us airports codes.\n",
    "- For the population we take the information from boston.com that although didn't have the information for the year 2008 but for 2007 we still decided to work with that because we consider was a good proxy\n",
    "- Finally, for the rest of economic indicators we take from areavibes.com the value of the GDP, Population Density, Unemployment Rate and Poverty Level for every city we had in the flight dataset (according de Destination IATA code)"
   ]
  },
  {
   "cell_type": "code",
   "execution_count": 10,
   "metadata": {},
   "outputs": [
    {
     "data": {
      "text/plain": [
       "[Row(IATA_CODE='ELP', State='Texas', Airport='El Paso', City='El Paso', Population='606913', GDPPC='27872', PopDensity='53.3', UnemploymentRate='6.1', ProvertyLevel='21'),\n",
       " Row(IATA_CODE='LBB', State='Texas', Airport='Lubbock', City='Lubbock', Population='217326', GDPPC='30414', PopDensity='23', UnemploymentRate='3.7', ProvertyLevel='20.9'),\n",
       " Row(IATA_CODE='FAT', State='California', Airport='Fresno', City='Fresno', Population='470508', GDPPC='34220', PopDensity='49.9', UnemploymentRate='10.4', ProvertyLevel='30')]"
      ]
     },
     "execution_count": 10,
     "metadata": {},
     "output_type": "execute_result"
    }
   ],
   "source": [
    "EconomicsAirport = spark.read.option(\"header\", \"true\").csv(\"EconomicsAirport.csv\")\n",
    "EconomicsAirport.head(3)"
   ]
  },
  {
   "cell_type": "markdown",
   "metadata": {},
   "source": [
    "## 1. Is there a relation between the economic prosperity of a city and the proportion of flights that arrive to it during the weekdays or weekends?\n",
    "\n",
    "- First we create a table that show us how many flight have arrive during weekday and weekend to each airport\n",
    "- Later we merge that table with the dataset containing the economics indicators for each of the cities\n",
    "- Finally, we check for the correlation between the proportion of flights on weekday and the economic variables\n",
    "\n",
    "Looking at the correlation table we can observe that there is no clear relation between the weekday/weekend variables and the economic variables. The only variable that show a 11% of correlation is Unemployment rate that could be explained by a possible migration of talent from other cities to the one in the dataset. "
   ]
  },
  {
   "cell_type": "code",
   "execution_count": 11,
   "metadata": {},
   "outputs": [
    {
     "name": "stdout",
     "output_type": "stream",
     "text": [
      "+----+-----+-------+-------+---------+---------+\n",
      "|Dest|Count|Weekday|Weekend|% Weekday|% Weekend|\n",
      "+----+-----+-------+-------+---------+---------+\n",
      "| LAS| 6647|   4943|   1704|    74.36|    25.64|\n",
      "| MDW| 6103|   4547|   1556|     74.5|     25.5|\n",
      "| PHX| 5435|   4083|   1352|    75.12|    24.88|\n",
      "| BWI| 4660|   3519|   1141|    75.52|    24.48|\n",
      "| HOU| 3839|   2941|    898|    76.61|    23.39|\n",
      "| OAK| 3823|   2902|    921|    75.91|    24.09|\n",
      "| DAL| 3559|   2776|    783|     78.0|     22.0|\n",
      "| LAX| 3283|   2471|    812|    75.27|    24.73|\n",
      "| SAN| 3240|   2449|    791|    75.59|    24.41|\n",
      "| MCO| 3237|   2367|    870|    73.12|    26.88|\n",
      "| SMF| 2595|   1972|    623|    75.99|    24.01|\n",
      "| BNA| 2335|   1769|    566|    75.76|    24.24|\n",
      "| TPA| 2329|   1730|    599|    74.28|    25.72|\n",
      "| ONT| 2214|   1691|    523|    76.38|    23.62|\n",
      "| MCI| 2212|   1687|    525|    76.27|    23.73|\n",
      "| SJC| 2151|   1639|    512|     76.2|     23.8|\n",
      "| ABQ| 2070|   1563|    507|    75.51|    24.49|\n",
      "| STL| 1983|   1510|    473|    76.15|    23.85|\n",
      "| PHL| 1678|   1288|    390|    76.76|    23.24|\n",
      "| BUR| 1636|   1251|    385|    76.47|    23.53|\n",
      "+----+-----+-------+-------+---------+---------+\n",
      "only showing top 20 rows\n",
      "\n"
     ]
    }
   ],
   "source": [
    "Weekdays = flightsDF\\\n",
    "   .where((col(\"ArrDelay\")!=\"NA\") & (col(\"Cancelled\")==0))\\\n",
    "   .withColumn(\"Weekday\", when((col(\"DayOfWeek\")==1) | (col(\"DayOfWeek\")==2) | (col(\"DayOfWeek\")==3) |\\\n",
    "                               (col(\"DayOfWeek\")==4) | (col(\"DayOfWeek\")==5),1)\\\n",
    "                               .otherwise(0))\n",
    "\n",
    "Dayoftheweek = Weekdays\\\n",
    "                    .where((col(\"ArrDelay\")!=\"NA\") & (col(\"Cancelled\")==0))\\\n",
    "                    .groupBy(col(\"Dest\"))\\\n",
    "                    .agg(count(\"FlightNum\").alias(\"Count\"),sum(\"Weekday\").alias(\"Weekday\"))\\\n",
    "                    .withColumn(\"Weekend\", col(\"Count\") - col(\"Weekday\"))\\\n",
    "                    .withColumn(\"% Weekday\", col(\"Weekday\")/col(\"Count\")*100) \\\n",
    "                    .withColumn(\"% Weekend\", 100 - col(\"% Weekday\")) \\\n",
    "                    .orderBy(\"Count\", ascending = False)\\\n",
    "                    .select(\"Dest\",\"Count\", \"Weekday\", \"Weekend\",\\\n",
    "                            round(\"% Weekday\",2).alias(\"% Weekday\"),round(\"% Weekend\",2).alias(\"% Weekend\"))\n",
    "\n",
    "Dayoftheweek.show()"
   ]
  },
  {
   "cell_type": "code",
   "execution_count": 12,
   "metadata": {
    "scrolled": true
   },
   "outputs": [
    {
     "name": "stdout",
     "output_type": "stream",
     "text": [
      "+----+-----+-------+-------+---------+---------+----------+-----+----------+----------------+-------------+\n",
      "|Dest|Count|Weekday|Weekend|% Weekday|% Weekend|Population|GDPPC|PopDensity|UnemploymentRate|ProvertyLevel|\n",
      "+----+-----+-------+-------+---------+---------+----------+-----+----------+----------------+-------------+\n",
      "| LAS| 6647|   4943|   1704|    74.36|    25.64|    558880|48873|      20.5|             6.6|         16.8|\n",
      "| MDW| 6103|   4547|   1556|     74.5|     25.5|   2836658|57387|     495.6|             6.1|         21.7|\n",
      "| PHX| 5435|   4083|   1352|    75.12|    24.88|   1552259|47595|     108.3|             5.5|         22.3|\n",
      "| BWI| 4660|   3519|   1141|    75.52|    24.48|    637455|27149|      1481|               7|         23.1|\n",
      "| HOU| 3839|   2941|    898|    76.61|    23.39|   2208180|69667|     195.9|             4.7|         21.9|\n",
      "| OAK| 3823|   2902|    921|    75.91|    24.09|    401489|34984|      1423|             6.3|           20|\n",
      "| DAL| 3559|   2776|    783|     78.0|     22.0|   1240499|59224|     181.3|             4.9|         22.9|\n",
      "| LAX| 3283|   2471|    812|    75.27|    24.73|   3834340|54176|     200.4|             7.3|         21.5|\n",
      "| SAN| 3240|   2449|    791|    75.59|    24.41|   1266731|60447|     273.3|             6.1|           15|\n",
      "| MCO| 3237|   2367|    870|    73.12|    26.88|    227907|26982|       482|             5.9|         19.9|\n",
      "| SMF| 2595|   1972|    623|    75.99|    24.01|    460242|47673|     153.2|             7.1|         21.4|\n",
      "| BNA| 2335|   1769|    566|    75.76|    24.24|    590807|55499|     115.4|             5.8|           18|\n",
      "| TPA| 2329|   1730|    599|    74.28|    25.72|    336823|43793|     424.1|             6.9|         21.2|\n",
      "| ONT| 2214|   1691|    523|    76.38|    23.62|    170936|19761|       654|             6.2|           17|\n",
      "| MCI| 2212|   1687|    525|    76.27|    23.73|    450375|28511|       289|             4.6|         18.3|\n",
      "| SJC| 2151|   1639|    512|     76.2|     23.8|    939899|37428|      1097|               5|         10.9|\n",
      "| ABQ| 2070|   1563|    507|    75.51|    24.49|    518271|42883|      24.8|             4.6|         18.9|\n",
      "| STL| 1983|   1510|    473|    76.15|    23.85|    350759|49136|     183.1|             6.5|         26.7|\n",
      "| PHL| 1678|   1288|    390|    76.76|    23.24|   1449634|59430|     484.5|             5.3|         25.9|\n",
      "| BUR| 1636|   1251|    385|    76.47|    23.53|    103286|35959|      1163|             5.6|         11.5|\n",
      "+----+-----+-------+-------+---------+---------+----------+-----+----------+----------------+-------------+\n",
      "only showing top 20 rows\n",
      "\n"
     ]
    }
   ],
   "source": [
    "DayoftheweekEconomics = Dayoftheweek.join(EconomicsAirport, Dayoftheweek.Dest == EconomicsAirport.IATA_CODE, how=\"inner\")\\\n",
    "                        .select(\"Dest\",\"Count\",\"Weekday\",\"Weekend\",\\\n",
    "                    \"% Weekday\",\"% Weekend\",\"Population\", \"GDPPC\", \"PopDensity\", \"UnemploymentRate\", \"ProvertyLevel\")\n",
    "            \n",
    "DayoftheweekEconomics.show()"
   ]
  },
  {
   "cell_type": "code",
   "execution_count": 13,
   "metadata": {},
   "outputs": [
    {
     "name": "stdout",
     "output_type": "stream",
     "text": [
      "+-------------------+--------------+-------------------+-------------------------+----------------------+\n",
      "|Corr Pop/Population|Corr Pop/GDPPC|Corr Pop/PopDensity|Corr Pop/UnemploymentRate|Corr Pop/ProvertyLevel|\n",
      "+-------------------+--------------+-------------------+-------------------------+----------------------+\n",
      "|               0.05|         -0.08|              -0.01|                     0.11|                 -0.02|\n",
      "+-------------------+--------------+-------------------+-------------------------+----------------------+\n",
      "\n"
     ]
    }
   ],
   "source": [
    "DayoftheweekEconomics\\\n",
    "    .where(col(\"Count\") > 50)\\\n",
    "    .select([round(corr(col(c),col(\"% Weekday\")),2).alias(\"Corr Pop/\" + c) for c in [\"Population\",\"GDPPC\", \"PopDensity\", \"UnemploymentRate\", \"ProvertyLevel\"]]).show()"
   ]
  },
  {
   "cell_type": "markdown",
   "metadata": {},
   "source": [
    "## Is there any relation between the business nature of a city and the proportion of flights that arrive early in the morning (e.g. with people in a business travel) with respect to the number of flights arriving during the rest of the day?\n",
    "\n",
    "- First we check for the \"Arr Time\" variable to understand how the variable is so we can use it later to creat a column with all the flights occurring during the morning time\n",
    "- We create a \"Morning column\" that correspond to flights with arrival time between 4 a.m. and 12 p.m.\n",
    "- We merge the dataset with the one with the economics indicators\n",
    "- We check for the correlation between te variables of interest.\n",
    "\n",
    "Again the correlation between the variables is not significant. The variable with the highest correlation is Unemployment Rate that again could be explain for a potential migration of talent from other cities, specially in the mornings where is were usually interviews and business meetings are set.\n"
   ]
  },
  {
   "cell_type": "code",
   "execution_count": 14,
   "metadata": {},
   "outputs": [
    {
     "name": "stdout",
     "output_type": "stream",
     "text": [
      "+-------+------------------+\n",
      "|summary|           ArrTime|\n",
      "+-------+------------------+\n",
      "|  count|            100000|\n",
      "|   mean|1492.7392247056678|\n",
      "| stddev|496.37679391699163|\n",
      "|    min|                 1|\n",
      "|    25%|            1114.0|\n",
      "|    50%|            1518.0|\n",
      "|    75%|            1913.0|\n",
      "|    max|                NA|\n",
      "+-------+------------------+\n",
      "\n"
     ]
    }
   ],
   "source": [
    "flightsDF.select(\"ArrTime\").summary().show()\n"
   ]
  },
  {
   "cell_type": "code",
   "execution_count": 15,
   "metadata": {},
   "outputs": [
    {
     "name": "stdout",
     "output_type": "stream",
     "text": [
      "+----+-----+-------+-----------+---------+-------------+\n",
      "|Dest|Count|Morning|Not Morning|% Morning|% Not Morning|\n",
      "+----+-----+-------+-----------+---------+-------------+\n",
      "| LAS| 6647|   2096|       4551|    31.53|        68.47|\n",
      "| MDW| 6103|   1775|       4328|    29.08|        70.92|\n",
      "| PHX| 5435|   1370|       4065|    25.21|        74.79|\n",
      "| BWI| 4660|   1266|       3394|    27.17|        72.83|\n",
      "| HOU| 3839|   1062|       2777|    27.66|        72.34|\n",
      "| OAK| 3823|   1067|       2756|    27.91|        72.09|\n",
      "| DAL| 3559|   1043|       2516|    29.31|        70.69|\n",
      "| LAX| 3283|    965|       2318|    29.39|        70.61|\n",
      "| SAN| 3240|    996|       2244|    30.74|        69.26|\n",
      "| MCO| 3237|    845|       2392|     26.1|         73.9|\n",
      "| SMF| 2595|    717|       1878|    27.63|        72.37|\n",
      "| BNA| 2335|    714|       1621|    30.58|        69.42|\n",
      "| TPA| 2329|    664|       1665|    28.51|        71.49|\n",
      "| ONT| 2214|    664|       1550|    29.99|        70.01|\n",
      "| MCI| 2212|    588|       1624|    26.58|        73.42|\n",
      "| SJC| 2151|    636|       1515|    29.57|        70.43|\n",
      "| ABQ| 2070|    699|       1371|    33.77|        66.23|\n",
      "| STL| 1983|    638|       1345|    32.17|        67.83|\n",
      "| PHL| 1678|    456|       1222|    27.18|        72.82|\n",
      "| BUR| 1636|    492|       1144|    30.07|        69.93|\n",
      "+----+-----+-------+-----------+---------+-------------+\n",
      "only showing top 20 rows\n",
      "\n"
     ]
    }
   ],
   "source": [
    "morning = flightsDF\\\n",
    "   .where((col(\"ArrDelay\")!=\"NA\") & (col(\"Cancelled\")==0))\\\n",
    "   .withColumn(\"Morning\", when((col(\"ArrTime\") >= 400) & (col(\"ArrTime\") <= 1200),1)\\\n",
    "                               .otherwise(0))\n",
    "\n",
    "MorningFlights = morning\\\n",
    "                    .where((col(\"ArrDelay\")!=\"NA\") & (col(\"Cancelled\")==0))\\\n",
    "                    .groupBy(col(\"Dest\"))\\\n",
    "                    .agg(count(\"FlightNum\").alias(\"Count\"),sum(\"Morning\").alias(\"Morning\"))\\\n",
    "                    .withColumn(\"Not Morning\", col(\"Count\") - col(\"Morning\"))\\\n",
    "                    .withColumn(\"% Morning\", col(\"Morning\")/col(\"Count\")*100) \\\n",
    "                    .withColumn(\"% Not Morning\", 100 - col(\"% Morning\")) \\\n",
    "                    .orderBy(\"Count\", ascending = False)\\\n",
    "                    .select(\"Dest\",\"Count\", \"Morning\", \"Not Morning\",\\\n",
    "                            round(\"% Morning\",2).alias(\"% Morning\"),round(\"% Not Morning\",2).alias(\"% Not Morning\"))\n",
    "\n",
    "MorningFlights.show()"
   ]
  },
  {
   "cell_type": "code",
   "execution_count": 16,
   "metadata": {},
   "outputs": [
    {
     "name": "stdout",
     "output_type": "stream",
     "text": [
      "+----+-----+-------+-----------+---------+-------------+----------+-----+----------+----------------+-------------+\n",
      "|Dest|Count|Morning|Not Morning|% Morning|% Not Morning|Population|GDPPC|PopDensity|UnemploymentRate|ProvertyLevel|\n",
      "+----+-----+-------+-----------+---------+-------------+----------+-----+----------+----------------+-------------+\n",
      "| LAS| 6647|   2096|       4551|    31.53|        68.47|    558880|48873|      20.5|             6.6|         16.8|\n",
      "| MDW| 6103|   1775|       4328|    29.08|        70.92|   2836658|57387|     495.6|             6.1|         21.7|\n",
      "| PHX| 5435|   1370|       4065|    25.21|        74.79|   1552259|47595|     108.3|             5.5|         22.3|\n",
      "| BWI| 4660|   1266|       3394|    27.17|        72.83|    637455|27149|      1481|               7|         23.1|\n",
      "| HOU| 3839|   1062|       2777|    27.66|        72.34|   2208180|69667|     195.9|             4.7|         21.9|\n",
      "| OAK| 3823|   1067|       2756|    27.91|        72.09|    401489|34984|      1423|             6.3|           20|\n",
      "| DAL| 3559|   1043|       2516|    29.31|        70.69|   1240499|59224|     181.3|             4.9|         22.9|\n",
      "| LAX| 3283|    965|       2318|    29.39|        70.61|   3834340|54176|     200.4|             7.3|         21.5|\n",
      "| SAN| 3240|    996|       2244|    30.74|        69.26|   1266731|60447|     273.3|             6.1|           15|\n",
      "| MCO| 3237|    845|       2392|     26.1|         73.9|    227907|26982|       482|             5.9|         19.9|\n",
      "| SMF| 2595|    717|       1878|    27.63|        72.37|    460242|47673|     153.2|             7.1|         21.4|\n",
      "| BNA| 2335|    714|       1621|    30.58|        69.42|    590807|55499|     115.4|             5.8|           18|\n",
      "| TPA| 2329|    664|       1665|    28.51|        71.49|    336823|43793|     424.1|             6.9|         21.2|\n",
      "| ONT| 2214|    664|       1550|    29.99|        70.01|    170936|19761|       654|             6.2|           17|\n",
      "| MCI| 2212|    588|       1624|    26.58|        73.42|    450375|28511|       289|             4.6|         18.3|\n",
      "| SJC| 2151|    636|       1515|    29.57|        70.43|    939899|37428|      1097|               5|         10.9|\n",
      "| ABQ| 2070|    699|       1371|    33.77|        66.23|    518271|42883|      24.8|             4.6|         18.9|\n",
      "| STL| 1983|    638|       1345|    32.17|        67.83|    350759|49136|     183.1|             6.5|         26.7|\n",
      "| PHL| 1678|    456|       1222|    27.18|        72.82|   1449634|59430|     484.5|             5.3|         25.9|\n",
      "| BUR| 1636|    492|       1144|    30.07|        69.93|    103286|35959|      1163|             5.6|         11.5|\n",
      "+----+-----+-------+-----------+---------+-------------+----------+-----+----------+----------------+-------------+\n",
      "only showing top 20 rows\n",
      "\n"
     ]
    }
   ],
   "source": [
    "MorningEconomics = MorningFlights.join(EconomicsAirport, MorningFlights.Dest == EconomicsAirport.IATA_CODE, how=\"inner\")\\\n",
    "                        .select(\"Dest\",\"Count\",\"Morning\",\"Not Morning\",\\\n",
    "                    \"% Morning\",\"% Not Morning\",\"Population\", \"GDPPC\", \"PopDensity\", \"UnemploymentRate\", \"ProvertyLevel\")\n",
    "            \n",
    "MorningEconomics.show()"
   ]
  },
  {
   "cell_type": "code",
   "execution_count": 17,
   "metadata": {},
   "outputs": [
    {
     "name": "stdout",
     "output_type": "stream",
     "text": [
      "+-------------------+--------------+-------------------+-------------------------+----------------------+\n",
      "|Corr Pop/Population|Corr Pop/GDPPC|Corr Pop/PopDensity|Corr Pop/UnemploymentRate|Corr Pop/ProvertyLevel|\n",
      "+-------------------+--------------+-------------------+-------------------------+----------------------+\n",
      "|               0.08|          0.02|               0.06|                     0.21|                   0.1|\n",
      "+-------------------+--------------+-------------------+-------------------------+----------------------+\n",
      "\n"
     ]
    }
   ],
   "source": [
    "MorningEconomics\\\n",
    "    .where(col(\"Count\") > 50)\\\n",
    "    .select([round(corr(col(c),col(\"% Morning\")),2).alias(\"Corr Pop/\" + c) for c in [\"Population\",\"GDPPC\", \"PopDensity\", \"UnemploymentRate\", \"ProvertyLevel\"]]).show()"
   ]
  },
  {
   "cell_type": "markdown",
   "metadata": {},
   "source": [
    "## Is this proportion between flights arriving in the morning and the afternoon much different if we compare weekdays vs weekends in those cities?\n",
    "\n",
    "- Here we create a dataset that contains binary columns that indicates if was morning or afternoon in a weekday or weekend.\n",
    "- We create another dataset where we count the total of flight, and also sum the number of flights for each of the created variables.After we create columns containing the proportion of flights per category.\n",
    "- Finally we look for the average proportion of flights for each of the category.\n",
    "\n",
    "We can see that for morning flights, the proportion of flights is higher during weekdays. However when looking at afternoon flights, this ones have a higher occurrence during the weekends."
   ]
  },
  {
   "cell_type": "code",
   "execution_count": 18,
   "metadata": {},
   "outputs": [
    {
     "name": "stdout",
     "output_type": "stream",
     "text": [
      "+----+-----+---------------+-----------------+---------------+-----------------+\n",
      "|Dest|Count|Morning Weekday|Afternoon Weekday|Morning Weekend|Afternoon Weekend|\n",
      "+----+-----+---------------+-----------------+---------------+-----------------+\n",
      "| MSY| 1256|          36.42|            63.58|          33.44|            66.56|\n",
      "| GEG|  640|          25.51|            74.49|           26.0|             74.0|\n",
      "| BUR| 1636|          31.02|            68.98|          27.01|            72.99|\n",
      "| SNA| 1050|          32.24|            67.76|          26.64|            73.36|\n",
      "| PVD|  934|          24.68|            75.32|          18.57|            81.43|\n",
      "| OAK| 3823|          29.36|            70.64|          23.34|            76.66|\n",
      "| ORF|  358|          23.13|            76.87|          21.11|            78.89|\n",
      "| CMH|  794|          26.42|            73.58|          21.43|            78.57|\n",
      "| SJC| 2151|          31.06|            68.94|           24.8|             75.2|\n",
      "| BUF|  464|          27.06|            72.94|          23.39|            76.61|\n",
      "| AUS| 1612|          28.07|            71.93|          24.36|            75.64|\n",
      "| LGB|  132|          37.86|            62.14|          44.83|            55.17|\n",
      "| BFL|   60|            0.0|            100.0|            0.0|            100.0|\n",
      "| RNO| 1226|          31.09|            68.91|          31.72|            68.28|\n",
      "| RSW|  315|          21.49|            78.51|          21.84|            78.16|\n",
      "| TUL|  679|          21.88|            78.12|          13.92|            86.08|\n",
      "| HRL|  298|          31.14|            68.86|          22.86|            77.14|\n",
      "| AMA|  312|          31.36|            68.64|          23.68|            76.32|\n",
      "| ISP|  782|          19.65|            80.35|          16.51|            83.49|\n",
      "| MAF|  316|          24.79|            75.21|          20.51|            79.49|\n",
      "+----+-----+---------------+-----------------+---------------+-----------------+\n",
      "only showing top 20 rows\n",
      "\n"
     ]
    }
   ],
   "source": [
    "WeekMorning = flightsDF\\\n",
    "    .where((col(\"ArrDelay\")!=\"NA\") & (col(\"Cancelled\")==0))\\\n",
    "    .withColumn(\"Morning\", when((col(\"ArrTime\") >= 400) & (col(\"ArrTime\") <= 1200),1)\\\n",
    "                               .otherwise(0))\\\n",
    "    .withColumn(\"Weekday\", when((col(\"DayOfWeek\")==1) | (col(\"DayOfWeek\")==2) | (col(\"DayOfWeek\")==3) |\\\n",
    "                               (col(\"DayOfWeek\")==4) | (col(\"DayOfWeek\")==5),1)\\\n",
    "                               .otherwise(0))\\\n",
    "    .withColumn(\"MorningWeekday\", when((col(\"Morning\")==1) & (col(\"Weekday\")==1), 1).otherwise(0))\\\n",
    "    .withColumn(\"MorningWeekend\", when((col(\"Morning\")==1) & (col(\"Weekday\")==0), 1).otherwise(0))\\\n",
    "    .withColumn(\"AfternoonWeekday\", when((col(\"Morning\")==0) & (col(\"Weekday\")==1), 1).otherwise(0))\\\n",
    "    .withColumn(\"AfternoonWeekend\", when((col(\"Morning\")==0) & (col(\"Weekday\")==0), 1).otherwise(0))\n",
    "    \n",
    "    \n",
    "    \n",
    "\n",
    "WeekMorningProportion = WeekMorning\\\n",
    "    .groupBy(\"Dest\")\\\n",
    "    .agg(count(\"FlightNum\").alias(\"Count\"), sum(\"MorningWeekday\").alias(\"MorningWeekday\"),\\\n",
    "         sum(\"MorningWeekend\").alias(\"MorningWeekend\"),\\\n",
    "         sum(\"AfternoonWeekday\").alias(\"AfternoonWeekday\"),\\\n",
    "         sum(\"AfternoonWeekend\").alias(\"AfternoonWeekend\"))\\\n",
    "    .where(col(\"Count\")>50)\\\n",
    "    .withColumn(\"%MWD\", col(\"MorningWeekday\")/(col(\"MorningWeekday\")+col(\"AfternoonWeekday\"))*100)\\\n",
    "    .withColumn(\"%AWD\", col(\"AfternoonWeekday\")/(col(\"MorningWeekday\")+col(\"AfternoonWeekday\"))*100)\\\n",
    "    .withColumn(\"%MWK\", col(\"MorningWeekend\")/(col(\"MorningWeekend\")+col(\"AfternoonWeekend\"))*100)\\\n",
    "    .withColumn(\"%AWK\", col(\"AfternoonWeekend\")/(col(\"MorningWeekend\")+col(\"AfternoonWeekend\"))*100)\\\n",
    "    .select(\"Dest\", \"Count\", round(col(\"%MWD\"),2).alias(\"Morning Weekday\"),\\\n",
    "           round(col(\"%AWD\"),2).alias(\"Afternoon Weekday\"),\\\n",
    "           round(col(\"%MWK\"),2).alias(\"Morning Weekend\"),\\\n",
    "           round(col(\"%AWK\"),2).alias(\"Afternoon Weekend\"))\n",
    "    \n",
    "WeekMorningProportion.show()"
   ]
  },
  {
   "cell_type": "code",
   "execution_count": 19,
   "metadata": {},
   "outputs": [
    {
     "name": "stdout",
     "output_type": "stream",
     "text": [
      "+-------------------+---------------------+-------------------+---------------------+\n",
      "|Avg Morning Weekday|Avg Afternoon Weekday|Avg Morning Weekend|Avg Afternoon Weekend|\n",
      "+-------------------+---------------------+-------------------+---------------------+\n",
      "|              27.91|                72.09|               23.4|                 76.6|\n",
      "+-------------------+---------------------+-------------------+---------------------+\n",
      "\n"
     ]
    }
   ],
   "source": [
    "WeekMorningProportion\\\n",
    "    .filter(col(\"Count\")>50)\\\n",
    "    .agg(round(avg(\"Morning Weekday\"),2).alias(\"Avg Morning Weekday\"), round(avg(\"Afternoon Weekday\"),2).alias(\"Avg Afternoon Weekday\"), round(avg(\"Morning Weekend\"),2).alias(\"Avg Morning Weekend\"), round(avg(\"Afternoon Weekend\"),2).alias(\"Avg Afternoon Weekend\"))\\\n",
    "    .show()"
   ]
  },
  {
   "cell_type": "markdown",
   "metadata": {},
   "source": [
    "## Are there cities that receive most flights at weekends? Is this typical of a vacation city?\n",
    "\n",
    "- When filtering the column \"% Weekend\" >50 the only city that appear is Syracuse (NY State) but only because it had one flight that occurred during the weekend. When looking for different filters we conclude that this is because for all the cities in the dataset the mayority of flights (above 70%) occurred during weekdays."
   ]
  },
  {
   "cell_type": "code",
   "execution_count": 20,
   "metadata": {},
   "outputs": [
    {
     "name": "stdout",
     "output_type": "stream",
     "text": [
      "+----+-----+-------+-------+---------+---------+\n",
      "|Dest|Count|Weekday|Weekend|% Weekday|% Weekend|\n",
      "+----+-----+-------+-------+---------+---------+\n",
      "| SYR|    1|      0|      1|      0.0|    100.0|\n",
      "+----+-----+-------+-------+---------+---------+\n",
      "\n"
     ]
    }
   ],
   "source": [
    "Dayoftheweek\\\n",
    "    .where(col(\"% Weekend\")>50)\\\n",
    "    .show()"
   ]
  },
  {
   "cell_type": "code",
   "execution_count": 21,
   "metadata": {},
   "outputs": [
    {
     "name": "stdout",
     "output_type": "stream",
     "text": [
      "+----+-----+-------+-------+---------+---------+-----------+-----------+\n",
      "|Dest|Count|Weekday|Weekend|% Weekday|% Weekend|Avg Weekday|Avg Weekend|\n",
      "+----+-----+-------+-------+---------+---------+-----------+-----------+\n",
      "| SYR|    1|      0|      1|      0.0|    100.0|        0.0|        0.5|\n",
      "+----+-----+-------+-------+---------+---------+-----------+-----------+\n",
      "\n"
     ]
    }
   ],
   "source": [
    "ProportionDayoftheweek = Dayoftheweek\\\n",
    "    .withColumn(\"Avg Weekday\", col(\"Weekday\")/5)\\\n",
    "    .withColumn(\"Avg Weekend\", col(\"Weekend\")/2)\n",
    "\n",
    "ProportionDayoftheweek\\\n",
    "    .where(col(\"Avg Weekday\")<col(\"Avg Weekend\"))\\\n",
    "    .show()\n"
   ]
  },
  {
   "cell_type": "markdown",
   "metadata": {},
   "source": [
    "## Can we say more developed cities suffer of smaller arrival delays on average?\n",
    "\n",
    "- First we look for the GDP as a measure of development. We decide that the threshold to classify a city as developed, would be those cities with a GDP above the third quartile of the observations.\n",
    "- Then we create a table where according to the above criteria, indicates if the flight was to a developed or undeveloped city.\n",
    "- We count the occurrences for each of the categories and we see that more flights go to undeveloped cities.\n",
    "- Then we calculate the average delay for each of the cities as well as the proportion of total flight that were delay for each of them.\n",
    "\n",
    "We can see that for developed cities the average of the the delay is bigger as well as the proportion of flights with delays."
   ]
  },
  {
   "cell_type": "code",
   "execution_count": 22,
   "metadata": {},
   "outputs": [
    {
     "name": "stdout",
     "output_type": "stream",
     "text": [
      "+-------+------------------+\n",
      "|summary|             GDPPC|\n",
      "+-------+------------------+\n",
      "|  count|                81|\n",
      "|   mean| 40747.37037037037|\n",
      "| stddev|16033.931333615941|\n",
      "|    min|             17040|\n",
      "|    25%|           27752.0|\n",
      "|    50%|           37428.0|\n",
      "|    75%|           52452.0|\n",
      "|    max|             86120|\n",
      "+-------+------------------+\n",
      "\n"
     ]
    }
   ],
   "source": [
    "EconomicsAirport\\\n",
    "    .select(\"GDPPC\")\\\n",
    "    .summary()\\\n",
    "    .show()"
   ]
  },
  {
   "cell_type": "code",
   "execution_count": 23,
   "metadata": {},
   "outputs": [
    {
     "name": "stdout",
     "output_type": "stream",
     "text": [
      "+---------+------------------+----------+-----+----------------+\n",
      "|IATA_Code|              City|Population|GDPPC|   DevelopedCity|\n",
      "+---------+------------------+----------+-----+----------------+\n",
      "|      ELP|           El Paso|    606913|27872|Undeveloped City|\n",
      "|      LBB|           Lubbock|    217326|30414|Undeveloped City|\n",
      "|      FAT|            Fresno|    470508|34220|Undeveloped City|\n",
      "|      GEG|           Spokane|    200975|37870|Undeveloped City|\n",
      "|      SAT|       San Antonio|   1328984|41072|Undeveloped City|\n",
      "|      JAX|      Jacksonville|    805605|41497|Undeveloped City|\n",
      "|      PVD|        Providence|    172459|41912|Undeveloped City|\n",
      "|      ABQ|       Albuquerque|    518271|42883|Undeveloped City|\n",
      "|      ALB|            Albany|     94210|43178|Undeveloped City|\n",
      "|      TPA|Tampa-Hillsborough|    336823|43793|Undeveloped City|\n",
      "|      ROC|         Rochester|    206759|44026|Undeveloped City|\n",
      "|      MRY|          Monterey|     27567|44376|Undeveloped City|\n",
      "|      PIT|        Pittsburgh|    311218|46096|Undeveloped City|\n",
      "|      DTW|           Detroit|    916952|47447|Undeveloped City|\n",
      "|      PHX|           Phoenix|   1552259|47595|Undeveloped City|\n",
      "|      SMF|        Sacramento|    460242|47673|Undeveloped City|\n",
      "|      LAS|         Las Vegas|    558880|48873|Undeveloped City|\n",
      "|      STL|         St. Louis|    350759|49136|Undeveloped City|\n",
      "|      OKC|          Oklahoma|    547274|49206|Undeveloped City|\n",
      "|      RIC|          Richmond|    200123|51203|Undeveloped City|\n",
      "+---------+------------------+----------+-----+----------------+\n",
      "only showing top 20 rows\n",
      "\n"
     ]
    }
   ],
   "source": [
    "DevelopCity = EconomicsAirport\\\n",
    "    .withColumn(\"DevelopedCity\", when((col(\"GDPPC\")>52452),\"Developed City\")\\\n",
    "                               .otherwise(\"Undeveloped City\"))\n",
    "\n",
    "DevelopCity.select(\"IATA_Code\",\"City\",\"Population\",\"GDPPC\",\"DevelopedCity\").show()"
   ]
  },
  {
   "cell_type": "code",
   "execution_count": 24,
   "metadata": {},
   "outputs": [
    {
     "name": "stdout",
     "output_type": "stream",
     "text": [
      "+----------------+-----+\n",
      "|   DevelopedCity|Count|\n",
      "+----------------+-----+\n",
      "|  Developed City|   20|\n",
      "|Undeveloped City|   61|\n",
      "+----------------+-----+\n",
      "\n"
     ]
    }
   ],
   "source": [
    "DevelopCity\\\n",
    "        .groupby(\"DevelopedCity\")\\\n",
    "        .agg(count(\"DevelopedCity\").alias(\"Count\"))\\\n",
    "        .show()"
   ]
  },
  {
   "cell_type": "code",
   "execution_count": 25,
   "metadata": {},
   "outputs": [
    {
     "name": "stdout",
     "output_type": "stream",
     "text": [
      "+----+--------+----------+---------------+------------+\n",
      "|Dest|AllCount|DelayCount|DelayProportion|ArrivalDelay|\n",
      "+----+--------+----------+---------------+------------+\n",
      "| LAS|    6647|      1508|          22.69|       57.31|\n",
      "| PHX|    5435|      1101|          20.26|        49.6|\n",
      "| MDW|    6103|      1040|          17.04|       56.63|\n",
      "| OAK|    3823|       923|          24.14|       47.96|\n",
      "| LAX|    3283|       910|          27.72|       49.67|\n",
      "| SAN|    3240|       784|           24.2|        52.5|\n",
      "| HOU|    3839|       647|          16.85|       48.51|\n",
      "| BWI|    4660|       618|          13.26|       48.17|\n",
      "| SMF|    2595|       579|          22.31|       47.81|\n",
      "| DAL|    3559|       562|          15.79|       45.31|\n",
      "| SJC|    2151|       514|           23.9|       45.92|\n",
      "| ONT|    2214|       451|          20.37|       51.65|\n",
      "| MCI|    2212|       390|          17.63|       47.39|\n",
      "| MCO|    3237|       390|          12.05|       48.15|\n",
      "| SLC|    1452|       390|          26.86|       52.74|\n",
      "| BUR|    1636|       375|          22.92|       48.19|\n",
      "| BNA|    2335|       370|          15.85|       46.84|\n",
      "| ABQ|    2070|       324|          15.65|       49.22|\n",
      "| DEN|    1583|       321|          20.28|       49.75|\n",
      "| SFO|     698|       306|          43.84|       86.91|\n",
      "+----+--------+----------+---------------+------------+\n",
      "only showing top 20 rows\n",
      "\n"
     ]
    }
   ],
   "source": [
    "Countperairport = flightsDF\\\n",
    "                    .where((col(\"ArrDelay\")!=\"NA\") & (col(\"Cancelled\")==0))\\\n",
    "                    .groupBy(col(\"Dest\"))\\\n",
    "                    .agg(count(\"FlightNum\").alias(\"AllCount\"))\\\n",
    "                    .orderBy(\"AllCount\", ascending = False)\\\n",
    "                    .select(\"Dest\",\"AllCount\")\n",
    "\n",
    "AverageDelay = flightsDF\\\n",
    "                    .where((col(\"ArrDelay\") > 15) & (col(\"Cancelled\")==0))\\\n",
    "                    .groupBy(col(\"Dest\"))\\\n",
    "                    .agg(count(\"FlightNum\").alias(\"DelayCount\"),mean(\"ArrDelay\")\\\n",
    "                    .alias(\"mean\"))\\\n",
    "                    .orderBy(\"DelayCount\", ascending = False)\\\n",
    "                    .select(\"Dest\",\"DelayCount\",round(\"mean\",2).alias(\"ArrivalDelay\"),)\n",
    "\n",
    "AirportDelayProportion = Countperairport.join(AverageDelay, Countperairport.Dest == AverageDelay.Dest, how=\"inner\")\\\n",
    "                        .withColumn(\"DelayProportion\", round(col(\"DelayCount\")/col(\"AllCount\")*100,2))\\\n",
    "                        .select(AverageDelay.Dest,\"AllCount\",\"DelayCount\",\"DelayProportion\",\"ArrivalDelay\")\n",
    "            \n",
    "AirportDelayProportion.show()\n"
   ]
  },
  {
   "cell_type": "code",
   "execution_count": 26,
   "metadata": {},
   "outputs": [
    {
     "name": "stdout",
     "output_type": "stream",
     "text": [
      "+----+----------------+--------+----------+---------------+------------+\n",
      "|Dest|   DevelopedCity|AllCount|DelayCount|DelayProportion|ArrivalDelay|\n",
      "+----+----------------+--------+----------+---------------+------------+\n",
      "| MYR|Undeveloped City|       1|         1|          100.0|        18.0|\n",
      "| SAV|Undeveloped City|       1|         1|          100.0|        31.0|\n",
      "| ROC|Undeveloped City|       1|         1|          100.0|        24.0|\n",
      "| GSO|Undeveloped City|       2|         1|           50.0|        60.0|\n",
      "| IAH|  Developed City|      13|         6|          46.15|        79.0|\n",
      "| SFO|  Developed City|     698|       306|          43.84|       86.91|\n",
      "| EWR|Undeveloped City|       9|         3|          33.33|        43.0|\n",
      "| LAX|  Developed City|    3283|       910|          27.72|       49.67|\n",
      "| SLC|Undeveloped City|    1452|       390|          26.86|       52.74|\n",
      "| BFL|Undeveloped City|      60|        16|          26.67|       86.44|\n",
      "| MRY|Undeveloped City|     109|        28|          25.69|       52.14|\n",
      "| SAN|  Developed City|    3240|       784|           24.2|        52.5|\n",
      "| OAK|Undeveloped City|    3823|       923|          24.14|       47.96|\n",
      "| RNO|Undeveloped City|    1226|       294|          23.98|        48.1|\n",
      "| SJC|Undeveloped City|    2151|       514|           23.9|       45.92|\n",
      "| BOI|Undeveloped City|     637|       151|           23.7|        50.6|\n",
      "| PDX|  Developed City|    1156|       271|          23.44|       49.68|\n",
      "| TUS|Undeveloped City|     923|       212|          22.97|       55.14|\n",
      "| BUR|Undeveloped City|    1636|       375|          22.92|       48.19|\n",
      "| LAS|Undeveloped City|    6647|      1508|          22.69|       57.31|\n",
      "+----+----------------+--------+----------+---------------+------------+\n",
      "only showing top 20 rows\n",
      "\n"
     ]
    }
   ],
   "source": [
    "DevelopCityFlights = AirportDelayProportion.join(DevelopCity, AirportDelayProportion.Dest == DevelopCity.IATA_CODE, how=\"inner\")\\\n",
    "                        .select(\"Dest\",\"DevelopedCity\",\"AllCount\",\"DelayCount\",\"DelayProportion\",\"ArrivalDelay\")\n",
    "            \n",
    "DevelopCityFlights.orderBy(\"DelayProportion\", ascending = False).show()"
   ]
  },
  {
   "cell_type": "code",
   "execution_count": 27,
   "metadata": {},
   "outputs": [
    {
     "name": "stdout",
     "output_type": "stream",
     "text": [
      "+----------------+-----------+------------------+\n",
      "|   DevelopedCity|AvgArrDelay|AvgDelayProportion|\n",
      "+----------------+-----------+------------------+\n",
      "|  Developed City|      53.74|             20.46|\n",
      "|Undeveloped City|      50.93|             18.42|\n",
      "+----------------+-----------+------------------+\n",
      "\n"
     ]
    }
   ],
   "source": [
    "DevelopCityFlights\\\n",
    "    .filter(col(\"AllCount\")>50)\\\n",
    "    .groupBy(\"DevelopedCity\")\\\n",
    "    .agg(round(avg(\"ArrivalDelay\"),2).alias(\"AvgArrDelay\"), round(avg(\"DelayProportion\"),2).alias(\"AvgDelayProportion\"))\\\n",
    "    .show()"
   ]
  },
  {
   "cell_type": "markdown",
   "metadata": {},
   "source": [
    "## Is there a relation between the arrival time and the arrival delay? If you deem necessary, categorize the day into discrete parts for the arrival time. Is the relation the same for all categories of cities?\n",
    "\n",
    "- We create again different categories for different times of the day: Night, Morning, Evening and Late Night.\n",
    "- We later checked the proportion of delays and the average delay for the different times of the day.\n",
    "\n",
    "We see that at Night the flights have a higher rate of delay as well as a bigger proportion of flights with delay when comparing with other times of the day.\n",
    "\n",
    "Also we see that the rate of arrival delays at night is higher in undeveloped cities."
   ]
  },
  {
   "cell_type": "code",
   "execution_count": 29,
   "metadata": {},
   "outputs": [
    {
     "name": "stdout",
     "output_type": "stream",
     "text": [
      "+------------+--------+----------+---------------+------------+\n",
      "| DayCategory|AllCount|DelayCount|DelayProportion|ArrivalDelay|\n",
      "+------------+--------+----------+---------------+------------+\n",
      "|Late Evening|   32447|      9133|          28.15|       52.74|\n",
      "|     Evening|   36884|      6437|          17.45|       43.63|\n",
      "|     Morning|   27547|      2020|           7.33|       34.17|\n",
      "|       Night|    1820|      1204|          66.15|      104.62|\n",
      "+------------+--------+----------+---------------+------------+\n",
      "\n"
     ]
    }
   ],
   "source": [
    "# Overall Day Category delay\n",
    "\n",
    "DayCategory = flightsDF\\\n",
    "   .where((col(\"ArrDelay\")!=\"NA\") & (col(\"Cancelled\")==0))\\\n",
    "   .withColumn(\"DayCategory\", when((col(\"ArrTime\") >= 0) & (col(\"ArrTime\") < 600),\"Night\")\\\n",
    "                   .when((col(\"ArrTime\")>= 600) & (col(\"ArrTime\") < 1200),\"Morning\")\\\n",
    "                   .when((col(\"ArrTime\")>= 1200) & (col(\"ArrTime\") < 1800),\"Evening\")\\\n",
    "                    .otherwise(\"Late Evening\"))\n",
    "\n",
    "Countperairport = DayCategory\\\n",
    "                    .where((col(\"ArrDelay\")!=\"NA\") & (col(\"Cancelled\")==0))\\\n",
    "                    .groupBy(col(\"DayCategory\"))\\\n",
    "                    .agg(count(\"FlightNum\").alias(\"AllCount\"))\\\n",
    "                    .orderBy(\"AllCount\", ascending = False)\\\n",
    "                    .select(\"DayCategory\",\"AllCount\")\n",
    "\n",
    "AverageDelay = DayCategory\\\n",
    "                    .where((col(\"ArrDelay\") > 15) & (col(\"Cancelled\")==0))\\\n",
    "                    .groupBy(col(\"DayCategory\"))\\\n",
    "                    .agg(count(\"FlightNum\").alias(\"DelayCount\"),mean(\"ArrDelay\")\\\n",
    "                    .alias(\"mean\"))\\\n",
    "                    .orderBy(\"DelayCount\", ascending = False)\\\n",
    "                    .select(\"DayCategory\",\"DelayCount\",round(\"mean\",2).alias(\"ArrivalDelay\"),)\n",
    "\n",
    "DayCategoryDelayProportion = Countperairport.join(AverageDelay, Countperairport.DayCategory == AverageDelay.DayCategory, how=\"inner\")\\\n",
    "                        .withColumn(\"DelayProportion\", round(col(\"DelayCount\")/col(\"AllCount\")*100,2))\\\n",
    "                        .select(AverageDelay.DayCategory,\"AllCount\",\"DelayCount\",\"DelayProportion\",\"ArrivalDelay\")\n",
    "            \n",
    "DayCategoryDelayProportion.show()"
   ]
  },
  {
   "cell_type": "code",
   "execution_count": 30,
   "metadata": {},
   "outputs": [
    {
     "name": "stdout",
     "output_type": "stream",
     "text": [
      "+----------------+-------+------------------+-------+-----+\n",
      "|   DevelopedCity|Evening|       LateEvening|Morning|Night|\n",
      "+----------------+-------+------------------+-------+-----+\n",
      "|Undeveloped City|   18.0|28.999999999999996|    8.0| 70.0|\n",
      "|  Developed City|   19.0|              30.0|    8.0| 61.0|\n",
      "+----------------+-------+------------------+-------+-----+\n",
      "\n"
     ]
    }
   ],
   "source": [
    "DevelopCity = EconomicsAirport\\\n",
    "    .withColumn(\"DevelopedCity\", when((col(\"GDPPC\")>52452),\"Developed City\")\\\n",
    "                               .otherwise(\"Undeveloped City\"))\\\n",
    "    .select(\"IATA_CODE\",\"DevelopedCity\")\n",
    "\n",
    "DayCategoryArrive = flightsDF\\\n",
    "    .join(DevelopCity, flightsDF.Dest == DevelopCity.IATA_CODE, how=\"inner\")\\\n",
    "    .where((col(\"ArrDelay\")!=\"NA\") & (col(\"Cancelled\")==0))\\\n",
    "    .withColumn(\"DayCategory\", when((col(\"ArrTime\") >= 0) & (col(\"ArrTime\") < 600),\"Night\")\\\n",
    "                   .when((col(\"ArrTime\")>= 600) & (col(\"ArrTime\") < 1200),\"Morning\")\\\n",
    "                   .when((col(\"ArrTime\")>= 1200) & (col(\"ArrTime\") < 1800),\"Evening\")\\\n",
    "                    .otherwise(\"LateEvening\"))\\\n",
    "    .withColumn(\"DelayBinary\", when((col(\"ArrDelay\") >= 15),1).otherwise(0))\\\n",
    "    .groupBy(\"DevelopedCity\")\\\n",
    "    .pivot(\"DayCategory\")\\\n",
    "    .agg(round(sum(\"DelayBinary\")/count(\"DelayBinary\"),2)*100)\\\n",
    "    .orderBy(\"Night\",ascending = False)\\\n",
    "    .show(81)\n",
    "\n"
   ]
  },
  {
   "cell_type": "markdown",
   "metadata": {},
   "source": [
    "## What about the departure time?\n",
    "\n",
    "When checking for the departure time we see that different from what expected are the develop cities the one that have a higher rate of delays at night. That could suggest that probably the higher rate of arrival delays in undeveloped cities could have their origin in the departure delays from developed cities."
   ]
  },
  {
   "cell_type": "code",
   "execution_count": 30,
   "metadata": {},
   "outputs": [
    {
     "name": "stdout",
     "output_type": "stream",
     "text": [
      "+----------------+-------+-----------+-------+-----+\n",
      "|   DevelopedCity|Evening|LateEvening|Morning|Night|\n",
      "+----------------+-------+-----------+-------+-----+\n",
      "|  Developed City|   0.22|       0.35|   0.11|  0.5|\n",
      "|Undeveloped City|   0.21|       0.33|    0.1| 0.38|\n",
      "+----------------+-------+-----------+-------+-----+\n",
      "\n"
     ]
    }
   ],
   "source": [
    "DevelopCity = EconomicsAirport\\\n",
    "    .withColumn(\"DevelopedCity\", when((col(\"GDPPC\")>52452),\"Developed City\")\\\n",
    "                               .otherwise(\"Undeveloped City\"))\\\n",
    "    .select(\"IATA_CODE\",\"DevelopedCity\")\n",
    "\n",
    "DayCategoryDeparture = flightsDF\\\n",
    "    .join(DevelopCity, flightsDF.Dest == DevelopCity.IATA_CODE, how=\"inner\")\\\n",
    "    .where((col(\"ArrDelay\")!=\"NA\") & (col(\"Cancelled\")==0))\\\n",
    "    .withColumn(\"DayCategory\", when((col(\"DepTime\") >= 0) & (col(\"DepTime\") < 600),\"Night\")\\\n",
    "                   .when((col(\"DepTime\")>= 600) & (col(\"DepTime\") < 1200),\"Morning\")\\\n",
    "                   .when((col(\"DepTime\")>= 1200) & (col(\"DepTime\") < 1800),\"Evening\")\\\n",
    "                    .otherwise(\"LateEvening\"))\\\n",
    "    .withColumn(\"DelayBinary\", when((col(\"ArrDelay\") >= 15),1).otherwise(0))\\\n",
    "    .groupBy(\"DevelopedCity\")\\\n",
    "    .pivot(\"DayCategory\")\\\n",
    "    .agg(round(sum(\"DelayBinary\")/count(\"DelayBinary\"),2))\\\n",
    "    .orderBy(\"Night\",ascending = False)\\\n",
    "    .show(81)\n"
   ]
  },
  {
   "cell_type": "code",
   "execution_count": null,
   "metadata": {},
   "outputs": [],
   "source": []
  }
 ],
 "metadata": {
  "kernelspec": {
   "display_name": "Python 3",
   "language": "python",
   "name": "python3"
  },
  "language_info": {
   "codemirror_mode": {
    "name": "ipython",
    "version": 3
   },
   "file_extension": ".py",
   "mimetype": "text/x-python",
   "name": "python",
   "nbconvert_exporter": "python",
   "pygments_lexer": "ipython3",
   "version": "3.7.3"
  }
 },
 "nbformat": 4,
 "nbformat_minor": 2
}
