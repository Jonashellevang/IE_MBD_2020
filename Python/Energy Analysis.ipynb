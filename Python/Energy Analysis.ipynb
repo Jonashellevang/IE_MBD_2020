{
 "cells": [
  {
   "cell_type": "markdown",
   "metadata": {},
   "source": [
    "# Energy in Spain: dataset"
   ]
  },
  {
   "cell_type": "markdown",
   "metadata": {},
   "source": [
    "The \"energy.csv\" dataset contains timeseries regarding the power market in Spain.\n",
    "\n",
    "Explanation of columns:\n",
    "* datetime: moment at which the observation happened, in UTC (https://en.wikipedia.org/wiki/Coordinated_Universal_Time)\n",
    "* power_demand: total consumption of electricity in MWh (MegaWatt-hours) [consumption]\n",
    "* nuclear: total energy generated in nuclear power plants in MWh [power generation]\n",
    "* gas: total energy generated in gas powered plants in MWh [power generation]\n",
    "* solar: total energy generated in solar farms in MWh [power generation]\n",
    "* hydro: total energy generated in hydro dams in MWh [power generation]\n",
    "* coal: total energy generated in coal powered plants in MWh [power generation]\n",
    "* wind: total energy generated in wind farms in MWh [power generation]\n",
    "* spot_price: price at which the energy is sold (generation) or bought (consumption) in €/MWh [price]"
   ]
  },
  {
   "cell_type": "markdown",
   "metadata": {},
   "source": [
    "### Import needed libraries"
   ]
  },
  {
   "cell_type": "code",
   "execution_count": 1,
   "metadata": {
    "ExecuteTime": {
     "end_time": "2020-03-16T21:14:57.024682Z",
     "start_time": "2020-03-16T21:14:53.927711Z"
    }
   },
   "outputs": [],
   "source": [
    "import pandas as pd\n",
    "import numpy as np\n",
    "import matplotlib.pyplot as plt\n",
    "from datetime import date\n",
    "%matplotlib inline"
   ]
  },
  {
   "cell_type": "markdown",
   "metadata": {},
   "source": [
    "### Get the data as a pandas Dataframe"
   ]
  },
  {
   "cell_type": "code",
   "execution_count": 2,
   "metadata": {
    "ExecuteTime": {
     "end_time": "2020-03-16T21:14:57.144218Z",
     "start_time": "2020-03-16T21:14:57.032148Z"
    }
   },
   "outputs": [
    {
     "data": {
      "text/html": [
       "<div>\n",
       "<style scoped>\n",
       "    .dataframe tbody tr th:only-of-type {\n",
       "        vertical-align: middle;\n",
       "    }\n",
       "\n",
       "    .dataframe tbody tr th {\n",
       "        vertical-align: top;\n",
       "    }\n",
       "\n",
       "    .dataframe thead th {\n",
       "        text-align: right;\n",
       "    }\n",
       "</style>\n",
       "<table border=\"1\" class=\"dataframe\">\n",
       "  <thead>\n",
       "    <tr style=\"text-align: right;\">\n",
       "      <th></th>\n",
       "      <th>datetime</th>\n",
       "      <th>power_demand</th>\n",
       "      <th>nuclear</th>\n",
       "      <th>gas</th>\n",
       "      <th>solar</th>\n",
       "      <th>hydro</th>\n",
       "      <th>coal</th>\n",
       "      <th>wind</th>\n",
       "      <th>spot_price</th>\n",
       "    </tr>\n",
       "  </thead>\n",
       "  <tbody>\n",
       "    <tr>\n",
       "      <td>8215</td>\n",
       "      <td>2019-12-09T07:00:00.000+01:00</td>\n",
       "      <td>27087.9</td>\n",
       "      <td>5842.7</td>\n",
       "      <td>4929.5</td>\n",
       "      <td>6.3</td>\n",
       "      <td>4330.3</td>\n",
       "      <td>956.3</td>\n",
       "      <td>8143.8</td>\n",
       "      <td>43.48</td>\n",
       "    </tr>\n",
       "    <tr>\n",
       "      <td>6544</td>\n",
       "      <td>2019-09-30T17:00:00.000+02:00</td>\n",
       "      <td>31477.0</td>\n",
       "      <td>6882.4</td>\n",
       "      <td>10617.7</td>\n",
       "      <td>2649.9</td>\n",
       "      <td>1558.0</td>\n",
       "      <td>710.0</td>\n",
       "      <td>2734.5</td>\n",
       "      <td>47.98</td>\n",
       "    </tr>\n",
       "    <tr>\n",
       "      <td>2641</td>\n",
       "      <td>2019-04-21T02:00:00.000+02:00</td>\n",
       "      <td>20112.4</td>\n",
       "      <td>7027.6</td>\n",
       "      <td>2065.8</td>\n",
       "      <td>NaN</td>\n",
       "      <td>1506.0</td>\n",
       "      <td>330.0</td>\n",
       "      <td>6793.4</td>\n",
       "      <td>30.23</td>\n",
       "    </tr>\n",
       "    <tr>\n",
       "      <td>7085</td>\n",
       "      <td>2019-10-23T06:00:00.000+02:00</td>\n",
       "      <td>24676.4</td>\n",
       "      <td>5987.1</td>\n",
       "      <td>6338.5</td>\n",
       "      <td>0.6</td>\n",
       "      <td>1522.5</td>\n",
       "      <td>1332.1</td>\n",
       "      <td>7316.8</td>\n",
       "      <td>40.70</td>\n",
       "    </tr>\n",
       "    <tr>\n",
       "      <td>7372</td>\n",
       "      <td>2019-11-04T04:00:00.000+01:00</td>\n",
       "      <td>20254.9</td>\n",
       "      <td>4991.4</td>\n",
       "      <td>1270.8</td>\n",
       "      <td>NaN</td>\n",
       "      <td>1316.0</td>\n",
       "      <td>442.0</td>\n",
       "      <td>13471.2</td>\n",
       "      <td>5.95</td>\n",
       "    </tr>\n",
       "  </tbody>\n",
       "</table>\n",
       "</div>"
      ],
      "text/plain": [
       "                           datetime  power_demand  nuclear      gas   solar  \\\n",
       "8215  2019-12-09T07:00:00.000+01:00       27087.9   5842.7   4929.5     6.3   \n",
       "6544  2019-09-30T17:00:00.000+02:00       31477.0   6882.4  10617.7  2649.9   \n",
       "2641  2019-04-21T02:00:00.000+02:00       20112.4   7027.6   2065.8     NaN   \n",
       "7085  2019-10-23T06:00:00.000+02:00       24676.4   5987.1   6338.5     0.6   \n",
       "7372  2019-11-04T04:00:00.000+01:00       20254.9   4991.4   1270.8     NaN   \n",
       "\n",
       "       hydro    coal     wind  spot_price  \n",
       "8215  4330.3   956.3   8143.8       43.48  \n",
       "6544  1558.0   710.0   2734.5       47.98  \n",
       "2641  1506.0   330.0   6793.4       30.23  \n",
       "7085  1522.5  1332.1   7316.8       40.70  \n",
       "7372  1316.0   442.0  13471.2        5.95  "
      ]
     },
     "execution_count": 2,
     "metadata": {},
     "output_type": "execute_result"
    }
   ],
   "source": [
    "# importing the data\n",
    "energy = pd.read_csv(\"./energy.csv\", sep = \",\")\n",
    "\n",
    "energy.sample(5)"
   ]
  },
  {
   "cell_type": "markdown",
   "metadata": {},
   "source": [
    "### Calculate the following"
   ]
  },
  {
   "cell_type": "markdown",
   "metadata": {},
   "source": [
    "#### Shape (1 p)"
   ]
  },
  {
   "cell_type": "code",
   "execution_count": 3,
   "metadata": {
    "ExecuteTime": {
     "end_time": "2020-03-16T21:14:57.176416Z",
     "start_time": "2020-03-16T21:14:57.156857Z"
    }
   },
   "outputs": [
    {
     "data": {
      "text/plain": [
       "(8737, 9)"
      ]
     },
     "execution_count": 3,
     "metadata": {},
     "output_type": "execute_result"
    }
   ],
   "source": [
    "energy.shape"
   ]
  },
  {
   "cell_type": "markdown",
   "metadata": {},
   "source": [
    "#### Create a list called \"features\" containing all the columns that are not \"datetime\" (1 p)"
   ]
  },
  {
   "cell_type": "code",
   "execution_count": 4,
   "metadata": {
    "ExecuteTime": {
     "end_time": "2020-03-16T21:14:57.190459Z",
     "start_time": "2020-03-16T21:14:57.182385Z"
    }
   },
   "outputs": [],
   "source": [
    "# use filter or list comprehensions or for loops or dark magic\n",
    "\n",
    "features = energy.filter([\"power_demand\", \"nuclear\", \"gas\", \"solar\", \"hydro\", \"coal\", \"wind\", \"spot_price\"])"
   ]
  },
  {
   "cell_type": "code",
   "execution_count": 5,
   "metadata": {
    "ExecuteTime": {
     "end_time": "2020-03-16T21:14:57.209348Z",
     "start_time": "2020-03-16T21:14:57.194574Z"
    }
   },
   "outputs": [
    {
     "data": {
      "text/plain": [
       "['power_demand',\n",
       " 'nuclear',\n",
       " 'gas',\n",
       " 'solar',\n",
       " 'hydro',\n",
       " 'coal',\n",
       " 'wind',\n",
       " 'spot_price']"
      ]
     },
     "execution_count": 5,
     "metadata": {},
     "output_type": "execute_result"
    }
   ],
   "source": [
    "# creating features as a list\n",
    "energy_columns = energy.columns\n",
    "features1 = list(filter(lambda col: \"datetime\" not in col, energy_columns))\n",
    "features1"
   ]
  },
  {
   "cell_type": "markdown",
   "metadata": {},
   "source": [
    "#### How many NaN are there in the dataset? (1 p)"
   ]
  },
  {
   "cell_type": "code",
   "execution_count": 6,
   "metadata": {
    "ExecuteTime": {
     "end_time": "2020-03-16T21:14:57.231314Z",
     "start_time": "2020-03-16T21:14:57.215224Z"
    }
   },
   "outputs": [
    {
     "name": "stdout",
     "output_type": "stream",
     "text": [
      "There is 2541 NaN in the dataset\n"
     ]
    }
   ],
   "source": [
    "# \"Dealing with missing values\" in the slides\n",
    "\n",
    "print(\"There is\", energy.isna().stack().sum(), \"NaN in the dataset\")"
   ]
  },
  {
   "cell_type": "markdown",
   "metadata": {},
   "source": [
    "#### Convert the \"datetime\" column into a Series containing datetime objects (0.5 p)\n",
    "\n",
    "Pass utc=True as argument to your function of choice *cough* pd.to_dat... *cough*"
   ]
  },
  {
   "cell_type": "code",
   "execution_count": 7,
   "metadata": {
    "ExecuteTime": {
     "end_time": "2020-03-16T21:14:57.590827Z",
     "start_time": "2020-03-16T21:14:57.234852Z"
    }
   },
   "outputs": [],
   "source": [
    "# pandas datetime functionalities\n",
    "\n",
    "energy[\"datetime\"] = pd.to_datetime(energy[\"datetime\"], utc = True)  # convert date from string to date\n",
    "\n",
    "# I could have made it a series, but I prefer to have it in my same dataframe\n",
    "# datetim3 = pd.to_datetime(energy[\"datetime\"], utc = True)"
   ]
  },
  {
   "cell_type": "markdown",
   "metadata": {
    "ExecuteTime": {
     "end_time": "2020-03-06T21:06:59.967351Z",
     "start_time": "2020-03-06T21:06:59.960999Z"
    }
   },
   "source": [
    "#### Create the following columns (0.5 p)\n",
    "* year\n",
    "* month\n",
    "* day\n",
    "* hour\n",
    "* weekday"
   ]
  },
  {
   "cell_type": "code",
   "execution_count": 8,
   "metadata": {
    "ExecuteTime": {
     "end_time": "2020-03-16T21:14:57.662448Z",
     "start_time": "2020-03-16T21:14:57.597105Z"
    }
   },
   "outputs": [],
   "source": [
    "# creating time related variables\n",
    "\n",
    "energy[\"year\"] = energy[\"datetime\"].map(lambda x: x.year)\n",
    "energy[\"month\"] = energy[\"datetime\"].map(lambda x: x.month)\n",
    "energy[\"day\"] = energy[\"datetime\"].map(lambda x: x.day)\n",
    "energy[\"hour\"] = energy[\"datetime\"].map(lambda x: x.hour)\n",
    "energy[\"weekday\"] = energy[\"datetime\"].map(lambda x: x.weekday())"
   ]
  },
  {
   "cell_type": "markdown",
   "metadata": {},
   "source": [
    "#### Create a \"weekend\" column containing True if day is Sat/Sun or False if day is Mon/Tue/... (1 p)"
   ]
  },
  {
   "cell_type": "code",
   "execution_count": 9,
   "metadata": {
    "ExecuteTime": {
     "end_time": "2020-03-16T21:14:57.681563Z",
     "start_time": "2020-03-16T21:14:57.668217Z"
    }
   },
   "outputs": [
    {
     "data": {
      "text/plain": [
       "2496"
      ]
     },
     "execution_count": 9,
     "metadata": {},
     "output_type": "execute_result"
    }
   ],
   "source": [
    "# using list comprehensions\n",
    "energy[\"weekend\"] = np.where(energy[\"weekday\"] < 5, 0, 1)\n",
    "energy[\"weekend\"].sum().sum()"
   ]
  },
  {
   "cell_type": "code",
   "execution_count": 10,
   "metadata": {
    "ExecuteTime": {
     "end_time": "2020-03-16T21:14:57.707333Z",
     "start_time": "2020-03-16T21:14:57.684401Z"
    }
   },
   "outputs": [
    {
     "data": {
      "text/plain": [
       "2496"
      ]
     },
     "execution_count": 10,
     "metadata": {},
     "output_type": "execute_result"
    }
   ],
   "source": [
    "# using map + lambda functions\n",
    "energy[\"weekend\"] = energy[\"weekday\"].map(lambda x: 1*(x>4))\n",
    "energy[\"weekend\"].sum().sum()"
   ]
  },
  {
   "cell_type": "markdown",
   "metadata": {},
   "source": [
    "#### Calculate the average values per weekday for the columns in \"features\" list (1 p)"
   ]
  },
  {
   "cell_type": "code",
   "execution_count": 11,
   "metadata": {
    "ExecuteTime": {
     "end_time": "2020-03-16T21:14:57.756806Z",
     "start_time": "2020-03-16T21:14:57.716861Z"
    }
   },
   "outputs": [
    {
     "data": {
      "text/html": [
       "<div>\n",
       "<style scoped>\n",
       "    .dataframe tbody tr th:only-of-type {\n",
       "        vertical-align: middle;\n",
       "    }\n",
       "\n",
       "    .dataframe tbody tr th {\n",
       "        vertical-align: top;\n",
       "    }\n",
       "\n",
       "    .dataframe thead th {\n",
       "        text-align: right;\n",
       "    }\n",
       "</style>\n",
       "<table border=\"1\" class=\"dataframe\">\n",
       "  <thead>\n",
       "    <tr style=\"text-align: right;\">\n",
       "      <th></th>\n",
       "      <th>power_demand</th>\n",
       "      <th>nuclear</th>\n",
       "      <th>gas</th>\n",
       "      <th>solar</th>\n",
       "      <th>hydro</th>\n",
       "      <th>coal</th>\n",
       "      <th>wind</th>\n",
       "      <th>spot_price</th>\n",
       "    </tr>\n",
       "    <tr>\n",
       "      <th>weekday</th>\n",
       "      <th></th>\n",
       "      <th></th>\n",
       "      <th></th>\n",
       "      <th></th>\n",
       "      <th></th>\n",
       "      <th></th>\n",
       "      <th></th>\n",
       "      <th></th>\n",
       "    </tr>\n",
       "  </thead>\n",
       "  <tbody>\n",
       "    <tr>\n",
       "      <td>0</td>\n",
       "      <td>29207.58</td>\n",
       "      <td>6390.91</td>\n",
       "      <td>6483.54</td>\n",
       "      <td>1382.90</td>\n",
       "      <td>2919.92</td>\n",
       "      <td>1282.02</td>\n",
       "      <td>5846.82</td>\n",
       "      <td>49.24</td>\n",
       "    </tr>\n",
       "    <tr>\n",
       "      <td>1</td>\n",
       "      <td>29760.26</td>\n",
       "      <td>6391.13</td>\n",
       "      <td>6716.40</td>\n",
       "      <td>1400.60</td>\n",
       "      <td>2870.55</td>\n",
       "      <td>1478.38</td>\n",
       "      <td>5795.67</td>\n",
       "      <td>50.20</td>\n",
       "    </tr>\n",
       "    <tr>\n",
       "      <td>2</td>\n",
       "      <td>29814.90</td>\n",
       "      <td>6399.61</td>\n",
       "      <td>6448.10</td>\n",
       "      <td>1386.10</td>\n",
       "      <td>2856.42</td>\n",
       "      <td>1444.20</td>\n",
       "      <td>6451.17</td>\n",
       "      <td>48.81</td>\n",
       "    </tr>\n",
       "    <tr>\n",
       "      <td>3</td>\n",
       "      <td>29913.13</td>\n",
       "      <td>6408.19</td>\n",
       "      <td>6404.80</td>\n",
       "      <td>1396.43</td>\n",
       "      <td>2904.32</td>\n",
       "      <td>1364.83</td>\n",
       "      <td>6452.39</td>\n",
       "      <td>48.82</td>\n",
       "    </tr>\n",
       "    <tr>\n",
       "      <td>4</td>\n",
       "      <td>29587.51</td>\n",
       "      <td>6404.23</td>\n",
       "      <td>6362.18</td>\n",
       "      <td>1437.46</td>\n",
       "      <td>3027.98</td>\n",
       "      <td>1294.99</td>\n",
       "      <td>6071.20</td>\n",
       "      <td>48.79</td>\n",
       "    </tr>\n",
       "    <tr>\n",
       "      <td>5</td>\n",
       "      <td>26545.26</td>\n",
       "      <td>6325.36</td>\n",
       "      <td>4965.32</td>\n",
       "      <td>1418.78</td>\n",
       "      <td>2604.20</td>\n",
       "      <td>1057.80</td>\n",
       "      <td>5826.92</td>\n",
       "      <td>45.43</td>\n",
       "    </tr>\n",
       "    <tr>\n",
       "      <td>6</td>\n",
       "      <td>24759.38</td>\n",
       "      <td>6353.42</td>\n",
       "      <td>4089.48</td>\n",
       "      <td>1373.88</td>\n",
       "      <td>2439.53</td>\n",
       "      <td>912.08</td>\n",
       "      <td>6061.22</td>\n",
       "      <td>42.65</td>\n",
       "    </tr>\n",
       "  </tbody>\n",
       "</table>\n",
       "</div>"
      ],
      "text/plain": [
       "         power_demand  nuclear      gas    solar    hydro     coal     wind  \\\n",
       "weekday                                                                       \n",
       "0            29207.58  6390.91  6483.54  1382.90  2919.92  1282.02  5846.82   \n",
       "1            29760.26  6391.13  6716.40  1400.60  2870.55  1478.38  5795.67   \n",
       "2            29814.90  6399.61  6448.10  1386.10  2856.42  1444.20  6451.17   \n",
       "3            29913.13  6408.19  6404.80  1396.43  2904.32  1364.83  6452.39   \n",
       "4            29587.51  6404.23  6362.18  1437.46  3027.98  1294.99  6071.20   \n",
       "5            26545.26  6325.36  4965.32  1418.78  2604.20  1057.80  5826.92   \n",
       "6            24759.38  6353.42  4089.48  1373.88  2439.53   912.08  6061.22   \n",
       "\n",
       "         spot_price  \n",
       "weekday              \n",
       "0             49.24  \n",
       "1             50.20  \n",
       "2             48.81  \n",
       "3             48.82  \n",
       "4             48.79  \n",
       "5             45.43  \n",
       "6             42.65  "
      ]
     },
     "execution_count": 11,
     "metadata": {},
     "output_type": "execute_result"
    }
   ],
   "source": [
    "# when features is a list\n",
    "\n",
    "energy.groupby(\"weekday\")[features1].mean().round(2)"
   ]
  },
  {
   "cell_type": "code",
   "execution_count": 12,
   "metadata": {
    "ExecuteTime": {
     "end_time": "2020-03-16T21:14:57.807568Z",
     "start_time": "2020-03-16T21:14:57.762177Z"
    },
    "scrolled": true
   },
   "outputs": [
    {
     "data": {
      "text/html": [
       "<div>\n",
       "<style scoped>\n",
       "    .dataframe tbody tr th:only-of-type {\n",
       "        vertical-align: middle;\n",
       "    }\n",
       "\n",
       "    .dataframe tbody tr th {\n",
       "        vertical-align: top;\n",
       "    }\n",
       "\n",
       "    .dataframe thead th {\n",
       "        text-align: right;\n",
       "    }\n",
       "</style>\n",
       "<table border=\"1\" class=\"dataframe\">\n",
       "  <thead>\n",
       "    <tr style=\"text-align: right;\">\n",
       "      <th></th>\n",
       "      <th>power_demand</th>\n",
       "      <th>nuclear</th>\n",
       "      <th>gas</th>\n",
       "      <th>solar</th>\n",
       "      <th>hydro</th>\n",
       "      <th>coal</th>\n",
       "      <th>wind</th>\n",
       "      <th>spot_price</th>\n",
       "    </tr>\n",
       "    <tr>\n",
       "      <th>weekday</th>\n",
       "      <th></th>\n",
       "      <th></th>\n",
       "      <th></th>\n",
       "      <th></th>\n",
       "      <th></th>\n",
       "      <th></th>\n",
       "      <th></th>\n",
       "      <th></th>\n",
       "    </tr>\n",
       "  </thead>\n",
       "  <tbody>\n",
       "    <tr>\n",
       "      <td>0</td>\n",
       "      <td>29207.58</td>\n",
       "      <td>6390.91</td>\n",
       "      <td>6483.54</td>\n",
       "      <td>1382.90</td>\n",
       "      <td>2919.92</td>\n",
       "      <td>1282.02</td>\n",
       "      <td>5846.82</td>\n",
       "      <td>49.24</td>\n",
       "    </tr>\n",
       "    <tr>\n",
       "      <td>1</td>\n",
       "      <td>29760.26</td>\n",
       "      <td>6391.13</td>\n",
       "      <td>6716.40</td>\n",
       "      <td>1400.60</td>\n",
       "      <td>2870.55</td>\n",
       "      <td>1478.38</td>\n",
       "      <td>5795.67</td>\n",
       "      <td>50.20</td>\n",
       "    </tr>\n",
       "    <tr>\n",
       "      <td>2</td>\n",
       "      <td>29814.90</td>\n",
       "      <td>6399.61</td>\n",
       "      <td>6448.10</td>\n",
       "      <td>1386.10</td>\n",
       "      <td>2856.42</td>\n",
       "      <td>1444.20</td>\n",
       "      <td>6451.17</td>\n",
       "      <td>48.81</td>\n",
       "    </tr>\n",
       "    <tr>\n",
       "      <td>3</td>\n",
       "      <td>29913.13</td>\n",
       "      <td>6408.19</td>\n",
       "      <td>6404.80</td>\n",
       "      <td>1396.43</td>\n",
       "      <td>2904.32</td>\n",
       "      <td>1364.83</td>\n",
       "      <td>6452.39</td>\n",
       "      <td>48.82</td>\n",
       "    </tr>\n",
       "    <tr>\n",
       "      <td>4</td>\n",
       "      <td>29587.51</td>\n",
       "      <td>6404.23</td>\n",
       "      <td>6362.18</td>\n",
       "      <td>1437.46</td>\n",
       "      <td>3027.98</td>\n",
       "      <td>1294.99</td>\n",
       "      <td>6071.20</td>\n",
       "      <td>48.79</td>\n",
       "    </tr>\n",
       "    <tr>\n",
       "      <td>5</td>\n",
       "      <td>26545.26</td>\n",
       "      <td>6325.36</td>\n",
       "      <td>4965.32</td>\n",
       "      <td>1418.78</td>\n",
       "      <td>2604.20</td>\n",
       "      <td>1057.80</td>\n",
       "      <td>5826.92</td>\n",
       "      <td>45.43</td>\n",
       "    </tr>\n",
       "    <tr>\n",
       "      <td>6</td>\n",
       "      <td>24759.38</td>\n",
       "      <td>6353.42</td>\n",
       "      <td>4089.48</td>\n",
       "      <td>1373.88</td>\n",
       "      <td>2439.53</td>\n",
       "      <td>912.08</td>\n",
       "      <td>6061.22</td>\n",
       "      <td>42.65</td>\n",
       "    </tr>\n",
       "  </tbody>\n",
       "</table>\n",
       "</div>"
      ],
      "text/plain": [
       "         power_demand  nuclear      gas    solar    hydro     coal     wind  \\\n",
       "weekday                                                                       \n",
       "0            29207.58  6390.91  6483.54  1382.90  2919.92  1282.02  5846.82   \n",
       "1            29760.26  6391.13  6716.40  1400.60  2870.55  1478.38  5795.67   \n",
       "2            29814.90  6399.61  6448.10  1386.10  2856.42  1444.20  6451.17   \n",
       "3            29913.13  6408.19  6404.80  1396.43  2904.32  1364.83  6452.39   \n",
       "4            29587.51  6404.23  6362.18  1437.46  3027.98  1294.99  6071.20   \n",
       "5            26545.26  6325.36  4965.32  1418.78  2604.20  1057.80  5826.92   \n",
       "6            24759.38  6353.42  4089.48  1373.88  2439.53   912.08  6061.22   \n",
       "\n",
       "         spot_price  \n",
       "weekday              \n",
       "0             49.24  \n",
       "1             50.20  \n",
       "2             48.81  \n",
       "3             48.82  \n",
       "4             48.79  \n",
       "5             45.43  \n",
       "6             42.65  "
      ]
     },
     "execution_count": 12,
     "metadata": {},
     "output_type": "execute_result"
    }
   ],
   "source": [
    "# When features is not a list\n",
    "weekday = energy[\"weekday\"]\n",
    "\n",
    "features_weekday = pd.concat([weekday, features], axis=1)\n",
    "\n",
    "features_weekday.groupby(\"weekday\").mean().round(2)"
   ]
  },
  {
   "cell_type": "markdown",
   "metadata": {},
   "source": [
    "#### Create a function that returns the season out of a datetime object (0.5 p)\n",
    "Use that function to create a \"season\" column"
   ]
  },
  {
   "cell_type": "code",
   "execution_count": 13,
   "metadata": {
    "ExecuteTime": {
     "end_time": "2020-03-16T21:14:58.076742Z",
     "start_time": "2020-03-16T21:14:57.821064Z"
    }
   },
   "outputs": [],
   "source": [
    "# function to extract season from date\n",
    "def get_season(date_to_convert):\n",
    "    year = date_to_convert.year\n",
    "    seasons = [\n",
    "        (\"winter\", date(year, 12, 21), date(year, 12, 31)),\n",
    "        (\"winter\", date(year, 1, 1), date(year, 3, 20)),\n",
    "        (\"spring\", date(year, 3, 21), date(year, 6, 20)),\n",
    "        (\"summer\", date(year, 6, 21), date(year, 9, 20)),\n",
    "        (\"fall\", date(year, 9, 21), date(year, 12, 20))\n",
    "    ]\n",
    "    \n",
    "    for season in seasons:\n",
    "        if date_to_convert>=season[1] and date_to_convert<=season[2]:\n",
    "            return season[0]\n",
    "        \n",
    "energy[\"season\"] = energy[\"datetime\"].map(get_season)"
   ]
  },
  {
   "cell_type": "markdown",
   "metadata": {},
   "source": [
    "#### Calculate average demand and spot_price for each season (1 p)"
   ]
  },
  {
   "cell_type": "code",
   "execution_count": 14,
   "metadata": {
    "ExecuteTime": {
     "end_time": "2020-03-16T21:14:58.108447Z",
     "start_time": "2020-03-16T21:14:58.079779Z"
    }
   },
   "outputs": [
    {
     "data": {
      "text/html": [
       "<div>\n",
       "<style scoped>\n",
       "    .dataframe tbody tr th:only-of-type {\n",
       "        vertical-align: middle;\n",
       "    }\n",
       "\n",
       "    .dataframe tbody tr th {\n",
       "        vertical-align: top;\n",
       "    }\n",
       "\n",
       "    .dataframe thead th {\n",
       "        text-align: right;\n",
       "    }\n",
       "</style>\n",
       "<table border=\"1\" class=\"dataframe\">\n",
       "  <thead>\n",
       "    <tr style=\"text-align: right;\">\n",
       "      <th></th>\n",
       "      <th>power_demand</th>\n",
       "      <th>spot_price</th>\n",
       "    </tr>\n",
       "    <tr>\n",
       "      <th>season</th>\n",
       "      <th></th>\n",
       "      <th></th>\n",
       "    </tr>\n",
       "  </thead>\n",
       "  <tbody>\n",
       "    <tr>\n",
       "      <td>fall</td>\n",
       "      <td>28212.96</td>\n",
       "      <td>43.51</td>\n",
       "    </tr>\n",
       "    <tr>\n",
       "      <td>spring</td>\n",
       "      <td>27112.77</td>\n",
       "      <td>48.81</td>\n",
       "    </tr>\n",
       "    <tr>\n",
       "      <td>summer</td>\n",
       "      <td>29269.89</td>\n",
       "      <td>46.60</td>\n",
       "    </tr>\n",
       "    <tr>\n",
       "      <td>winter</td>\n",
       "      <td>29482.94</td>\n",
       "      <td>52.00</td>\n",
       "    </tr>\n",
       "  </tbody>\n",
       "</table>\n",
       "</div>"
      ],
      "text/plain": [
       "        power_demand  spot_price\n",
       "season                          \n",
       "fall        28212.96       43.51\n",
       "spring      27112.77       48.81\n",
       "summer      29269.89       46.60\n",
       "winter      29482.94       52.00"
      ]
     },
     "execution_count": 14,
     "metadata": {},
     "output_type": "execute_result"
    }
   ],
   "source": [
    "energy.groupby(\"season\")[[\"power_demand\", \"spot_price\"]].mean().round(2)"
   ]
  },
  {
   "cell_type": "markdown",
   "metadata": {},
   "source": [
    "#### Why are there so many NaN values in the \"solar\" column? (0.5 p - extra)"
   ]
  },
  {
   "cell_type": "code",
   "execution_count": 15,
   "metadata": {
    "ExecuteTime": {
     "end_time": "2020-03-16T21:14:58.522797Z",
     "start_time": "2020-03-16T21:14:58.124968Z"
    },
    "scrolled": false
   },
   "outputs": [
    {
     "name": "stdout",
     "output_type": "stream",
     "text": [
      "There are 2392 missing values in the solar column\n"
     ]
    },
    {
     "data": {
      "image/png": "[encoded data removed]",
      "text/plain": [
       "<Figure size 1152x288 with 1 Axes>"
      ]
     },
     "metadata": {
      "needs_background": "light"
     },
     "output_type": "display_data"
    }
   ],
   "source": [
    "print(\"There are\", energy[\"solar\"].isna().sum(), \"missing values in the solar column\")\n",
    "\n",
    "# calculate hourly total production for solar generation\n",
    "plt.tight_layout()\n",
    "plt.title(\"solar power generated per hour\", fontdict = {\"fontsize\": 16, \"fontweight\": 1}, loc = \"center\")\n",
    "energy.groupby(\"hour\").sum()[\"solar\"].plot(figsize=(16, 4), marker = \"o\")\n",
    "plt.show()"
   ]
  },
  {
   "cell_type": "markdown",
   "metadata": {},
   "source": [
    "The reason for that much NaN values is due to day/night times. "
   ]
  },
  {
   "cell_type": "markdown",
   "metadata": {},
   "source": [
    "#### Calculate the total income for each type of power generation and total costs for consumption (4 p) \n",
    "Return a dictionary like the following one:\n",
    "\n",
    "{ \"consumption\": cost_consumption, \"wind\": income_wind, \"solar\": income_solar, \"gas\": income_gas, ...} "
   ]
  },
  {
   "cell_type": "code",
   "execution_count": 16,
   "metadata": {
    "ExecuteTime": {
     "end_time": "2020-03-16T21:14:58.640083Z",
     "start_time": "2020-03-16T21:14:58.533480Z"
    }
   },
   "outputs": [
    {
     "data": {
      "text/plain": [
       "{'power_demand': 12115827296.223999,\n",
       " 'nuclear': 2674992442.1679997,\n",
       " 'gas': 2577997502.639,\n",
       " 'solar': 430157479.785,\n",
       " 'hydro': 1179143190.696,\n",
       " 'coal': 591516973.36,\n",
       " 'wind': 2412917661.565}"
      ]
     },
     "execution_count": 16,
     "metadata": {},
     "output_type": "execute_result"
    }
   ],
   "source": [
    "# Income = energy_generated * price\n",
    "\n",
    "in_cost = {}\n",
    "type_generation = [feature for feature in features if feature != \"spot_price\"]\n",
    "\n",
    "for col in type_generation:\n",
    "    in_cost[col] = np.sum(energy[col] * energy[\"spot_price\"])\n",
    "    \n",
    "in_cost\n",
    "\n",
    "# Cost = energy_bought * price\n",
    "\n"
   ]
  },
  {
   "cell_type": "markdown",
   "metadata": {},
   "source": [
    "#### Create two plots: (2 p)\n",
    "* Hourly average power demand\n",
    "* Hourly average spot price"
   ]
  },
  {
   "cell_type": "code",
   "execution_count": 17,
   "metadata": {
    "ExecuteTime": {
     "end_time": "2020-03-16T21:14:59.150467Z",
     "start_time": "2020-03-16T21:14:58.644444Z"
    }
   },
   "outputs": [
    {
     "data": {
      "image/png": "[encoded data removed]",
      "text/plain": [
       "<Figure size 1008x288 with 2 Axes>"
      ]
     },
     "metadata": {
      "needs_background": "light"
     },
     "output_type": "display_data"
    }
   ],
   "source": [
    "power_demand_per_hour = (\n",
    "    energy\n",
    "    .groupby(\"hour\")\n",
    "    .mean()\n",
    "    .round(2)\n",
    "    [[\"power_demand\"]]\n",
    "    .rename(columns={\"power_demand\": \"total_demand\"})\n",
    ")\n",
    "\n",
    "spot_price_per_hour = (\n",
    "    energy\n",
    "    .groupby(\"hour\")\n",
    "    .mean()\n",
    "    .round(2)\n",
    "    [[\"spot_price\"]]\n",
    "    .rename(columns={\"spot_price\": \"total_price\"})\n",
    ")\n",
    "\n",
    "plt.figure(figsize=(14,4))\n",
    "\n",
    "plt.subplot(1,2,1)\n",
    "plt.tight_layout()\n",
    "plt.title(\"Power demand per hour\", fontdict = {\"fontsize\": 16, \"fontweight\": 1}, loc = \"center\")\n",
    "plt.plot(power_demand_per_hour.index, power_demand_per_hour[\"total_demand\"], marker = \"o\")\n",
    "plt.xlabel(\"Hour\")\n",
    "plt.ylabel(\"Avg. power demand\")\n",
    "\n",
    "\n",
    "plt.subplot(1,2,2)\n",
    "plt.tight_layout()\n",
    "plt.title(\"Spot price per hour\", fontdict = {\"fontsize\": 16, \"fontweight\": 1}, loc = \"center\")\n",
    "plt.plot(spot_price_per_hour.index, spot_price_per_hour[\"total_price\"], marker = \"o\")\n",
    "plt.xlabel(\"Hour\")\n",
    "plt.ylabel(\"Avg. spot price\")\n",
    "\n",
    "\n",
    "plt.show()"
   ]
  },
  {
   "cell_type": "markdown",
   "metadata": {
    "ExecuteTime": {
     "end_time": "2020-03-06T21:37:24.835762Z",
     "start_time": "2020-03-06T21:37:24.831582Z"
    }
   },
   "source": [
    "#### Create a categorical variable called \"wind_category\" using the \"wind\" column (2 p)\n",
    "Create 3 categories: low, mid, high"
   ]
  },
  {
   "cell_type": "code",
   "execution_count": 18,
   "metadata": {
    "ExecuteTime": {
     "end_time": "2020-03-16T21:14:59.233252Z",
     "start_time": "2020-03-16T21:14:59.159266Z"
    }
   },
   "outputs": [
    {
     "data": {
      "text/html": [
       "<div>\n",
       "<style scoped>\n",
       "    .dataframe tbody tr th:only-of-type {\n",
       "        vertical-align: middle;\n",
       "    }\n",
       "\n",
       "    .dataframe tbody tr th {\n",
       "        vertical-align: top;\n",
       "    }\n",
       "\n",
       "    .dataframe thead th {\n",
       "        text-align: right;\n",
       "    }\n",
       "</style>\n",
       "<table border=\"1\" class=\"dataframe\">\n",
       "  <thead>\n",
       "    <tr style=\"text-align: right;\">\n",
       "      <th></th>\n",
       "      <th>datetime</th>\n",
       "      <th>power_demand</th>\n",
       "      <th>nuclear</th>\n",
       "      <th>gas</th>\n",
       "      <th>solar</th>\n",
       "      <th>hydro</th>\n",
       "      <th>coal</th>\n",
       "      <th>wind</th>\n",
       "      <th>spot_price</th>\n",
       "      <th>year</th>\n",
       "      <th>month</th>\n",
       "      <th>day</th>\n",
       "      <th>hour</th>\n",
       "      <th>weekday</th>\n",
       "      <th>weekend</th>\n",
       "      <th>season</th>\n",
       "      <th>wind_category</th>\n",
       "    </tr>\n",
       "  </thead>\n",
       "  <tbody>\n",
       "    <tr>\n",
       "      <td>3250</td>\n",
       "      <td>2019-05-16 09:00:00+00:00</td>\n",
       "      <td>31516.4</td>\n",
       "      <td>5078.8</td>\n",
       "      <td>8332.0</td>\n",
       "      <td>3023.4</td>\n",
       "      <td>3638.7</td>\n",
       "      <td>450.0</td>\n",
       "      <td>2540.7</td>\n",
       "      <td>55.89</td>\n",
       "      <td>2019</td>\n",
       "      <td>5</td>\n",
       "      <td>16</td>\n",
       "      <td>9</td>\n",
       "      <td>3</td>\n",
       "      <td>0</td>\n",
       "      <td>spring</td>\n",
       "      <td>low</td>\n",
       "    </tr>\n",
       "    <tr>\n",
       "      <td>3528</td>\n",
       "      <td>2019-05-27 23:00:00+00:00</td>\n",
       "      <td>23884.3</td>\n",
       "      <td>5072.7</td>\n",
       "      <td>4129.7</td>\n",
       "      <td>NaN</td>\n",
       "      <td>1725.1</td>\n",
       "      <td>535.0</td>\n",
       "      <td>7635.6</td>\n",
       "      <td>42.00</td>\n",
       "      <td>2019</td>\n",
       "      <td>5</td>\n",
       "      <td>27</td>\n",
       "      <td>23</td>\n",
       "      <td>0</td>\n",
       "      <td>0</td>\n",
       "      <td>spring</td>\n",
       "      <td>mid</td>\n",
       "    </tr>\n",
       "    <tr>\n",
       "      <td>5953</td>\n",
       "      <td>2019-09-06 00:00:00+00:00</td>\n",
       "      <td>24705.7</td>\n",
       "      <td>6935.1</td>\n",
       "      <td>3741.5</td>\n",
       "      <td>NaN</td>\n",
       "      <td>817.1</td>\n",
       "      <td>270.0</td>\n",
       "      <td>10170.5</td>\n",
       "      <td>27.90</td>\n",
       "      <td>2019</td>\n",
       "      <td>9</td>\n",
       "      <td>6</td>\n",
       "      <td>0</td>\n",
       "      <td>4</td>\n",
       "      <td>0</td>\n",
       "      <td>summer</td>\n",
       "      <td>mid</td>\n",
       "    </tr>\n",
       "    <tr>\n",
       "      <td>5194</td>\n",
       "      <td>2019-08-05 09:00:00+00:00</td>\n",
       "      <td>33908.2</td>\n",
       "      <td>6932.8</td>\n",
       "      <td>12074.4</td>\n",
       "      <td>3191.4</td>\n",
       "      <td>2829.9</td>\n",
       "      <td>715.0</td>\n",
       "      <td>429.0</td>\n",
       "      <td>51.79</td>\n",
       "      <td>2019</td>\n",
       "      <td>8</td>\n",
       "      <td>5</td>\n",
       "      <td>9</td>\n",
       "      <td>0</td>\n",
       "      <td>0</td>\n",
       "      <td>summer</td>\n",
       "      <td>low</td>\n",
       "    </tr>\n",
       "    <tr>\n",
       "      <td>6861</td>\n",
       "      <td>2019-10-13 20:00:00+00:00</td>\n",
       "      <td>25942.5</td>\n",
       "      <td>5936.9</td>\n",
       "      <td>4945.2</td>\n",
       "      <td>1.0</td>\n",
       "      <td>1862.9</td>\n",
       "      <td>695.0</td>\n",
       "      <td>7419.8</td>\n",
       "      <td>53.52</td>\n",
       "      <td>2019</td>\n",
       "      <td>10</td>\n",
       "      <td>13</td>\n",
       "      <td>20</td>\n",
       "      <td>6</td>\n",
       "      <td>1</td>\n",
       "      <td>fall</td>\n",
       "      <td>mid</td>\n",
       "    </tr>\n",
       "  </tbody>\n",
       "</table>\n",
       "</div>"
      ],
      "text/plain": [
       "                      datetime  power_demand  nuclear      gas   solar  \\\n",
       "3250 2019-05-16 09:00:00+00:00       31516.4   5078.8   8332.0  3023.4   \n",
       "3528 2019-05-27 23:00:00+00:00       23884.3   5072.7   4129.7     NaN   \n",
       "5953 2019-09-06 00:00:00+00:00       24705.7   6935.1   3741.5     NaN   \n",
       "5194 2019-08-05 09:00:00+00:00       33908.2   6932.8  12074.4  3191.4   \n",
       "6861 2019-10-13 20:00:00+00:00       25942.5   5936.9   4945.2     1.0   \n",
       "\n",
       "       hydro   coal     wind  spot_price  year  month  day  hour  weekday  \\\n",
       "3250  3638.7  450.0   2540.7       55.89  2019      5   16     9        3   \n",
       "3528  1725.1  535.0   7635.6       42.00  2019      5   27    23        0   \n",
       "5953   817.1  270.0  10170.5       27.90  2019      9    6     0        4   \n",
       "5194  2829.9  715.0    429.0       51.79  2019      8    5     9        0   \n",
       "6861  1862.9  695.0   7419.8       53.52  2019     10   13    20        6   \n",
       "\n",
       "      weekend  season wind_category  \n",
       "3250        0  spring           low  \n",
       "3528        0  spring           mid  \n",
       "5953        0  summer           mid  \n",
       "5194        0  summer           low  \n",
       "6861        1    fall           mid  "
      ]
     },
     "execution_count": 18,
     "metadata": {},
     "output_type": "execute_result"
    }
   ],
   "source": [
    "energy[\"wind_category\"] = pd.cut(\n",
    "    energy[\"wind\"],\n",
    "    bins = [0, 6000, 12000, 18000],\n",
    "    include_lowest = True,\n",
    "    labels = [\"low\", \"mid\", \"high\"]\n",
    ")\n",
    "\n",
    "energy.sample(5)"
   ]
  },
  {
   "cell_type": "markdown",
   "metadata": {},
   "source": [
    "#### Which is the power generation type that has generated the most energy? And the least? (2 p)"
   ]
  },
  {
   "cell_type": "code",
   "execution_count": 19,
   "metadata": {
    "ExecuteTime": {
     "end_time": "2020-03-16T21:14:59.253637Z",
     "start_time": "2020-03-16T21:14:59.241785Z"
    }
   },
   "outputs": [],
   "source": [
    "power_type = energy[[\"nuclear\", \"gas\", \"solar\", \"hydro\", \"coal\", \"wind\"]]"
   ]
  },
  {
   "cell_type": "code",
   "execution_count": 20,
   "metadata": {
    "ExecuteTime": {
     "end_time": "2020-03-16T21:14:59.272322Z",
     "start_time": "2020-03-16T21:14:59.258701Z"
    },
    "scrolled": true
   },
   "outputs": [
    {
     "name": "stdout",
     "output_type": "stream",
     "text": [
      "The power generator type nuclear has generated the most energy out of all power generator types.\n"
     ]
    }
   ],
   "source": [
    "print(\"The power generator type\",power_type.sum().idxmax(), \n",
    "      \"has generated the most energy out of all power generator types.\")"
   ]
  },
  {
   "cell_type": "code",
   "execution_count": 21,
   "metadata": {
    "ExecuteTime": {
     "end_time": "2020-03-16T21:14:59.322867Z",
     "start_time": "2020-03-16T21:14:59.300836Z"
    }
   },
   "outputs": [
    {
     "name": "stdout",
     "output_type": "stream",
     "text": [
      "The power generator type solar has generated the least energy out of all power generator types.\n"
     ]
    }
   ],
   "source": [
    "print(\"The power generator type\",power_type.sum().idxmin(), \n",
    "      \"has generated the least energy out of all power generator types.\")"
   ]
  },
  {
   "cell_type": "code",
   "execution_count": null,
   "metadata": {},
   "outputs": [],
   "source": []
  }
 ],
 "metadata": {
  "hide_input": false,
  "kernelspec": {
   "display_name": "Python 3",
   "language": "python",
   "name": "python3"
  },
  "language_info": {
   "codemirror_mode": {
    "name": "ipython",
    "version": 3
   },
   "file_extension": ".py",
   "mimetype": "text/x-python",
   "name": "python",
   "nbconvert_exporter": "python",
   "pygments_lexer": "ipython3",
   "version": "3.7.4"
  },
  "toc": {
   "base_numbering": 1,
   "nav_menu": {},
   "number_sections": true,
   "sideBar": true,
   "skip_h1_title": false,
   "title_cell": "Table of Contents",
   "title_sidebar": "Contents",
   "toc_cell": false,
   "toc_position": {},
   "toc_section_display": true,
   "toc_window_display": false
  },
  "varInspector": {
   "cols": {
    "lenName": 16,
    "lenType": 16,
    "lenVar": 40
   },
   "kernels_config": {
    "python": {
     "delete_cmd_postfix": "",
     "delete_cmd_prefix": "del ",
     "library": "var_list.py",
     "varRefreshCmd": "print(var_dic_list())"
    },
    "r": {
     "delete_cmd_postfix": ") ",
     "delete_cmd_prefix": "rm(",
     "library": "var_list.r",
     "varRefreshCmd": "cat(var_dic_list()) "
    }
   },
   "types_to_exclude": [
    "module",
    "function",
    "builtin_function_or_method",
    "instance",
    "_Feature"
   ],
   "window_display": false
  }
 },
 "nbformat": 4,
 "nbformat_minor": 2
}
