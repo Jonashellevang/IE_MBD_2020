{
 "cells": [
  {
   "cell_type": "markdown",
   "metadata": {
    "toc": true
   },
   "source": [
    "<h1>Table of Contents<span class=\"tocSkip\"></span></h1>\n",
    "<div class=\"toc\"><ul class=\"toc-item\"><li><span><a href=\"#Introduction\" data-toc-modified-id=\"Introduction-1\"><span class=\"toc-item-num\">1&nbsp;&nbsp;</span>Introduction</a></span></li><li><span><a href=\"#Data-preparation\" data-toc-modified-id=\"Data-preparation-2\"><span class=\"toc-item-num\">2&nbsp;&nbsp;</span>Data preparation</a></span></li><li><span><a href=\"#EDA\" data-toc-modified-id=\"EDA-3\"><span class=\"toc-item-num\">3&nbsp;&nbsp;</span>EDA</a></span><ul class=\"toc-item\"><li><span><a href=\"#Changing-variable-names-for-Tipo_Material_Educativo,-Tipo_Soporte_Actual,-Lengua,-Curso-and-Asignatura\" data-toc-modified-id=\"Changing-variable-names-for-Tipo_Material_Educativo,-Tipo_Soporte_Actual,-Lengua,-Curso-and-Asignatura-3.1\"><span class=\"toc-item-num\">3.1&nbsp;&nbsp;</span>Changing variable names for Tipo_Material_Educativo, Tipo_Soporte_Actual, Lengua, Curso and Asignatura</a></span></li><li><span><a href=\"#Checking-for-NA's\" data-toc-modified-id=\"Checking-for-NA's-3.2\"><span class=\"toc-item-num\">3.2&nbsp;&nbsp;</span>Checking for NA's</a></span></li><li><span><a href=\"#Plots-to-see-the-distribution-for-our-categorical-features\" data-toc-modified-id=\"Plots-to-see-the-distribution-for-our-categorical-features-3.3\"><span class=\"toc-item-num\">3.3&nbsp;&nbsp;</span>Plots to see the distribution for our categorical features</a></span></li><li><span><a href=\"#Checking-for-Outliers\" data-toc-modified-id=\"Checking-for-Outliers-3.4\"><span class=\"toc-item-num\">3.4&nbsp;&nbsp;</span>Checking for Outliers</a></span></li><li><span><a href=\"#Obtaining-valuable-insights\" data-toc-modified-id=\"Obtaining-valuable-insights-3.5\"><span class=\"toc-item-num\">3.5&nbsp;&nbsp;</span>Obtaining valuable insights</a></span></li><li><span><a href=\"#Checking-Coordinates\" data-toc-modified-id=\"Checking-Coordinates-3.6\"><span class=\"toc-item-num\">3.6&nbsp;&nbsp;</span>Checking Coordinates</a></span></li></ul></li></ul></div>"
   ]
  },
  {
   "cell_type": "markdown",
   "metadata": {},
   "source": [
    "# Introduction\n",
    "For this datathon we didn't have time to merge our two datasets together and still have everything running. Please keep that in mind while going through both of the jupyter notebooks. Please, for you not to waste your time going through this, use this document only to look at the EDA. For the model check our main document called \"DATATHONGROUPD\". The data preparation part is almost identical in the other document, only difference it has few minor changes that were made after we started the modeling part."
   ]
  },
  {
   "cell_type": "code",
   "execution_count": 6,
   "metadata": {
    "ExecuteTime": {
     "end_time": "2020-03-20T01:10:18.131024Z",
     "start_time": "2020-03-20T01:10:18.126697Z"
    }
   },
   "outputs": [],
   "source": [
    "#!pip install pandas_profiling"
   ]
  },
  {
   "cell_type": "code",
   "execution_count": 7,
   "metadata": {
    "ExecuteTime": {
     "end_time": "2020-03-20T04:16:41.465488Z",
     "start_time": "2020-03-20T04:16:41.384792Z"
    }
   },
   "outputs": [],
   "source": [
    "# Imports\n",
    "import warnings\n",
    "\n",
    "warnings.simplefilter(action='ignore')\n",
    "warnings.filterwarnings(\"ignore\")\n",
    "\n",
    "import pandas as pd\n",
    "import numpy as np\n",
    "import matplotlib.pyplot as plt\n",
    "import seaborn as sns; sns.set()\n",
    "from matplotlib import pyplot\n",
    "import pandas_profiling"
   ]
  },
  {
   "cell_type": "markdown",
   "metadata": {},
   "source": [
    "# Data preparation"
   ]
  },
  {
   "cell_type": "code",
   "execution_count": 8,
   "metadata": {
    "ExecuteTime": {
     "end_time": "2020-03-20T01:10:20.918451Z",
     "start_time": "2020-03-20T01:10:18.175606Z"
    }
   },
   "outputs": [],
   "source": [
    "# Importing the data\n",
    "CSD2016 = pd.read_csv('CDS_2016_va', encoding = 'latin-1')\n",
    "CSD2017 = pd.read_csv('CDS_2017_va', encoding = 'latin-1')\n",
    "CSD2018 = pd.read_csv('CDS_2018_va', encoding = 'latin-1')\n",
    "CSD2019 = pd.read_csv('CDS_2019_NO_LABEL', encoding = 'latin-1')\n",
    "clientes = pd.read_csv(\"Clientes.csv\")"
   ]
  },
  {
   "cell_type": "code",
   "execution_count": 9,
   "metadata": {
    "ExecuteTime": {
     "end_time": "2020-03-20T01:10:21.008394Z",
     "start_time": "2020-03-20T01:10:20.927641Z"
    }
   },
   "outputs": [],
   "source": [
    "# Renaming columns for all dataframes\n",
    "CSD2016.rename(columns={'Año Natural': 'Año_Natural', 'Tipo Material Educativo': 'Tipo_Material_Educativo', 'Grupo Editorial': 'Grupo_Editorial', 'Tipo Soporte Actual': 'Tipo_Soporte_Actual', 'Variable 1': 'Variable_1', 'Variable 2': 'Variable_2'}, inplace=True)\n",
    "CSD2019.rename(columns={'Año natural': 'Año_Natural', 'Tipo Material Educativo': 'Tipo_Material_Educativo', 'Grupo Editorial': 'Grupo_Editorial', 'Tipo Soporte Actual': 'Tipo_Soporte_Actual', 'Variable1': 'Variable_1', 'Variable2': 'Variable_2'}, inplace=True)\n",
    "CSD2017.columns = CSD2016.columns\n",
    "CSD2018.columns = CSD2016.columns\n",
    "clientes.rename(columns={'Comunidad Autónoma': 'Comunidad_Autónoma'}, inplace=True)"
   ]
  },
  {
   "cell_type": "code",
   "execution_count": 10,
   "metadata": {
    "ExecuteTime": {
     "end_time": "2020-03-20T01:10:21.608802Z",
     "start_time": "2020-03-20T01:10:21.011744Z"
    }
   },
   "outputs": [],
   "source": [
    "# Cleaning variables from 2018 dataset containing error\n",
    "CSD2018[\"Curso\"] = CSD2018[\"Curso\"].str.replace(\"c\",\"\")\n",
    "CSD2018 = CSD2018.replace({\"Año_Natural\": 18}, {\"Año_Natural\": 2018}, regex=True)\n",
    "CSD2018[\"Curso\"] = CSD2018[\"Curso\"].astype('int64')\n",
    "CSD2019[\"Variable_2\"] = CSD2019[\"Variable_2\"] * 100"
   ]
  },
  {
   "cell_type": "code",
   "execution_count": 11,
   "metadata": {
    "ExecuteTime": {
     "end_time": "2020-03-20T01:10:41.328351Z",
     "start_time": "2020-03-20T01:10:21.611964Z"
    }
   },
   "outputs": [],
   "source": [
    "# Creating a unique identifier for each record\n",
    "CSD2016[\"Unique_Id\"] = (CSD2016[\"Id_Cliente\"].astype(str) + CSD2016[\"Curso\"].astype(str) + CSD2016[\"Asignatura\"].astype(str) + CSD2016[\"Tipo_Material_Educativo\"].astype(str) + CSD2016[\"Lengua\"].astype(str) + CSD2016[\"Tipo_Soporte_Actual\"].astype(str))\n",
    "CSD2017[\"Unique_Id\"] = (CSD2017[\"Id_Cliente\"].astype(str) + CSD2017[\"Curso\"].astype(str) + CSD2017[\"Asignatura\"].astype(str) + CSD2017[\"Tipo_Material_Educativo\"].astype(str) + CSD2017[\"Lengua\"].astype(str) + CSD2017[\"Tipo_Soporte_Actual\"].astype(str))\n",
    "CSD2018[\"Unique_Id\"] = (CSD2018[\"Id_Cliente\"].astype(str) + CSD2018[\"Curso\"].astype(str) + CSD2018[\"Asignatura\"].astype(str) + CSD2018[\"Tipo_Material_Educativo\"].astype(str) + CSD2018[\"Lengua\"].astype(str) + CSD2018[\"Tipo_Soporte_Actual\"].astype(str))\n",
    "CSD2019[\"Unique_Id\"] = (CSD2019[\"Id_Cliente\"].astype(str) + CSD2019[\"Curso\"].astype(str) + CSD2019[\"Asignatura\"].astype(str) + CSD2019[\"Tipo_Material_Educativo\"].astype(str) + CSD2019[\"Lengua\"].astype(str) + CSD2019[\"Tipo_Soporte_Actual\"].astype(str))"
   ]
  },
  {
   "cell_type": "code",
   "execution_count": 12,
   "metadata": {
    "ExecuteTime": {
     "end_time": "2020-03-20T01:10:41.930918Z",
     "start_time": "2020-03-20T01:10:41.331034Z"
    }
   },
   "outputs": [
    {
     "data": {
      "text/plain": [
       "0"
      ]
     },
     "execution_count": 12,
     "metadata": {},
     "output_type": "execute_result"
    }
   ],
   "source": [
    "# Checking duplicates for 2016\n",
    "CSD2016.duplicated().sum()"
   ]
  },
  {
   "cell_type": "code",
   "execution_count": 13,
   "metadata": {
    "ExecuteTime": {
     "end_time": "2020-03-20T01:10:42.524611Z",
     "start_time": "2020-03-20T01:10:41.936899Z"
    }
   },
   "outputs": [
    {
     "data": {
      "text/plain": [
       "30712"
      ]
     },
     "execution_count": 13,
     "metadata": {},
     "output_type": "execute_result"
    }
   ],
   "source": [
    "# Checking duplicates for 2017\n",
    "CSD2017.duplicated().sum()"
   ]
  },
  {
   "cell_type": "code",
   "execution_count": 14,
   "metadata": {
    "ExecuteTime": {
     "end_time": "2020-03-20T01:10:43.113896Z",
     "start_time": "2020-03-20T01:10:42.547767Z"
    }
   },
   "outputs": [
    {
     "data": {
      "text/plain": [
       "0"
      ]
     },
     "execution_count": 14,
     "metadata": {},
     "output_type": "execute_result"
    }
   ],
   "source": [
    "# Checking duplicates for 2018\n",
    "CSD2018.duplicated().sum()"
   ]
  },
  {
   "cell_type": "code",
   "execution_count": 15,
   "metadata": {
    "ExecuteTime": {
     "end_time": "2020-03-20T01:10:43.671562Z",
     "start_time": "2020-03-20T01:10:43.131689Z"
    }
   },
   "outputs": [
    {
     "data": {
      "text/plain": [
       "0"
      ]
     },
     "execution_count": 15,
     "metadata": {},
     "output_type": "execute_result"
    }
   ],
   "source": [
    "# Checking duplicates for 2019\n",
    "CSD2019.duplicated().sum()"
   ]
  },
  {
   "cell_type": "code",
   "execution_count": 16,
   "metadata": {
    "ExecuteTime": {
     "end_time": "2020-03-20T01:10:45.214645Z",
     "start_time": "2020-03-20T01:10:43.676375Z"
    }
   },
   "outputs": [],
   "source": [
    "# Dropping duplicates\n",
    "CSD2017.sort_values(\"Unique_Id\", inplace=True)\n",
    "CSD2017 = CSD2017.drop_duplicates()"
   ]
  },
  {
   "cell_type": "code",
   "execution_count": 17,
   "metadata": {
    "ExecuteTime": {
     "end_time": "2020-03-20T01:10:47.359400Z",
     "start_time": "2020-03-20T01:10:45.219300Z"
    }
   },
   "outputs": [],
   "source": [
    "# Changing Grupo_Editiorial to string\n",
    "CSD2016[\"Grupo_Editorial\"] = CSD2016[\"Grupo_Editorial\"].astype(\"str\")\n",
    "CSD2017[\"Grupo_Editorial\"] = CSD2017[\"Grupo_Editorial\"].astype(\"str\")\n",
    "CSD2018[\"Grupo_Editorial\"] = CSD2018[\"Grupo_Editorial\"].astype(\"str\")"
   ]
  },
  {
   "cell_type": "code",
   "execution_count": 18,
   "metadata": {
    "ExecuteTime": {
     "end_time": "2020-03-20T01:10:47.379697Z",
     "start_time": "2020-03-20T01:10:47.362353Z"
    }
   },
   "outputs": [],
   "source": [
    "#Defining a function to return the number of years\n",
    "def courseyears(s):\n",
    "    if (pd.isnull(s[\"Años_Curso_PY\"]) == True):\n",
    "        return 1\n",
    "    else:\n",
    "        return s[\"Años_Curso_PY\"] + 1"
   ]
  },
  {
   "cell_type": "code",
   "execution_count": 19,
   "metadata": {
    "ExecuteTime": {
     "end_time": "2020-03-20T01:11:50.571551Z",
     "start_time": "2020-03-20T01:10:47.382718Z"
    }
   },
   "outputs": [
    {
     "name": "stdout",
     "output_type": "stream",
     "text": [
      "Number of courses in 2016: 612727\n",
      "Number of courses in 2017: 615630\n",
      "Number of courses in 2018: 619854\n",
      "Number of courses in 2019: 617860\n"
     ]
    }
   ],
   "source": [
    "# Adding column \"Groupo_Editorial\" from the previous Year and column containing Number of years of the course\n",
    "CSD2016[\"Años_Curso\"] = 1\n",
    "\n",
    "CSD2016_1 = CSD2016[[\"Unique_Id\",\"Grupo_Editorial\",\"Años_Curso\"]]\n",
    "CSD2016_1.columns = [\"Unique_Id\",\"Grupo_Editorial_PY\",\"Años_Curso_PY\"]\n",
    "CSD2017 = pd.merge(CSD2017, CSD2016_1, how = \"left\", on='Unique_Id')\n",
    "CSD2017[\"Años_Curso\"] = CSD2017.apply(courseyears, axis=1)\n",
    "CSD2017 = CSD2017.drop([\"Años_Curso_PY\"], axis = 1)\n",
    "\n",
    "CSD2017_1 = CSD2017[[\"Unique_Id\",\"Grupo_Editorial\",\"Años_Curso\"]]\n",
    "CSD2017_1.columns = [\"Unique_Id\",\"Grupo_Editorial_PY\",\"Años_Curso_PY\"]\n",
    "CSD2018 = pd.merge(CSD2018, CSD2017_1,how = \"left\", on='Unique_Id')\n",
    "CSD2018[\"Años_Curso\"] = CSD2018.apply(courseyears, axis=1)\n",
    "CSD2018 = CSD2018.drop([\"Años_Curso_PY\"], axis = 1)\n",
    "\n",
    "CSD2018_1 = CSD2018[[\"Unique_Id\",\"Grupo_Editorial\",\"Años_Curso\"]]\n",
    "CSD2018_1.columns = [\"Unique_Id\",\"Grupo_Editorial_PY\",\"Años_Curso_PY\"]\n",
    "CSD2019 = pd.merge(CSD2019, CSD2018_1, how = \"left\", on='Unique_Id')\n",
    "CSD2019[\"Años_Curso\"] = CSD2019.apply(courseyears, axis=1)\n",
    "CSD2019 = CSD2019.drop([\"Años_Curso_PY\"], axis = 1)\n",
    "\n",
    "print(\"Number of courses in 2016: \" + CSD2016[\"Unique_Id\"].count().astype(str))\n",
    "print(\"Number of courses in 2017: \" + CSD2017[\"Unique_Id\"].count().astype(str))\n",
    "print(\"Number of courses in 2018: \" + CSD2018[\"Unique_Id\"].count().astype(str))\n",
    "print(\"Number of courses in 2019: \" + CSD2019[\"Unique_Id\"].count().astype(str))"
   ]
  },
  {
   "cell_type": "code",
   "execution_count": 20,
   "metadata": {
    "ExecuteTime": {
     "end_time": "2020-03-20T01:11:51.502306Z",
     "start_time": "2020-03-20T01:11:50.576881Z"
    },
    "scrolled": false
   },
   "outputs": [
    {
     "name": "stdout",
     "output_type": "stream",
     "text": [
      "Number of courses in All Years: 1848211\n"
     ]
    }
   ],
   "source": [
    "# Concatenating the dataframes\n",
    "AllCDS = pd.concat([CSD2016, CSD2017, CSD2018], axis = 0, join = 'outer', ignore_index = False)\n",
    "print(\"Number of courses in All Years: \" + AllCDS[\"Unique_Id\"].count().astype(str))"
   ]
  },
  {
   "cell_type": "code",
   "execution_count": 21,
   "metadata": {
    "ExecuteTime": {
     "end_time": "2020-03-20T01:11:51.523585Z",
     "start_time": "2020-03-20T01:11:51.506329Z"
    }
   },
   "outputs": [],
   "source": [
    "# Defining function to return the type of change from one year to another \n",
    "def changes(df):\n",
    "    if (pd.isnull(df[\"Grupo_Editorial_PY\"]) == True) and (df[\"Grupo_Editorial\"] == \"1\") :\n",
    "        return \"New_course_SM\"\n",
    "    elif (pd.isnull(df[\"Grupo_Editorial_PY\"]) == True) and (df[\"Grupo_Editorial\"] == \"90\") :\n",
    "        return \"New_course_No-Use\"\n",
    "    elif (pd.isnull(df[\"Grupo_Editorial_PY\"]) == True) and (df[\"Grupo_Editorial\"] != \"1\") and (df[\"Grupo_Editorial\"] != \"90\"):\n",
    "        return \"New_course_Editorial\"\n",
    "    elif (df[\"Grupo_Editorial_PY\"] == \"1\" ) and (df[\"Grupo_Editorial\"] == \"1\" ):\n",
    "        return \"SM_to_SM\"\n",
    "    elif (df[\"Grupo_Editorial_PY\"] != \"1\" ) and (df[\"Grupo_Editorial_PY\"] != \"90\" ) and (df[\"Grupo_Editorial\"] != \"1\") and (df[\"Grupo_Editorial\"] != \"90\"):\n",
    "        return \"Editorial_to_Editorial\"\n",
    "    elif (df[\"Grupo_Editorial_PY\"] == \"90\" ) and (df[\"Grupo_Editorial\"] == \"90\"):\n",
    "        return \"No-Use_to_No-Use\"\n",
    "    elif (df[\"Grupo_Editorial_PY\"] == \"1\" ) and (df[\"Grupo_Editorial\"] != \"1\" ) and (df[\"Grupo_Editorial\"] != \"90\" ):\n",
    "        return \"SM_to_Editorial\"\n",
    "    elif (df[\"Grupo_Editorial_PY\"] != \"1\" ) and (df[\"Grupo_Editorial\"] == \"1\" ) and (df[\"Grupo_Editorial\"] != \"90\" ):\n",
    "        return \"Editorial_to_SM\"\n",
    "    elif (df[\"Grupo_Editorial_PY\"] == \"90\" ) and (df[\"Grupo_Editorial\"] == \"1\"):\n",
    "        return \"No-Use_to_SM\"\n",
    "    elif (df[\"Grupo_Editorial_PY\"] == \"90\" ) and (df[\"Grupo_Editorial\"] != \"1\") and (df[\"Grupo_Editorial\"] != \"90\"):\n",
    "        return \"No-Use_to_Editorial\"\n",
    "    elif (df[\"Grupo_Editorial_PY\"] == \"1\" ) and (df[\"Grupo_Editorial\"] == \"90\"):\n",
    "        return \"SM_to_No-Use\"\n",
    "    elif (df[\"Grupo_Editorial_PY\"] != \"1\" ) and (df[\"Grupo_Editorial_PY\"] != \"90\" ) and (df[\"Grupo_Editorial\"] == \"90\"):\n",
    "        return \"Editorial_to_No-Use\"\n",
    "    else:\n",
    "        return \"FAIL\""
   ]
  },
  {
   "cell_type": "code",
   "execution_count": 22,
   "metadata": {
    "ExecuteTime": {
     "end_time": "2020-03-20T01:14:25.073450Z",
     "start_time": "2020-03-20T01:11:51.527871Z"
    }
   },
   "outputs": [],
   "source": [
    "# Creating a new column applying the function already created\n",
    "AllCDS[\"Change\"] = AllCDS.apply(changes, axis=1)"
   ]
  },
  {
   "cell_type": "code",
   "execution_count": 23,
   "metadata": {
    "ExecuteTime": {
     "end_time": "2020-03-20T01:14:25.256972Z",
     "start_time": "2020-03-20T01:14:25.076391Z"
    }
   },
   "outputs": [
    {
     "data": {
      "text/plain": [
       "Editorial_to_Editorial    572905\n",
       "New_course_Editorial      478953\n",
       "No-Use_to_No-Use          291535\n",
       "New_course_No-Use         228419\n",
       "SM_to_SM                  105810\n",
       "New_course_SM             105106\n",
       "Editorial_to_No-Use        33053\n",
       "No-Use_to_Editorial        14240\n",
       "SM_to_No-Use                6926\n",
       "Editorial_to_SM             5966\n",
       "SM_to_Editorial             5298\n",
       "Name: Change, dtype: int64"
      ]
     },
     "execution_count": 23,
     "metadata": {},
     "output_type": "execute_result"
    }
   ],
   "source": [
    "# Listing the changes from one year to another by type\n",
    "AllCDS[\"Change\"].value_counts()"
   ]
  },
  {
   "cell_type": "markdown",
   "metadata": {},
   "source": [
    "When looking all years we can observe: \n",
    "- 30% of the courses reimain using educational material from one year to another from editorials that are not SM. \n",
    "- 25% of the courses are new courses that use material from other editorials. \n",
    "- 15% of the courses have not use any material for at least two consequtive years (considering the present year).\n",
    "- 12% are **new courses that do not use any material.** \n",
    "- When **strictly looking the change \"To No Use\",** only 2.16% of the courses are in that category, **where SM represent the 0.3% of that total.**\n",
    "\n",
    "**Because of that, for the target variable we are going to define the change \"To No-Use\" including:**\n",
    "- Courses with no use of any material for two consequtive years.\n",
    "- New courses that did not decide to use any material.\n",
    "The above because capturing those courses implies to capture a business oportunity for SM."
   ]
  },
  {
   "cell_type": "code",
   "execution_count": 24,
   "metadata": {
    "ExecuteTime": {
     "end_time": "2020-03-20T01:14:25.270088Z",
     "start_time": "2020-03-20T01:14:25.260607Z"
    }
   },
   "outputs": [],
   "source": [
    "# Defining a function to return the name of the \"Grupo_Editorial\"\n",
    "def grupoeditorialnames(df):\n",
    "    if (pd.isnull(df[\"Grupo_Editorial_PY\"]) == True):\n",
    "        return \"New_Course\"\n",
    "    elif (df[\"Grupo_Editorial_PY\"] == \"1\"):\n",
    "        return \"SM\"\n",
    "    elif (df[\"Grupo_Editorial_PY\"] == \"90\"):\n",
    "        return \"No-Use\"\n",
    "    else:\n",
    "        return \"Editorial\""
   ]
  },
  {
   "cell_type": "code",
   "execution_count": 25,
   "metadata": {
    "ExecuteTime": {
     "end_time": "2020-03-20T01:15:56.933553Z",
     "start_time": "2020-03-20T01:14:25.276518Z"
    }
   },
   "outputs": [],
   "source": [
    "# Applying the function to both dataframes and creating a new column with the names of the \"Grupo_Editorial\"\n",
    "AllCDS[\"Grupo_Editorial_Nombre\"] = AllCDS.apply(grupoeditorialnames, axis=1)\n",
    "CSD2019[\"Grupo_Editorial_Nombre\"] = CSD2019.apply(grupoeditorialnames, axis=1)"
   ]
  },
  {
   "cell_type": "code",
   "execution_count": 26,
   "metadata": {
    "ExecuteTime": {
     "end_time": "2020-03-20T01:15:57.210842Z",
     "start_time": "2020-03-20T01:15:56.936841Z"
    }
   },
   "outputs": [
    {
     "data": {
      "text/plain": [
       "New_Course    812478\n",
       "Editorial     609924\n",
       "No-Use        307775\n",
       "SM            118034\n",
       "Name: Grupo_Editorial_Nombre, dtype: int64"
      ]
     },
     "execution_count": 26,
     "metadata": {},
     "output_type": "execute_result"
    }
   ],
   "source": [
    "AllCDS[\"Grupo_Editorial_Nombre\"].value_counts()"
   ]
  },
  {
   "cell_type": "code",
   "execution_count": 27,
   "metadata": {
    "ExecuteTime": {
     "end_time": "2020-03-20T01:15:57.318186Z",
     "start_time": "2020-03-20T01:15:57.223264Z"
    }
   },
   "outputs": [
    {
     "data": {
      "text/plain": [
       "Editorial     304421\n",
       "No-Use        178203\n",
       "New_Course     81022\n",
       "SM             54214\n",
       "Name: Grupo_Editorial_Nombre, dtype: int64"
      ]
     },
     "execution_count": 27,
     "metadata": {},
     "output_type": "execute_result"
    }
   ],
   "source": [
    "CSD2019[\"Grupo_Editorial_Nombre\"].value_counts()"
   ]
  },
  {
   "cell_type": "code",
   "execution_count": 28,
   "metadata": {
    "ExecuteTime": {
     "end_time": "2020-03-20T01:15:57.340273Z",
     "start_time": "2020-03-20T01:15:57.331071Z"
    }
   },
   "outputs": [],
   "source": [
    "# Defining the function to return 1 or 0 in the target variable according to the type of change\n",
    "def targetvariable(df):\n",
    "    if (df[\"Change\"]) in {\"No-Use_to_No-Use\",\"SM_to_No-Use \",\"Editorial_to_No-Use\", \"New_course_No-Use\"}:\n",
    "        return 1\n",
    "    else:\n",
    "        return 0"
   ]
  },
  {
   "cell_type": "code",
   "execution_count": 29,
   "metadata": {
    "ExecuteTime": {
     "end_time": "2020-03-20T01:16:48.088376Z",
     "start_time": "2020-03-20T01:15:57.358325Z"
    }
   },
   "outputs": [],
   "source": [
    "# Applying the function to create the target variable\n",
    "AllCDS[\"Target\"] = AllCDS.apply(targetvariable, axis=1)"
   ]
  },
  {
   "cell_type": "code",
   "execution_count": 30,
   "metadata": {
    "ExecuteTime": {
     "end_time": "2020-03-20T01:16:48.423665Z",
     "start_time": "2020-03-20T01:16:48.097371Z"
    }
   },
   "outputs": [
    {
     "data": {
      "text/plain": [
       "0    433324\n",
       "1    182306\n",
       "Name: Target, dtype: int64"
      ]
     },
     "execution_count": 30,
     "metadata": {},
     "output_type": "execute_result"
    }
   ],
   "source": [
    "# Checking the change to no-use for 2017\n",
    "AllCDS[AllCDS[\"Año_Natural\"] == 2017][\"Target\"].value_counts()"
   ]
  },
  {
   "cell_type": "code",
   "execution_count": 31,
   "metadata": {
    "ExecuteTime": {
     "end_time": "2020-03-20T01:16:48.765667Z",
     "start_time": "2020-03-20T01:16:48.430625Z"
    }
   },
   "outputs": [
    {
     "data": {
      "text/plain": [
       "0    421774\n",
       "1    198080\n",
       "Name: Target, dtype: int64"
      ]
     },
     "execution_count": 31,
     "metadata": {},
     "output_type": "execute_result"
    }
   ],
   "source": [
    "# Checking the change to no-use for 2018\n",
    "AllCDS[AllCDS[\"Año_Natural\"] == 2018][\"Target\"].value_counts()"
   ]
  },
  {
   "cell_type": "code",
   "execution_count": 32,
   "metadata": {
    "ExecuteTime": {
     "end_time": "2020-03-20T04:41:00.800964Z",
     "start_time": "2020-03-20T04:40:55.365241Z"
    }
   },
   "outputs": [],
   "source": [
    "# Merging the dataframes to add information of the schools\n",
    "AllData = pd.merge(AllCDS, clientes, on=\"Id_Cliente\", how = \"left\")\n",
    "AllCSD2019 = pd.merge(CSD2019, clientes, on=\"Id_Cliente\", how = \"left\")"
   ]
  },
  {
   "cell_type": "code",
   "execution_count": 33,
   "metadata": {
    "ExecuteTime": {
     "end_time": "2020-03-20T04:41:11.411519Z",
     "start_time": "2020-03-20T04:41:09.602371Z"
    }
   },
   "outputs": [],
   "source": [
    "# Reordering columns\n",
    "AllData = AllData[['Unique_Id','Id_Cliente', 'Año_Natural', 'Años_Curso','Curso','Asignatura','Tipo_Material_Educativo','Lengua','Tipo_Soporte_Actual', 'Variable_1','Variable_2','Latitud','Longitud', 'Comunidad_Autónoma', 'Id_Asociación', 'Id_Subasociación', 'Titularidad', 'Grupo_Editorial','Grupo_Editorial_PY', 'Grupo_Editorial_Nombre', 'Change','Target']]\n",
    "AllCSD2019 = AllCSD2019[['Unique_Id','Id_Cliente', 'Año_Natural','Años_Curso','Curso','Asignatura','Tipo_Material_Educativo','Lengua','Tipo_Soporte_Actual', 'Variable_1','Variable_2','Latitud','Longitud', 'Comunidad_Autónoma', 'Id_Asociación', 'Id_Subasociación', 'Titularidad','Grupo_Editorial_PY', 'Grupo_Editorial_Nombre']]"
   ]
  },
  {
   "cell_type": "markdown",
   "metadata": {},
   "source": [
    "# EDA"
   ]
  },
  {
   "cell_type": "code",
   "execution_count": 34,
   "metadata": {
    "ExecuteTime": {
     "end_time": "2020-03-20T04:41:17.206461Z",
     "start_time": "2020-03-20T04:41:17.055553Z"
    }
   },
   "outputs": [
    {
     "data": {
      "text/html": [
       "<div>\n",
       "<style scoped>\n",
       "    .dataframe tbody tr th:only-of-type {\n",
       "        vertical-align: middle;\n",
       "    }\n",
       "\n",
       "    .dataframe tbody tr th {\n",
       "        vertical-align: top;\n",
       "    }\n",
       "\n",
       "    .dataframe thead th {\n",
       "        text-align: right;\n",
       "    }\n",
       "</style>\n",
       "<table border=\"1\" class=\"dataframe\">\n",
       "  <thead>\n",
       "    <tr style=\"text-align: right;\">\n",
       "      <th></th>\n",
       "      <th>Unique_Id</th>\n",
       "      <th>Id_Cliente</th>\n",
       "      <th>Año_Natural</th>\n",
       "      <th>Años_Curso</th>\n",
       "      <th>Curso</th>\n",
       "      <th>Asignatura</th>\n",
       "      <th>Tipo_Material_Educativo</th>\n",
       "      <th>Lengua</th>\n",
       "      <th>Tipo_Soporte_Actual</th>\n",
       "      <th>Variable_1</th>\n",
       "      <th>...</th>\n",
       "      <th>Longitud</th>\n",
       "      <th>Comunidad_Autónoma</th>\n",
       "      <th>Id_Asociación</th>\n",
       "      <th>Id_Subasociación</th>\n",
       "      <th>Titularidad</th>\n",
       "      <th>Grupo_Editorial</th>\n",
       "      <th>Grupo_Editorial_PY</th>\n",
       "      <th>Grupo_Editorial_Nombre</th>\n",
       "      <th>Change</th>\n",
       "      <th>Target</th>\n",
       "    </tr>\n",
       "  </thead>\n",
       "  <tbody>\n",
       "    <tr>\n",
       "      <th>1348910</th>\n",
       "      <td>12709533371131</td>\n",
       "      <td>127095</td>\n",
       "      <td>2018</td>\n",
       "      <td>2.0</td>\n",
       "      <td>33</td>\n",
       "      <td>37</td>\n",
       "      <td>1</td>\n",
       "      <td>13</td>\n",
       "      <td>1</td>\n",
       "      <td>129.0</td>\n",
       "      <td>...</td>\n",
       "      <td>-1.626615</td>\n",
       "      <td>Navarra</td>\n",
       "      <td>133.0</td>\n",
       "      <td>48.0</td>\n",
       "      <td>Católico</td>\n",
       "      <td>1</td>\n",
       "      <td>1</td>\n",
       "      <td>SM</td>\n",
       "      <td>SM_to_SM</td>\n",
       "      <td>0</td>\n",
       "    </tr>\n",
       "    <tr>\n",
       "      <th>580743</th>\n",
       "      <td>20016426542131</td>\n",
       "      <td>200164</td>\n",
       "      <td>2016</td>\n",
       "      <td>1.0</td>\n",
       "      <td>26</td>\n",
       "      <td>54</td>\n",
       "      <td>2</td>\n",
       "      <td>13</td>\n",
       "      <td>1</td>\n",
       "      <td>42.0</td>\n",
       "      <td>...</td>\n",
       "      <td>-0.430921</td>\n",
       "      <td>Comunidad Valenciana</td>\n",
       "      <td>572.0</td>\n",
       "      <td>109.0</td>\n",
       "      <td>Privado</td>\n",
       "      <td>2</td>\n",
       "      <td>NaN</td>\n",
       "      <td>New_Course</td>\n",
       "      <td>New_course_Editorial</td>\n",
       "      <td>0</td>\n",
       "    </tr>\n",
       "    <tr>\n",
       "      <th>223831</th>\n",
       "      <td>13650935221131</td>\n",
       "      <td>136509</td>\n",
       "      <td>2016</td>\n",
       "      <td>1.0</td>\n",
       "      <td>35</td>\n",
       "      <td>22</td>\n",
       "      <td>1</td>\n",
       "      <td>13</td>\n",
       "      <td>1</td>\n",
       "      <td>8.0</td>\n",
       "      <td>...</td>\n",
       "      <td>-3.277300</td>\n",
       "      <td>Madrid</td>\n",
       "      <td>NaN</td>\n",
       "      <td>NaN</td>\n",
       "      <td>Privado</td>\n",
       "      <td>16</td>\n",
       "      <td>NaN</td>\n",
       "      <td>New_Course</td>\n",
       "      <td>New_course_Editorial</td>\n",
       "      <td>0</td>\n",
       "    </tr>\n",
       "    <tr>\n",
       "      <th>1629505</th>\n",
       "      <td>17026237261101</td>\n",
       "      <td>170262</td>\n",
       "      <td>2018</td>\n",
       "      <td>1.0</td>\n",
       "      <td>37</td>\n",
       "      <td>26</td>\n",
       "      <td>1</td>\n",
       "      <td>10</td>\n",
       "      <td>1</td>\n",
       "      <td>5.0</td>\n",
       "      <td>...</td>\n",
       "      <td>0.558196</td>\n",
       "      <td>Cataluña</td>\n",
       "      <td>597.0</td>\n",
       "      <td>109.0</td>\n",
       "      <td>Privado</td>\n",
       "      <td>9</td>\n",
       "      <td>NaN</td>\n",
       "      <td>New_Course</td>\n",
       "      <td>New_course_Editorial</td>\n",
       "      <td>0</td>\n",
       "    </tr>\n",
       "    <tr>\n",
       "      <th>1246364</th>\n",
       "      <td>11471031481131</td>\n",
       "      <td>114710</td>\n",
       "      <td>2018</td>\n",
       "      <td>3.0</td>\n",
       "      <td>31</td>\n",
       "      <td>48</td>\n",
       "      <td>1</td>\n",
       "      <td>13</td>\n",
       "      <td>1</td>\n",
       "      <td>15.0</td>\n",
       "      <td>...</td>\n",
       "      <td>-0.498327</td>\n",
       "      <td>Comunidad Valenciana</td>\n",
       "      <td>85.0</td>\n",
       "      <td>128.0</td>\n",
       "      <td>Católico</td>\n",
       "      <td>90</td>\n",
       "      <td>90</td>\n",
       "      <td>No-Use</td>\n",
       "      <td>No-Use_to_No-Use</td>\n",
       "      <td>1</td>\n",
       "    </tr>\n",
       "  </tbody>\n",
       "</table>\n",
       "<p>5 rows × 22 columns</p>\n",
       "</div>"
      ],
      "text/plain": [
       "              Unique_Id  Id_Cliente  Año_Natural  Años_Curso  Curso  \\\n",
       "1348910  12709533371131      127095         2018         2.0     33   \n",
       "580743   20016426542131      200164         2016         1.0     26   \n",
       "223831   13650935221131      136509         2016         1.0     35   \n",
       "1629505  17026237261101      170262         2018         1.0     37   \n",
       "1246364  11471031481131      114710         2018         3.0     31   \n",
       "\n",
       "         Asignatura  Tipo_Material_Educativo  Lengua  Tipo_Soporte_Actual  \\\n",
       "1348910          37                        1      13                    1   \n",
       "580743           54                        2      13                    1   \n",
       "223831           22                        1      13                    1   \n",
       "1629505          26                        1      10                    1   \n",
       "1246364          48                        1      13                    1   \n",
       "\n",
       "         Variable_1  ...  Longitud    Comunidad_Autónoma  Id_Asociación  \\\n",
       "1348910       129.0  ... -1.626615               Navarra          133.0   \n",
       "580743         42.0  ... -0.430921  Comunidad Valenciana          572.0   \n",
       "223831          8.0  ... -3.277300                Madrid            NaN   \n",
       "1629505         5.0  ...  0.558196              Cataluña          597.0   \n",
       "1246364        15.0  ... -0.498327  Comunidad Valenciana           85.0   \n",
       "\n",
       "        Id_Subasociación  Titularidad  Grupo_Editorial Grupo_Editorial_PY  \\\n",
       "1348910             48.0     Católico                1                  1   \n",
       "580743             109.0      Privado                2                NaN   \n",
       "223831               NaN      Privado               16                NaN   \n",
       "1629505            109.0      Privado                9                NaN   \n",
       "1246364            128.0     Católico               90                 90   \n",
       "\n",
       "        Grupo_Editorial_Nombre                Change Target  \n",
       "1348910                     SM              SM_to_SM      0  \n",
       "580743              New_Course  New_course_Editorial      0  \n",
       "223831              New_Course  New_course_Editorial      0  \n",
       "1629505             New_Course  New_course_Editorial      0  \n",
       "1246364                 No-Use      No-Use_to_No-Use      1  \n",
       "\n",
       "[5 rows x 22 columns]"
      ]
     },
     "execution_count": 34,
     "metadata": {},
     "output_type": "execute_result"
    }
   ],
   "source": [
    "#Checking the final dataframe\n",
    "AllData.sample(5)"
   ]
  },
  {
   "cell_type": "code",
   "execution_count": 35,
   "metadata": {
    "ExecuteTime": {
     "end_time": "2020-03-20T04:41:23.070280Z",
     "start_time": "2020-03-20T04:41:23.049537Z"
    }
   },
   "outputs": [
    {
     "data": {
      "text/plain": [
       "Unique_Id                   object\n",
       "Id_Cliente                   int64\n",
       "Año_Natural                  int64\n",
       "Años_Curso                 float64\n",
       "Curso                        int64\n",
       "Asignatura                   int64\n",
       "Tipo_Material_Educativo      int64\n",
       "Lengua                       int64\n",
       "Tipo_Soporte_Actual          int64\n",
       "Variable_1                 float64\n",
       "Variable_2                 float64\n",
       "Latitud                    float64\n",
       "Longitud                   float64\n",
       "Comunidad_Autónoma          object\n",
       "Id_Asociación              float64\n",
       "Id_Subasociación           float64\n",
       "Titularidad                 object\n",
       "Grupo_Editorial             object\n",
       "Grupo_Editorial_PY          object\n",
       "Grupo_Editorial_Nombre      object\n",
       "Change                      object\n",
       "Target                       int64\n",
       "dtype: object"
      ]
     },
     "execution_count": 35,
     "metadata": {},
     "output_type": "execute_result"
    }
   ],
   "source": [
    "# Checking what type each feature is\n",
    "AllData.dtypes"
   ]
  },
  {
   "cell_type": "code",
   "execution_count": 36,
   "metadata": {
    "ExecuteTime": {
     "end_time": "2020-03-20T04:41:28.182717Z",
     "start_time": "2020-03-20T04:41:28.155240Z"
    },
    "scrolled": true
   },
   "outputs": [
    {
     "data": {
      "text/plain": [
       "Unique_Id                   object\n",
       "Id_Cliente                   int64\n",
       "Año_Natural                  int64\n",
       "Años_Curso                 float64\n",
       "Curso                        int64\n",
       "Asignatura                   int64\n",
       "Tipo_Material_Educativo      int64\n",
       "Lengua                       int64\n",
       "Tipo_Soporte_Actual          int64\n",
       "Variable_1                 float64\n",
       "Variable_2                 float64\n",
       "Latitud                    float64\n",
       "Longitud                   float64\n",
       "Comunidad_Autónoma          object\n",
       "Id_Asociación              float64\n",
       "Id_Subasociación           float64\n",
       "Titularidad                 object\n",
       "Grupo_Editorial_PY          object\n",
       "Grupo_Editorial_Nombre      object\n",
       "dtype: object"
      ]
     },
     "execution_count": 36,
     "metadata": {},
     "output_type": "execute_result"
    }
   ],
   "source": [
    "# Checking what type each feature is\n",
    "AllCSD2019.dtypes"
   ]
  },
  {
   "cell_type": "code",
   "execution_count": 37,
   "metadata": {
    "ExecuteTime": {
     "end_time": "2020-03-20T04:41:44.980783Z",
     "start_time": "2020-03-20T04:41:33.633590Z"
    }
   },
   "outputs": [],
   "source": [
    "# Changing the following features to categorical for both dataframes\n",
    "AllData[\"Id_Cliente\"] = AllData[\"Id_Cliente\"].astype(str)\n",
    "AllData[\"Id_Asociación\"] = AllData[\"Id_Asociación\"].astype(str)\n",
    "AllData[\"Id_Subasociación\"] = AllData[\"Id_Subasociación\"].astype(str)\n",
    "AllData[\"Latitud\"] = AllData[\"Latitud\"].astype(float)\n",
    "AllData[\"Longitud\"] = AllData[\"Longitud\"].astype(float)\n",
    "AllData[\"Años_Curso\"] = AllData[\"Años_Curso\"].astype(int)\n",
    "AllCSD2019[\"Id_Cliente\"] = AllCSD2019[\"Id_Cliente\"].astype(str)\n",
    "AllCSD2019[\"Id_Asociación\"] = AllCSD2019[\"Id_Asociación\"].astype(str)\n",
    "AllCSD2019[\"Id_Subasociación\"] = AllCSD2019[\"Id_Subasociación\"].astype(str)\n",
    "AllCSD2019[\"Latitud\"] = AllCSD2019[\"Latitud\"].astype(float)\n",
    "AllCSD2019[\"Longitud\"] = AllCSD2019[\"Longitud\"].astype(float)\n",
    "AllCSD2019[\"Años_Curso\"] = AllCSD2019[\"Años_Curso\"].astype(int)"
   ]
  },
  {
   "cell_type": "code",
   "execution_count": 38,
   "metadata": {
    "ExecuteTime": {
     "end_time": "2020-03-20T04:43:06.342017Z",
     "start_time": "2020-03-20T04:43:06.316876Z"
    }
   },
   "outputs": [
    {
     "data": {
      "text/plain": [
       "array([13, 26, 18, 10,  0])"
      ]
     },
     "execution_count": 38,
     "metadata": {},
     "output_type": "execute_result"
    }
   ],
   "source": [
    "AllCSD2019[\"Lengua\"].unique()"
   ]
  },
  {
   "cell_type": "markdown",
   "metadata": {},
   "source": [
    "## Changing variable names for Tipo_Material_Educativo, Tipo_Soporte_Actual, Lengua, Curso and Asignatura"
   ]
  },
  {
   "cell_type": "code",
   "execution_count": 39,
   "metadata": {
    "ExecuteTime": {
     "end_time": "2020-03-20T04:43:42.906076Z",
     "start_time": "2020-03-20T04:43:41.995081Z"
    }
   },
   "outputs": [],
   "source": [
    "AllData[\"Tipo_Material_Educativo\"] = AllData[\"Tipo_Material_Educativo\"].map({1: \"Básico\", \n",
    "                                                                             2: \"Complementario\", \n",
    "                                                                             3: \"Cuaderno_asociado\", \n",
    "                                                                             4: \"Prescribible\"})\n",
    "\n",
    "AllData[\"Tipo_Soporte_Actual\"] = AllData[\"Tipo_Soporte_Actual\"].map({1: \"Papel\", \n",
    "                                                                     2: \"Digital\",\n",
    "                                                                     3: \"Papel_digital\",\n",
    "                                                                     4: \"Plataforma\"})\n",
    "\n",
    "AllData[\"Lengua\"] = AllData[\"Lengua\"].map({10: \"Catalán\", \n",
    "                                           11: \"Gallego\",\n",
    "                                           13: \"Castellano\",\n",
    "                                           18: \"Valenciano\",\n",
    "                                           26: \"Euskera\",\n",
    "                                           0: \"Unknown\"})\n",
    "\n",
    "AllData[\"Curso\"] = AllData[\"Curso\"].map({20: \"0_años\",\n",
    "                                           21: \"1_año\",\n",
    "                                           22: \"2_años\",\n",
    "                                           23: \"3_años\",\n",
    "                                           24: \"4_años\",\n",
    "                                           25: \"5_años\",\n",
    "                                           26: \"1_Primaria\",\n",
    "                                           27: \"2_Primaria\",\n",
    "                                           28: \"3_Primaria\",\n",
    "                                           29: \"4_Primaria\",\n",
    "                                           30: \"5_Primaria\",\n",
    "                                           31: \"6_Primaria\",\n",
    "                                           32: \"1_Secundaria\",\n",
    "                                           33: \"2_Secundaria\",\n",
    "                                           34: \"3_Secundaria\",\n",
    "                                           35: \"4_Secundaria\",\n",
    "                                           36: \"1_Bachillerato\",\n",
    "                                           37: \"2_Bachillerato\"})\n",
    "\n",
    "AllData[\"Asignatura\"] = AllData[\"Asignatura\"].map({1: \"Aprendizajes_Básicos\",\n",
    "                                                   4: \"Atlas_Escolares\",\n",
    "                                                   7: \"Biología\",\n",
    "                                                   8: \"Biología_y_Geología\",\n",
    "                                                   9: \"C_A_B\",\n",
    "                                                   12: \"Ciencia_Tecnología_y_Sociedad\",\n",
    "                                                   13: \"Ciencias_de_la_Naturaleza\",\n",
    "                                                   14: \"Ciencias_para_el_Mundo_Contemp\",\n",
    "                                                   15: \"Ciencias_Sociales\",\n",
    "                                                   16: \"Comprensión_Lectora\",\n",
    "                                                   18: \"Conocimiento_del_Medio\",\n",
    "                                                   19: \"Conocimiento_del_Medio_Natural\",\n",
    "                                                   20: \"Conocimiento_del_Medio_Social\",\n",
    "                                                   21: \"Conviure\",\n",
    "                                                   22: \"Cultura_Clásica\",\n",
    "                                                   24: \"Dibujo_Técnico\",\n",
    "                                                   25: \"Diccionarios_Escolares\",\n",
    "                                                   26: \"Economía\",\n",
    "                                                   29: \"Educación_para_la_Ciudadanía\",\n",
    "                                                   34: \"Ética\",\n",
    "                                                   35: \"Filosofía\",\n",
    "                                                   36: \"Física\",\n",
    "                                                   37: \"Física_y_Química\",\n",
    "                                                   38: \"Francés\",\n",
    "                                                   39: \"Geografía\",\n",
    "                                                   40: \"Geografía_e_Historia\",\n",
    "                                                   41: \"Grafomotricidad\",\n",
    "                                                   42: \"Griego\",\n",
    "                                                   43: \"Historia\",\n",
    "                                                   45: \"Historia_del_Arte\",\n",
    "                                                   47: \"Informática\",\n",
    "                                                   48: \"Inglés\",\n",
    "                                                   50: \"Latín\",\n",
    "                                                   51: \"Lectoescritura\",\n",
    "                                                   52: \"Lecturas\",\n",
    "                                                   53: \"Lengua_Autonómica\",\n",
    "                                                   54: \"Lengua_Castellana\",\n",
    "                                                   60: \"Matemáticas\",\n",
    "                                                   61: \"Matemáticas(Ciencias_Naturale)\",\n",
    "                                                   62: \"Matemáticas(Ciencias_Sociales)\",\n",
    "                                                   63: \"Áreas_Integradas\",\n",
    "                                                   65: \"Música\",\n",
    "                                                   68: \"Ortografía\",\n",
    "                                                   70: \"PAI\",\n",
    "                                                   71: \"PAM\",\n",
    "                                                   72: \"Plan_Lector\",\n",
    "                                                   73: \"Plástica\",\n",
    "                                                   78: \"Química\",\n",
    "                                                   79: \"Religión\",\n",
    "                                                   81: \"Sociedad_Cultura_y_Religión\",\n",
    "                                                   82: \"Tecnología\",\n",
    "                                                   83: \"Tutoría\",\n",
    "                                                   84: \"Vacaciones\",\n",
    "                                                   85: \"Biblias_Escolares\",\n",
    "                                                   87: \"Competencias_Básicas\",\n",
    "                                                   88: \"Educación_Emocional\",\n",
    "                                                   89: \"Ciencias_de_la_Tierra_y_Medio\",\n",
    "                                                   90: \"Tecnologías_de_la_Información\",\n",
    "                                                   227: \"Diver_Curricular(Social)\",\n",
    "                                                   228: \"Escritura\",\n",
    "                                                   229: \"Science\",\n",
    "                                                   230: \"Arts_and_Crafts\",\n",
    "                                                   235: \"Agenda\",\n",
    "                                                   236: \"Music\",\n",
    "                                                   237: \"Visual_Arts\",\n",
    "                                                   238: \"Social_Science\",\n",
    "                                                   239: \"Natural_Science\",\n",
    "                                                   241: \"Tecnologia_Industrial\",\n",
    "                                                   242: \"Diver_Curricular(Tecno)\",\n",
    "                                                   243: \"Alternativa_Religión\",\n",
    "                                                   246: \"Literatura\",\n",
    "                                                   249: \"Materias_artísticas\",\n",
    "                                                   259: \"Proyectos\",\n",
    "                                                   262: \"Geography_and_History\",\n",
    "                                                   263: \"Biology_and_Geology\",\n",
    "                                                   265: \"Valores_Sociales_y_Cívicos\",\n",
    "                                                   266: \"Sciences_Naturelles\",\n",
    "                                                   267: \"Sciences_Sociales\",\n",
    "                                                   269: \"Cultura_Científica\",\n",
    "                                                   270: \"Educación_Física\",\n",
    "                                                   271: \"Physical_Education\",\n",
    "                                                   272: \"Inteligencias_Múltiples\",\n",
    "                                                   274: \"Publicaciones_Generales\",\n",
    "                                                   275:\"Unknown\",\n",
    "                                                   276: \"Áreas_Integradas_Unidades_Te\",\n",
    "                                                   277: \"Tecnology\",\n",
    "                                                   278: \"Pastoral\",\n",
    "                                                   279: \"PMAR(Técnico)\",\n",
    "                                                   280: \"PMAR(Social)\",\n",
    "                                                   292: \"Plan_Lector_Loran\",\n",
    "                                                   293: \"App\",\n",
    "                                                   298: \"Áreas_Integradas_Bilingüe\",\n",
    "                                                   299: \"Proyectos_Bilingüe\",\n",
    "                                                   900:\"Unknown\"})"
   ]
  },
  {
   "cell_type": "code",
   "execution_count": 40,
   "metadata": {
    "ExecuteTime": {
     "end_time": "2020-03-20T04:44:07.628980Z",
     "start_time": "2020-03-20T04:44:07.177810Z"
    }
   },
   "outputs": [],
   "source": [
    "AllCSD2019[\"Tipo_Material_Educativo\"] = AllCSD2019[\"Tipo_Material_Educativo\"].map({1: \"Básico\", \n",
    "                                                                             2: \"Complementario\", \n",
    "                                                                             3: \"Cuaderno_asociado\", \n",
    "                                                                             4: \"Prescribible\"})\n",
    "\n",
    "AllCSD2019[\"Tipo_Soporte_Actual\"] = AllCSD2019[\"Tipo_Soporte_Actual\"].map({1: \"Papel\", \n",
    "                                                                     2: \"Digital\",\n",
    "                                                                     3: \"Papel_digital\",\n",
    "                                                                     4: \"Plataforma\"})\n",
    "\n",
    "AllCSD2019[\"Lengua\"] = AllCSD2019[\"Lengua\"].map({10: \"Catalán\", \n",
    "                                           11: \"Gallego\",\n",
    "                                           13: \"Castellano\",\n",
    "                                           18: \"Valenciano\",\n",
    "                                           26: \"Euskera\",\n",
    "                                           0: \"Unknown\"})\n",
    "\n",
    "AllCSD2019[\"Curso\"] = AllCSD2019[\"Curso\"].map({20: \"0_años\",\n",
    "                                           21: \"1_año\",\n",
    "                                           22: \"2_años\",\n",
    "                                           23: \"3_años\",\n",
    "                                           24: \"4_años\",\n",
    "                                           25: \"5_años\",\n",
    "                                           26: \"1_Primaria\",\n",
    "                                           27: \"2_Primaria\",\n",
    "                                           28: \"3_Primaria\",\n",
    "                                           29: \"4_Primaria\",\n",
    "                                           30: \"5_Primaria\",\n",
    "                                           31: \"6_Primaria\",\n",
    "                                           32: \"1_Secundaria\",\n",
    "                                           33: \"2_Secundaria\",\n",
    "                                           34: \"3_Secundaria\",\n",
    "                                           35: \"4_Secundaria\",\n",
    "                                           36: \"1_Bachillerato\",\n",
    "                                           37: \"2_Bachillerato\"})\n",
    "\n",
    "AllCSD2019[\"Asignatura\"] = AllCSD2019[\"Asignatura\"].map({1: \"Aprendizajes_Básicos\",\n",
    "                                                   4: \"Atlas_Escolares\",\n",
    "                                                   7: \"Biología\",\n",
    "                                                   8: \"Biología_y_Geología\",\n",
    "                                                   9: \"C_A_B\",\n",
    "                                                   12: \"Ciencia_Tecnología_y_Sociedad\",\n",
    "                                                   13: \"Ciencias_de_la_Naturaleza\",\n",
    "                                                   14: \"Ciencias_para_el_Mundo_Contemp\",\n",
    "                                                   15: \"Ciencias_Sociales\",\n",
    "                                                   16: \"Comprensión_Lectora\",\n",
    "                                                   18: \"Conocimiento_del_Medio\",\n",
    "                                                   19: \"Conocimiento_del_Medio_Natural\",\n",
    "                                                   20: \"Conocimiento_del_Medio_Social\",\n",
    "                                                   21: \"Conviure\",\n",
    "                                                   22: \"Cultura_Clásica\",\n",
    "                                                   24: \"Dibujo_Técnico\",\n",
    "                                                   25: \"Diccionarios_Escolares\",\n",
    "                                                   26: \"Economía\",\n",
    "                                                   29: \"Educación_para_la_Ciudadanía\",\n",
    "                                                   34: \"Ética\",\n",
    "                                                   35: \"Filosofía\",\n",
    "                                                   36: \"Física\",\n",
    "                                                   37: \"Física_y_Química\",\n",
    "                                                   38: \"Francés\",\n",
    "                                                   39: \"Geografía\",\n",
    "                                                   40: \"Geografía_e_Historia\",\n",
    "                                                   41: \"Grafomotricidad\",\n",
    "                                                   42: \"Griego\",\n",
    "                                                   43: \"Historia\",\n",
    "                                                   45: \"Historia_del_Arte\",\n",
    "                                                   47: \"Informática\",\n",
    "                                                   48: \"Inglés\",\n",
    "                                                   50: \"Latín\",\n",
    "                                                   51: \"Lectoescritura\",\n",
    "                                                   52: \"Lecturas\",\n",
    "                                                   53: \"Lengua_Autonómica\",\n",
    "                                                   54: \"Lengua_Castellana\",\n",
    "                                                   60: \"Matemáticas\",\n",
    "                                                   61: \"Matemáticas(Ciencias_Naturale)\",\n",
    "                                                   62: \"Matemáticas(Ciencias_Sociales)\",\n",
    "                                                   63: \"Áreas_Integradas\",\n",
    "                                                   65: \"Música\",\n",
    "                                                   68: \"Ortografía\",\n",
    "                                                   70: \"PAI\",\n",
    "                                                   71: \"PAM\",\n",
    "                                                   72: \"Plan_Lector\",\n",
    "                                                   73: \"Plástica\",\n",
    "                                                   78: \"Química\",\n",
    "                                                   79: \"Religión\",\n",
    "                                                   81: \"Sociedad_Cultura_y_Religión\",\n",
    "                                                   82: \"Tecnología\",\n",
    "                                                   83: \"Tutoría\",\n",
    "                                                   84: \"Vacaciones\",\n",
    "                                                   85: \"Biblias_Escolares\",\n",
    "                                                   87: \"Competencias_Básicas\",\n",
    "                                                   88: \"Educación_Emocional\",\n",
    "                                                   89: \"Ciencias_de_la_Tierra_y_Medio\",\n",
    "                                                   90: \"Tecnologías_de_la_Información\",\n",
    "                                                   227: \"Diver_Curricular(Social)\",\n",
    "                                                   228: \"Escritura\",\n",
    "                                                   229: \"Science\",\n",
    "                                                   230: \"Arts_and_Crafts\",\n",
    "                                                   235: \"Agenda\",\n",
    "                                                   236: \"Music\",\n",
    "                                                   237: \"Visual_Arts\",\n",
    "                                                   238: \"Social_Science\",\n",
    "                                                   239: \"Natural_Science\",\n",
    "                                                   241: \"Tecnologia_Industrial\",\n",
    "                                                   242: \"Diver_Curricular(Tecno)\",\n",
    "                                                   243: \"Alternativa_Religión\",\n",
    "                                                   246: \"Literatura\",\n",
    "                                                   249: \"Materias_artísticas\",\n",
    "                                                   259: \"Proyectos\",\n",
    "                                                   262: \"Geography_and_History\",\n",
    "                                                   263: \"Biology_and_Geology\",\n",
    "                                                   265: \"Valores_Sociales_y_Cívicos\",\n",
    "                                                   266: \"Sciences_Naturelles\",\n",
    "                                                   267: \"Sciences_Sociales\",\n",
    "                                                   269: \"Cultura_Científica\",\n",
    "                                                   270: \"Educación_Física\",\n",
    "                                                   271: \"Physical_Education\",\n",
    "                                                   272: \"Inteligencias_Múltiples\",\n",
    "                                                   274: \"Publicaciones_Generales\",\n",
    "                                                   275:\"Unknown\",\n",
    "                                                   276: \"Áreas_Integradas_Unidades_Te\",\n",
    "                                                   277: \"Tecnology\",\n",
    "                                                   278: \"Pastoral\",\n",
    "                                                   279: \"PMAR(Técnico)\",\n",
    "                                                   280: \"PMAR(Social)\",\n",
    "                                                   292: \"Plan_Lector_Loran\",\n",
    "                                                   293: \"App\",\n",
    "                                                   298: \"Áreas_Integradas_Bilingüe\",\n",
    "                                                   299: \"Proyectos_Bilingüe\",\n",
    "                                                   900:\"Unknown\"})"
   ]
  },
  {
   "cell_type": "code",
   "execution_count": 41,
   "metadata": {
    "ExecuteTime": {
     "end_time": "2020-03-20T04:44:30.282436Z",
     "start_time": "2020-03-20T04:44:27.279906Z"
    }
   },
   "outputs": [
    {
     "data": {
      "text/html": [
       "<div>\n",
       "<style scoped>\n",
       "    .dataframe tbody tr th:only-of-type {\n",
       "        vertical-align: middle;\n",
       "    }\n",
       "\n",
       "    .dataframe tbody tr th {\n",
       "        vertical-align: top;\n",
       "    }\n",
       "\n",
       "    .dataframe thead th {\n",
       "        text-align: right;\n",
       "    }\n",
       "</style>\n",
       "<table border=\"1\" class=\"dataframe\">\n",
       "  <thead>\n",
       "    <tr style=\"text-align: right;\">\n",
       "      <th></th>\n",
       "      <th>Unique_Id</th>\n",
       "      <th>Id_Cliente</th>\n",
       "      <th>Año_Natural</th>\n",
       "      <th>Años_Curso</th>\n",
       "      <th>Curso</th>\n",
       "      <th>Asignatura</th>\n",
       "      <th>Tipo_Material_Educativo</th>\n",
       "      <th>Lengua</th>\n",
       "      <th>Tipo_Soporte_Actual</th>\n",
       "      <th>Variable_1</th>\n",
       "      <th>...</th>\n",
       "      <th>Longitud</th>\n",
       "      <th>Comunidad_Autónoma</th>\n",
       "      <th>Id_Asociación</th>\n",
       "      <th>Id_Subasociación</th>\n",
       "      <th>Titularidad</th>\n",
       "      <th>Grupo_Editorial</th>\n",
       "      <th>Grupo_Editorial_PY</th>\n",
       "      <th>Grupo_Editorial_Nombre</th>\n",
       "      <th>Change</th>\n",
       "      <th>Target</th>\n",
       "    </tr>\n",
       "  </thead>\n",
       "  <tbody>\n",
       "    <tr>\n",
       "      <th>1824234</th>\n",
       "      <td>20641331481131</td>\n",
       "      <td>206413</td>\n",
       "      <td>2018</td>\n",
       "      <td>2</td>\n",
       "      <td>6_Primaria</td>\n",
       "      <td>Inglés</td>\n",
       "      <td>Básico</td>\n",
       "      <td>Castellano</td>\n",
       "      <td>Papel</td>\n",
       "      <td>25.0</td>\n",
       "      <td>...</td>\n",
       "      <td>2.027149</td>\n",
       "      <td>Cataluña</td>\n",
       "      <td>nan</td>\n",
       "      <td>nan</td>\n",
       "      <td>Público</td>\n",
       "      <td>4</td>\n",
       "      <td>4</td>\n",
       "      <td>Editorial</td>\n",
       "      <td>Editorial_to_Editorial</td>\n",
       "      <td>0</td>\n",
       "    </tr>\n",
       "    <tr>\n",
       "      <th>1172307</th>\n",
       "      <td>19256029481131</td>\n",
       "      <td>192560</td>\n",
       "      <td>2017</td>\n",
       "      <td>2</td>\n",
       "      <td>4_Primaria</td>\n",
       "      <td>Inglés</td>\n",
       "      <td>Básico</td>\n",
       "      <td>Castellano</td>\n",
       "      <td>Papel</td>\n",
       "      <td>25.0</td>\n",
       "      <td>...</td>\n",
       "      <td>-2.698706</td>\n",
       "      <td>País Vasco</td>\n",
       "      <td>nan</td>\n",
       "      <td>nan</td>\n",
       "      <td>Público</td>\n",
       "      <td>10</td>\n",
       "      <td>10</td>\n",
       "      <td>Editorial</td>\n",
       "      <td>Editorial_to_Editorial</td>\n",
       "      <td>0</td>\n",
       "    </tr>\n",
       "    <tr>\n",
       "      <th>1111396</th>\n",
       "      <td>17465932543131</td>\n",
       "      <td>174659</td>\n",
       "      <td>2017</td>\n",
       "      <td>2</td>\n",
       "      <td>1_Secundaria</td>\n",
       "      <td>Lengua_Castellana</td>\n",
       "      <td>Cuaderno_asociado</td>\n",
       "      <td>Castellano</td>\n",
       "      <td>Papel</td>\n",
       "      <td>134.0</td>\n",
       "      <td>...</td>\n",
       "      <td>1.957909</td>\n",
       "      <td>Cataluña</td>\n",
       "      <td>nan</td>\n",
       "      <td>nan</td>\n",
       "      <td>Público</td>\n",
       "      <td>18</td>\n",
       "      <td>18</td>\n",
       "      <td>Editorial</td>\n",
       "      <td>Editorial_to_Editorial</td>\n",
       "      <td>0</td>\n",
       "    </tr>\n",
       "    <tr>\n",
       "      <th>587585</th>\n",
       "      <td>203209272744131</td>\n",
       "      <td>203209</td>\n",
       "      <td>2016</td>\n",
       "      <td>1</td>\n",
       "      <td>2_Primaria</td>\n",
       "      <td>Publicaciones_Generales</td>\n",
       "      <td>Prescribible</td>\n",
       "      <td>Castellano</td>\n",
       "      <td>Papel</td>\n",
       "      <td>125.0</td>\n",
       "      <td>...</td>\n",
       "      <td>-3.706616</td>\n",
       "      <td>Madrid</td>\n",
       "      <td>614.0</td>\n",
       "      <td>109.0</td>\n",
       "      <td>Privado</td>\n",
       "      <td>1</td>\n",
       "      <td>NaN</td>\n",
       "      <td>New_Course</td>\n",
       "      <td>New_course_SM</td>\n",
       "      <td>0</td>\n",
       "    </tr>\n",
       "    <tr>\n",
       "      <th>1223160</th>\n",
       "      <td>21013830483131</td>\n",
       "      <td>210138</td>\n",
       "      <td>2017</td>\n",
       "      <td>1</td>\n",
       "      <td>5_Primaria</td>\n",
       "      <td>Inglés</td>\n",
       "      <td>Cuaderno_asociado</td>\n",
       "      <td>Castellano</td>\n",
       "      <td>Papel</td>\n",
       "      <td>27.0</td>\n",
       "      <td>...</td>\n",
       "      <td>-0.432980</td>\n",
       "      <td>Comunidad Valenciana</td>\n",
       "      <td>nan</td>\n",
       "      <td>nan</td>\n",
       "      <td>Católico</td>\n",
       "      <td>20</td>\n",
       "      <td>NaN</td>\n",
       "      <td>New_Course</td>\n",
       "      <td>New_course_Editorial</td>\n",
       "      <td>0</td>\n",
       "    </tr>\n",
       "  </tbody>\n",
       "</table>\n",
       "<p>5 rows × 22 columns</p>\n",
       "</div>"
      ],
      "text/plain": [
       "               Unique_Id Id_Cliente  Año_Natural  Años_Curso         Curso  \\\n",
       "1824234   20641331481131     206413         2018           2    6_Primaria   \n",
       "1172307   19256029481131     192560         2017           2    4_Primaria   \n",
       "1111396   17465932543131     174659         2017           2  1_Secundaria   \n",
       "587585   203209272744131     203209         2016           1    2_Primaria   \n",
       "1223160   21013830483131     210138         2017           1    5_Primaria   \n",
       "\n",
       "                      Asignatura Tipo_Material_Educativo      Lengua  \\\n",
       "1824234                   Inglés                  Básico  Castellano   \n",
       "1172307                   Inglés                  Básico  Castellano   \n",
       "1111396        Lengua_Castellana       Cuaderno_asociado  Castellano   \n",
       "587585   Publicaciones_Generales            Prescribible  Castellano   \n",
       "1223160                   Inglés       Cuaderno_asociado  Castellano   \n",
       "\n",
       "        Tipo_Soporte_Actual  Variable_1  ...  Longitud    Comunidad_Autónoma  \\\n",
       "1824234               Papel        25.0  ...  2.027149              Cataluña   \n",
       "1172307               Papel        25.0  ... -2.698706            País Vasco   \n",
       "1111396               Papel       134.0  ...  1.957909              Cataluña   \n",
       "587585                Papel       125.0  ... -3.706616                Madrid   \n",
       "1223160               Papel        27.0  ... -0.432980  Comunidad Valenciana   \n",
       "\n",
       "         Id_Asociación Id_Subasociación Titularidad Grupo_Editorial  \\\n",
       "1824234            nan              nan     Público               4   \n",
       "1172307            nan              nan     Público              10   \n",
       "1111396            nan              nan     Público              18   \n",
       "587585           614.0            109.0     Privado               1   \n",
       "1223160            nan              nan    Católico              20   \n",
       "\n",
       "        Grupo_Editorial_PY Grupo_Editorial_Nombre                  Change  \\\n",
       "1824234                  4              Editorial  Editorial_to_Editorial   \n",
       "1172307                 10              Editorial  Editorial_to_Editorial   \n",
       "1111396                 18              Editorial  Editorial_to_Editorial   \n",
       "587585                 NaN             New_Course           New_course_SM   \n",
       "1223160                NaN             New_Course    New_course_Editorial   \n",
       "\n",
       "        Target  \n",
       "1824234      0  \n",
       "1172307      0  \n",
       "1111396      0  \n",
       "587585       0  \n",
       "1223160      0  \n",
       "\n",
       "[5 rows x 22 columns]"
      ]
     },
     "execution_count": 41,
     "metadata": {},
     "output_type": "execute_result"
    }
   ],
   "source": [
    "AllData.sample(5)"
   ]
  },
  {
   "cell_type": "code",
   "execution_count": 42,
   "metadata": {
    "ExecuteTime": {
     "end_time": "2020-03-20T04:44:39.652288Z",
     "start_time": "2020-03-20T04:44:38.621184Z"
    }
   },
   "outputs": [
    {
     "data": {
      "text/html": [
       "<div>\n",
       "<style scoped>\n",
       "    .dataframe tbody tr th:only-of-type {\n",
       "        vertical-align: middle;\n",
       "    }\n",
       "\n",
       "    .dataframe tbody tr th {\n",
       "        vertical-align: top;\n",
       "    }\n",
       "\n",
       "    .dataframe thead th {\n",
       "        text-align: right;\n",
       "    }\n",
       "</style>\n",
       "<table border=\"1\" class=\"dataframe\">\n",
       "  <thead>\n",
       "    <tr style=\"text-align: right;\">\n",
       "      <th></th>\n",
       "      <th>Unique_Id</th>\n",
       "      <th>Id_Cliente</th>\n",
       "      <th>Año_Natural</th>\n",
       "      <th>Años_Curso</th>\n",
       "      <th>Curso</th>\n",
       "      <th>Asignatura</th>\n",
       "      <th>Tipo_Material_Educativo</th>\n",
       "      <th>Lengua</th>\n",
       "      <th>Tipo_Soporte_Actual</th>\n",
       "      <th>Variable_1</th>\n",
       "      <th>Variable_2</th>\n",
       "      <th>Latitud</th>\n",
       "      <th>Longitud</th>\n",
       "      <th>Comunidad_Autónoma</th>\n",
       "      <th>Id_Asociación</th>\n",
       "      <th>Id_Subasociación</th>\n",
       "      <th>Titularidad</th>\n",
       "      <th>Grupo_Editorial_PY</th>\n",
       "      <th>Grupo_Editorial_Nombre</th>\n",
       "    </tr>\n",
       "  </thead>\n",
       "  <tbody>\n",
       "    <tr>\n",
       "      <th>382932</th>\n",
       "      <td>1692933281131</td>\n",
       "      <td>169293</td>\n",
       "      <td>2019</td>\n",
       "      <td>4</td>\n",
       "      <td>1_Secundaria</td>\n",
       "      <td>Biología_y_Geología</td>\n",
       "      <td>Básico</td>\n",
       "      <td>Castellano</td>\n",
       "      <td>Papel</td>\n",
       "      <td>25.0</td>\n",
       "      <td>677.00</td>\n",
       "      <td>38.360037</td>\n",
       "      <td>-0.468935</td>\n",
       "      <td>Comunidad Valenciana</td>\n",
       "      <td>nan</td>\n",
       "      <td>nan</td>\n",
       "      <td>Privado</td>\n",
       "      <td>4</td>\n",
       "      <td>Editorial</td>\n",
       "    </tr>\n",
       "    <tr>\n",
       "      <th>509263</th>\n",
       "      <td>17659035481131</td>\n",
       "      <td>176590</td>\n",
       "      <td>2019</td>\n",
       "      <td>4</td>\n",
       "      <td>4_Secundaria</td>\n",
       "      <td>Inglés</td>\n",
       "      <td>Básico</td>\n",
       "      <td>Castellano</td>\n",
       "      <td>Papel</td>\n",
       "      <td>50.0</td>\n",
       "      <td>1394.00</td>\n",
       "      <td>40.387962</td>\n",
       "      <td>-3.732976</td>\n",
       "      <td>Madrid</td>\n",
       "      <td>nan</td>\n",
       "      <td>nan</td>\n",
       "      <td>Público</td>\n",
       "      <td>4</td>\n",
       "      <td>Editorial</td>\n",
       "    </tr>\n",
       "    <tr>\n",
       "      <th>345447</th>\n",
       "      <td>16714136611181</td>\n",
       "      <td>167141</td>\n",
       "      <td>2019</td>\n",
       "      <td>4</td>\n",
       "      <td>1_Bachillerato</td>\n",
       "      <td>Matemáticas(Ciencias_Naturale)</td>\n",
       "      <td>Básico</td>\n",
       "      <td>Valenciano</td>\n",
       "      <td>Papel</td>\n",
       "      <td>20.0</td>\n",
       "      <td>707.20</td>\n",
       "      <td>39.366229</td>\n",
       "      <td>-0.454734</td>\n",
       "      <td>Comunidad Valenciana</td>\n",
       "      <td>nan</td>\n",
       "      <td>nan</td>\n",
       "      <td>Público</td>\n",
       "      <td>2</td>\n",
       "      <td>Editorial</td>\n",
       "    </tr>\n",
       "    <tr>\n",
       "      <th>604158</th>\n",
       "      <td>20952537621101</td>\n",
       "      <td>209525</td>\n",
       "      <td>2019</td>\n",
       "      <td>4</td>\n",
       "      <td>2_Bachillerato</td>\n",
       "      <td>Matemáticas(Ciencias_Sociales)</td>\n",
       "      <td>Básico</td>\n",
       "      <td>Catalán</td>\n",
       "      <td>Papel</td>\n",
       "      <td>11.0</td>\n",
       "      <td>301.18</td>\n",
       "      <td>41.396444</td>\n",
       "      <td>2.163556</td>\n",
       "      <td>Cataluña</td>\n",
       "      <td>nan</td>\n",
       "      <td>nan</td>\n",
       "      <td>Católico</td>\n",
       "      <td>5</td>\n",
       "      <td>Editorial</td>\n",
       "    </tr>\n",
       "    <tr>\n",
       "      <th>378237</th>\n",
       "      <td>16905829541131</td>\n",
       "      <td>169058</td>\n",
       "      <td>2019</td>\n",
       "      <td>4</td>\n",
       "      <td>4_Primaria</td>\n",
       "      <td>Lengua_Castellana</td>\n",
       "      <td>Básico</td>\n",
       "      <td>Castellano</td>\n",
       "      <td>Papel</td>\n",
       "      <td>4.0</td>\n",
       "      <td>105.76</td>\n",
       "      <td>42.367877</td>\n",
       "      <td>-2.809217</td>\n",
       "      <td>La Rioja</td>\n",
       "      <td>nan</td>\n",
       "      <td>nan</td>\n",
       "      <td>Público</td>\n",
       "      <td>2</td>\n",
       "      <td>Editorial</td>\n",
       "    </tr>\n",
       "  </tbody>\n",
       "</table>\n",
       "</div>"
      ],
      "text/plain": [
       "             Unique_Id Id_Cliente  Año_Natural  Años_Curso           Curso  \\\n",
       "382932   1692933281131     169293         2019           4    1_Secundaria   \n",
       "509263  17659035481131     176590         2019           4    4_Secundaria   \n",
       "345447  16714136611181     167141         2019           4  1_Bachillerato   \n",
       "604158  20952537621101     209525         2019           4  2_Bachillerato   \n",
       "378237  16905829541131     169058         2019           4      4_Primaria   \n",
       "\n",
       "                            Asignatura Tipo_Material_Educativo      Lengua  \\\n",
       "382932             Biología_y_Geología                  Básico  Castellano   \n",
       "509263                          Inglés                  Básico  Castellano   \n",
       "345447  Matemáticas(Ciencias_Naturale)                  Básico  Valenciano   \n",
       "604158  Matemáticas(Ciencias_Sociales)                  Básico     Catalán   \n",
       "378237               Lengua_Castellana                  Básico  Castellano   \n",
       "\n",
       "       Tipo_Soporte_Actual  Variable_1  Variable_2    Latitud  Longitud  \\\n",
       "382932               Papel        25.0      677.00  38.360037 -0.468935   \n",
       "509263               Papel        50.0     1394.00  40.387962 -3.732976   \n",
       "345447               Papel        20.0      707.20  39.366229 -0.454734   \n",
       "604158               Papel        11.0      301.18  41.396444  2.163556   \n",
       "378237               Papel         4.0      105.76  42.367877 -2.809217   \n",
       "\n",
       "          Comunidad_Autónoma Id_Asociación Id_Subasociación Titularidad  \\\n",
       "382932  Comunidad Valenciana           nan              nan     Privado   \n",
       "509263                Madrid           nan              nan     Público   \n",
       "345447  Comunidad Valenciana           nan              nan     Público   \n",
       "604158              Cataluña           nan              nan    Católico   \n",
       "378237              La Rioja           nan              nan     Público   \n",
       "\n",
       "       Grupo_Editorial_PY Grupo_Editorial_Nombre  \n",
       "382932                  4              Editorial  \n",
       "509263                  4              Editorial  \n",
       "345447                  2              Editorial  \n",
       "604158                  5              Editorial  \n",
       "378237                  2              Editorial  "
      ]
     },
     "execution_count": 42,
     "metadata": {},
     "output_type": "execute_result"
    }
   ],
   "source": [
    "AllCSD2019.sample(5)"
   ]
  },
  {
   "cell_type": "code",
   "execution_count": 43,
   "metadata": {
    "ExecuteTime": {
     "end_time": "2020-03-20T01:39:56.814731Z",
     "start_time": "2020-03-20T01:19:26.598576Z"
    }
   },
   "outputs": [],
   "source": [
    "# Getting advanced report for all sorts of wanted information about the data\n",
    "#AllData.profile_report()"
   ]
  },
  {
   "cell_type": "code",
   "execution_count": 44,
   "metadata": {
    "ExecuteTime": {
     "end_time": "2020-03-20T01:46:03.504386Z",
     "start_time": "2020-03-20T01:40:11.602707Z"
    }
   },
   "outputs": [],
   "source": [
    "# Getting advanced report for all sorts of wanted information about the data\n",
    "#AllCSD2019.profile_report()"
   ]
  },
  {
   "cell_type": "code",
   "execution_count": 45,
   "metadata": {
    "ExecuteTime": {
     "end_time": "2020-03-20T01:46:44.120996Z",
     "start_time": "2020-03-20T01:46:44.111637Z"
    }
   },
   "outputs": [
    {
     "data": {
      "text/plain": [
       "(1848211, 22)"
      ]
     },
     "execution_count": 45,
     "metadata": {},
     "output_type": "execute_result"
    }
   ],
   "source": [
    "# Checking the size of the dataframe\n",
    "AllData.shape"
   ]
  },
  {
   "cell_type": "code",
   "execution_count": 46,
   "metadata": {
    "ExecuteTime": {
     "end_time": "2020-03-20T01:46:36.401061Z",
     "start_time": "2020-03-20T01:46:35.895007Z"
    },
    "scrolled": false
   },
   "outputs": [
    {
     "data": {
      "text/html": [
       "<div>\n",
       "<style scoped>\n",
       "    .dataframe tbody tr th:only-of-type {\n",
       "        vertical-align: middle;\n",
       "    }\n",
       "\n",
       "    .dataframe tbody tr th {\n",
       "        vertical-align: top;\n",
       "    }\n",
       "\n",
       "    .dataframe thead th {\n",
       "        text-align: right;\n",
       "    }\n",
       "</style>\n",
       "<table border=\"1\" class=\"dataframe\">\n",
       "  <thead>\n",
       "    <tr style=\"text-align: right;\">\n",
       "      <th>Año_Natural</th>\n",
       "      <th>2016</th>\n",
       "      <th>2017</th>\n",
       "      <th>2018</th>\n",
       "    </tr>\n",
       "    <tr>\n",
       "      <th>Change</th>\n",
       "      <th></th>\n",
       "      <th></th>\n",
       "      <th></th>\n",
       "    </tr>\n",
       "  </thead>\n",
       "  <tbody>\n",
       "    <tr>\n",
       "      <th>Editorial_to_Editorial</th>\n",
       "      <td>0</td>\n",
       "      <td>286545</td>\n",
       "      <td>286360</td>\n",
       "    </tr>\n",
       "    <tr>\n",
       "      <th>Editorial_to_No-Use</th>\n",
       "      <td>0</td>\n",
       "      <td>17570</td>\n",
       "      <td>15483</td>\n",
       "    </tr>\n",
       "    <tr>\n",
       "      <th>Editorial_to_SM</th>\n",
       "      <td>0</td>\n",
       "      <td>3051</td>\n",
       "      <td>2915</td>\n",
       "    </tr>\n",
       "    <tr>\n",
       "      <th>New_course_Editorial</th>\n",
       "      <td>364326</td>\n",
       "      <td>60701</td>\n",
       "      <td>53926</td>\n",
       "    </tr>\n",
       "    <tr>\n",
       "      <th>New_course_No-Use</th>\n",
       "      <td>172621</td>\n",
       "      <td>26463</td>\n",
       "      <td>29335</td>\n",
       "    </tr>\n",
       "    <tr>\n",
       "      <th>New_course_SM</th>\n",
       "      <td>75780</td>\n",
       "      <td>15101</td>\n",
       "      <td>14225</td>\n",
       "    </tr>\n",
       "    <tr>\n",
       "      <th>No-Use_to_Editorial</th>\n",
       "      <td>0</td>\n",
       "      <td>7614</td>\n",
       "      <td>6626</td>\n",
       "    </tr>\n",
       "    <tr>\n",
       "      <th>No-Use_to_No-Use</th>\n",
       "      <td>0</td>\n",
       "      <td>138273</td>\n",
       "      <td>153262</td>\n",
       "    </tr>\n",
       "    <tr>\n",
       "      <th>SM_to_Editorial</th>\n",
       "      <td>0</td>\n",
       "      <td>2237</td>\n",
       "      <td>3061</td>\n",
       "    </tr>\n",
       "    <tr>\n",
       "      <th>SM_to_No-Use</th>\n",
       "      <td>0</td>\n",
       "      <td>3592</td>\n",
       "      <td>3334</td>\n",
       "    </tr>\n",
       "    <tr>\n",
       "      <th>SM_to_SM</th>\n",
       "      <td>0</td>\n",
       "      <td>54483</td>\n",
       "      <td>51327</td>\n",
       "    </tr>\n",
       "  </tbody>\n",
       "</table>\n",
       "</div>"
      ],
      "text/plain": [
       "Año_Natural               2016    2017    2018\n",
       "Change                                        \n",
       "Editorial_to_Editorial       0  286545  286360\n",
       "Editorial_to_No-Use          0   17570   15483\n",
       "Editorial_to_SM              0    3051    2915\n",
       "New_course_Editorial    364326   60701   53926\n",
       "New_course_No-Use       172621   26463   29335\n",
       "New_course_SM            75780   15101   14225\n",
       "No-Use_to_Editorial          0    7614    6626\n",
       "No-Use_to_No-Use             0  138273  153262\n",
       "SM_to_Editorial              0    2237    3061\n",
       "SM_to_No-Use                 0    3592    3334\n",
       "SM_to_SM                     0   54483   51327"
      ]
     },
     "execution_count": 46,
     "metadata": {},
     "output_type": "execute_result"
    }
   ],
   "source": [
    "# Creating a pivot table to see changes from year to year\n",
    "pd.pivot_table(AllData, values='Unique_Id', index=['Change'],\n",
    "               columns=['Año_Natural'], aggfunc= \"count\", fill_value=0)"
   ]
  },
  {
   "cell_type": "code",
   "execution_count": 47,
   "metadata": {
    "ExecuteTime": {
     "end_time": "2020-03-20T01:47:00.397877Z",
     "start_time": "2020-03-20T01:47:00.171230Z"
    }
   },
   "outputs": [
    {
     "data": {
      "text/plain": [
       "Comunidad_Autónoma\n",
       "Cataluña                534415\n",
       "Comunidad Valenciana    475411\n",
       "Madrid                  415047\n",
       "Islas Canarias          171939\n",
       "País Vasco              168297\n",
       "Navarra                  57045\n",
       "La Rioja                 26057\n",
       "Name: Unique_Id, dtype: int64"
      ]
     },
     "execution_count": 47,
     "metadata": {},
     "output_type": "execute_result"
    }
   ],
   "source": [
    "# Checking number of unique id's for each autonomous region (OBS! Some unique id's are counted thrice)\n",
    "AllData.groupby([\"Comunidad_Autónoma\"])[\"Unique_Id\"].count().sort_values(ascending = False)"
   ]
  },
  {
   "cell_type": "code",
   "execution_count": 69,
   "metadata": {},
   "outputs": [
    {
     "name": "stdout",
     "output_type": "stream",
     "text": [
      "Comunidad_Autónoma\n",
      "Cataluña                221856\n",
      "Comunidad Valenciana    195484\n",
      "Madrid                  168938\n",
      "Islas Canarias           72192\n",
      "País Vasco               68338\n",
      "Navarra                  23360\n",
      "La Rioja                 10555\n",
      "Name: Unique_Id, dtype: int64\n",
      "\n",
      "Total Unique_Ids Across All Communities: 760723\n"
     ]
    }
   ],
   "source": [
    "# EDIT: This code would have solved it\n",
    "df1 = AllData.drop_duplicates(['Comunidad_Autónoma','Unique_Id']).groupby('Comunidad_Autónoma')['Unique_Id'].count().sort_values(ascending = False)\n",
    "\n",
    "print(df1)\n",
    "print(f'\\nTotal Unique_Ids Across All Communities: {sum(df1.values)}')"
   ]
  },
  {
   "cell_type": "code",
   "execution_count": 48,
   "metadata": {
    "ExecuteTime": {
     "end_time": "2020-03-20T01:47:15.393190Z",
     "start_time": "2020-03-20T01:47:15.053909Z"
    }
   },
   "outputs": [
    {
     "data": {
      "text/html": [
       "<div>\n",
       "<style scoped>\n",
       "    .dataframe tbody tr th:only-of-type {\n",
       "        vertical-align: middle;\n",
       "    }\n",
       "\n",
       "    .dataframe tbody tr th {\n",
       "        vertical-align: top;\n",
       "    }\n",
       "\n",
       "    .dataframe thead th {\n",
       "        text-align: right;\n",
       "    }\n",
       "</style>\n",
       "<table border=\"1\" class=\"dataframe\">\n",
       "  <thead>\n",
       "    <tr style=\"text-align: right;\">\n",
       "      <th></th>\n",
       "      <th>Año_Natural</th>\n",
       "      <th>Años_Curso</th>\n",
       "      <th>Variable_1</th>\n",
       "      <th>Variable_2</th>\n",
       "      <th>Latitud</th>\n",
       "      <th>Longitud</th>\n",
       "      <th>Target</th>\n",
       "    </tr>\n",
       "  </thead>\n",
       "  <tbody>\n",
       "    <tr>\n",
       "      <th>count</th>\n",
       "      <td>1.848211e+06</td>\n",
       "      <td>1.848211e+06</td>\n",
       "      <td>1.848211e+06</td>\n",
       "      <td>1.848211e+06</td>\n",
       "      <td>1.848211e+06</td>\n",
       "      <td>1.848211e+06</td>\n",
       "      <td>1.848211e+06</td>\n",
       "    </tr>\n",
       "    <tr>\n",
       "      <th>mean</th>\n",
       "      <td>2.017004e+03</td>\n",
       "      <td>1.798165e+00</td>\n",
       "      <td>4.493939e+01</td>\n",
       "      <td>9.533061e+02</td>\n",
       "      <td>3.963234e+01</td>\n",
       "      <td>-2.167174e+00</td>\n",
       "      <td>2.992120e-01</td>\n",
       "    </tr>\n",
       "    <tr>\n",
       "      <th>std</th>\n",
       "      <td>8.166336e-01</td>\n",
       "      <td>7.978926e-01</td>\n",
       "      <td>3.688406e+01</td>\n",
       "      <td>8.946435e+02</td>\n",
       "      <td>3.860972e+00</td>\n",
       "      <td>4.903088e+00</td>\n",
       "      <td>4.579130e-01</td>\n",
       "    </tr>\n",
       "    <tr>\n",
       "      <th>min</th>\n",
       "      <td>2.016000e+03</td>\n",
       "      <td>1.000000e+00</td>\n",
       "      <td>0.000000e+00</td>\n",
       "      <td>0.000000e+00</td>\n",
       "      <td>2.764251e+01</td>\n",
       "      <td>-1.800816e+01</td>\n",
       "      <td>0.000000e+00</td>\n",
       "    </tr>\n",
       "    <tr>\n",
       "      <th>25%</th>\n",
       "      <td>2.016000e+03</td>\n",
       "      <td>1.000000e+00</td>\n",
       "      <td>2.100000e+01</td>\n",
       "      <td>3.786300e+02</td>\n",
       "      <td>3.946443e+01</td>\n",
       "      <td>-3.652994e+00</td>\n",
       "      <td>0.000000e+00</td>\n",
       "    </tr>\n",
       "    <tr>\n",
       "      <th>50%</th>\n",
       "      <td>2.017000e+03</td>\n",
       "      <td>2.000000e+00</td>\n",
       "      <td>3.600000e+01</td>\n",
       "      <td>7.131600e+02</td>\n",
       "      <td>4.045290e+01</td>\n",
       "      <td>-6.695810e-01</td>\n",
       "      <td>0.000000e+00</td>\n",
       "    </tr>\n",
       "    <tr>\n",
       "      <th>75%</th>\n",
       "      <td>2.018000e+03</td>\n",
       "      <td>2.000000e+00</td>\n",
       "      <td>5.700000e+01</td>\n",
       "      <td>1.273920e+03</td>\n",
       "      <td>4.154873e+01</td>\n",
       "      <td>1.217233e+00</td>\n",
       "      <td>1.000000e+00</td>\n",
       "    </tr>\n",
       "    <tr>\n",
       "      <th>max</th>\n",
       "      <td>2.018000e+03</td>\n",
       "      <td>3.000000e+00</td>\n",
       "      <td>1.540000e+03</td>\n",
       "      <td>3.461744e+04</td>\n",
       "      <td>4.342480e+01</td>\n",
       "      <td>3.280878e+00</td>\n",
       "      <td>1.000000e+00</td>\n",
       "    </tr>\n",
       "  </tbody>\n",
       "</table>\n",
       "</div>"
      ],
      "text/plain": [
       "        Año_Natural    Años_Curso    Variable_1    Variable_2       Latitud  \\\n",
       "count  1.848211e+06  1.848211e+06  1.848211e+06  1.848211e+06  1.848211e+06   \n",
       "mean   2.017004e+03  1.798165e+00  4.493939e+01  9.533061e+02  3.963234e+01   \n",
       "std    8.166336e-01  7.978926e-01  3.688406e+01  8.946435e+02  3.860972e+00   \n",
       "min    2.016000e+03  1.000000e+00  0.000000e+00  0.000000e+00  2.764251e+01   \n",
       "25%    2.016000e+03  1.000000e+00  2.100000e+01  3.786300e+02  3.946443e+01   \n",
       "50%    2.017000e+03  2.000000e+00  3.600000e+01  7.131600e+02  4.045290e+01   \n",
       "75%    2.018000e+03  2.000000e+00  5.700000e+01  1.273920e+03  4.154873e+01   \n",
       "max    2.018000e+03  3.000000e+00  1.540000e+03  3.461744e+04  4.342480e+01   \n",
       "\n",
       "           Longitud        Target  \n",
       "count  1.848211e+06  1.848211e+06  \n",
       "mean  -2.167174e+00  2.992120e-01  \n",
       "std    4.903088e+00  4.579130e-01  \n",
       "min   -1.800816e+01  0.000000e+00  \n",
       "25%   -3.652994e+00  0.000000e+00  \n",
       "50%   -6.695810e-01  0.000000e+00  \n",
       "75%    1.217233e+00  1.000000e+00  \n",
       "max    3.280878e+00  1.000000e+00  "
      ]
     },
     "execution_count": 48,
     "metadata": {},
     "output_type": "execute_result"
    }
   ],
   "source": [
    "# Deeper look into our numerical features\n",
    "AllData.describe()"
   ]
  },
  {
   "cell_type": "markdown",
   "metadata": {},
   "source": [
    "## Checking for NA's"
   ]
  },
  {
   "cell_type": "code",
   "execution_count": 49,
   "metadata": {
    "ExecuteTime": {
     "end_time": "2020-03-20T01:47:33.373749Z",
     "start_time": "2020-03-20T01:47:31.714938Z"
    }
   },
   "outputs": [
    {
     "data": {
      "text/plain": [
       "Unique_Id                       0\n",
       "Id_Cliente                      0\n",
       "Año_Natural                     0\n",
       "Años_Curso                      0\n",
       "Curso                           0\n",
       "Asignatura                      0\n",
       "Tipo_Material_Educativo         0\n",
       "Lengua                          0\n",
       "Tipo_Soporte_Actual             0\n",
       "Variable_1                      0\n",
       "Variable_2                      0\n",
       "Latitud                         0\n",
       "Longitud                        0\n",
       "Comunidad_Autónoma              0\n",
       "Id_Asociación                   0\n",
       "Id_Subasociación                0\n",
       "Titularidad                     0\n",
       "Grupo_Editorial                 0\n",
       "Grupo_Editorial_PY         812478\n",
       "Grupo_Editorial_Nombre          0\n",
       "Change                          0\n",
       "Target                          0\n",
       "dtype: int64"
      ]
     },
     "execution_count": 49,
     "metadata": {},
     "output_type": "execute_result"
    }
   ],
   "source": [
    "# Checking for NA's\n",
    "AllData.isna().sum()"
   ]
  },
  {
   "cell_type": "code",
   "execution_count": 50,
   "metadata": {
    "ExecuteTime": {
     "end_time": "2020-03-20T04:48:34.131100Z",
     "start_time": "2020-03-20T04:48:33.208828Z"
    }
   },
   "outputs": [
    {
     "data": {
      "text/plain": [
       "Unique_Id                      0\n",
       "Id_Cliente                     0\n",
       "Año_Natural                    0\n",
       "Años_Curso                     0\n",
       "Curso                          0\n",
       "Asignatura                     0\n",
       "Tipo_Material_Educativo        0\n",
       "Lengua                         0\n",
       "Tipo_Soporte_Actual            0\n",
       "Variable_1                     0\n",
       "Variable_2                     0\n",
       "Latitud                        0\n",
       "Longitud                       0\n",
       "Comunidad_Autónoma             0\n",
       "Id_Asociación                  0\n",
       "Id_Subasociación               0\n",
       "Titularidad                    0\n",
       "Grupo_Editorial_PY         81022\n",
       "Grupo_Editorial_Nombre         0\n",
       "dtype: int64"
      ]
     },
     "execution_count": 50,
     "metadata": {},
     "output_type": "execute_result"
    }
   ],
   "source": [
    "AllCSD2019.isna().sum()"
   ]
  },
  {
   "cell_type": "markdown",
   "metadata": {},
   "source": [
    "## Plots to see the distribution for our categorical features"
   ]
  },
  {
   "cell_type": "code",
   "execution_count": 51,
   "metadata": {
    "ExecuteTime": {
     "end_time": "2020-03-20T04:49:05.629773Z",
     "start_time": "2020-03-20T04:48:52.800729Z"
    }
   },
   "outputs": [
    {
     "data": {
      "image/png": "[encoded data removed]",
      "text/plain": [
       "<Figure size 1152x1152 with 8 Axes>"
      ]
     },
     "metadata": {},
     "output_type": "display_data"
    }
   ],
   "source": [
    "# setting the size of the plots\n",
    "plt.figure(figsize = (16,16))\n",
    "\n",
    "plt.subplot(4,2,1)\n",
    "plt.tight_layout()\n",
    "ax = sns.countplot(y=\"Tipo_Material_Educativo\", data=AllData)\n",
    "plt.title('Tipo_Material_Educativo', fontsize = 15)\n",
    "plt.xlabel('Count')\n",
    "plt.ylabel(\"\")\n",
    "total = len(AllData['Tipo_Material_Educativo'])\n",
    "for i in ax.patches:\n",
    "        percentage = '{:.1f}%'.format(100 * i.get_width()/total)\n",
    "        x = i.get_x() + i.get_width() + 0.02\n",
    "        y = i.get_y() + i.get_height()/2\n",
    "        ax.annotate(percentage, (x, y))\n",
    "\n",
    "plt.subplot(4,2,2)\n",
    "plt.tight_layout()\n",
    "ax = sns.countplot(y = \"Tipo_Soporte_Actual\", data = AllData)\n",
    "plt.title('Tipo_Soporte_Actual', fontsize = 15)\n",
    "plt.xlabel('Count')\n",
    "plt.ylabel(\"\")\n",
    "total = len(AllData['Tipo_Soporte_Actual'])\n",
    "for i in ax.patches:\n",
    "        percentage = '{:.1f}%'.format(100 * i.get_width()/total)\n",
    "        x = i.get_x() + i.get_width() + 0.02\n",
    "        y = i.get_y() + i.get_height()/2\n",
    "        ax.annotate(percentage, (x, y))\n",
    "        \n",
    "plt.subplot(4,2,4)\n",
    "plt.tight_layout()\n",
    "ax = sns.countplot(y = \"Lengua\", data = AllData)\n",
    "plt.title('Lengua', fontsize = 15)\n",
    "plt.xlabel('Count')\n",
    "plt.ylabel(\"\")\n",
    "total = len(AllData['Lengua'])\n",
    "for i in ax.patches:\n",
    "        percentage = '{:.1f}%'.format(100 * i.get_width()/total)\n",
    "        x = i.get_x() + i.get_width() + 0.02\n",
    "        y = i.get_y() + i.get_height()/2\n",
    "        ax.annotate(percentage, (x, y))\n",
    "        \n",
    "plt.subplot(4,2,3)\n",
    "plt.tight_layout()\n",
    "ax = sns.countplot(y = \"Comunidad_Autónoma\", data = AllData)\n",
    "plt.title('Comunidad_Autónoma', fontsize = 15)\n",
    "plt.xlabel('Count')\n",
    "plt.ylabel(\"\")\n",
    "total = len(AllData['Comunidad_Autónoma'])\n",
    "for i in ax.patches:\n",
    "        percentage = '{:.1f}%'.format(100 * i.get_width()/total)\n",
    "        x = i.get_x() + i.get_width() + 0.02\n",
    "        y = i.get_y() + i.get_height()/2\n",
    "        ax.annotate(percentage, (x, y))\n",
    "        \n",
    "plt.subplot(4,2,5)\n",
    "plt.tight_layout()\n",
    "ax = sns.countplot(y = \"Titularidad\", data = AllData)\n",
    "plt.title('Titularidad', fontsize = 15)\n",
    "plt.xlabel('Count')\n",
    "plt.ylabel(\"\")\n",
    "total = len(AllData['Titularidad'])\n",
    "for i in ax.patches:\n",
    "        percentage = '{:.1f}%'.format(100 * i.get_width()/total)\n",
    "        x = i.get_x() + i.get_width() + 0.02\n",
    "        y = i.get_y() + i.get_height()/2\n",
    "        ax.annotate(percentage, (x, y))\n",
    "        \n",
    "plt.subplot(4,2,6)\n",
    "plt.tight_layout()\n",
    "ax = sns.countplot(y = \"Grupo_Editorial_Nombre\", data = AllData)\n",
    "plt.title('Grupo_Editorial_Nombre', fontsize = 15)\n",
    "plt.xlabel('Count')\n",
    "plt.ylabel(\"\")\n",
    "total = len(AllData['Grupo_Editorial_Nombre'])\n",
    "for i in ax.patches:\n",
    "        percentage = '{:.1f}%'.format(100 * i.get_width()/total)\n",
    "        x = i.get_x() + i.get_width() + 0.02\n",
    "        y = i.get_y() + i.get_height()/2\n",
    "        ax.annotate(percentage, (x, y))\n",
    "        \n",
    "plt.subplot(4,2,7)\n",
    "plt.tight_layout()\n",
    "ax = sns.countplot(y = \"Change\", data = AllData)\n",
    "plt.title('Change', fontsize = 15)\n",
    "plt.xlabel('Count')\n",
    "plt.ylabel(\"\")\n",
    "total = len(AllData['Change'])\n",
    "for i in ax.patches:\n",
    "        percentage = '{:.1f}%'.format(100 * i.get_width()/total)\n",
    "        x = i.get_x() + i.get_width() + 0.02\n",
    "        y = i.get_y() + i.get_height()/2\n",
    "        ax.annotate(percentage, (x, y))\n",
    "        \n",
    "plt.subplot(4,2,8)\n",
    "plt.tight_layout()\n",
    "ax = sns.countplot(y = \"Target\", data = AllData)\n",
    "plt.title('Target', fontsize = 15)\n",
    "plt.xlabel('Count')\n",
    "plt.ylabel(\"\")\n",
    "total = len(AllData['Target'])\n",
    "for i in ax.patches:\n",
    "        percentage = '{:.1f}%'.format(100 * i.get_width()/total)\n",
    "        x = i.get_x() + i.get_width() + 0.02\n",
    "        y = i.get_y() + i.get_height()/2\n",
    "        ax.annotate(percentage, (x, y))\n",
    "        \n",
    "plt.show()"
   ]
  },
  {
   "cell_type": "code",
   "execution_count": 52,
   "metadata": {
    "ExecuteTime": {
     "end_time": "2020-03-20T04:50:04.790984Z",
     "start_time": "2020-03-20T04:50:01.087300Z"
    }
   },
   "outputs": [
    {
     "data": {
      "image/png": "[encoded data removed]",
      "text/plain": [
       "<Figure size 1152x1728 with 1 Axes>"
      ]
     },
     "metadata": {},
     "output_type": "display_data"
    }
   ],
   "source": [
    "plt.figure(figsize=(16,24))\n",
    "plt.tight_layout()\n",
    "ax = sns.countplot(y = \"Asignatura\", data = AllData)\n",
    "plt.title('Asignatura', fontsize = 20)\n",
    "plt.xlabel('Count')\n",
    "plt.ylabel(\"\")\n",
    "total = len(AllData['Asignatura'])\n",
    "for i in ax.patches:\n",
    "        percentage = '{:.1f}%'.format(100 * i.get_width()/total)\n",
    "        x = i.get_x() + i.get_width() + 0.02\n",
    "        y = i.get_y() + i.get_height()/2\n",
    "        ax.annotate(percentage, (x, y))\n",
    "\n",
    "plt.show()"
   ]
  },
  {
   "cell_type": "code",
   "execution_count": 53,
   "metadata": {
    "ExecuteTime": {
     "end_time": "2020-03-20T04:50:16.823403Z",
     "start_time": "2020-03-20T04:50:15.859351Z"
    }
   },
   "outputs": [
    {
     "data": {
      "image/png": "[encoded data removed]",
      "text/plain": [
       "<Figure size 1152x576 with 1 Axes>"
      ]
     },
     "metadata": {},
     "output_type": "display_data"
    }
   ],
   "source": [
    "plt.figure(figsize=(16,8))\n",
    "plt.tight_layout()\n",
    "ax = sns.countplot(y = \"Curso\", data = AllData)\n",
    "plt.title('Curso', fontsize = 20)\n",
    "plt.xlabel('Count')\n",
    "plt.ylabel(\"\")\n",
    "total = len(AllData['Curso'])\n",
    "for i in ax.patches:\n",
    "        percentage = '{:.1f}%'.format(100 * i.get_width()/total)\n",
    "        x = i.get_x() + i.get_width() + 0.02\n",
    "        y = i.get_y() + i.get_height()/2\n",
    "        ax.annotate(percentage, (x, y))\n",
    "        \n",
    "plt.show()"
   ]
  },
  {
   "cell_type": "markdown",
   "metadata": {},
   "source": [
    "## Checking for Outliers"
   ]
  },
  {
   "cell_type": "code",
   "execution_count": 54,
   "metadata": {
    "ExecuteTime": {
     "end_time": "2020-03-20T04:50:26.962951Z",
     "start_time": "2020-03-20T04:50:24.819129Z"
    },
    "scrolled": false
   },
   "outputs": [
    {
     "data": {
      "image/png": "[encoded data removed]",
      "text/plain": [
       "<Figure size 1152x576 with 4 Axes>"
      ]
     },
     "metadata": {},
     "output_type": "display_data"
    }
   ],
   "source": [
    "# setting the size of the plots\n",
    "plt.figure(figsize = (16,8))\n",
    "\n",
    "# plotting boxplot to check for outliers for Variable_2\n",
    "plt.subplot(2,2,1)\n",
    "plt.tight_layout()\n",
    "AllData.boxplot([\"Variable_2\"], grid=False, fontsize=16)\n",
    "\n",
    "# plotting boxplot to check for outliers for Variable_1\n",
    "plt.subplot(2,2,2)\n",
    "plt.tight_layout()\n",
    "AllData.boxplot([\"Variable_1\"], grid=False, fontsize=16)\n",
    "\n",
    "# plotting boxplot to check for outliers for Año_Natural\n",
    "plt.subplot(2,2,3)\n",
    "plt.tight_layout()\n",
    "AllData.boxplot([\"Año_Natural\"], grid=False, fontsize=16)\n",
    "\n",
    "# plotting boxplot to check for outliers for Años_Curso\n",
    "plt.subplot(2,2,4)\n",
    "plt.tight_layout()\n",
    "AllData.boxplot([\"Años_Curso\"], grid=False, fontsize=16)\n",
    "\n",
    "plt.show()"
   ]
  },
  {
   "cell_type": "markdown",
   "metadata": {},
   "source": [
    "## Obtaining valuable insights"
   ]
  },
  {
   "cell_type": "code",
   "execution_count": 55,
   "metadata": {
    "ExecuteTime": {
     "end_time": "2020-03-20T04:50:34.945714Z",
     "start_time": "2020-03-20T04:50:34.649146Z"
    }
   },
   "outputs": [
    {
     "data": {
      "text/plain": [
       "117484    653\n",
       "185903    648\n",
       "169293    641\n",
       "168405    640\n",
       "137884    635\n",
       "         ... \n",
       "181330      3\n",
       "136476      3\n",
       "209859      3\n",
       "211324      2\n",
       "204155      2\n",
       "Name: Id_Cliente, Length: 7994, dtype: int64"
      ]
     },
     "execution_count": 55,
     "metadata": {},
     "output_type": "execute_result"
    }
   ],
   "source": [
    "# Checking which schools are repeated the most\n",
    "AllData[\"Id_Cliente\"].value_counts()"
   ]
  },
  {
   "cell_type": "code",
   "execution_count": 56,
   "metadata": {
    "ExecuteTime": {
     "end_time": "2020-03-20T04:50:43.670037Z",
     "start_time": "2020-03-20T04:50:43.400221Z"
    }
   },
   "outputs": [
    {
     "data": {
      "text/plain": [
       "3_Primaria        173207\n",
       "4_Primaria        171432\n",
       "5_Primaria        171114\n",
       "6_Primaria        168457\n",
       "2_Primaria        167601\n",
       "1_Primaria        166538\n",
       "4_Secundaria      132874\n",
       "3_Secundaria      125468\n",
       "1_Secundaria      108186\n",
       "2_Secundaria      107651\n",
       "2_Bachillerato    103601\n",
       "1_Bachillerato     98790\n",
       "5_años             52472\n",
       "4_años             51226\n",
       "3_años             46280\n",
       "2_años              2409\n",
       "1_año                698\n",
       "0_años               207\n",
       "Name: Curso, dtype: int64"
      ]
     },
     "execution_count": 56,
     "metadata": {},
     "output_type": "execute_result"
    }
   ],
   "source": [
    "# Checking which courses thar are repeated the most\n",
    "AllData[\"Curso\"].value_counts()"
   ]
  },
  {
   "cell_type": "code",
   "execution_count": 57,
   "metadata": {
    "ExecuteTime": {
     "end_time": "2020-03-20T04:50:54.205974Z",
     "start_time": "2020-03-20T04:50:54.024679Z"
    }
   },
   "outputs": [
    {
     "data": {
      "text/plain": [
       "Castellano    1206105\n",
       "Catalán        362611\n",
       "Valenciano     166646\n",
       "Euskera        112849\n",
       "Name: Lengua, dtype: int64"
      ]
     },
     "execution_count": 57,
     "metadata": {},
     "output_type": "execute_result"
    }
   ],
   "source": [
    "# Checking which languages that are most used\n",
    "AllData[\"Lengua\"].value_counts()"
   ]
  },
  {
   "cell_type": "code",
   "execution_count": 58,
   "metadata": {
    "ExecuteTime": {
     "end_time": "2020-03-20T04:56:14.754654Z",
     "start_time": "2020-03-20T04:56:14.556695Z"
    }
   },
   "outputs": [
    {
     "data": {
      "text/plain": [
       "Id_Cliente\n",
       "137878    81971.0\n",
       "193055    80099.0\n",
       "136542    76271.0\n",
       "175016    72339.0\n",
       "193672    65027.0\n",
       "           ...   \n",
       "175492       20.0\n",
       "181143       20.0\n",
       "129425       18.0\n",
       "187472       16.0\n",
       "167554        3.0\n",
       "Name: Variable_1, Length: 7994, dtype: float64"
      ]
     },
     "execution_count": 58,
     "metadata": {},
     "output_type": "execute_result"
    }
   ],
   "source": [
    "# Checking which schools have the highest number of potential book purchases\n",
    "AllData.groupby([\"Id_Cliente\"])[\"Variable_1\"].sum().sort_values(ascending = False)"
   ]
  },
  {
   "cell_type": "code",
   "execution_count": 59,
   "metadata": {
    "ExecuteTime": {
     "end_time": "2020-03-20T05:02:08.887955Z",
     "start_time": "2020-03-20T05:02:08.002530Z"
    }
   },
   "outputs": [
    {
     "data": {
      "text/html": [
       "<div>\n",
       "<style scoped>\n",
       "    .dataframe tbody tr th:only-of-type {\n",
       "        vertical-align: middle;\n",
       "    }\n",
       "\n",
       "    .dataframe tbody tr th {\n",
       "        vertical-align: top;\n",
       "    }\n",
       "\n",
       "    .dataframe thead th {\n",
       "        text-align: right;\n",
       "    }\n",
       "</style>\n",
       "<table border=\"1\" class=\"dataframe\">\n",
       "  <thead>\n",
       "    <tr style=\"text-align: right;\">\n",
       "      <th>Año_Natural</th>\n",
       "      <th>2016</th>\n",
       "      <th>2017</th>\n",
       "      <th>2018</th>\n",
       "    </tr>\n",
       "    <tr>\n",
       "      <th>Change</th>\n",
       "      <th></th>\n",
       "      <th></th>\n",
       "      <th></th>\n",
       "    </tr>\n",
       "  </thead>\n",
       "  <tbody>\n",
       "    <tr>\n",
       "      <th>Editorial_to_Editorial</th>\n",
       "      <td>0</td>\n",
       "      <td>286545</td>\n",
       "      <td>286360</td>\n",
       "    </tr>\n",
       "    <tr>\n",
       "      <th>Editorial_to_No-Use</th>\n",
       "      <td>0</td>\n",
       "      <td>17570</td>\n",
       "      <td>15483</td>\n",
       "    </tr>\n",
       "    <tr>\n",
       "      <th>Editorial_to_SM</th>\n",
       "      <td>0</td>\n",
       "      <td>3051</td>\n",
       "      <td>2915</td>\n",
       "    </tr>\n",
       "    <tr>\n",
       "      <th>New_course_Editorial</th>\n",
       "      <td>364326</td>\n",
       "      <td>60701</td>\n",
       "      <td>53926</td>\n",
       "    </tr>\n",
       "    <tr>\n",
       "      <th>New_course_No-Use</th>\n",
       "      <td>172621</td>\n",
       "      <td>26463</td>\n",
       "      <td>29335</td>\n",
       "    </tr>\n",
       "    <tr>\n",
       "      <th>New_course_SM</th>\n",
       "      <td>75780</td>\n",
       "      <td>15101</td>\n",
       "      <td>14225</td>\n",
       "    </tr>\n",
       "    <tr>\n",
       "      <th>No-Use_to_Editorial</th>\n",
       "      <td>0</td>\n",
       "      <td>7614</td>\n",
       "      <td>6626</td>\n",
       "    </tr>\n",
       "    <tr>\n",
       "      <th>No-Use_to_No-Use</th>\n",
       "      <td>0</td>\n",
       "      <td>138273</td>\n",
       "      <td>153262</td>\n",
       "    </tr>\n",
       "    <tr>\n",
       "      <th>SM_to_Editorial</th>\n",
       "      <td>0</td>\n",
       "      <td>2237</td>\n",
       "      <td>3061</td>\n",
       "    </tr>\n",
       "    <tr>\n",
       "      <th>SM_to_No-Use</th>\n",
       "      <td>0</td>\n",
       "      <td>3592</td>\n",
       "      <td>3334</td>\n",
       "    </tr>\n",
       "    <tr>\n",
       "      <th>SM_to_SM</th>\n",
       "      <td>0</td>\n",
       "      <td>54483</td>\n",
       "      <td>51327</td>\n",
       "    </tr>\n",
       "  </tbody>\n",
       "</table>\n",
       "</div>"
      ],
      "text/plain": [
       "Año_Natural               2016    2017    2018\n",
       "Change                                        \n",
       "Editorial_to_Editorial       0  286545  286360\n",
       "Editorial_to_No-Use          0   17570   15483\n",
       "Editorial_to_SM              0    3051    2915\n",
       "New_course_Editorial    364326   60701   53926\n",
       "New_course_No-Use       172621   26463   29335\n",
       "New_course_SM            75780   15101   14225\n",
       "No-Use_to_Editorial          0    7614    6626\n",
       "No-Use_to_No-Use             0  138273  153262\n",
       "SM_to_Editorial              0    2237    3061\n",
       "SM_to_No-Use                 0    3592    3334\n",
       "SM_to_SM                     0   54483   51327"
      ]
     },
     "execution_count": 59,
     "metadata": {},
     "output_type": "execute_result"
    }
   ],
   "source": [
    "# Creating a pivot table to see changes from year to year\n",
    "pd.pivot_table(AllData, values='Unique_Id', index=['Change'],\n",
    "               columns=['Año_Natural'], aggfunc= \"count\", fill_value=0)"
   ]
  },
  {
   "cell_type": "code",
   "execution_count": 60,
   "metadata": {
    "ExecuteTime": {
     "end_time": "2020-03-20T05:05:12.077846Z",
     "start_time": "2020-03-20T05:05:11.540188Z"
    }
   },
   "outputs": [
    {
     "data": {
      "text/html": [
       "<div>\n",
       "<style scoped>\n",
       "    .dataframe tbody tr th:only-of-type {\n",
       "        vertical-align: middle;\n",
       "    }\n",
       "\n",
       "    .dataframe tbody tr th {\n",
       "        vertical-align: top;\n",
       "    }\n",
       "\n",
       "    .dataframe thead th {\n",
       "        text-align: right;\n",
       "    }\n",
       "</style>\n",
       "<table border=\"1\" class=\"dataframe\">\n",
       "  <thead>\n",
       "    <tr style=\"text-align: right;\">\n",
       "      <th>Año_Natural</th>\n",
       "      <th>2016</th>\n",
       "      <th>2017</th>\n",
       "      <th>2018</th>\n",
       "    </tr>\n",
       "    <tr>\n",
       "      <th>Id_Cliente</th>\n",
       "      <th></th>\n",
       "      <th></th>\n",
       "      <th></th>\n",
       "    </tr>\n",
       "  </thead>\n",
       "  <tbody>\n",
       "    <tr>\n",
       "      <th>113956</th>\n",
       "      <td>0</td>\n",
       "      <td>149</td>\n",
       "      <td>145</td>\n",
       "    </tr>\n",
       "    <tr>\n",
       "      <th>113958</th>\n",
       "      <td>132</td>\n",
       "      <td>134</td>\n",
       "      <td>128</td>\n",
       "    </tr>\n",
       "    <tr>\n",
       "      <th>113960</th>\n",
       "      <td>186</td>\n",
       "      <td>190</td>\n",
       "      <td>0</td>\n",
       "    </tr>\n",
       "    <tr>\n",
       "      <th>113962</th>\n",
       "      <td>160</td>\n",
       "      <td>154</td>\n",
       "      <td>138</td>\n",
       "    </tr>\n",
       "    <tr>\n",
       "      <th>113963</th>\n",
       "      <td>41</td>\n",
       "      <td>39</td>\n",
       "      <td>39</td>\n",
       "    </tr>\n",
       "    <tr>\n",
       "      <th>...</th>\n",
       "      <td>...</td>\n",
       "      <td>...</td>\n",
       "      <td>...</td>\n",
       "    </tr>\n",
       "    <tr>\n",
       "      <th>212517</th>\n",
       "      <td>0</td>\n",
       "      <td>0</td>\n",
       "      <td>80</td>\n",
       "    </tr>\n",
       "    <tr>\n",
       "      <th>212528</th>\n",
       "      <td>0</td>\n",
       "      <td>0</td>\n",
       "      <td>174</td>\n",
       "    </tr>\n",
       "    <tr>\n",
       "      <th>212529</th>\n",
       "      <td>0</td>\n",
       "      <td>0</td>\n",
       "      <td>143</td>\n",
       "    </tr>\n",
       "    <tr>\n",
       "      <th>212534</th>\n",
       "      <td>0</td>\n",
       "      <td>0</td>\n",
       "      <td>135</td>\n",
       "    </tr>\n",
       "    <tr>\n",
       "      <th>212536</th>\n",
       "      <td>0</td>\n",
       "      <td>0</td>\n",
       "      <td>155</td>\n",
       "    </tr>\n",
       "  </tbody>\n",
       "</table>\n",
       "<p>7994 rows × 3 columns</p>\n",
       "</div>"
      ],
      "text/plain": [
       "Año_Natural  2016  2017  2018\n",
       "Id_Cliente                   \n",
       "113956          0   149   145\n",
       "113958        132   134   128\n",
       "113960        186   190     0\n",
       "113962        160   154   138\n",
       "113963         41    39    39\n",
       "...           ...   ...   ...\n",
       "212517          0     0    80\n",
       "212528          0     0   174\n",
       "212529          0     0   143\n",
       "212534          0     0   135\n",
       "212536          0     0   155\n",
       "\n",
       "[7994 rows x 3 columns]"
      ]
     },
     "execution_count": 60,
     "metadata": {},
     "output_type": "execute_result"
    }
   ],
   "source": [
    "# Creating a pivot table to see the development of classes for each school\n",
    "pd.pivot_table(AllData, values='Unique_Id', index=['Id_Cliente'],\n",
    "               columns=['Año_Natural'], aggfunc= \"count\", fill_value=0)"
   ]
  },
  {
   "cell_type": "code",
   "execution_count": 61,
   "metadata": {
    "ExecuteTime": {
     "end_time": "2020-03-20T05:05:20.206176Z",
     "start_time": "2020-03-20T05:05:19.985879Z"
    }
   },
   "outputs": [
    {
     "data": {
      "text/plain": [
       "Id_Cliente\n",
       "137878    1621429.54\n",
       "175016    1515357.57\n",
       "127136    1500537.75\n",
       "166643    1430284.35\n",
       "136542    1410881.37\n",
       "             ...    \n",
       "174355        654.01\n",
       "175492        629.68\n",
       "129425        546.71\n",
       "187472        502.48\n",
       "167554         79.37\n",
       "Name: Variable_2, Length: 7994, dtype: float64"
      ]
     },
     "execution_count": 61,
     "metadata": {},
     "output_type": "execute_result"
    }
   ],
   "source": [
    "# Checking which schools that creates the biggest revenue\n",
    "AllData.groupby([\"Id_Cliente\"])[\"Variable_2\"].sum().sort_values(ascending = False)"
   ]
  },
  {
   "cell_type": "code",
   "execution_count": 62,
   "metadata": {
    "ExecuteTime": {
     "end_time": "2020-03-20T05:05:37.660012Z",
     "start_time": "2020-03-20T05:05:37.498302Z"
    }
   },
   "outputs": [
    {
     "data": {
      "text/plain": [
       "Titularidad\n",
       "Católico    3.747902e+08\n",
       "Privado     2.908143e+08\n",
       "Público     1.096306e+09\n",
       "Name: Variable_2, dtype: float64"
      ]
     },
     "execution_count": 62,
     "metadata": {},
     "output_type": "execute_result"
    }
   ],
   "source": [
    "# Checking which school clssification that creates the biggest revenue\n",
    "AllData.groupby([\"Titularidad\"])[\"Variable_2\"].sum()"
   ]
  },
  {
   "cell_type": "code",
   "execution_count": 63,
   "metadata": {
    "ExecuteTime": {
     "end_time": "2020-03-20T05:23:18.172350Z",
     "start_time": "2020-03-20T05:23:17.736062Z"
    }
   },
   "outputs": [
    {
     "data": {
      "text/plain": [
       "Id_Cliente\n",
       "134980    703690.71\n",
       "134716    683754.10\n",
       "206405    636067.10\n",
       "136399    619770.56\n",
       "133900    604943.79\n",
       "            ...    \n",
       "124357        65.17\n",
       "191514        63.57\n",
       "172095        39.57\n",
       "140018        37.88\n",
       "171775        32.52\n",
       "Name: Variable_2, Length: 7892, dtype: float64"
      ]
     },
     "execution_count": 63,
     "metadata": {},
     "output_type": "execute_result"
    }
   ],
   "source": [
    "# Checking which schools that are responsible for the most potential revenue loss\n",
    "# Creating a dataframe for only rows with target variable set to 1\n",
    "Target = AllData[AllData[\"Target\"] == 1]\n",
    "Target.groupby([\"Id_Cliente\"])[\"Variable_2\"].sum().sort_values(ascending = False)"
   ]
  },
  {
   "cell_type": "code",
   "execution_count": 64,
   "metadata": {
    "ExecuteTime": {
     "end_time": "2020-03-20T05:22:39.847151Z",
     "start_time": "2020-03-20T05:22:39.793896Z"
    }
   },
   "outputs": [
    {
     "data": {
      "text/plain": [
       "Comunidad_Autónoma\n",
       "Cataluña                1.508337e+08\n",
       "Comunidad Valenciana    9.741538e+07\n",
       "Madrid                  9.414759e+07\n",
       "País Vasco              5.629054e+07\n",
       "Islas Canarias          5.215869e+07\n",
       "Navarra                 1.137268e+07\n",
       "La Rioja                3.851342e+06\n",
       "Name: Variable_2, dtype: float64"
      ]
     },
     "execution_count": 64,
     "metadata": {},
     "output_type": "execute_result"
    }
   ],
   "source": [
    "# Checking which autonomous regions that are responsible for the most potential revenue loss\n",
    "Target.groupby([\"Comunidad_Autónoma\"])[\"Variable_2\"].sum().sort_values(ascending = False)"
   ]
  },
  {
   "cell_type": "markdown",
   "metadata": {},
   "source": [
    "## Checking Coordinates"
   ]
  },
  {
   "cell_type": "code",
   "execution_count": 65,
   "metadata": {
    "ExecuteTime": {
     "end_time": "2020-03-20T03:16:06.890304Z",
     "start_time": "2020-03-20T03:15:49.411955Z"
    }
   },
   "outputs": [],
   "source": [
    "# setting our coordinates for the map\n",
    "coordinates_dict = {}\n",
    "for i in clientes.Id_Cliente:\n",
    "    coordinates_dict[i] = list(clientes.loc[clientes.Id_Cliente == i ,['Longitud','Latitud']].values[0])"
   ]
  },
  {
   "cell_type": "code",
   "execution_count": 66,
   "metadata": {
    "ExecuteTime": {
     "end_time": "2020-03-20T03:44:36.723898Z",
     "start_time": "2020-03-20T03:44:36.464449Z"
    }
   },
   "outputs": [],
   "source": [
    "import mplleaflet\n",
    "import networkx as nx\n",
    "\n",
    "cliente = clientes.set_index(\"Id_Cliente\").to_dict(\"index\").items()\n",
    "\n",
    "# adding school location to an graph object\n",
    "G = nx.Graph()\n",
    "G = nx.from_pandas_edgelist(clientes, source = \"Id_Cliente\",\n",
    "                                   target = \"Id_Cliente\",\n",
    "                                   create_using = nx.Graph)\n",
    "G.add_nodes_from(cliente)"
   ]
  },
  {
   "cell_type": "code",
   "execution_count": 67,
   "metadata": {
    "ExecuteTime": {
     "end_time": "2020-03-20T04:15:45.955297Z",
     "start_time": "2020-03-20T04:15:45.464369Z"
    },
    "scrolled": false
   },
   "outputs": [
    {
     "data": {
      "image/png": "[encoded data removed]",
      "text/plain": [
       "<Figure size 1440x720 with 1 Axes>"
      ]
     },
     "metadata": {},
     "output_type": "display_data"
    }
   ],
   "source": [
    "# Plotting the coordinates of the schools. the package \"mplleaflet\" was not helpful showing it on a map, so it\n",
    "# only shows the distributions of unique clients\n",
    "fig, ax = plt.subplots(figsize =(20,10))\n",
    "\n",
    "nx.draw_networkx_nodes(G, pos = coordinates_dict, node_size = 3)\n",
    "\n",
    "plt.show()"
   ]
  },
  {
   "cell_type": "markdown",
   "metadata": {},
   "source": [
    "As mentioned in the introduction of this file, please move on to the document called \"DATATHONGROUPD\" for the rest of the notebook and modeling"
   ]
  },
  {
   "cell_type": "code",
   "execution_count": null,
   "metadata": {},
   "outputs": [],
   "source": []
  }
 ],
 "metadata": {
  "hide_input": false,
  "kernelspec": {
   "display_name": "Python 3",
   "language": "python",
   "name": "python3"
  },
  "language_info": {
   "codemirror_mode": {
    "name": "ipython",
    "version": 3
   },
   "file_extension": ".py",
   "mimetype": "text/x-python",
   "name": "python",
   "nbconvert_exporter": "python",
   "pygments_lexer": "ipython3",
   "version": "3.7.4"
  },
  "toc": {
   "base_numbering": 1,
   "nav_menu": {},
   "number_sections": true,
   "sideBar": true,
   "skip_h1_title": false,
   "title_cell": "Table of Contents",
   "title_sidebar": "Table of Contents",
   "toc_cell": true,
   "toc_position": {},
   "toc_section_display": true,
   "toc_window_display": true
  },
  "varInspector": {
   "cols": {
    "lenName": 16,
    "lenType": 16,
    "lenVar": 40
   },
   "kernels_config": {
    "python": {
     "delete_cmd_postfix": "",
     "delete_cmd_prefix": "del ",
     "library": "var_list.py",
     "varRefreshCmd": "print(var_dic_list())"
    },
    "r": {
     "delete_cmd_postfix": ") ",
     "delete_cmd_prefix": "rm(",
     "library": "var_list.r",
     "varRefreshCmd": "cat(var_dic_list()) "
    }
   },
   "types_to_exclude": [
    "module",
    "function",
    "builtin_function_or_method",
    "instance",
    "_Feature"
   ],
   "window_display": false
  }
 },
 "nbformat": 4,
 "nbformat_minor": 2
}
