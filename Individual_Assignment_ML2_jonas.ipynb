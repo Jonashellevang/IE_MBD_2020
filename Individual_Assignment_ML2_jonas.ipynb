{
 "cells": [
  {
   "cell_type": "markdown",
   "metadata": {
    "toc": true
   },
   "source": [
    "<h1>Table of Contents<span class=\"tocSkip\"></span></h1>\n",
    "<div class=\"toc\"><ul class=\"toc-item\"><li><span><a href=\"#Importing-Libraries\" data-toc-modified-id=\"Importing-Libraries-1\"><span class=\"toc-item-num\">1&nbsp;&nbsp;</span>Importing Libraries</a></span></li><li><span><a href=\"#Data-Loading\" data-toc-modified-id=\"Data-Loading-2\"><span class=\"toc-item-num\">2&nbsp;&nbsp;</span>Data Loading</a></span></li><li><span><a href=\"#Data-Preparation\" data-toc-modified-id=\"Data-Preparation-3\"><span class=\"toc-item-num\">3&nbsp;&nbsp;</span>Data Preparation</a></span><ul class=\"toc-item\"><li><span><a href=\"#Checking-for-NA's\" data-toc-modified-id=\"Checking-for-NA's-3.1\"><span class=\"toc-item-num\">3.1&nbsp;&nbsp;</span>Checking for NA's</a></span></li><li><span><a href=\"#Checking-for-Outliers\" data-toc-modified-id=\"Checking-for-Outliers-3.2\"><span class=\"toc-item-num\">3.2&nbsp;&nbsp;</span>Checking for Outliers</a></span></li><li><span><a href=\"#Setting-the-Target-Variable\" data-toc-modified-id=\"Setting-the-Target-Variable-3.3\"><span class=\"toc-item-num\">3.3&nbsp;&nbsp;</span>Setting the Target Variable</a></span></li><li><span><a href=\"#One-hot-encoding\" data-toc-modified-id=\"One-hot-encoding-3.4\"><span class=\"toc-item-num\">3.4&nbsp;&nbsp;</span>One-hot encoding</a></span></li><li><span><a href=\"#Skewness\" data-toc-modified-id=\"Skewness-3.5\"><span class=\"toc-item-num\">3.5&nbsp;&nbsp;</span>Skewness</a></span><ul class=\"toc-item\"><li><span><a href=\"#Plotting-Skewness\" data-toc-modified-id=\"Plotting-Skewness-3.5.1\"><span class=\"toc-item-num\">3.5.1&nbsp;&nbsp;</span>Plotting Skewness</a></span></li><li><span><a href=\"#Fixing-Skewness\" data-toc-modified-id=\"Fixing-Skewness-3.5.2\"><span class=\"toc-item-num\">3.5.2&nbsp;&nbsp;</span>Fixing Skewness</a></span></li></ul></li><li><span><a href=\"#Scale\" data-toc-modified-id=\"Scale-3.6\"><span class=\"toc-item-num\">3.6&nbsp;&nbsp;</span>Scale</a></span></li></ul></li><li><span><a href=\"#Baseline\" data-toc-modified-id=\"Baseline-4\"><span class=\"toc-item-num\">4&nbsp;&nbsp;</span>Baseline</a></span></li><li><span><a href=\"#Feature-Engineering\" data-toc-modified-id=\"Feature-Engineering-5\"><span class=\"toc-item-num\">5&nbsp;&nbsp;</span>Feature Engineering</a></span><ul class=\"toc-item\"><li><span><a href=\"#Step-1:-Outliers\" data-toc-modified-id=\"Step-1:-Outliers-5.1\"><span class=\"toc-item-num\">5.1&nbsp;&nbsp;</span>Step-1: Outliers</a></span></li><li><span><a href=\"#Step-2:-Information-Gain\" data-toc-modified-id=\"Step-2:-Information-Gain-5.2\"><span class=\"toc-item-num\">5.2&nbsp;&nbsp;</span>Step-2: Information Gain</a></span></li><li><span><a href=\"#Step-3:-Correlation\" data-toc-modified-id=\"Step-3:-Correlation-5.3\"><span class=\"toc-item-num\">5.3&nbsp;&nbsp;</span>Step-3: Correlation</a></span></li><li><span><a href=\"#Step-4:-Feature-Importance\" data-toc-modified-id=\"Step-4:-Feature-Importance-5.4\"><span class=\"toc-item-num\">5.4&nbsp;&nbsp;</span>Step-4: Feature Importance</a></span></li><li><span><a href=\"#Step-5:-Discretizing-and-One-Hot-Encoding\" data-toc-modified-id=\"Step-5:-Discretizing-and-One-Hot-Encoding-5.5\"><span class=\"toc-item-num\">5.5&nbsp;&nbsp;</span>Step-5: Discretizing and One-Hot Encoding</a></span><ul class=\"toc-item\"><li><span><a href=\"#Histograms\" data-toc-modified-id=\"Histograms-5.5.1\"><span class=\"toc-item-num\">5.5.1&nbsp;&nbsp;</span>Histograms</a></span></li><li><span><a href=\"#Further-Analysis-and-Discretizing/One-Hot-Encoding\" data-toc-modified-id=\"Further-Analysis-and-Discretizing/One-Hot-Encoding-5.5.2\"><span class=\"toc-item-num\">5.5.2&nbsp;&nbsp;</span>Further Analysis and Discretizing/One-Hot Encoding</a></span></li><li><span><a href=\"#Running-our-Logistic-Regression\" data-toc-modified-id=\"Running-our-Logistic-Regression-5.5.3\"><span class=\"toc-item-num\">5.5.3&nbsp;&nbsp;</span>Running our Logistic Regression</a></span></li></ul></li><li><span><a href=\"#Step-6:-Combining-Outliers-and-Discritizing\" data-toc-modified-id=\"Step-6:-Combining-Outliers-and-Discritizing-5.6\"><span class=\"toc-item-num\">5.6&nbsp;&nbsp;</span>Step-6: Combining Outliers and Discritizing</a></span></li><li><span><a href=\"#Step-7:-Under-Represented-Features\" data-toc-modified-id=\"Step-7:-Under-Represented-Features-5.7\"><span class=\"toc-item-num\">5.7&nbsp;&nbsp;</span>Step-7: Under Represented Features</a></span></li><li><span><a href=\"#Step-8:-Stepwise\" data-toc-modified-id=\"Step-8:-Stepwise-5.8\"><span class=\"toc-item-num\">5.8&nbsp;&nbsp;</span>Step-8: Stepwise</a></span></li><li><span><a href=\"#Step-9:-Regularization-in-Lasso-Regression-Trying-to-Find-the-Optimal-λ\" data-toc-modified-id=\"Step-9:-Regularization-in-Lasso-Regression-Trying-to-Find-the-Optimal-λ-5.9\"><span class=\"toc-item-num\">5.9&nbsp;&nbsp;</span>Step-9: Regularization in Lasso Regression Trying to Find the Optimal λ</a></span></li><li><span><a href=\"#Step-10:-Significance-Test\" data-toc-modified-id=\"Step-10:-Significance-Test-5.10\"><span class=\"toc-item-num\">5.10&nbsp;&nbsp;</span>Step-10: Significance Test</a></span></li><li><span><a href=\"#Step-11:-Stepwise-vs-Significance-test\" data-toc-modified-id=\"Step-11:-Stepwise-vs-Significance-test-5.11\"><span class=\"toc-item-num\">5.11&nbsp;&nbsp;</span>Step-11: Stepwise vs Significance test</a></span></li></ul></li><li><span><a href=\"#Cross-Validation-and-Final-Metrics\" data-toc-modified-id=\"Cross-Validation-and-Final-Metrics-6\"><span class=\"toc-item-num\">6&nbsp;&nbsp;</span>Cross Validation and Final Metrics</a></span></li><li><span><a href=\"#Interpretation\" data-toc-modified-id=\"Interpretation-7\"><span class=\"toc-item-num\">7&nbsp;&nbsp;</span>Interpretation</a></span><ul class=\"toc-item\"><li><span><a href=\"#General\" data-toc-modified-id=\"General-7.1\"><span class=\"toc-item-num\">7.1&nbsp;&nbsp;</span>General</a></span></li><li><span><a href=\"#Possible-Improvements\" data-toc-modified-id=\"Possible-Improvements-7.2\"><span class=\"toc-item-num\">7.2&nbsp;&nbsp;</span>Possible Improvements</a></span></li></ul></li></ul></div>"
   ]
  },
  {
   "cell_type": "markdown",
   "metadata": {},
   "source": [
    "# Importing Libraries"
   ]
  },
  {
   "cell_type": "code",
   "execution_count": 1,
   "metadata": {
    "ExecuteTime": {
     "end_time": "2020-02-28T18:04:14.151463Z",
     "start_time": "2020-02-28T18:04:14.146490Z"
    }
   },
   "outputs": [
    {
     "name": "stderr",
     "output_type": "stream",
     "text": [
      "/Users/Jonas/anaconda3/lib/python3.7/site-packages/sklearn/externals/joblib/__init__.py:15: DeprecationWarning: sklearn.externals.joblib is deprecated in 0.21 and will be removed in 0.23. Please import this functionality directly from joblib, which can be installed with: pip install joblib. If this warning is raised when loading pickled models, you may need to re-serialize those models with scikit-learn 0.21+.\n",
      "  warnings.warn(msg, category=DeprecationWarning)\n"
     ]
    }
   ],
   "source": [
    "import matplotlib.pyplot as plt\n",
    "import statsmodels.api as sm\n",
    "import pandas as pd\n",
    "import numpy as np\n",
    "\n",
    "\n",
    "from copy import deepcopy\n",
    "from dataset import Dataset\n",
    "from sklearn.svm import l1_min_c\n",
    "from sklearn.utils import resample\n",
    "from sklearn.metrics import accuracy_score, f1_score, classification_report, recall_score, matthews_corrcoef\n",
    "from sklearn.linear_model import LogisticRegression\n",
    "from sklearn.model_selection import cross_val_score"
   ]
  },
  {
   "cell_type": "markdown",
   "metadata": {
    "collapsed": true
   },
   "source": [
    "# Data Loading"
   ]
  },
  {
   "cell_type": "code",
   "execution_count": 2,
   "metadata": {
    "ExecuteTime": {
     "end_time": "2020-02-28T18:04:16.001513Z",
     "start_time": "2020-02-28T18:04:15.953456Z"
    },
    "scrolled": false
   },
   "outputs": [],
   "source": [
    "# Importing the data \"turnover.csv\"\n",
    "turnover = Dataset(\"./turnover.csv\", delimiter = \",\", header = 0)"
   ]
  },
  {
   "cell_type": "markdown",
   "metadata": {},
   "source": [
    "# Data Preparation"
   ]
  },
  {
   "cell_type": "markdown",
   "metadata": {},
   "source": [
    "## Checking for NA's"
   ]
  },
  {
   "cell_type": "code",
   "execution_count": 3,
   "metadata": {
    "ExecuteTime": {
     "end_time": "2020-02-28T18:04:17.150981Z",
     "start_time": "2020-02-28T18:04:17.145351Z"
    }
   },
   "outputs": [
    {
     "data": {
      "text/plain": [
       "[]"
      ]
     },
     "execution_count": 3,
     "metadata": {},
     "output_type": "execute_result"
    }
   ],
   "source": [
    "# Checking for NA's\n",
    "turnover.nas()"
   ]
  },
  {
   "cell_type": "markdown",
   "metadata": {},
   "source": [
    "## Checking for Outliers"
   ]
  },
  {
   "cell_type": "code",
   "execution_count": 4,
   "metadata": {
    "ExecuteTime": {
     "end_time": "2020-02-28T18:04:18.630669Z",
     "start_time": "2020-02-28T18:04:18.451747Z"
    },
    "scrolled": true
   },
   "outputs": [
    {
     "name": "stdout",
     "output_type": "stream",
     "text": [
      "Number of outliers:  409\n"
     ]
    }
   ],
   "source": [
    "num_outliers = len(turnover.outliers())\n",
    "print(\"Number of outliers: \", num_outliers)"
   ]
  },
  {
   "cell_type": "markdown",
   "metadata": {},
   "source": [
    "Since we don't know what these outliers are yet, we will not be doing anything with them for now before the baseline. Later we will check if the outliers should be removed or not."
   ]
  },
  {
   "cell_type": "markdown",
   "metadata": {},
   "source": [
    "## Setting the Target Variable"
   ]
  },
  {
   "cell_type": "code",
   "execution_count": 5,
   "metadata": {
    "ExecuteTime": {
     "end_time": "2020-02-28T18:04:29.555535Z",
     "start_time": "2020-02-28T18:04:29.531443Z"
    }
   },
   "outputs": [
    {
     "data": {
      "text/plain": [
       "<dataset.dataset.Dataset at 0x12cb0ba50>"
      ]
     },
     "execution_count": 5,
     "metadata": {},
     "output_type": "execute_result"
    }
   ],
   "source": [
    "# Setting target variable of attrition (employees leaving)\n",
    "turnover.set_target(\"left\")"
   ]
  },
  {
   "cell_type": "markdown",
   "metadata": {},
   "source": [
    "## One-hot encoding"
   ]
  },
  {
   "cell_type": "code",
   "execution_count": 6,
   "metadata": {
    "ExecuteTime": {
     "end_time": "2020-02-28T18:04:34.234478Z",
     "start_time": "2020-02-28T18:04:34.170957Z"
    }
   },
   "outputs": [
    {
     "data": {
      "text/plain": [
       "<dataset.dataset.Dataset at 0x12cb0ba50>"
      ]
     },
     "execution_count": 6,
     "metadata": {},
     "output_type": "execute_result"
    }
   ],
   "source": [
    "# transforming sales and salary into dummified versions\n",
    "turnover.onehot_encode(\"sales\")\n",
    "\n",
    "# transforming salary into dummified versions\n",
    "turnover.onehot_encode(\"salary\")"
   ]
  },
  {
   "cell_type": "markdown",
   "metadata": {},
   "source": [
    "## Skewness"
   ]
  },
  {
   "cell_type": "markdown",
   "metadata": {},
   "source": [
    "### Plotting Skewness"
   ]
  },
  {
   "cell_type": "code",
   "execution_count": 7,
   "metadata": {
    "ExecuteTime": {
     "end_time": "2020-02-28T18:04:42.766512Z",
     "start_time": "2020-02-28T18:04:38.124653Z"
    }
   },
   "outputs": [
    {
     "data": {
      "image/png": "[encoded data removed]",
      "text/plain": [
       "<Figure size 1152x1080 with 16 Axes>"
      ]
     },
     "metadata": {
      "needs_background": "light"
     },
     "output_type": "display_data"
    }
   ],
   "source": [
    "# setting the size of all plots\n",
    "plt.figure(figsize = (16,15))\n",
    "\n",
    "# plotting the skewness for average_montly_hours\n",
    "plt.subplot(5,4,1)\n",
    "plt.tight_layout()\n",
    "plt.title(\"average_montly_hours\", fontdict = {\"fontsize\": 16, \"fontweight\": 1}, loc = \"center\")\n",
    "turnover.features[\"average_montly_hours\"].hist(color = \"lightgray\")\n",
    "\n",
    "# plotting the skewness for last_evaluation\n",
    "plt.subplot(5,4,2)\n",
    "plt.tight_layout()\n",
    "plt.title(\"last_evaluation\", fontdict = {\"fontsize\": 16, \"fontweight\": 1}, loc = \"center\")\n",
    "turnover.features[\"last_evaluation\"].hist(color = \"lightgray\")\n",
    "\n",
    "# plotting the skewness for satisfaction_level\n",
    "plt.subplot(5,4,3)\n",
    "plt.tight_layout()\n",
    "plt.title(\"satisfaction_level\", fontdict = {\"fontsize\": 16, \"fontweight\": 1}, loc = \"center\")\n",
    "turnover.features[\"satisfaction_level\"].hist(color = \"lightgray\")\n",
    "\n",
    "# plotting the skewness for sales_management\n",
    "plt.subplot(5,4,5)\n",
    "plt.tight_layout()\n",
    "plt.title(\"sales_management\", fontdict = {\"fontsize\": 16, \"fontweight\": 1}, loc = \"center\")\n",
    "turnover.features[\"sales_management\"].hist(color = \"lightgray\")\n",
    "\n",
    "# plotting the skewness for sales_hr\n",
    "plt.subplot(5,4,6)\n",
    "plt.tight_layout()\n",
    "plt.title(\"sales_hr\", fontdict = {\"fontsize\": 16, \"fontweight\": 1}, loc = \"center\")\n",
    "turnover.features[\"sales_hr\"].hist(color = \"lightgray\")\n",
    "\n",
    "# plotting the skewness for sales_accounting\n",
    "plt.subplot(5,4,7)\n",
    "plt.tight_layout()\n",
    "plt.title(\"sales_accounting\", fontdict = {\"fontsize\": 16, \"fontweight\": 1}, loc = \"center\")\n",
    "turnover.features[\"sales_accounting\"].hist(color = \"lightgray\")\n",
    "\n",
    "# plotting the skewness for sales_RandD\n",
    "plt.subplot(5,4,8)\n",
    "plt.tight_layout()\n",
    "plt.title(\"sales_RandD\", fontdict = {\"fontsize\": 16, \"fontweight\": 1}, loc = \"center\")\n",
    "turnover.features[\"sales_RandD\"].hist(color = \"lightgray\")\n",
    "\n",
    "# plotting the skewness for sales_marketing\n",
    "plt.subplot(5,4,9)\n",
    "plt.tight_layout()\n",
    "plt.title(\"sales_marketing\", fontdict = {\"fontsize\": 16, \"fontweight\": 1}, loc = \"center\")\n",
    "turnover.features[\"sales_marketing\"].hist(color = \"lightgray\")\n",
    "\n",
    "# plotting the skewness for sales_product_mng\n",
    "plt.subplot(5,4,10)\n",
    "plt.tight_layout()\n",
    "plt.title(\"sales_product_mng\", fontdict = {\"fontsize\": 16, \"fontweight\": 1}, loc = \"center\")\n",
    "turnover.features[\"sales_product_mng\"].hist(color = \"lightgray\")\n",
    "\n",
    "# plotting the skewness for sales_IT\n",
    "plt.subplot(5,4,11)\n",
    "plt.tight_layout()\n",
    "plt.title(\"sales_IT\", fontdict = {\"fontsize\": 16, \"fontweight\": 1}, loc = \"center\")\n",
    "turnover.features[\"sales_IT\"].hist(color = \"lightgray\")\n",
    "\n",
    "# plotting the skewness for sales_support\n",
    "plt.subplot(5,4,12)\n",
    "plt.tight_layout()\n",
    "plt.title(\"sales_support\", fontdict = {\"fontsize\": 16, \"fontweight\": 1}, loc = \"center\")\n",
    "turnover.features[\"sales_support\"].hist(color = \"lightgray\")\n",
    "\n",
    "# plotting the skewness for sales_technical\n",
    "plt.subplot(5,4,13)\n",
    "plt.tight_layout()\n",
    "plt.title(\"sales_technical\", fontdict = {\"fontsize\": 16, \"fontweight\": 1}, loc = \"center\")\n",
    "turnover.features[\"sales_technical\"].hist(color = \"lightgray\")\n",
    "\n",
    "# plotting the skewness for sales_sales\n",
    "plt.subplot(5,4,14)\n",
    "plt.tight_layout()\n",
    "plt.title(\"sales_sales\", fontdict = {\"fontsize\": 16, \"fontweight\": 1}, loc = \"center\")\n",
    "turnover.features[\"sales_sales\"].hist(color = \"lightgray\")\n",
    "\n",
    "# plotting the skewness for salary_high\n",
    "plt.subplot(5,4,17)\n",
    "plt.tight_layout()\n",
    "plt.title(\"salary_high\", fontdict = {\"fontsize\": 16, \"fontweight\": 1}, loc = \"center\")\n",
    "turnover.features[\"salary_high\"].hist(color = \"lightgray\")\n",
    "\n",
    "# plotting the skewness for salary_medium\n",
    "plt.subplot(5,4,18)\n",
    "plt.tight_layout()\n",
    "plt.title(\"salary_medium\", fontdict = {\"fontsize\": 16, \"fontweight\": 1}, loc = \"center\")\n",
    "turnover.features[\"salary_medium\"].hist(color = \"lightgray\")\n",
    "\n",
    "# plotting the skewness for salary_low\n",
    "plt.subplot(5,4,19)\n",
    "plt.tight_layout()\n",
    "plt.title(\"salary_low\", fontdict = {\"fontsize\": 16, \"fontweight\": 1}, loc = \"center\")\n",
    "turnover.features[\"salary_low\"].hist(color = \"lightgray\")\n",
    "\n",
    "plt.show()"
   ]
  },
  {
   "cell_type": "markdown",
   "metadata": {},
   "source": [
    "### Fixing Skewness"
   ]
  },
  {
   "cell_type": "code",
   "execution_count": 8,
   "metadata": {
    "ExecuteTime": {
     "end_time": "2020-02-28T18:04:47.966080Z",
     "start_time": "2020-02-28T18:04:42.769656Z"
    }
   },
   "outputs": [
    {
     "data": {
      "image/png": "[encoded data removed]",
      "text/plain": [
       "<Figure size 1152x288 with 3 Axes>"
      ]
     },
     "metadata": {
      "needs_background": "light"
     },
     "output_type": "display_data"
    }
   ],
   "source": [
    "# fixing the skewness for our 3 numerical variables\n",
    "turnover.fix_skewness(\"average_montly_hours\")\n",
    "turnover.fix_skewness(\"last_evaluation\")\n",
    "turnover.fix_skewness(\"satisfaction_level\")\n",
    "\n",
    "# setting the size of the plots\n",
    "plt.figure(figsize = (16,4))\n",
    "\n",
    "# plotting the fixed skewness for average_montly_hours\n",
    "plt.subplot(1,3,1)\n",
    "plt.tight_layout()\n",
    "plt.title(\"fixed_average_montly_hours\", fontdict = {\"fontsize\": 16, \"fontweight\": 1}, loc = \"center\")\n",
    "turnover.features[\"average_montly_hours\"].hist(color = \"skyblue\")\n",
    "\n",
    "# plotting the fixed skewness for last_evaluation\n",
    "plt.subplot(1,3,2)\n",
    "plt.tight_layout()\n",
    "plt.title(\"fixed_last_evaluation\", fontdict = {\"fontsize\": 16, \"fontweight\": 1}, loc = \"center\")\n",
    "turnover.features[\"last_evaluation\"].hist(color = \"skyblue\")\n",
    "\n",
    "# plotting the fixed skewness for satisfaction_level\n",
    "plt.subplot(1,3,3)\n",
    "plt.tight_layout()\n",
    "plt.title(\"fixed_satisfaction_level\", fontdict = {\"fontsize\": 16, \"fontweight\": 1}, loc = \"center\")\n",
    "turnover.features[\"satisfaction_level\"].hist(color = \"skyblue\")\n",
    "\n",
    "plt.show()"
   ]
  },
  {
   "cell_type": "markdown",
   "metadata": {},
   "source": [
    "## Scale"
   ]
  },
  {
   "cell_type": "markdown",
   "metadata": {},
   "source": [
    "Since \"number_project\" and \"time_spend_company\" can be seen as categorical variables we don't want to scale them or fix skewness. Therefore we will change them to categorical variables here to avoid scaling, and change them back to numerical to get our baseline. By doing so we are avoiding getting more than 2,500 outliers and can safely remove the outliers we get later in the document."
   ]
  },
  {
   "cell_type": "code",
   "execution_count": 9,
   "metadata": {
    "ExecuteTime": {
     "end_time": "2020-02-28T18:04:48.025249Z",
     "start_time": "2020-02-28T18:04:47.969613Z"
    }
   },
   "outputs": [
    {
     "data": {
      "text/plain": [
       "<dataset.dataset.Dataset at 0x12cb0ba50>"
      ]
     },
     "execution_count": 9,
     "metadata": {},
     "output_type": "execute_result"
    }
   ],
   "source": [
    "# changing number_project and time_spend_company to categorical to avoid scaling\n",
    "turnover.to_categorical(\"number_project\")\n",
    "turnover.to_categorical(\"time_spend_company\")"
   ]
  },
  {
   "cell_type": "code",
   "execution_count": 10,
   "metadata": {
    "ExecuteTime": {
     "end_time": "2020-02-28T18:05:26.556055Z",
     "start_time": "2020-02-28T18:05:25.986499Z"
    }
   },
   "outputs": [
    {
     "data": {
      "image/png": "[encoded data removed]",
      "text/plain": [
       "<Figure size 1152x288 with 3 Axes>"
      ]
     },
     "metadata": {
      "needs_background": "light"
     },
     "output_type": "display_data"
    }
   ],
   "source": [
    "# scaling numerical features to range between 0 and 1\n",
    "turnover.scale(method = \"MinMaxScaler\")\n",
    "\n",
    "# setting the size of the plots\n",
    "plt.figure(figsize = (16,4))\n",
    "\n",
    "# plotting average_montly_hours to check if we scaled correctly\n",
    "plt.subplot(1,3,1)\n",
    "plt.tight_layout()\n",
    "plt.title(\"average_montly_hours\", fontdict = {\"fontsize\": 16, \"fontweight\": 1}, loc = \"center\")\n",
    "turnover.features[\"average_montly_hours\"].hist(color = \"skyblue\")\n",
    "\n",
    "# plotting last_evaluation to check if we scaled correctly\n",
    "plt.subplot(1,3,2)\n",
    "plt.tight_layout()\n",
    "plt.title(\"last_evaluation\", fontdict = {\"fontsize\": 16, \"fontweight\": 1}, loc = \"center\")\n",
    "turnover.features[\"last_evaluation\"].hist(color = \"skyblue\")\n",
    "\n",
    "# plotting satisfaction_level to check if we scaled correctly\n",
    "plt.subplot(1,3,3)\n",
    "plt.tight_layout()\n",
    "plt.title(\"satisfaction_level\", fontdict = {\"fontsize\": 16, \"fontweight\": 1}, loc = \"center\")\n",
    "turnover.features[\"satisfaction_level\"].hist(color = \"skyblue\")\n",
    "\n",
    "plt.show()"
   ]
  },
  {
   "cell_type": "code",
   "execution_count": 11,
   "metadata": {
    "ExecuteTime": {
     "end_time": "2020-02-28T18:05:29.641988Z",
     "start_time": "2020-02-28T18:05:29.563760Z"
    }
   },
   "outputs": [
    {
     "data": {
      "text/plain": [
       "<dataset.dataset.Dataset at 0x12cb0ba50>"
      ]
     },
     "execution_count": 11,
     "metadata": {},
     "output_type": "execute_result"
    }
   ],
   "source": [
    "# changing number_project and time_spend_company back to numerical for the baseline to work \n",
    "turnover.to_numerical(\"number_project\").to_int(\"number_project\")\n",
    "turnover.to_numerical(\"time_spend_company\").to_int(\"time_spend_company\")"
   ]
  },
  {
   "cell_type": "markdown",
   "metadata": {
    "collapsed": true
   },
   "source": [
    "# Baseline"
   ]
  },
  {
   "cell_type": "code",
   "execution_count": 12,
   "metadata": {
    "ExecuteTime": {
     "end_time": "2020-02-28T18:06:05.621144Z",
     "start_time": "2020-02-28T18:06:05.452778Z"
    }
   },
   "outputs": [
    {
     "name": "stdout",
     "output_type": "stream",
     "text": [
      "Accuracy: 0.788\n",
      "F1: 0.45\n",
      "Classification report:\n",
      "               precision    recall  f1-score   support\n",
      "\n",
      "         0.0       0.82      0.92      0.87      2287\n",
      "         1.0       0.59      0.36      0.45       713\n",
      "\n",
      "    accuracy                           0.79      3000\n",
      "   macro avg       0.70      0.64      0.66      3000\n",
      "weighted avg       0.77      0.79      0.77      3000\n",
      "\n"
     ]
    }
   ],
   "source": [
    "# creating test set\n",
    "X, y = turnover.split(seed = 1)\n",
    "\n",
    "# creating our baseline\n",
    "train_baseline = LogisticRegression().fit(X.train, y.train)\n",
    "pred_baseline = train_baseline.predict(X.test)\n",
    "\n",
    "# measuring the accuracy of the model\n",
    "print(\"Accuracy:\", accuracy_score(y.test, pred_baseline).round(3))\n",
    "\n",
    "# measuring F1\n",
    "print(\"F1:\", f1_score(y.test, pred_baseline, pos_label = 1).round(3))\n",
    "\n",
    "# printing classification report\n",
    "print(\"Classification report:\\n\",classification_report(y.test, pred_baseline))"
   ]
  },
  {
   "cell_type": "markdown",
   "metadata": {
    "collapsed": true
   },
   "source": [
    "# Feature Engineering"
   ]
  },
  {
   "cell_type": "markdown",
   "metadata": {},
   "source": [
    "## Step-1: Outliers"
   ]
  },
  {
   "cell_type": "code",
   "execution_count": 13,
   "metadata": {
    "ExecuteTime": {
     "end_time": "2020-02-28T18:06:21.269177Z",
     "start_time": "2020-02-28T18:06:11.199084Z"
    }
   },
   "outputs": [
    {
     "name": "stdout",
     "output_type": "stream",
     "text": [
      "Deleted 1424 outliers\n",
      "Accuracy:  0.812\n",
      "Cross Validation to compare F1:\n",
      "F1 weighted: 0.7933 (+/- 0.02)\n",
      "F1: 0.5138 (+/- 0.04)\n",
      "Classification report:\n",
      "               precision    recall  f1-score   support\n",
      "\n",
      "         0.0       0.85      0.92      0.88      2094\n",
      "         1.0       0.62      0.46      0.53       621\n",
      "\n",
      "    accuracy                           0.81      2715\n",
      "   macro avg       0.74      0.69      0.71      2715\n",
      "weighted avg       0.80      0.81      0.80      2715\n",
      "\n"
     ]
    }
   ],
   "source": [
    "# copying the dataframe\n",
    "turnover1 = deepcopy(turnover)\n",
    "\n",
    "# identifying how many outliers there are\n",
    "num_outliers = len(turnover1.outliers())\n",
    "\n",
    "# removing outliers\n",
    "turnover1.drop_samples(turnover1.outliers())\n",
    "print(\"Deleted\", num_outliers, \"outliers\")\n",
    "\n",
    "# creating test set\n",
    "X, y = turnover1.split(seed = 1)\n",
    "\n",
    "# measure accuracy, run cross validation, regression and classification report to compare F1 scores\n",
    "train_baseline = LogisticRegression().fit(X.train, y.train)\n",
    "pred_baseline = train_baseline.predict(X.test)\n",
    "print(\"Accuracy: \", accuracy_score(y.test, pred_baseline).round(3))\n",
    "my_model = LogisticRegression()\n",
    "cv_scores = cross_val_score(my_model, X.train, y.train, scoring='f1_weighted', cv=20)\n",
    "print (\"Cross Validation to compare F1:\")\n",
    "print(\"F1 weighted: %0.4f (+/- %0.2f)\" % (np.median(cv_scores), np.std(cv_scores)))\n",
    "cv_scores = cross_val_score(my_model, X.train, y.train, scoring='f1', cv=20)\n",
    "print(\"F1: %0.4f (+/- %0.2f)\" % (np.median(cv_scores), np.std(cv_scores)))\n",
    "print(\"Classification report:\\n\",classification_report(y.test, pred_baseline))"
   ]
  },
  {
   "cell_type": "markdown",
   "metadata": {},
   "source": [
    "The first thing we check is the number of outliers and their effect on our model. Since removing them improves our model, and we do not have a significantly high amount of outliers here, we removed them without fearing overfitting. Previously, one of the trials we made that is no longer in this notebook were removed due to the number of outliers that were found. We change \"time_spend_company\" and \"number_project\" to categorical variables before our baseline, not scale and fix skewness, then changing back to numerical and will one-hot encode them later."
   ]
  },
  {
   "cell_type": "markdown",
   "metadata": {},
   "source": [
    "## Step-2: Information Gain"
   ]
  },
  {
   "cell_type": "code",
   "execution_count": 14,
   "metadata": {
    "ExecuteTime": {
     "end_time": "2020-02-28T18:06:26.474033Z",
     "start_time": "2020-02-28T18:06:26.404967Z"
    }
   },
   "outputs": [
    {
     "data": {
      "text/plain": [
       "<dataset.dataset.Dataset at 0x12f5978d0>"
      ]
     },
     "execution_count": 14,
     "metadata": {},
     "output_type": "execute_result"
    }
   ],
   "source": [
    "# Importing the data \"turnover.csv\"\n",
    "turnover2 = Dataset(\"./turnover.csv\", delimiter = \",\", header = 0)\n",
    "\n",
    "turnover2.set_target(\"left\")"
   ]
  },
  {
   "cell_type": "code",
   "execution_count": 15,
   "metadata": {
    "ExecuteTime": {
     "end_time": "2020-02-28T18:06:28.596496Z",
     "start_time": "2020-02-28T18:06:28.446142Z"
    }
   },
   "outputs": [
    {
     "name": "stdout",
     "output_type": "stream",
     "text": [
      "number_project: 0.26\n",
      "time_spend_company: 0.12\n",
      "sales  : 0.00\n",
      "salary : 0.02\n"
     ]
    }
   ],
   "source": [
    "turnover2.to_categorical(\"number_project\")\n",
    "turnover2.to_categorical(\"time_spend_company\")\n",
    "\n",
    "ig = turnover2.information_gain()\n",
    "\n",
    "for k in ig:\n",
    "    print(\"{:<7}: {:.2f}\".format(k, ig[k]))"
   ]
  },
  {
   "cell_type": "markdown",
   "metadata": {},
   "source": [
    "From this information, we will pay extra attention to the feature \"sales\" and try to see how the model is affected by removing the encoded features."
   ]
  },
  {
   "cell_type": "markdown",
   "metadata": {},
   "source": [
    "## Step-3: Correlation"
   ]
  },
  {
   "cell_type": "code",
   "execution_count": 16,
   "metadata": {
    "ExecuteTime": {
     "end_time": "2020-02-28T18:06:45.053387Z",
     "start_time": "2020-02-28T18:06:44.920889Z"
    }
   },
   "outputs": [
    {
     "data": {
      "text/plain": [
       "[('salary_low', 'salary_medium', 0.847144208984468),\n",
       " ('average_montly_hours', 'number_project', 0.3978551973725825),\n",
       " ('satisfaction_level', 'left', 0.36584223741946637),\n",
       " ('last_evaluation', 'number_project', 0.350399265320877),\n",
       " ('average_montly_hours', 'last_evaluation', 0.342061328238957)]"
      ]
     },
     "execution_count": 16,
     "metadata": {},
     "output_type": "execute_result"
    }
   ],
   "source": [
    "# copying the dataframe\n",
    "turnover3 = deepcopy(turnover)\n",
    "\n",
    "# checking for correlation in numerical vairables\n",
    "turnover3.unset_target().numerical_correlated(threshold=0.3)"
   ]
  },
  {
   "cell_type": "markdown",
   "metadata": {},
   "source": [
    "We analyze the multicollinearity of our correlation report and find that we potentially have multicollinearity between salary_low and salary_medium."
   ]
  },
  {
   "cell_type": "markdown",
   "metadata": {
    "collapsed": true
   },
   "source": [
    "## Step-4: Feature Importance"
   ]
  },
  {
   "cell_type": "code",
   "execution_count": 17,
   "metadata": {
    "ExecuteTime": {
     "end_time": "2020-02-28T18:07:04.293583Z",
     "start_time": "2020-02-28T18:07:04.286815Z"
    }
   },
   "outputs": [],
   "source": [
    "# copying the dataframe\n",
    "turnover4 = deepcopy(turnover)"
   ]
  },
  {
   "cell_type": "code",
   "execution_count": 18,
   "metadata": {
    "ExecuteTime": {
     "end_time": "2020-02-28T18:10:45.833270Z",
     "start_time": "2020-02-28T18:07:07.337685Z"
    }
   },
   "outputs": [
    {
     "data": {
      "image/png": "[encoded data removed]",
      "text/plain": [
       "<Figure size 576x576 with 1 Axes>"
      ]
     },
     "metadata": {
      "needs_background": "light"
     },
     "output_type": "display_data"
    }
   ],
   "source": [
    "# plotting feature importance\n",
    "turnover4.plot_importance()"
   ]
  },
  {
   "cell_type": "markdown",
   "metadata": {},
   "source": [
    "Feature importance has helped us in discovering what features that are not changing the model, and what features that are making our prediction score worse. With this information we will eliminate those columns that does not change our model."
   ]
  },
  {
   "cell_type": "code",
   "execution_count": 19,
   "metadata": {
    "ExecuteTime": {
     "end_time": "2020-02-28T18:10:46.038477Z",
     "start_time": "2020-02-28T18:10:45.843598Z"
    }
   },
   "outputs": [
    {
     "data": {
      "text/plain": [
       "<dataset.dataset.Dataset at 0x12e2acc50>"
      ]
     },
     "execution_count": 19,
     "metadata": {},
     "output_type": "execute_result"
    }
   ],
   "source": [
    "# dropping columns so the 10 most important features are left\n",
    "turnover4.drop_columns(\"promotion_last_5years\")\n",
    "turnover4.drop_columns(\"Work_accident\")\n",
    "turnover4.drop_columns(\"salary_high\")\n",
    "turnover4.drop_columns(\"sales_hr\")\n",
    "turnover4.drop_columns(\"sales_IT\")\n",
    "turnover4.drop_columns(\"sales_accounting\")\n",
    "turnover4.drop_columns(\"sales_management\")\n",
    "turnover4.drop_columns(\"sales_RandD\")\n",
    "turnover4.drop_columns(\"sales_marketing\")\n",
    "turnover4.drop_columns(\"sales_product_mng\")\n",
    "turnover4.drop_columns(\"sales_sales\")\n",
    "turnover4.drop_columns(\"sales_support\")\n",
    "turnover4.drop_columns(\"sales_technical\")"
   ]
  },
  {
   "cell_type": "code",
   "execution_count": 20,
   "metadata": {
    "ExecuteTime": {
     "end_time": "2020-02-28T18:10:47.567416Z",
     "start_time": "2020-02-28T18:10:46.041374Z"
    }
   },
   "outputs": [
    {
     "name": "stdout",
     "output_type": "stream",
     "text": [
      "Accuracy:  0.764\n",
      "Cross Validation to compare F1:\n",
      "F1 weighted: 0.7327 (+/- 0.02)\n",
      "F1: 0.3327 (+/- 0.05)\n",
      "Classification report:\n",
      "               precision    recall  f1-score   support\n",
      "\n",
      "         0.0       0.80      0.92      0.86      2287\n",
      "         1.0       0.51      0.27      0.35       713\n",
      "\n",
      "    accuracy                           0.76      3000\n",
      "   macro avg       0.65      0.59      0.60      3000\n",
      "weighted avg       0.73      0.76      0.73      3000\n",
      "\n"
     ]
    }
   ],
   "source": [
    "# creating test set\n",
    "X, y = turnover4.split(seed = 1)\n",
    "\n",
    "# measure accuracy, run cross validation, regression and classification report to compare F1 scores\n",
    "train_baseline = LogisticRegression().fit(X.train, y.train)\n",
    "pred_baseline = train_baseline.predict(X.test)\n",
    "print(\"Accuracy: \", accuracy_score(y.test, pred_baseline).round(3))\n",
    "my_model = LogisticRegression()\n",
    "cv_scores = cross_val_score(my_model, X.train, y.train, scoring='f1_weighted', cv=20)\n",
    "print (\"Cross Validation to compare F1:\")\n",
    "print(\"F1 weighted: %0.4f (+/- %0.2f)\" % (np.median(cv_scores), np.std(cv_scores)))\n",
    "cv_scores = cross_val_score(my_model, X.train, y.train, scoring='f1', cv=20)\n",
    "print(\"F1: %0.4f (+/- %0.2f)\" % (np.median(cv_scores), np.std(cv_scores)))\n",
    "print(\"Classification report:\\n\",classification_report(y.test, pred_baseline))"
   ]
  },
  {
   "cell_type": "markdown",
   "metadata": {},
   "source": [
    "As this did not improve our model, rather the opposite, we will not continue with feature importance in this model as removing those columns had a bad effect. We also checked if our model would improve by only deleting the sales features, which it did not, so we will disregard the information that we gained from Information Gain."
   ]
  },
  {
   "cell_type": "markdown",
   "metadata": {},
   "source": [
    "## Step-5: Discretizing and One-Hot Encoding"
   ]
  },
  {
   "cell_type": "markdown",
   "metadata": {},
   "source": [
    "### Histograms"
   ]
  },
  {
   "cell_type": "code",
   "execution_count": 21,
   "metadata": {
    "ExecuteTime": {
     "end_time": "2020-02-28T18:10:52.414562Z",
     "start_time": "2020-02-28T18:10:47.570532Z"
    }
   },
   "outputs": [
    {
     "data": {
      "image/png": "[encoded data removed]",
      "text/plain": [
       "<Figure size 1008x216 with 4 Axes>"
      ]
     },
     "metadata": {
      "needs_background": "light"
     },
     "output_type": "display_data"
    },
    {
     "data": {
      "image/png": "[encoded data removed]",
      "text/plain": [
       "<Figure size 1008x216 with 4 Axes>"
      ]
     },
     "metadata": {
      "needs_background": "light"
     },
     "output_type": "display_data"
    },
    {
     "data": {
      "image/png": "[encoded data removed]",
      "text/plain": [
       "<Figure size 1008x216 with 4 Axes>"
      ]
     },
     "metadata": {
      "needs_background": "light"
     },
     "output_type": "display_data"
    },
    {
     "data": {
      "image/png": "[encoded data removed]",
      "text/plain": [
       "<Figure size 1008x216 with 4 Axes>"
      ]
     },
     "metadata": {
      "needs_background": "light"
     },
     "output_type": "display_data"
    },
    {
     "data": {
      "image/png": "[encoded data removed]",
      "text/plain": [
       "<Figure size 1008x216 with 4 Axes>"
      ]
     },
     "metadata": {
      "needs_background": "light"
     },
     "output_type": "display_data"
    }
   ],
   "source": [
    "# copying the dataframe\n",
    "turnover5 = deepcopy(turnover)\n",
    "\n",
    "turnover5.plot_histogram()"
   ]
  },
  {
   "cell_type": "markdown",
   "metadata": {
    "collapsed": true
   },
   "source": [
    "### Further Analysis and Discretizing/One-Hot Encoding"
   ]
  },
  {
   "cell_type": "code",
   "execution_count": 22,
   "metadata": {
    "ExecuteTime": {
     "end_time": "2020-02-28T18:10:52.776917Z",
     "start_time": "2020-02-28T18:10:52.417532Z"
    }
   },
   "outputs": [
    {
     "data": {
      "image/png": "[encoded data removed]",
      "text/plain": [
       "<Figure size 432x288 with 1 Axes>"
      ]
     },
     "metadata": {
      "needs_background": "light"
     },
     "output_type": "display_data"
    }
   ],
   "source": [
    "# inspecting number_projects further to see where to create the bins from and to\n",
    "turnover5.plot_histogram(\"number_project\")\n",
    "\n",
    "plt.show()"
   ]
  },
  {
   "cell_type": "code",
   "execution_count": 23,
   "metadata": {
    "ExecuteTime": {
     "end_time": "2020-02-28T18:10:52.813443Z",
     "start_time": "2020-02-28T18:10:52.779380Z"
    }
   },
   "outputs": [
    {
     "data": {
      "text/plain": [
       "<dataset.dataset.Dataset at 0x12cf83fd0>"
      ]
     },
     "execution_count": 23,
     "metadata": {},
     "output_type": "execute_result"
    }
   ],
   "source": [
    "# transforming number_project into dummified versions\n",
    "turnover5.onehot_encode(\"number_project\")"
   ]
  },
  {
   "cell_type": "code",
   "execution_count": 24,
   "metadata": {
    "ExecuteTime": {
     "end_time": "2020-02-28T18:10:53.044138Z",
     "start_time": "2020-02-28T18:10:52.815570Z"
    }
   },
   "outputs": [
    {
     "data": {
      "image/png": "[encoded data removed]",
      "text/plain": [
       "<Figure size 432x288 with 1 Axes>"
      ]
     },
     "metadata": {
      "needs_background": "light"
     },
     "output_type": "display_data"
    }
   ],
   "source": [
    "# inspecting satisfaction_level further to see where to create the bins from and to\n",
    "turnover5.plot_histogram(\"satisfaction_level\")\n",
    "\n",
    "plt.show()"
   ]
  },
  {
   "cell_type": "code",
   "execution_count": 25,
   "metadata": {
    "ExecuteTime": {
     "end_time": "2020-02-28T18:10:53.135063Z",
     "start_time": "2020-02-28T18:10:53.048342Z"
    }
   },
   "outputs": [
    {
     "data": {
      "text/plain": [
       "<dataset.dataset.Dataset at 0x12cf83fd0>"
      ]
     },
     "execution_count": 25,
     "metadata": {},
     "output_type": "execute_result"
    }
   ],
   "source": [
    "# discritizing satisfaction_level\n",
    "turnover5.discretize(\"satisfaction_level\", [(0, 0.2), (0.2, 0.4), (0.4, 0.6), (0.6, 0.8), (0.8, 1)],\n",
    "                   category_names = [\"a\", \"b\", \"c\", \"d\", \"e\"])\n",
    "\n",
    "# transforming satisfaction_level into dummified versions\n",
    "turnover5.onehot_encode(\"satisfaction_level\")"
   ]
  },
  {
   "cell_type": "code",
   "execution_count": 26,
   "metadata": {
    "ExecuteTime": {
     "end_time": "2020-02-28T18:10:53.362068Z",
     "start_time": "2020-02-28T18:10:53.139844Z"
    }
   },
   "outputs": [
    {
     "data": {
      "image/png": "[encoded data removed]",
      "text/plain": [
       "<Figure size 432x288 with 1 Axes>"
      ]
     },
     "metadata": {
      "needs_background": "light"
     },
     "output_type": "display_data"
    }
   ],
   "source": [
    "# inspecting average_montly_hours further to see where to create the bins from and to\n",
    "turnover5.plot_histogram(\"average_montly_hours\")\n",
    "\n",
    "plt.show()"
   ]
  },
  {
   "cell_type": "code",
   "execution_count": 27,
   "metadata": {
    "ExecuteTime": {
     "end_time": "2020-02-28T18:10:53.449279Z",
     "start_time": "2020-02-28T18:10:53.364549Z"
    }
   },
   "outputs": [
    {
     "data": {
      "text/plain": [
       "<dataset.dataset.Dataset at 0x12cf83fd0>"
      ]
     },
     "execution_count": 27,
     "metadata": {},
     "output_type": "execute_result"
    }
   ],
   "source": [
    "# discritizing average_montly_hours\n",
    "turnover5.discretize(\"average_montly_hours\", [(0, 0.2), (0.2, 0.4), (0.4, 0.6), (0.6, 0.8), (0.8, 1)],\n",
    "                   category_names = [\"a\", \"b\", \"c\", \"d\", \"e\"])\n",
    "\n",
    "# transforming average_montly_hours into dummified versions\n",
    "turnover5.onehot_encode(\"average_montly_hours\")"
   ]
  },
  {
   "cell_type": "code",
   "execution_count": 28,
   "metadata": {
    "ExecuteTime": {
     "end_time": "2020-02-28T18:10:53.673335Z",
     "start_time": "2020-02-28T18:10:53.451741Z"
    }
   },
   "outputs": [
    {
     "data": {
      "image/png": "[encoded data removed]",
      "text/plain": [
       "<Figure size 432x288 with 1 Axes>"
      ]
     },
     "metadata": {
      "needs_background": "light"
     },
     "output_type": "display_data"
    }
   ],
   "source": [
    "# inspecting last_evaluation further to see where to create the bins from and to\n",
    "turnover5.plot_histogram(\"last_evaluation\")\n",
    "\n",
    "plt.show()"
   ]
  },
  {
   "cell_type": "code",
   "execution_count": 29,
   "metadata": {
    "ExecuteTime": {
     "end_time": "2020-02-28T18:10:53.766024Z",
     "start_time": "2020-02-28T18:10:53.676630Z"
    }
   },
   "outputs": [
    {
     "data": {
      "text/plain": [
       "<dataset.dataset.Dataset at 0x12cf83fd0>"
      ]
     },
     "execution_count": 29,
     "metadata": {},
     "output_type": "execute_result"
    }
   ],
   "source": [
    "# discritizing last_evaluation\n",
    "turnover5.discretize(\"last_evaluation\", [(0, 0.2), (0.2, 0.4), (0.4, 0.6), (0.6, 0.8), (0.8, 1)],\n",
    "                   category_names = [\"a\", \"b\", \"c\", \"d\", \"e\"])\n",
    "\n",
    "# transforming last_evaluation into dummified versions\n",
    "turnover5.onehot_encode(\"last_evaluation\")"
   ]
  },
  {
   "cell_type": "code",
   "execution_count": 30,
   "metadata": {
    "ExecuteTime": {
     "end_time": "2020-02-28T18:10:54.023170Z",
     "start_time": "2020-02-28T18:10:53.768225Z"
    }
   },
   "outputs": [
    {
     "data": {
      "image/png": "[encoded data removed]",
      "text/plain": [
       "<Figure size 432x288 with 1 Axes>"
      ]
     },
     "metadata": {
      "needs_background": "light"
     },
     "output_type": "display_data"
    }
   ],
   "source": [
    "# inspecting time_spend_company further to see where to create the bins from and to\n",
    "turnover5.plot_histogram(\"time_spend_company\")\n",
    "\n",
    "plt.show()"
   ]
  },
  {
   "cell_type": "code",
   "execution_count": 31,
   "metadata": {
    "ExecuteTime": {
     "end_time": "2020-02-28T18:10:54.073797Z",
     "start_time": "2020-02-28T18:10:54.025781Z"
    }
   },
   "outputs": [
    {
     "data": {
      "text/plain": [
       "<dataset.dataset.Dataset at 0x12cf83fd0>"
      ]
     },
     "execution_count": 31,
     "metadata": {},
     "output_type": "execute_result"
    }
   ],
   "source": [
    "# transforming time_spend_company into dummified versions\n",
    "turnover5.onehot_encode(\"time_spend_company\")"
   ]
  },
  {
   "cell_type": "markdown",
   "metadata": {},
   "source": [
    "### Running our Logistic Regression"
   ]
  },
  {
   "cell_type": "code",
   "execution_count": 32,
   "metadata": {
    "ExecuteTime": {
     "end_time": "2020-02-28T18:10:58.084286Z",
     "start_time": "2020-02-28T18:10:54.076305Z"
    }
   },
   "outputs": [
    {
     "name": "stdout",
     "output_type": "stream",
     "text": [
      "Accuracy:  0.931\n",
      "Cross Validation to compare F1:\n",
      "F1 weighted: 0.9310 (+/- 0.01)\n",
      "F1: 0.8557 (+/- 0.02)\n",
      "Classification report:\n",
      "               precision    recall  f1-score   support\n",
      "\n",
      "         0.0       0.96      0.95      0.95      2287\n",
      "         1.0       0.84      0.87      0.86       713\n",
      "\n",
      "    accuracy                           0.93      3000\n",
      "   macro avg       0.90      0.91      0.91      3000\n",
      "weighted avg       0.93      0.93      0.93      3000\n",
      "\n"
     ]
    }
   ],
   "source": [
    "# creating test set\n",
    "X, y = turnover5.split(seed = 1)\n",
    "\n",
    "# measure accuracy, run cross validation, regression and classification report to compare F1 scores\n",
    "train_baseline = LogisticRegression().fit(X.train, y.train)\n",
    "pred_baseline = train_baseline.predict(X.test)\n",
    "print(\"Accuracy: \", accuracy_score(y.test, pred_baseline).round(3))\n",
    "my_model = LogisticRegression()\n",
    "cv_scores = cross_val_score(my_model, X.train, y.train, scoring='f1_weighted', cv=20)\n",
    "print (\"Cross Validation to compare F1:\")\n",
    "print(\"F1 weighted: %0.4f (+/- %0.2f)\" % (np.median(cv_scores), np.std(cv_scores)))\n",
    "cv_scores = cross_val_score(my_model, X.train, y.train, scoring='f1', cv=20)\n",
    "print(\"F1: %0.4f (+/- %0.2f)\" % (np.median(cv_scores), np.std(cv_scores)))\n",
    "print(\"Classification report:\\n\",classification_report(y.test, pred_baseline))"
   ]
  },
  {
   "cell_type": "markdown",
   "metadata": {},
   "source": [
    "## Step-6: Combining Outliers and Discritizing"
   ]
  },
  {
   "cell_type": "code",
   "execution_count": 33,
   "metadata": {
    "ExecuteTime": {
     "end_time": "2020-02-28T18:14:31.762742Z",
     "start_time": "2020-02-28T18:14:26.790364Z"
    }
   },
   "outputs": [
    {
     "name": "stdout",
     "output_type": "stream",
     "text": [
      "Accuracy:  0.953\n",
      "Cross Validation to compare F1:\n",
      "F1 weighted: 0.9466 (+/- 0.01)\n",
      "F1: 0.8888 (+/- 0.02)\n",
      "Classification report:\n",
      "               precision    recall  f1-score   support\n",
      "\n",
      "         0.0       0.97      0.97      0.97      2094\n",
      "         1.0       0.90      0.89      0.90       621\n",
      "\n",
      "    accuracy                           0.95      2715\n",
      "   macro avg       0.93      0.93      0.93      2715\n",
      "weighted avg       0.95      0.95      0.95      2715\n",
      "\n"
     ]
    }
   ],
   "source": [
    "# copying the dataframe\n",
    "turnover6 = deepcopy(turnover1)\n",
    "\n",
    "# discritizing\n",
    "turnover6.discretize(\"satisfaction_level\", [(0, 0.2), (0.2, 0.4), (0.4, 0.6), (0.6, 0.8), (0.8, 1)],\n",
    "                   category_names = [\"a\", \"b\", \"c\", \"d\", \"e\"])\n",
    "turnover6.discretize(\"average_montly_hours\", [(0, 0.2), (0.2, 0.4), (0.4, 0.6), (0.6, 0.8), (0.8, 1)],\n",
    "                   category_names = [\"a\", \"b\", \"c\", \"d\", \"e\"])\n",
    "turnover6.discretize(\"last_evaluation\", [(0, 0.15), (0.15, 0.35), (0.35, 0.65), (0.65, 0.7), (0.7, 1)],\n",
    "                   category_names = [\"a\", \"b\", \"c\", \"d\", \"e\"])\n",
    "\n",
    "# one hot encoding\n",
    "turnover6.onehot_encode(\"number_project\")\n",
    "turnover6.onehot_encode(\"satisfaction_level\")\n",
    "turnover6.onehot_encode(\"average_montly_hours\")\n",
    "turnover6.onehot_encode(\"last_evaluation\")\n",
    "turnover6.onehot_encode(\"time_spend_company\")\n",
    "\n",
    "# scaling numerical features to range between 0 and 1\n",
    "turnover6.scale(method = \"MinMaxScaler\")\n",
    "turnover6.fix_skewness()\n",
    "\n",
    "# creating test set\n",
    "X, y = turnover6.split(seed = 1)\n",
    "\n",
    "# measure accuracy, run cross validation, regression and classification report to compare F1 scores\n",
    "train_baseline = LogisticRegression().fit(X.train, y.train)\n",
    "pred_baseline = train_baseline.predict(X.test)\n",
    "print(\"Accuracy: \", accuracy_score(y.test, pred_baseline).round(3))\n",
    "my_model = LogisticRegression()\n",
    "cv_scores = cross_val_score(my_model, X.train, y.train, scoring='f1_weighted', cv=20)\n",
    "print (\"Cross Validation to compare F1:\")\n",
    "print(\"F1 weighted: %0.4f (+/- %0.2f)\" % (np.median(cv_scores), np.std(cv_scores)))\n",
    "cv_scores = cross_val_score(my_model, X.train, y.train, scoring='f1', cv=20)\n",
    "print(\"F1: %0.4f (+/- %0.2f)\" % (np.median(cv_scores), np.std(cv_scores)))\n",
    "print(\"Classification report:\\n\",classification_report(y.test, pred_baseline))"
   ]
  },
  {
   "cell_type": "markdown",
   "metadata": {},
   "source": [
    "Our highest scored model yet. We will keep this one for further developing of our model."
   ]
  },
  {
   "cell_type": "markdown",
   "metadata": {},
   "source": [
    "## Step-7: Under Represented Features"
   ]
  },
  {
   "cell_type": "code",
   "execution_count": 34,
   "metadata": {
    "ExecuteTime": {
     "end_time": "2020-02-28T18:14:43.147551Z",
     "start_time": "2020-02-28T18:14:43.142196Z"
    }
   },
   "outputs": [
    {
     "data": {
      "text/plain": [
       "[]"
      ]
     },
     "execution_count": 34,
     "metadata": {},
     "output_type": "execute_result"
    }
   ],
   "source": [
    "# checking if any of the features are underrepresented\n",
    "turnover6.under_represented_features()"
   ]
  },
  {
   "cell_type": "markdown",
   "metadata": {},
   "source": [
    "There are no features that are under represented in our predictive model."
   ]
  },
  {
   "cell_type": "markdown",
   "metadata": {},
   "source": [
    "## Step-8: Stepwise"
   ]
  },
  {
   "cell_type": "code",
   "execution_count": 35,
   "metadata": {
    "ExecuteTime": {
     "end_time": "2020-02-28T18:15:29.708939Z",
     "start_time": "2020-02-28T18:15:12.568784Z"
    }
   },
   "outputs": [
    {
     "name": "stdout",
     "output_type": "stream",
     "text": [
      "Accuracy:  0.952\n",
      "Cross Validation to compare F1:\n",
      "F1 weighted: 0.9482 (+/- 0.01)\n",
      "F1: 0.8910 (+/- 0.02)\n",
      "Classification report:\n",
      "               precision    recall  f1-score   support\n",
      "\n",
      "         0.0       0.97      0.97      0.97      2094\n",
      "         1.0       0.90      0.89      0.89       621\n",
      "\n",
      "    accuracy                           0.95      2715\n",
      "   macro avg       0.93      0.93      0.93      2715\n",
      "weighted avg       0.95      0.95      0.95      2715\n",
      "\n"
     ]
    }
   ],
   "source": [
    "# copying the dataframe\n",
    "turnover7 = deepcopy(turnover6)\n",
    "\n",
    "# keeping only some columns after stepwise selection\n",
    "turnover7.keep_columns(turnover6.stepwise_selection())\n",
    "\n",
    "# creating test set\n",
    "X, y = turnover7.split(seed = 1)\n",
    "\n",
    "# measure accuracy, run cross validation, regression and classification report to compare F1 scores\n",
    "train_baseline = LogisticRegression().fit(X.train, y.train)\n",
    "pred_baseline = train_baseline.predict(X.test)\n",
    "print(\"Accuracy: \", accuracy_score(y.test, pred_baseline).round(3))\n",
    "my_model = LogisticRegression()\n",
    "cv_scores = cross_val_score(my_model, X.train, y.train, scoring='f1_weighted', cv=20)\n",
    "print (\"Cross Validation to compare F1:\")\n",
    "print(\"F1 weighted: %0.4f (+/- %0.2f)\" % (np.median(cv_scores), np.std(cv_scores)))\n",
    "cv_scores = cross_val_score(my_model, X.train, y.train, scoring='f1', cv=20)\n",
    "print(\"F1: %0.4f (+/- %0.2f)\" % (np.median(cv_scores), np.std(cv_scores)))\n",
    "print(\"Classification report:\\n\",classification_report(y.test, pred_baseline))"
   ]
  },
  {
   "cell_type": "markdown",
   "metadata": {
    "collapsed": true
   },
   "source": [
    "We will not be removing any features based on stepwise methods due to the accuracy change. "
   ]
  },
  {
   "cell_type": "markdown",
   "metadata": {},
   "source": [
    "## Step-9: Regularization in Lasso Regression Trying to Find the Optimal λ"
   ]
  },
  {
   "cell_type": "code",
   "execution_count": 36,
   "metadata": {
    "ExecuteTime": {
     "end_time": "2020-02-28T18:47:44.465569Z",
     "start_time": "2020-02-28T18:47:44.443234Z"
    }
   },
   "outputs": [],
   "source": [
    "# copying the dataframe\n",
    "turnover8 = deepcopy(turnover6)\n",
    "\n",
    "# creating test set\n",
    "X, y = turnover8.split()"
   ]
  },
  {
   "cell_type": "code",
   "execution_count": 37,
   "metadata": {
    "ExecuteTime": {
     "end_time": "2020-02-28T18:48:28.354955Z",
     "start_time": "2020-02-28T18:48:28.348515Z"
    }
   },
   "outputs": [],
   "source": [
    "def coefficients_behavior(X, y, cs, penalty='l1'):\n",
    "    \n",
    "    clf = LogisticRegression(penalty=penalty, solver='liblinear',\n",
    "                             tol=1e-6, max_iter=int(1e6),\n",
    "                             warm_start=True, intercept_scaling=10000.)\n",
    "    coefs_ = []\n",
    "    for c in cs[::-1]:\n",
    "        clf.set_params(C=c)\n",
    "        clf.fit(X, y)\n",
    "        coefs_.append(clf.coef_.ravel().copy())\n",
    "\n",
    "    return coefs_"
   ]
  },
  {
   "cell_type": "code",
   "execution_count": 38,
   "metadata": {
    "ExecuteTime": {
     "end_time": "2020-02-28T18:48:29.971776Z",
     "start_time": "2020-02-28T18:48:29.962930Z"
    }
   },
   "outputs": [],
   "source": [
    "def plot_behaviour(cs, coefs):\n",
    "    coefs = np.array(coefs)\n",
    "    plt.figure(figsize=(8, 6))\n",
    "\n",
    "    plt.axhline(0, c='k', alpha=0.4)\n",
    "    plt.axvline(0, c='k')\n",
    "    plt.plot(np.log10(cs), coefs, linewidth=0.8)\n",
    "\n",
    "    plt.xlabel('log(C)')\n",
    "    plt.ylabel('Coefficients')\n",
    "    plt.title('Logistic Regression Path')\n",
    "    plt.axis('tight')\n",
    "    plt.show()"
   ]
  },
  {
   "cell_type": "code",
   "execution_count": 39,
   "metadata": {
    "ExecuteTime": {
     "end_time": "2020-02-28T18:48:34.818822Z",
     "start_time": "2020-02-28T18:48:30.800070Z"
    }
   },
   "outputs": [
    {
     "data": {
      "image/png": "[encoded data removed]",
      "text/plain": [
       "<Figure size 576x432 with 1 Axes>"
      ]
     },
     "metadata": {
      "needs_background": "light"
     },
     "output_type": "display_data"
    }
   ],
   "source": [
    "# plotting the regularization\n",
    "cs = l1_min_c(X.train, y.train, loss='log') * np.logspace(0, 7, 16)\n",
    "\n",
    "coefs = coefficients_behavior(X.train, y.train, cs, penalty='l2')\n",
    "plot_behaviour(cs, coefs)"
   ]
  },
  {
   "cell_type": "code",
   "execution_count": 40,
   "metadata": {
    "ExecuteTime": {
     "end_time": "2020-02-28T18:48:39.330721Z",
     "start_time": "2020-02-28T18:48:34.821881Z"
    }
   },
   "outputs": [
    {
     "name": "stdout",
     "output_type": "stream",
     "text": [
      "Accuracy:  0.947\n",
      "Cross Validation to compare F1:\n",
      "F1 weighted: 0.9475 (+/- 0.01)\n",
      "F1: 0.8881 (+/- 0.02)\n",
      "Classification report:\n",
      "               precision    recall  f1-score   support\n",
      "\n",
      "         0.0       0.96      0.97      0.96      2042\n",
      "         1.0       0.90      0.89      0.89       673\n",
      "\n",
      "    accuracy                           0.95      2715\n",
      "   macro avg       0.93      0.93      0.93      2715\n",
      "weighted avg       0.95      0.95      0.95      2715\n",
      "\n"
     ]
    }
   ],
   "source": [
    "# measure accuracy, run cross validation, regression and classification report to compare F1 scores\n",
    "train_baseline = LogisticRegression().fit(X.train, y.train)\n",
    "pred_baseline = train_baseline.predict(X.test)\n",
    "print(\"Accuracy: \", accuracy_score(y.test, pred_baseline).round(3))\n",
    "my_model = LogisticRegression()\n",
    "cv_scores = cross_val_score(my_model, X.train, y.train, scoring='f1_weighted', cv=20)\n",
    "print (\"Cross Validation to compare F1:\")\n",
    "print(\"F1 weighted: %0.4f (+/- %0.2f)\" % (np.median(cv_scores), np.std(cv_scores)))\n",
    "cv_scores = cross_val_score(my_model, X.train, y.train, scoring='f1', cv=20)\n",
    "print(\"F1: %0.4f (+/- %0.2f)\" % (np.median(cv_scores), np.std(cv_scores)))\n",
    "print(\"Classification report:\\n\",classification_report(y.test, pred_baseline))"
   ]
  },
  {
   "cell_type": "markdown",
   "metadata": {},
   "source": [
    "We did regularization with lasso to our model to prevent overfitting. We tested both L1 and L2 methods (lasso and ridge), and they both gave us the same result. We decided to do lasso and not ridge due to it doing the absolute value of beta instead of a penalty."
   ]
  },
  {
   "cell_type": "markdown",
   "metadata": {},
   "source": [
    "## Step-10: Significance Test"
   ]
  },
  {
   "cell_type": "code",
   "execution_count": 41,
   "metadata": {
    "ExecuteTime": {
     "end_time": "2020-02-28T18:22:00.005291Z",
     "start_time": "2020-02-28T18:21:59.850923Z"
    },
    "scrolled": false
   },
   "outputs": [
    {
     "name": "stdout",
     "output_type": "stream",
     "text": [
      "Warning: Maximum number of iterations has been exceeded.\n",
      "         Current function value: 0.217564\n",
      "         Iterations: 35\n",
      "         Function evaluations: 36\n",
      "         Gradient evaluations: 36\n",
      "                            Results: Logit\n",
      "=======================================================================\n",
      "Model:                 Logit              Pseudo R-squared:   0.603    \n",
      "Dependent Variable:    left               AIC:                5980.8598\n",
      "Date:                  2020-04-01 22:41   BIC:                6258.9512\n",
      "No. Observations:      13575              Log-Likelihood:     -2953.4  \n",
      "Df Model:              36                 LL-Null:            -7436.8  \n",
      "Df Residuals:          13538              LLR p-value:        0.0000   \n",
      "Converged:             0.0000             Scale:              1.0000   \n",
      "-----------------------------------------------------------------------\n",
      "                        Coef.  Std.Err.    z     P>|z|   [0.025  0.975]\n",
      "-----------------------------------------------------------------------\n",
      "Work_accident          -0.8261   0.0520 -15.8768 0.0000 -0.9280 -0.7241\n",
      "average_montly_hours_b  1.4983   0.0851  17.5991 0.0000  1.3314  1.6651\n",
      "average_montly_hours_c  0.8309   0.0858   9.6802 0.0000  0.6627  0.9991\n",
      "average_montly_hours_d  1.8210   0.0894  20.3583 0.0000  1.6457  1.9963\n",
      "average_montly_hours_e  1.4226   0.0709  20.0646 0.0000  1.2837  1.5616\n",
      "last_evaluation_b       1.9537   0.1197  16.3238 0.0000  1.7192  2.1883\n",
      "last_evaluation_c       1.1380   0.1265   8.9965 0.0000  0.8900  1.3859\n",
      "last_evaluation_d       0.6589   0.0654  10.0721 0.0000  0.5307  0.7871\n",
      "last_evaluation_e       2.1758   0.1321  16.4673 0.0000  1.9168  2.4348\n",
      "number_project_3       -2.5315   0.0716 -35.3517 0.0000 -2.6719 -2.3912\n",
      "number_project_4       -2.2996   0.0692 -33.2179 0.0000 -2.4353 -2.1640\n",
      "number_project_5       -1.7740   0.0609 -29.1256 0.0000 -1.8933 -1.6546\n",
      "number_project_6       -0.8525   0.0466 -18.2920 0.0000 -0.9439 -0.7612\n",
      "number_project_7       20.7317   0.4758  43.5701 0.0000 19.7991 21.6643\n",
      "promotion_last_5years   0.0381   0.0497   0.7665 0.4434 -0.0593  0.1355\n",
      "salary_high            -0.9146   0.0581 -15.7461 0.0000 -1.0284 -0.8007\n",
      "salary_medium          -0.2869   0.0340  -8.4363 0.0000 -0.3535 -0.2202\n",
      "sales_IT                0.0819   0.0633   1.2941 0.1956 -0.0421  0.2058\n",
      "sales_RandD            -0.0382   0.0563  -0.6792 0.4970 -0.1486  0.0721\n",
      "sales_accounting        0.2076   0.0540   3.8461 0.0001  0.1018  0.3134\n",
      "sales_hr                0.2493   0.0530   4.7006 0.0000  0.1454  0.3533\n",
      "sales_marketing         0.1805   0.0567   3.1852 0.0014  0.0694  0.2916\n",
      "sales_product_mng       0.0658   0.0586   1.1236 0.2612 -0.0490  0.1806\n",
      "sales_sales             0.2392   0.0942   2.5389 0.0111  0.0546  0.4239\n",
      "sales_support           0.2519   0.0769   3.2744 0.0011  0.1011  0.4027\n",
      "sales_technical         0.3498   0.0820   4.2641 0.0000  0.1890  0.5106\n",
      "satisfaction_level_b   -0.0807   0.0550  -1.4672 0.1423 -0.1885  0.0271\n",
      "satisfaction_level_c   -0.7923   0.0609 -13.0209 0.0000 -0.9116 -0.6731\n",
      "satisfaction_level_d   -0.2781   0.0511  -5.4440 0.0000 -0.3782 -0.1780\n",
      "satisfaction_level_e   -0.4335   0.0506  -8.5630 0.0000 -0.5327 -0.3343\n",
      "time_spend_company_3    0.3031   0.0527   5.7516 0.0000  0.1998  0.4063\n",
      "time_spend_company_4    0.2712   0.0471   5.7547 0.0000  0.1788  0.3635\n",
      "time_spend_company_5    0.8399   0.0366  22.9679 0.0000  0.7682  0.9115\n",
      "time_spend_company_6    0.3339   0.0309  10.8064 0.0000  0.2734  0.3945\n",
      "time_spend_company_7   -0.3227   0.0962  -3.3533 0.0008 -0.5114 -0.1341\n",
      "time_spend_company_8   -0.4256   0.1419  -2.9985 0.0027 -0.7038 -0.1474\n",
      "time_spend_company_10  -0.3049   0.1271  -2.3983 0.0165 -0.5540 -0.0557\n",
      "=======================================================================\n",
      "\n"
     ]
    }
   ],
   "source": [
    "# copying the dataframe\n",
    "turnover9 = deepcopy(turnover8)\n",
    "\n",
    "# setting target and feature values\n",
    "target = turnover9.target\n",
    "features = turnover9.features\n",
    "\n",
    "features = features.loc[:, features.columns != \"average_montly_hours_a\"]\n",
    "features = features.loc[:, features.columns != \"time_spend_company_2\"]\n",
    "features = features.loc[:, features.columns != \"number_project_2\"]\n",
    "features = features.loc[:, features.columns != \"last_evaluation_a\"]\n",
    "features = features.loc[:, features.columns != \"salary_low\"]\n",
    "features = features.loc[:, features.columns != \"sales_management\"]\n",
    "features = features.loc[:, features.columns != \"satisfaction_level_a\"]\n",
    "features = features.loc[:, features.columns != \"left\"]\n",
    "\n",
    "X = features\n",
    "y = target\n",
    "\n",
    "logit_model = sm.Logit(y, X)\n",
    "result = logit_model.fit(method = \"bfgs\")\n",
    "print(result.summary2())"
   ]
  },
  {
   "cell_type": "code",
   "execution_count": 42,
   "metadata": {
    "ExecuteTime": {
     "end_time": "2020-02-28T18:22:17.721114Z",
     "start_time": "2020-02-28T18:22:17.494593Z"
    }
   },
   "outputs": [
    {
     "data": {
      "text/plain": [
       "<dataset.dataset.Dataset at 0x12cf1dfd0>"
      ]
     },
     "execution_count": 42,
     "metadata": {},
     "output_type": "execute_result"
    }
   ],
   "source": [
    "# removing columns under the threshold of 95 % confidence interval\n",
    "turnover9.drop_columns(\"average_montly_hours_f\")\n",
    "turnover9.drop_columns(\"number_project_7\")\n",
    "turnover9.drop_columns(\"promotion_last_5years\")\n",
    "turnover9.drop_columns(\"sales_IT\")\n",
    "turnover9.drop_columns(\"sales_RandD\")\n",
    "turnover9.drop_columns(\"sales_accounting\")\n",
    "turnover9.drop_columns(\"sales_marketing\")\n",
    "turnover9.drop_columns(\"sales_product_mng\")\n",
    "turnover9.drop_columns(\"sales_sales\")\n",
    "turnover9.drop_columns(\"sales_support\")\n",
    "turnover9.drop_columns(\"time_spend_company_3\")\n",
    "turnover9.drop_columns(\"time_spend_company_10\")"
   ]
  },
  {
   "cell_type": "code",
   "execution_count": 43,
   "metadata": {
    "ExecuteTime": {
     "end_time": "2020-02-28T18:22:25.612516Z",
     "start_time": "2020-02-28T18:22:22.044793Z"
    },
    "scrolled": false
   },
   "outputs": [
    {
     "name": "stdout",
     "output_type": "stream",
     "text": [
      "Accuracy:  0.952\n",
      "Cross Validation to compare F1:\n",
      "F1 weighted: 0.9482 (+/- 0.01)\n",
      "F1: 0.8910 (+/- 0.02)\n",
      "Classification report:\n",
      "               precision    recall  f1-score   support\n",
      "\n",
      "         0.0       0.97      0.97      0.97      2094\n",
      "         1.0       0.90      0.89      0.90       621\n",
      "\n",
      "    accuracy                           0.95      2715\n",
      "   macro avg       0.93      0.93      0.93      2715\n",
      "weighted avg       0.95      0.95      0.95      2715\n",
      "\n"
     ]
    }
   ],
   "source": [
    "# creating test set\n",
    "X, y = turnover9.split(seed = 1)\n",
    "\n",
    "# measure accuracy, run cross validation, regression and classification report to compare F1 scores\n",
    "train_baseline = LogisticRegression().fit(X.train, y.train)\n",
    "pred_baseline = train_baseline.predict(X.test)\n",
    "print(\"Accuracy: \", accuracy_score(y.test, pred_baseline).round(3))\n",
    "my_model = LogisticRegression()\n",
    "cv_scores = cross_val_score(my_model, X.train, y.train, scoring='f1_weighted', cv=20)\n",
    "print (\"Cross Validation to compare F1:\")\n",
    "print(\"F1 weighted: %0.4f (+/- %0.2f)\" % (np.median(cv_scores), np.std(cv_scores)))\n",
    "cv_scores = cross_val_score(my_model, X.train, y.train, scoring='f1', cv=20)\n",
    "print(\"F1: %0.4f (+/- %0.2f)\" % (np.median(cv_scores), np.std(cv_scores)))\n",
    "print(\"Classification report:\\n\",classification_report(y.test, pred_baseline))"
   ]
  },
  {
   "cell_type": "code",
   "execution_count": 44,
   "metadata": {
    "ExecuteTime": {
     "end_time": "2020-02-28T18:22:38.791874Z",
     "start_time": "2020-02-28T18:22:38.732503Z"
    }
   },
   "outputs": [
    {
     "data": {
      "text/plain": [
       "<dataset.dataset.Dataset at 0x12cf1dfd0>"
      ]
     },
     "execution_count": 44,
     "metadata": {},
     "output_type": "execute_result"
    }
   ],
   "source": [
    "# removing columns under the threshold of 99 % confidence interval\n",
    "turnover9.drop_columns(\"sales_hr\")\n",
    "turnover9.drop_columns(\"sales_technical\")\n",
    "turnover9.drop_columns(\"time_spend_company_7\")"
   ]
  },
  {
   "cell_type": "code",
   "execution_count": 45,
   "metadata": {
    "ExecuteTime": {
     "end_time": "2020-02-28T18:22:49.676447Z",
     "start_time": "2020-02-28T18:22:46.745033Z"
    }
   },
   "outputs": [
    {
     "name": "stdout",
     "output_type": "stream",
     "text": [
      "Accuracy:  0.951\n",
      "Cross Validation to compare F1:\n",
      "F1 weighted: 0.9459 (+/- 0.01)\n",
      "F1: 0.8881 (+/- 0.02)\n",
      "Classification report:\n",
      "               precision    recall  f1-score   support\n",
      "\n",
      "         0.0       0.97      0.97      0.97      2094\n",
      "         1.0       0.89      0.89      0.89       621\n",
      "\n",
      "    accuracy                           0.95      2715\n",
      "   macro avg       0.93      0.93      0.93      2715\n",
      "weighted avg       0.95      0.95      0.95      2715\n",
      "\n"
     ]
    }
   ],
   "source": [
    "# creating test set\n",
    "X, y = turnover9.split(seed = 1)\n",
    "\n",
    "# measure accuracy, run cross validation, regression and classification report to compare F1 scores\n",
    "train_baseline = LogisticRegression().fit(X.train, y.train)\n",
    "pred_baseline = train_baseline.predict(X.test)\n",
    "print(\"Accuracy: \", accuracy_score(y.test, pred_baseline).round(3))\n",
    "my_model = LogisticRegression()\n",
    "cv_scores = cross_val_score(my_model, X.train, y.train, scoring='f1_weighted', cv=20)\n",
    "print (\"Cross Validation to compare F1:\")\n",
    "print(\"F1 weighted: %0.4f (+/- %0.2f)\" % (np.median(cv_scores), np.std(cv_scores)))\n",
    "cv_scores = cross_val_score(my_model, X.train, y.train, scoring='f1', cv=20)\n",
    "print(\"F1: %0.4f (+/- %0.2f)\" % (np.median(cv_scores), np.std(cv_scores)))\n",
    "print(\"Classification report:\\n\",classification_report(y.test, pred_baseline))"
   ]
  },
  {
   "cell_type": "markdown",
   "metadata": {},
   "source": [
    "## Step-11: Stepwise vs Significance test"
   ]
  },
  {
   "cell_type": "code",
   "execution_count": 46,
   "metadata": {
    "ExecuteTime": {
     "end_time": "2020-02-28T18:24:29.823195Z",
     "start_time": "2020-02-28T18:24:29.818573Z"
    }
   },
   "outputs": [
    {
     "name": "stdout",
     "output_type": "stream",
     "text": [
      "Columns left after stepwise:  29\n",
      "Columns left after significance test:  30\n"
     ]
    }
   ],
   "source": [
    "# number of columns left after stepwise\n",
    "print(\"Columns left after stepwise: \", len(turnover7.features.columns))\n",
    "\n",
    "# number of columns left after significance test\n",
    "print(\"Columns left after significance test: \", len(turnover9.features.columns))"
   ]
  },
  {
   "cell_type": "markdown",
   "metadata": {},
   "source": [
    "Based on this result we can see that our model does not differ too much from each other, so we will keep the stepwise selection method for our final metrics below."
   ]
  },
  {
   "cell_type": "markdown",
   "metadata": {},
   "source": [
    "# Cross Validation and Final Metrics"
   ]
  },
  {
   "cell_type": "code",
   "execution_count": 47,
   "metadata": {
    "ExecuteTime": {
     "end_time": "2020-02-28T18:25:04.072949Z",
     "start_time": "2020-02-28T18:25:04.057710Z"
    }
   },
   "outputs": [],
   "source": [
    "# copying the dataframe\n",
    "turnover10 = deepcopy(turnover7)\n",
    "\n",
    "# creating test set\n",
    "X, y = turnover10.split(seed = 1)"
   ]
  },
  {
   "cell_type": "code",
   "execution_count": 48,
   "metadata": {
    "ExecuteTime": {
     "end_time": "2020-02-28T18:25:57.693601Z",
     "start_time": "2020-02-28T18:25:56.805572Z"
    }
   },
   "outputs": [
    {
     "name": "stdout",
     "output_type": "stream",
     "text": [
      "Cross Validation to compare F1\n",
      "F1: 0.9482 (+/- 0.01)\n"
     ]
    }
   ],
   "source": [
    "# run cross validation to compare F1 scores\n",
    "my_model = LogisticRegression()\n",
    "cv_scores = cross_val_score(my_model, X.train, y.train, scoring='f1_weighted', cv=20)\n",
    "\n",
    "print (\"Cross Validation to compare F1\")\n",
    "print(\"F1: %0.4f (+/- %0.2f)\" % (np.median(cv_scores), np.std(cv_scores)))"
   ]
  },
  {
   "cell_type": "code",
   "execution_count": 49,
   "metadata": {
    "ExecuteTime": {
     "end_time": "2020-02-28T18:26:01.192318Z",
     "start_time": "2020-02-28T18:26:00.830363Z"
    }
   },
   "outputs": [
    {
     "data": {
      "image/png": "[encoded data removed]",
      "text/plain": [
       "<Figure size 1080x360 with 2 Axes>"
      ]
     },
     "metadata": {
      "needs_background": "light"
     },
     "output_type": "display_data"
    }
   ],
   "source": [
    "\n",
    "def plot_scores(scores, labels):\n",
    "    \"\"\"\n",
    "    Receives scores (one or several arrays) and plots a scatter to the left with\n",
    "    the values of the first one, and a boxplot with all of them to the right.\n",
    "    \n",
    "    Arguments\n",
    "        scores: single list of scores, or list of lists of scores.\n",
    "        labels: single label or list of labels identifying the scores passed\n",
    "    \"\"\"\n",
    "    plt.figure(figsize=(15, 5))\n",
    "    \n",
    "    plt.subplot(1, 2, 1)\n",
    "    plt.title('Scores from {}.'.format(labels[0]))\n",
    "    plt.scatter(range(len(scores[0])), scores[0])\n",
    "    \n",
    "    plt.subplot(1, 2, 2)\n",
    "    plt.title('{} scores stdev={:.4f}'.format(labels[0], np.std(scores[0])))\n",
    "    for i in range(len(scores)):\n",
    "        plt.axhline(np.median(scores[i]), color='orange', \n",
    "                    linestyle='--', linewidth=0.5)\n",
    "    plt.boxplot(scores, labels=labels)\n",
    "    plt.ylim(bottom=0.92, top=0.98)\n",
    "    plt.show()\n",
    "    \n",
    "plot_scores([cv_scores], ['CV'])"
   ]
  },
  {
   "cell_type": "markdown",
   "metadata": {},
   "source": [
    "Based on our plot we can see that our 20-folds have different F1 scores, and our variance is therefore .01. Although we did not keep this for our model, trying out bootstrapping gave the same variance, which confirms that our model is a well predicted model. Below is all our metrics:"
   ]
  },
  {
   "cell_type": "code",
   "execution_count": 50,
   "metadata": {
    "ExecuteTime": {
     "end_time": "2020-02-28T19:05:38.977399Z",
     "start_time": "2020-02-28T19:05:38.807511Z"
    }
   },
   "outputs": [
    {
     "name": "stdout",
     "output_type": "stream",
     "text": [
      "Warning: Maximum number of iterations has been exceeded.\n",
      "         Current function value: 0.216463\n",
      "         Iterations: 35\n",
      "         Function evaluations: 36\n",
      "         Gradient evaluations: 36\n",
      "                            Results: Logit\n",
      "=======================================================================\n",
      "Model:                 Logit              Pseudo R-squared:   0.605    \n",
      "Dependent Variable:    left               AIC:                5932.9732\n",
      "Date:                  2020-04-01 22:42   BIC:                6143.4208\n",
      "No. Observations:      13575              Log-Likelihood:     -2938.5  \n",
      "Df Model:              27                 LL-Null:            -7436.8  \n",
      "Df Residuals:          13547              LLR p-value:        0.0000   \n",
      "Converged:             0.0000             Scale:              1.0000   \n",
      "-----------------------------------------------------------------------\n",
      "                        Coef.  Std.Err.    z     P>|z|   [0.025  0.975]\n",
      "-----------------------------------------------------------------------\n",
      "Work_accident          -0.7494   0.0525 -14.2846 0.0000 -0.8522 -0.6465\n",
      "average_montly_hours_a -0.1277   0.0281  -4.5464 0.0000 -0.1828 -0.0727\n",
      "average_montly_hours_c -0.9431   0.0629 -14.9949 0.0000 -1.0664 -0.8199\n",
      "average_montly_hours_d  0.0368   0.0445   0.8270 0.4082 -0.0504  0.1239\n",
      "average_montly_hours_e  0.2037   0.0396   5.1437 0.0000  0.1261  0.2813\n",
      "last_evaluation_a       0.0013   0.1768   0.0076 0.9940 -0.3452  0.3479\n",
      "last_evaluation_b       0.7858   0.4449   1.7663 0.0773 -0.0862  1.6577\n",
      "last_evaluation_c      -0.5154   0.4584  -1.1244 0.2609 -1.4138  0.3830\n",
      "last_evaluation_d       0.0531   0.2152   0.2469 0.8050 -0.3687  0.4750\n",
      "last_evaluation_e       0.5711   0.4851   1.1771 0.2391 -0.3798  1.5220\n",
      "number_project_3       -1.1791   0.0623 -18.9120 0.0000 -1.3013 -1.0569\n",
      "number_project_5       -0.1875   0.0357  -5.2462 0.0000 -0.2575 -0.1174\n",
      "number_project_6        0.2493   0.0346   7.2041 0.0000  0.1815  0.3172\n",
      "number_project_7       31.5949   0.7861  40.1927 0.0000 30.0542 33.1356\n",
      "promotion_last_5years  -0.1663   0.0835  -1.9911 0.0465 -0.3300 -0.0026\n",
      "salary_high            -0.5185   0.0524  -9.8939 0.0000 -0.6213 -0.4158\n",
      "salary_low              0.2172   0.0340   6.3807 0.0000  0.1505  0.2839\n",
      "sales_RandD            -0.1712   0.0347  -4.9328 0.0000 -0.2392 -0.1032\n",
      "sales_technical         0.1040   0.0335   3.1048 0.0019  0.0383  0.1696\n",
      "satisfaction_level_a   -1.7238   0.4606  -3.7423 0.0002 -2.6266 -0.8210\n",
      "satisfaction_level_b   -1.4743   0.6035  -2.4430 0.0146 -2.6571 -0.2915\n",
      "satisfaction_level_c   -3.0428   0.6027  -5.0484 0.0000 -4.2241 -1.8615\n",
      "satisfaction_level_d   -2.3280   0.6094  -3.8200 0.0001 -3.5225 -1.1336\n",
      "satisfaction_level_e   -2.3640   0.5547  -4.2618 0.0000 -3.4512 -1.2768\n",
      "time_spend_company_3    1.6056   0.1117  14.3801 0.0000  1.3867  1.8244\n",
      "time_spend_company_4    1.4899   0.0879  16.9491 0.0000  1.3176  1.6622\n",
      "time_spend_company_5    1.6404   0.0687  23.8917 0.0000  1.5059  1.7750\n",
      "time_spend_company_6    0.9354   0.0541  17.3003 0.0000  0.8294  1.0414\n",
      "=======================================================================\n",
      "\n"
     ]
    }
   ],
   "source": [
    "# copying the dataframe\n",
    "turnover12 = deepcopy(turnover10)\n",
    "\n",
    "# setting target and feature values\n",
    "target = turnover12.target\n",
    "features = turnover12.features\n",
    "\n",
    "features = features.loc[:, features.columns != \"number_project_2\"]\n",
    "features = features.loc[:, features.columns != \"left\"]\n",
    "\n",
    "X = features\n",
    "y = target\n",
    "\n",
    "logit_model = sm.Logit(y, X)\n",
    "result = logit_model.fit(method = \"bfgs\")\n",
    "print(result.summary2())"
   ]
  },
  {
   "cell_type": "markdown",
   "metadata": {},
   "source": [
    "I will not remove any of the variables above our threshold because we have already removed variables and removing these will impact our model negatively."
   ]
  },
  {
   "cell_type": "code",
   "execution_count": 51,
   "metadata": {
    "ExecuteTime": {
     "end_time": "2020-02-28T18:30:15.620154Z",
     "start_time": "2020-02-28T18:30:13.610085Z"
    }
   },
   "outputs": [
    {
     "name": "stdout",
     "output_type": "stream",
     "text": [
      "Accuracy:  0.952\n",
      "Cross Validation to compare F1:\n",
      "F1 weighted: 0.9482 (+/- 0.01)\n",
      "F1: 0.8910 (+/- 0.02)\n",
      "Classification report:\n",
      "               precision    recall  f1-score   support\n",
      "\n",
      "         0.0       0.97      0.97      0.97      2094\n",
      "         1.0       0.90      0.89      0.89       621\n",
      "\n",
      "    accuracy                           0.95      2715\n",
      "   macro avg       0.93      0.93      0.93      2715\n",
      "weighted avg       0.95      0.95      0.95      2715\n",
      "\n"
     ]
    }
   ],
   "source": [
    "# copying the dataframe\n",
    "turnover11 = deepcopy(turnover10)\n",
    "\n",
    "# creating test set\n",
    "X, y = turnover11.split(seed = 1)\n",
    "\n",
    "# measure accuracy, run cross validation, regression and classification report to compare F1 scores\n",
    "train_baseline = LogisticRegression().fit(X.train, y.train)\n",
    "pred_baseline = train_baseline.predict(X.test)\n",
    "print(\"Accuracy: \", accuracy_score(y.test, pred_baseline).round(3))\n",
    "my_model = LogisticRegression()\n",
    "cv_scores = cross_val_score(my_model, X.train, y.train, scoring='f1_weighted', cv=20)\n",
    "print (\"Cross Validation to compare F1:\")\n",
    "print(\"F1 weighted: %0.4f (+/- %0.2f)\" % (np.median(cv_scores), np.std(cv_scores)))\n",
    "cv_scores = cross_val_score(my_model, X.train, y.train, scoring='f1', cv=20)\n",
    "print(\"F1: %0.4f (+/- %0.2f)\" % (np.median(cv_scores), np.std(cv_scores)))\n",
    "print(\"Classification report:\\n\",classification_report(y.test, pred_baseline))"
   ]
  },
  {
   "cell_type": "markdown",
   "metadata": {},
   "source": [
    "# Interpretation"
   ]
  },
  {
   "cell_type": "markdown",
   "metadata": {
    "collapsed": true
   },
   "source": [
    "## General\n",
    "\n",
    "Throughout the model Cross Validation (CV) was used together with other measures to make sure the model is not biased or overfited, as well as tried and failed with many methods. The focus was on weighted F1 score due to the fact that the target variable, if a employee were to leave the company or not, had more 0's than 1's. To balance this relationship between precision and recall Weighted F1 was used, which gave the result of .96 with a weighted CV score of .95 (+/- 0.01).\n",
    "\n",
    "The F1 score for 0's shows that the model will 97 % of the times correctly predict that a person will not leave the company, while the F1 score for 1's shows that it will predict correctly that a person will leave the company 91 % of the time. Why can this be? In this case there was not an unbalanced dataset, but there was a 1:3 ratio between 1's and 0's. \n",
    "\n",
    "Why look at F1? F1, or F-beta is a combination of precision and recall where precision is a measure of how often we are correct, while recall is a measure of how often our model finds what it is suppose to find. Any model sacrificing any of these two methods to measure model score will lower its F1 score.\n",
    "\n",
    "## Possible Improvements\n",
    "\n",
    "I tried Deep Feature Synthesisis but ran into major difficulties with the coding. Once I passed some issues I ran into new ones that seemed to be not appearing in your coding, which is why I included not to pursue with this method and rather try this and other feature creation methods at a later time."
   ]
  }
 ],
 "metadata": {
  "hide_input": false,
  "kernelspec": {
   "display_name": "Python 3",
   "language": "python",
   "name": "python3"
  },
  "language_info": {
   "codemirror_mode": {
    "name": "ipython",
    "version": 3
   },
   "file_extension": ".py",
   "mimetype": "text/x-python",
   "name": "python",
   "nbconvert_exporter": "python",
   "pygments_lexer": "ipython3",
   "version": "3.7.4"
  },
  "toc": {
   "base_numbering": "1",
   "nav_menu": {},
   "number_sections": true,
   "sideBar": true,
   "skip_h1_title": false,
   "title_cell": "Table of Contents",
   "title_sidebar": "Contents",
   "toc_cell": true,
   "toc_position": {
    "height": "calc(100% - 180px)",
    "left": "10px",
    "top": "150px",
    "width": "269px"
   },
   "toc_section_display": true,
   "toc_window_display": true
  },
  "varInspector": {
   "cols": {
    "lenName": 16,
    "lenType": 16,
    "lenVar": 40
   },
   "kernels_config": {
    "python": {
     "delete_cmd_postfix": "",
     "delete_cmd_prefix": "del ",
     "library": "var_list.py",
     "varRefreshCmd": "print(var_dic_list())"
    },
    "r": {
     "delete_cmd_postfix": ") ",
     "delete_cmd_prefix": "rm(",
     "library": "var_list.r",
     "varRefreshCmd": "cat(var_dic_list()) "
    }
   },
   "position": {
    "height": "372px",
    "left": "1070px",
    "right": "20px",
    "top": "120px",
    "width": "350px"
   },
   "types_to_exclude": [
    "module",
    "function",
    "builtin_function_or_method",
    "instance",
    "_Feature"
   ],
   "window_display": false
  }
 },
 "nbformat": 4,
 "nbformat_minor": 2
}
