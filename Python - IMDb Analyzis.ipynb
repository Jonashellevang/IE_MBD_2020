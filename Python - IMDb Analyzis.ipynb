{
 "cells": [
  {
   "cell_type": "markdown",
   "metadata": {},
   "source": [
    "# Individual Assignment 1 by Jonas Hellevang"
   ]
  },
  {
   "cell_type": "code",
   "execution_count": 1,
   "metadata": {
    "ExecuteTime": {
     "end_time": "2020-03-04T15:26:05.565697Z",
     "start_time": "2020-03-04T15:26:05.060354Z"
    }
   },
   "outputs": [],
   "source": [
    "import pandas as pd\n",
    "import numpy as np"
   ]
  },
  {
   "cell_type": "markdown",
   "metadata": {},
   "source": [
    "## Question 1 \n",
    "Open the dataset as a pandas DataFrame named imdb: please note that the file is .tsv type. Investigate what this is, and how to pass a different separator value sep=\"\" when using pd.read_csv"
   ]
  },
  {
   "cell_type": "code",
   "execution_count": 2,
   "metadata": {
    "ExecuteTime": {
     "end_time": "2020-03-04T15:26:06.450518Z",
     "start_time": "2020-03-04T15:26:05.589641Z"
    }
   },
   "outputs": [],
   "source": [
    "# importing the data\n",
    "imdb = pd.read_csv(\"./imdb_2019.tsv\", sep = \"\\t\")"
   ]
  },
  {
   "cell_type": "markdown",
   "metadata": {},
   "source": [
    "## Question 2\n",
    "How many types of titles are there in the column titleType? No for loops allowed! Check pandas.unique, pandas.Series.value_counts, set"
   ]
  },
  {
   "cell_type": "code",
   "execution_count": 3,
   "metadata": {
    "ExecuteTime": {
     "end_time": "2020-03-04T15:26:06.586036Z",
     "start_time": "2020-03-04T15:26:06.523218Z"
    }
   },
   "outputs": [
    {
     "name": "stdout",
     "output_type": "stream",
     "text": [
      "There are 10 types of titles in the column 'titleType', and these are: ['short', 'movie', 'tvMovie', 'video', 'tvSeries', 'tvEpisode', 'tvMiniSeries', 'tvSpecial', 'videoGame', 'tvShort']\n"
     ]
    }
   ],
   "source": [
    "# finding unique values in \"titleType\"\n",
    "print(\"There are\", len(imdb[\"titleType\"].unique()), \"types of titles in the column 'titleType', and these are:\", \n",
    "      list(imdb[\"titleType\"].unique()))"
   ]
  },
  {
   "cell_type": "markdown",
   "metadata": {},
   "source": [
    "## Question 3\n",
    "Create a slice of imdb that only contains the following columns: \\\n",
    "• titleType, primaryTitle, startYear, runtimeMinutes"
   ]
  },
  {
   "cell_type": "code",
   "execution_count": 4,
   "metadata": {
    "ExecuteTime": {
     "end_time": "2020-03-04T15:26:06.681254Z",
     "start_time": "2020-03-04T15:26:06.626285Z"
    }
   },
   "outputs": [
    {
     "data": {
      "text/html": [
       "<div>\n",
       "<style scoped>\n",
       "    .dataframe tbody tr th:only-of-type {\n",
       "        vertical-align: middle;\n",
       "    }\n",
       "\n",
       "    .dataframe tbody tr th {\n",
       "        vertical-align: top;\n",
       "    }\n",
       "\n",
       "    .dataframe thead th {\n",
       "        text-align: right;\n",
       "    }\n",
       "</style>\n",
       "<table border=\"1\" class=\"dataframe\">\n",
       "  <thead>\n",
       "    <tr style=\"text-align: right;\">\n",
       "      <th></th>\n",
       "      <th>titleType</th>\n",
       "      <th>primaryTitle</th>\n",
       "      <th>startYear</th>\n",
       "      <th>runtimeMinutes</th>\n",
       "    </tr>\n",
       "  </thead>\n",
       "  <tbody>\n",
       "    <tr>\n",
       "      <td>140434</td>\n",
       "      <td>tvEpisode</td>\n",
       "      <td>Bez naslova</td>\n",
       "      <td>2019.0</td>\n",
       "      <td>NaN</td>\n",
       "    </tr>\n",
       "    <tr>\n",
       "      <td>183824</td>\n",
       "      <td>tvEpisode</td>\n",
       "      <td>Chick-fil-A's Cowardly Cave</td>\n",
       "      <td>2019.0</td>\n",
       "      <td>NaN</td>\n",
       "    </tr>\n",
       "    <tr>\n",
       "      <td>276170</td>\n",
       "      <td>tvEpisode</td>\n",
       "      <td>Episode dated 4 February 2019</td>\n",
       "      <td>2019.0</td>\n",
       "      <td>NaN</td>\n",
       "    </tr>\n",
       "    <tr>\n",
       "      <td>223177</td>\n",
       "      <td>tvEpisode</td>\n",
       "      <td>A Nova Guarda</td>\n",
       "      <td>2019.0</td>\n",
       "      <td>NaN</td>\n",
       "    </tr>\n",
       "    <tr>\n",
       "      <td>42697</td>\n",
       "      <td>short</td>\n",
       "      <td>Segunda Opção</td>\n",
       "      <td>2019.0</td>\n",
       "      <td>NaN</td>\n",
       "    </tr>\n",
       "  </tbody>\n",
       "</table>\n",
       "</div>"
      ],
      "text/plain": [
       "        titleType                   primaryTitle  startYear  runtimeMinutes\n",
       "140434  tvEpisode                    Bez naslova     2019.0             NaN\n",
       "183824  tvEpisode    Chick-fil-A's Cowardly Cave     2019.0             NaN\n",
       "276170  tvEpisode  Episode dated 4 February 2019     2019.0             NaN\n",
       "223177  tvEpisode                  A Nova Guarda     2019.0             NaN\n",
       "42697       short                  Segunda Opção     2019.0             NaN"
      ]
     },
     "execution_count": 4,
     "metadata": {},
     "output_type": "execute_result"
    }
   ],
   "source": [
    "# slicing the dataframe\n",
    "imdb_slice = imdb[[\"titleType\", \"primaryTitle\", \"startYear\", \"runtimeMinutes\"]]\n",
    "\n",
    "imdb_slice.sample(5)"
   ]
  },
  {
   "cell_type": "markdown",
   "metadata": {},
   "source": [
    "## Question 4\n",
    "Create a subset of imdb named tvEpisodes_2019 that only includes the type tvEpisodes"
   ]
  },
  {
   "cell_type": "code",
   "execution_count": 5,
   "metadata": {
    "ExecuteTime": {
     "end_time": "2020-03-04T15:26:06.825198Z",
     "start_time": "2020-03-04T15:26:06.720383Z"
    }
   },
   "outputs": [
    {
     "data": {
      "text/html": [
       "<div>\n",
       "<style scoped>\n",
       "    .dataframe tbody tr th:only-of-type {\n",
       "        vertical-align: middle;\n",
       "    }\n",
       "\n",
       "    .dataframe tbody tr th {\n",
       "        vertical-align: top;\n",
       "    }\n",
       "\n",
       "    .dataframe thead th {\n",
       "        text-align: right;\n",
       "    }\n",
       "</style>\n",
       "<table border=\"1\" class=\"dataframe\">\n",
       "  <thead>\n",
       "    <tr style=\"text-align: right;\">\n",
       "      <th></th>\n",
       "      <th>index</th>\n",
       "      <th>tconst</th>\n",
       "      <th>titleType</th>\n",
       "      <th>primaryTitle</th>\n",
       "      <th>originalTitle</th>\n",
       "      <th>isAdult</th>\n",
       "      <th>startYear</th>\n",
       "      <th>endYear</th>\n",
       "      <th>runtimeMinutes</th>\n",
       "      <th>genres</th>\n",
       "    </tr>\n",
       "  </thead>\n",
       "  <tbody>\n",
       "    <tr>\n",
       "      <td>43509</td>\n",
       "      <td>1165141.0</td>\n",
       "      <td>tt10343644</td>\n",
       "      <td>tvEpisode</td>\n",
       "      <td>Find Peter Chadwick</td>\n",
       "      <td>Find Peter Chadwick</td>\n",
       "      <td>0.0</td>\n",
       "      <td>2019.0</td>\n",
       "      <td>NaN</td>\n",
       "      <td>43.0</td>\n",
       "      <td>NaN</td>\n",
       "    </tr>\n",
       "    <tr>\n",
       "      <td>288371</td>\n",
       "      <td>6533347.0</td>\n",
       "      <td>tt9794402</td>\n",
       "      <td>tvEpisode</td>\n",
       "      <td>Fawning over Salt and Pepper</td>\n",
       "      <td>Fawning over Salt and Pepper</td>\n",
       "      <td>0.0</td>\n",
       "      <td>2019.0</td>\n",
       "      <td>NaN</td>\n",
       "      <td>NaN</td>\n",
       "      <td>NaN</td>\n",
       "    </tr>\n",
       "    <tr>\n",
       "      <td>260304</td>\n",
       "      <td>6329077.0</td>\n",
       "      <td>tt9364380</td>\n",
       "      <td>tvEpisode</td>\n",
       "      <td>Creep</td>\n",
       "      <td>Creep</td>\n",
       "      <td>0.0</td>\n",
       "      <td>2019.0</td>\n",
       "      <td>NaN</td>\n",
       "      <td>41.0</td>\n",
       "      <td>NaN</td>\n",
       "    </tr>\n",
       "    <tr>\n",
       "      <td>161034</td>\n",
       "      <td>1635718.0</td>\n",
       "      <td>tt11163472</td>\n",
       "      <td>tvEpisode</td>\n",
       "      <td>Episode #1.858</td>\n",
       "      <td>Episode #1.858</td>\n",
       "      <td>0.0</td>\n",
       "      <td>2019.0</td>\n",
       "      <td>NaN</td>\n",
       "      <td>NaN</td>\n",
       "      <td>NaN</td>\n",
       "    </tr>\n",
       "    <tr>\n",
       "      <td>246032</td>\n",
       "      <td>5752277.0</td>\n",
       "      <td>tt8140750</td>\n",
       "      <td>tvEpisode</td>\n",
       "      <td>Space Invader</td>\n",
       "      <td>Space Invader</td>\n",
       "      <td>0.0</td>\n",
       "      <td>2019.0</td>\n",
       "      <td>NaN</td>\n",
       "      <td>22.0</td>\n",
       "      <td>NaN</td>\n",
       "    </tr>\n",
       "  </tbody>\n",
       "</table>\n",
       "</div>"
      ],
      "text/plain": [
       "            index      tconst  titleType                  primaryTitle  \\\n",
       "43509   1165141.0  tt10343644  tvEpisode           Find Peter Chadwick   \n",
       "288371  6533347.0   tt9794402  tvEpisode  Fawning over Salt and Pepper   \n",
       "260304  6329077.0   tt9364380  tvEpisode                         Creep   \n",
       "161034  1635718.0  tt11163472  tvEpisode                Episode #1.858   \n",
       "246032  5752277.0   tt8140750  tvEpisode                 Space Invader   \n",
       "\n",
       "                       originalTitle  isAdult  startYear  endYear  \\\n",
       "43509            Find Peter Chadwick      0.0     2019.0      NaN   \n",
       "288371  Fawning over Salt and Pepper      0.0     2019.0      NaN   \n",
       "260304                         Creep      0.0     2019.0      NaN   \n",
       "161034                Episode #1.858      0.0     2019.0      NaN   \n",
       "246032                 Space Invader      0.0     2019.0      NaN   \n",
       "\n",
       "        runtimeMinutes  genres  \n",
       "43509             43.0     NaN  \n",
       "288371             NaN     NaN  \n",
       "260304            41.0     NaN  \n",
       "161034             NaN     NaN  \n",
       "246032            22.0     NaN  "
      ]
     },
     "execution_count": 5,
     "metadata": {},
     "output_type": "execute_result"
    }
   ],
   "source": [
    "# creating a subset of imdb\n",
    "tvEpisodes_2019 = imdb[imdb[\"titleType\"] == \"tvEpisode\"]\n",
    "\n",
    "tvEpisodes_2019.sample(5)"
   ]
  },
  {
   "cell_type": "markdown",
   "metadata": {},
   "source": [
    "## Question 5\n",
    "Percentage of adult films over total releases in 2019. Check pd.Series.mean"
   ]
  },
  {
   "cell_type": "code",
   "execution_count": 6,
   "metadata": {
    "ExecuteTime": {
     "end_time": "2020-03-04T15:26:07.025355Z",
     "start_time": "2020-03-04T15:26:07.005808Z"
    }
   },
   "outputs": [
    {
     "name": "stdout",
     "output_type": "stream",
     "text": [
      "The percentage of adult films released in 2019 is 2.97 %\n"
     ]
    }
   ],
   "source": [
    "# finfind percentage of adult films made in 2019\n",
    "print(\"The percentage of adult films released in 2019 is\", (pd.Series.mean(imdb[\"isAdult\"] == True).round(4))*100, \"%\")"
   ]
  },
  {
   "cell_type": "markdown",
   "metadata": {},
   "source": [
    "## Question 6\n",
    "Create a column named words_in_title that contains the total number of\n",
    "words in the title. Use map alongside a function or a lambda function."
   ]
  },
  {
   "cell_type": "code",
   "execution_count": 7,
   "metadata": {
    "ExecuteTime": {
     "end_time": "2020-03-04T15:26:07.802819Z",
     "start_time": "2020-03-04T15:26:07.439025Z"
    }
   },
   "outputs": [
    {
     "data": {
      "text/html": [
       "<div>\n",
       "<style scoped>\n",
       "    .dataframe tbody tr th:only-of-type {\n",
       "        vertical-align: middle;\n",
       "    }\n",
       "\n",
       "    .dataframe tbody tr th {\n",
       "        vertical-align: top;\n",
       "    }\n",
       "\n",
       "    .dataframe thead th {\n",
       "        text-align: right;\n",
       "    }\n",
       "</style>\n",
       "<table border=\"1\" class=\"dataframe\">\n",
       "  <thead>\n",
       "    <tr style=\"text-align: right;\">\n",
       "      <th></th>\n",
       "      <th>index</th>\n",
       "      <th>tconst</th>\n",
       "      <th>titleType</th>\n",
       "      <th>primaryTitle</th>\n",
       "      <th>originalTitle</th>\n",
       "      <th>isAdult</th>\n",
       "      <th>startYear</th>\n",
       "      <th>endYear</th>\n",
       "      <th>runtimeMinutes</th>\n",
       "      <th>genres</th>\n",
       "      <th>words_in_title</th>\n",
       "    </tr>\n",
       "  </thead>\n",
       "  <tbody>\n",
       "    <tr>\n",
       "      <td>92070</td>\n",
       "      <td>1361307.0</td>\n",
       "      <td>tt10687036</td>\n",
       "      <td>tvEpisode</td>\n",
       "      <td>Episode dated 23 July 2019</td>\n",
       "      <td>Episode dated 23 July 2019</td>\n",
       "      <td>0.0</td>\n",
       "      <td>2019.0</td>\n",
       "      <td>NaN</td>\n",
       "      <td>NaN</td>\n",
       "      <td>NaN</td>\n",
       "      <td>5</td>\n",
       "    </tr>\n",
       "    <tr>\n",
       "      <td>120369</td>\n",
       "      <td>1484390.0</td>\n",
       "      <td>tt10900724</td>\n",
       "      <td>tvEpisode</td>\n",
       "      <td>September 3rd, 2019</td>\n",
       "      <td>September 3rd, 2019</td>\n",
       "      <td>0.0</td>\n",
       "      <td>2019.0</td>\n",
       "      <td>NaN</td>\n",
       "      <td>NaN</td>\n",
       "      <td>NaN</td>\n",
       "      <td>3</td>\n",
       "    </tr>\n",
       "    <tr>\n",
       "      <td>272206</td>\n",
       "      <td>6453373.0</td>\n",
       "      <td>tt9627156</td>\n",
       "      <td>tvEpisode</td>\n",
       "      <td>Jorge Sabe que lo Traicionan</td>\n",
       "      <td>Jorge Sabe que lo Traicionan</td>\n",
       "      <td>0.0</td>\n",
       "      <td>2019.0</td>\n",
       "      <td>NaN</td>\n",
       "      <td>NaN</td>\n",
       "      <td>NaN</td>\n",
       "      <td>5</td>\n",
       "    </tr>\n",
       "    <tr>\n",
       "      <td>221321</td>\n",
       "      <td>1897169.0</td>\n",
       "      <td>tt11620652</td>\n",
       "      <td>tvEpisode</td>\n",
       "      <td>Episode #1.415</td>\n",
       "      <td>Episode #1.415</td>\n",
       "      <td>0.0</td>\n",
       "      <td>2019.0</td>\n",
       "      <td>NaN</td>\n",
       "      <td>NaN</td>\n",
       "      <td>NaN</td>\n",
       "      <td>2</td>\n",
       "    </tr>\n",
       "    <tr>\n",
       "      <td>228482</td>\n",
       "      <td>1942019.0</td>\n",
       "      <td>tt11699130</td>\n",
       "      <td>tvEpisode</td>\n",
       "      <td>Episode #1.1825</td>\n",
       "      <td>Episode #1.1825</td>\n",
       "      <td>0.0</td>\n",
       "      <td>2019.0</td>\n",
       "      <td>NaN</td>\n",
       "      <td>NaN</td>\n",
       "      <td>NaN</td>\n",
       "      <td>2</td>\n",
       "    </tr>\n",
       "  </tbody>\n",
       "</table>\n",
       "</div>"
      ],
      "text/plain": [
       "            index      tconst  titleType                  primaryTitle  \\\n",
       "92070   1361307.0  tt10687036  tvEpisode    Episode dated 23 July 2019   \n",
       "120369  1484390.0  tt10900724  tvEpisode           September 3rd, 2019   \n",
       "272206  6453373.0   tt9627156  tvEpisode  Jorge Sabe que lo Traicionan   \n",
       "221321  1897169.0  tt11620652  tvEpisode                Episode #1.415   \n",
       "228482  1942019.0  tt11699130  tvEpisode               Episode #1.1825   \n",
       "\n",
       "                       originalTitle  isAdult  startYear  endYear  \\\n",
       "92070     Episode dated 23 July 2019      0.0     2019.0      NaN   \n",
       "120369           September 3rd, 2019      0.0     2019.0      NaN   \n",
       "272206  Jorge Sabe que lo Traicionan      0.0     2019.0      NaN   \n",
       "221321                Episode #1.415      0.0     2019.0      NaN   \n",
       "228482               Episode #1.1825      0.0     2019.0      NaN   \n",
       "\n",
       "        runtimeMinutes  genres  words_in_title  \n",
       "92070              NaN     NaN               5  \n",
       "120369             NaN     NaN               3  \n",
       "272206             NaN     NaN               5  \n",
       "221321             NaN     NaN               2  \n",
       "228482             NaN     NaN               2  "
      ]
     },
     "execution_count": 7,
     "metadata": {},
     "output_type": "execute_result"
    }
   ],
   "source": [
    "# using map alongside lambda function\n",
    "imdb[\"words_in_title\"] = imdb[\"originalTitle\"].map(lambda x: len(str(x).split(\" \")))\n",
    "\n",
    "imdb.sample(5)"
   ]
  },
  {
   "cell_type": "markdown",
   "metadata": {},
   "source": [
    "## Question 7\n",
    "What’s the average value of runtimeMinutes for the type short?"
   ]
  },
  {
   "cell_type": "code",
   "execution_count": 8,
   "metadata": {
    "ExecuteTime": {
     "end_time": "2020-03-04T15:26:19.872908Z",
     "start_time": "2020-03-04T15:26:08.492244Z"
    },
    "scrolled": false
   },
   "outputs": [
    {
     "name": "stdout",
     "output_type": "stream",
     "text": [
      "Average runtime for the type 'short' is  12.54 minutes\n"
     ]
    }
   ],
   "source": [
    "# finding average of category within a feature\n",
    "print(\"Average runtime for the type 'short' is \", \n",
    "      imdb[imdb[\"titleType\"] == \"short\"].mean()[\"runtimeMinutes\"].round(2), \"minutes\")"
   ]
  },
  {
   "cell_type": "markdown",
   "metadata": {},
   "source": [
    "## Question 8\n",
    "Filter imdb to return tvMovie type with 3 or more words in the title, and less than 75 minutes of runTimeMinutes"
   ]
  },
  {
   "cell_type": "code",
   "execution_count": 9,
   "metadata": {
    "ExecuteTime": {
     "end_time": "2020-03-04T15:26:20.116212Z",
     "start_time": "2020-03-04T15:26:19.984694Z"
    }
   },
   "outputs": [
    {
     "name": "stderr",
     "output_type": "stream",
     "text": [
      "/Users/Jonas/anaconda3/lib/python3.7/site-packages/ipykernel_launcher.py:2: UserWarning: Boolean Series key will be reindexed to match DataFrame index.\n",
      "  \n"
     ]
    },
    {
     "data": {
      "text/html": [
       "<div>\n",
       "<style scoped>\n",
       "    .dataframe tbody tr th:only-of-type {\n",
       "        vertical-align: middle;\n",
       "    }\n",
       "\n",
       "    .dataframe tbody tr th {\n",
       "        vertical-align: top;\n",
       "    }\n",
       "\n",
       "    .dataframe thead th {\n",
       "        text-align: right;\n",
       "    }\n",
       "</style>\n",
       "<table border=\"1\" class=\"dataframe\">\n",
       "  <thead>\n",
       "    <tr style=\"text-align: right;\">\n",
       "      <th></th>\n",
       "      <th>index</th>\n",
       "      <th>tconst</th>\n",
       "      <th>titleType</th>\n",
       "      <th>primaryTitle</th>\n",
       "      <th>originalTitle</th>\n",
       "      <th>isAdult</th>\n",
       "      <th>startYear</th>\n",
       "      <th>endYear</th>\n",
       "      <th>runtimeMinutes</th>\n",
       "      <th>genres</th>\n",
       "      <th>words_in_title</th>\n",
       "    </tr>\n",
       "  </thead>\n",
       "  <tbody>\n",
       "    <tr>\n",
       "      <td>10</td>\n",
       "      <td>290068.0</td>\n",
       "      <td>tt0302617</td>\n",
       "      <td>tvMovie</td>\n",
       "      <td>Great Bear Rainforest</td>\n",
       "      <td>Great Bear Rainforest</td>\n",
       "      <td>0.0</td>\n",
       "      <td>2019.0</td>\n",
       "      <td>NaN</td>\n",
       "      <td>41.0</td>\n",
       "      <td>NaN</td>\n",
       "      <td>3</td>\n",
       "    </tr>\n",
       "    <tr>\n",
       "      <td>77</td>\n",
       "      <td>970092.0</td>\n",
       "      <td>tt10002188</td>\n",
       "      <td>tvMovie</td>\n",
       "      <td>La Sagi, una pionera del Barça</td>\n",
       "      <td>La Sagi, una pionera del Barça</td>\n",
       "      <td>0.0</td>\n",
       "      <td>2019.0</td>\n",
       "      <td>NaN</td>\n",
       "      <td>54.0</td>\n",
       "      <td>NaN</td>\n",
       "      <td>6</td>\n",
       "    </tr>\n",
       "    <tr>\n",
       "      <td>655</td>\n",
       "      <td>972490.0</td>\n",
       "      <td>tt10006422</td>\n",
       "      <td>tvMovie</td>\n",
       "      <td>Warrior Women of Dahomey</td>\n",
       "      <td>Warrior Women of Dahomey</td>\n",
       "      <td>0.0</td>\n",
       "      <td>2019.0</td>\n",
       "      <td>NaN</td>\n",
       "      <td>60.0</td>\n",
       "      <td>NaN</td>\n",
       "      <td>4</td>\n",
       "    </tr>\n",
       "    <tr>\n",
       "      <td>870</td>\n",
       "      <td>974152.0</td>\n",
       "      <td>tt10009314</td>\n",
       "      <td>tvMovie</td>\n",
       "      <td>Peter Kraus: Immer in Bewegung</td>\n",
       "      <td>Peter Kraus: Immer in Bewegung</td>\n",
       "      <td>0.0</td>\n",
       "      <td>2019.0</td>\n",
       "      <td>NaN</td>\n",
       "      <td>59.0</td>\n",
       "      <td>NaN</td>\n",
       "      <td>5</td>\n",
       "    </tr>\n",
       "    <tr>\n",
       "      <td>1549</td>\n",
       "      <td>977406.0</td>\n",
       "      <td>tt10015036</td>\n",
       "      <td>tvMovie</td>\n",
       "      <td>Arts Across the Heartland</td>\n",
       "      <td>Arts Across the Heartland</td>\n",
       "      <td>0.0</td>\n",
       "      <td>2019.0</td>\n",
       "      <td>NaN</td>\n",
       "      <td>42.0</td>\n",
       "      <td>NaN</td>\n",
       "      <td>4</td>\n",
       "    </tr>\n",
       "    <tr>\n",
       "      <td>...</td>\n",
       "      <td>...</td>\n",
       "      <td>...</td>\n",
       "      <td>...</td>\n",
       "      <td>...</td>\n",
       "      <td>...</td>\n",
       "      <td>...</td>\n",
       "      <td>...</td>\n",
       "      <td>...</td>\n",
       "      <td>...</td>\n",
       "      <td>...</td>\n",
       "      <td>...</td>\n",
       "    </tr>\n",
       "    <tr>\n",
       "      <td>300451</td>\n",
       "      <td>6587871.0</td>\n",
       "      <td>tt9908916</td>\n",
       "      <td>tvMovie</td>\n",
       "      <td>Restless Legs Syndrome: The New Cure?</td>\n",
       "      <td>Restless Legs Syndrome: The New Cure?</td>\n",
       "      <td>0.0</td>\n",
       "      <td>2019.0</td>\n",
       "      <td>NaN</td>\n",
       "      <td>60.0</td>\n",
       "      <td>NaN</td>\n",
       "      <td>6</td>\n",
       "    </tr>\n",
       "    <tr>\n",
       "      <td>300975</td>\n",
       "      <td>6590161.0</td>\n",
       "      <td>tt9913680</td>\n",
       "      <td>tvMovie</td>\n",
       "      <td>Olympiad drömmen 2020</td>\n",
       "      <td>Olympiad drömmen 2020</td>\n",
       "      <td>0.0</td>\n",
       "      <td>2019.0</td>\n",
       "      <td>NaN</td>\n",
       "      <td>27.0</td>\n",
       "      <td>NaN</td>\n",
       "      <td>3</td>\n",
       "    </tr>\n",
       "    <tr>\n",
       "      <td>301155</td>\n",
       "      <td>6591048.0</td>\n",
       "      <td>tt9915520</td>\n",
       "      <td>tvMovie</td>\n",
       "      <td>Fascism i en svart bil</td>\n",
       "      <td>Fascism i en svart bil</td>\n",
       "      <td>0.0</td>\n",
       "      <td>2019.0</td>\n",
       "      <td>NaN</td>\n",
       "      <td>55.0</td>\n",
       "      <td>NaN</td>\n",
       "      <td>5</td>\n",
       "    </tr>\n",
       "    <tr>\n",
       "      <td>301240</td>\n",
       "      <td>6591316.0</td>\n",
       "      <td>tt9916112</td>\n",
       "      <td>tvMovie</td>\n",
       "      <td>A Priest, a Rabbi, and a Nun walk into a...</td>\n",
       "      <td>A Priest, a Rabbi, and a Nun walk into a...</td>\n",
       "      <td>0.0</td>\n",
       "      <td>2019.0</td>\n",
       "      <td>NaN</td>\n",
       "      <td>21.0</td>\n",
       "      <td>NaN</td>\n",
       "      <td>10</td>\n",
       "    </tr>\n",
       "    <tr>\n",
       "      <td>301247</td>\n",
       "      <td>6591353.0</td>\n",
       "      <td>tt9916192</td>\n",
       "      <td>tvMovie</td>\n",
       "      <td>Danielle Darrieux: Il est poli d'être gai!</td>\n",
       "      <td>Danielle Darrieux: Il est poli d'être gai!</td>\n",
       "      <td>0.0</td>\n",
       "      <td>2019.0</td>\n",
       "      <td>NaN</td>\n",
       "      <td>53.0</td>\n",
       "      <td>NaN</td>\n",
       "      <td>7</td>\n",
       "    </tr>\n",
       "  </tbody>\n",
       "</table>\n",
       "<p>640 rows × 11 columns</p>\n",
       "</div>"
      ],
      "text/plain": [
       "            index      tconst titleType  \\\n",
       "10       290068.0   tt0302617   tvMovie   \n",
       "77       970092.0  tt10002188   tvMovie   \n",
       "655      972490.0  tt10006422   tvMovie   \n",
       "870      974152.0  tt10009314   tvMovie   \n",
       "1549     977406.0  tt10015036   tvMovie   \n",
       "...           ...         ...       ...   \n",
       "300451  6587871.0   tt9908916   tvMovie   \n",
       "300975  6590161.0   tt9913680   tvMovie   \n",
       "301155  6591048.0   tt9915520   tvMovie   \n",
       "301240  6591316.0   tt9916112   tvMovie   \n",
       "301247  6591353.0   tt9916192   tvMovie   \n",
       "\n",
       "                                       primaryTitle  \\\n",
       "10                            Great Bear Rainforest   \n",
       "77                   La Sagi, una pionera del Barça   \n",
       "655                        Warrior Women of Dahomey   \n",
       "870                  Peter Kraus: Immer in Bewegung   \n",
       "1549                      Arts Across the Heartland   \n",
       "...                                             ...   \n",
       "300451        Restless Legs Syndrome: The New Cure?   \n",
       "300975                        Olympiad drömmen 2020   \n",
       "301155                       Fascism i en svart bil   \n",
       "301240  A Priest, a Rabbi, and a Nun walk into a...   \n",
       "301247   Danielle Darrieux: Il est poli d'être gai!   \n",
       "\n",
       "                                      originalTitle  isAdult  startYear  \\\n",
       "10                            Great Bear Rainforest      0.0     2019.0   \n",
       "77                   La Sagi, una pionera del Barça      0.0     2019.0   \n",
       "655                        Warrior Women of Dahomey      0.0     2019.0   \n",
       "870                  Peter Kraus: Immer in Bewegung      0.0     2019.0   \n",
       "1549                      Arts Across the Heartland      0.0     2019.0   \n",
       "...                                             ...      ...        ...   \n",
       "300451        Restless Legs Syndrome: The New Cure?      0.0     2019.0   \n",
       "300975                        Olympiad drömmen 2020      0.0     2019.0   \n",
       "301155                       Fascism i en svart bil      0.0     2019.0   \n",
       "301240  A Priest, a Rabbi, and a Nun walk into a...      0.0     2019.0   \n",
       "301247   Danielle Darrieux: Il est poli d'être gai!      0.0     2019.0   \n",
       "\n",
       "        endYear  runtimeMinutes  genres  words_in_title  \n",
       "10          NaN            41.0     NaN               3  \n",
       "77          NaN            54.0     NaN               6  \n",
       "655         NaN            60.0     NaN               4  \n",
       "870         NaN            59.0     NaN               5  \n",
       "1549        NaN            42.0     NaN               4  \n",
       "...         ...             ...     ...             ...  \n",
       "300451      NaN            60.0     NaN               6  \n",
       "300975      NaN            27.0     NaN               3  \n",
       "301155      NaN            55.0     NaN               5  \n",
       "301240      NaN            21.0     NaN              10  \n",
       "301247      NaN            53.0     NaN               7  \n",
       "\n",
       "[640 rows x 11 columns]"
      ]
     },
     "execution_count": 9,
     "metadata": {},
     "output_type": "execute_result"
    }
   ],
   "source": [
    "# filtering\n",
    "imdb[imdb[\"words_in_title\"] >= 3][imdb[\"titleType\"] == \"tvMovie\"][imdb[\"runtimeMinutes\"] < 75]"
   ]
  },
  {
   "cell_type": "code",
   "execution_count": null,
   "metadata": {},
   "outputs": [],
   "source": []
  }
 ],
 "metadata": {
  "hide_input": false,
  "kernelspec": {
   "display_name": "Python 3",
   "language": "python",
   "name": "python3"
  },
  "language_info": {
   "codemirror_mode": {
    "name": "ipython",
    "version": 3
   },
   "file_extension": ".py",
   "mimetype": "text/x-python",
   "name": "python",
   "nbconvert_exporter": "python",
   "pygments_lexer": "ipython3",
   "version": "3.7.4"
  },
  "toc": {
   "base_numbering": 1,
   "nav_menu": {},
   "number_sections": true,
   "sideBar": true,
   "skip_h1_title": false,
   "title_cell": "Table of Contents",
   "title_sidebar": "Contents",
   "toc_cell": false,
   "toc_position": {},
   "toc_section_display": true,
   "toc_window_display": false
  },
  "varInspector": {
   "cols": {
    "lenName": 16,
    "lenType": 16,
    "lenVar": 40
   },
   "kernels_config": {
    "python": {
     "delete_cmd_postfix": "",
     "delete_cmd_prefix": "del ",
     "library": "var_list.py",
     "varRefreshCmd": "print(var_dic_list())"
    },
    "r": {
     "delete_cmd_postfix": ") ",
     "delete_cmd_prefix": "rm(",
     "library": "var_list.r",
     "varRefreshCmd": "cat(var_dic_list()) "
    }
   },
   "types_to_exclude": [
    "module",
    "function",
    "builtin_function_or_method",
    "instance",
    "_Feature"
   ],
   "window_display": false
  }
 },
 "nbformat": 4,
 "nbformat_minor": 2
}
